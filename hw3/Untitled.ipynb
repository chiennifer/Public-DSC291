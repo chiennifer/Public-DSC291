{
 "cells": [
  {
   "cell_type": "code",
   "execution_count": 1,
   "metadata": {},
   "outputs": [],
   "source": [
    "import os\n",
    "os.chdir(\"/mnt/workspace/Public-DSC291/notebooks/Section2-PCA/Full_Dataset_analysis\")"
   ]
  },
  {
   "cell_type": "code",
   "execution_count": 2,
   "metadata": {},
   "outputs": [
    {
     "name": "stdout",
     "output_type": "stream",
     "text": [
      "finished standard imports\n",
      "dict_items([('spark.executor.memory', '3g'), ('spark.executor.cores', '1'), ('spark.logConf', 'True'), ('spark.cores.max', '4'), ('spark.default.parallelism', '10'), ('spark.app.name', 'Weather_PCA')])\n",
      "started SparkContext and SQLContext in 13.78 seconds\n",
      "loaded weather.parquet in 8.67 seconds\n",
      "loaded stations.parquet in 0.16 seconds\n",
      "registered dataframes as tables in 0.23 seconds\n"
     ]
    }
   ],
   "source": [
    "from Startup import *"
   ]
  },
  {
   "cell_type": "code",
   "execution_count": null,
   "metadata": {
    "collapsed": true
   },
   "outputs": [],
   "source": []
  }
 ],
 "metadata": {
  "kernelspec": {
   "display_name": "Python 3",
   "language": "python",
   "name": "python3"
  },
  "language_info": {
   "codemirror_mode": {
    "name": "ipython",
    "version": 3
   },
   "file_extension": ".py",
   "mimetype": "text/x-python",
   "name": "python",
   "nbconvert_exporter": "python",
   "pygments_lexer": "ipython3",
   "version": "3.4.5"
  }
 },
 "nbformat": 4,
 "nbformat_minor": 2
}
