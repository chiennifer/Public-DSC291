{
 "cells": [
  {
   "cell_type": "code",
   "execution_count": 1,
   "metadata": {
    "collapsed": true
   },
   "outputs": [],
   "source": [
    "# sc.stop()"
   ]
  },
  {
   "cell_type": "code",
   "execution_count": 2,
   "metadata": {},
   "outputs": [
    {
     "name": "stdout",
     "output_type": "stream",
     "text": [
      "finished standard imports\n",
      "dict_items([('spark.default.parallelism', '10'), ('spark.logConf', 'True'), ('spark.app.name', 'Weather_PCA'), ('spark.executor.memory', '3g'), ('spark.executor.cores', '1'), ('spark.cores.max', '4')])\n",
      "started SparkContext and SQLContext in 13.27 seconds\n",
      "loaded weather.parquet in 7.08 seconds\n",
      "loaded stations.parquet in 0.19 seconds\n",
      "registered dataframes as tables in 0.22 seconds\n",
      "df has 9358394 rows, stations has 85284 rows\n"
     ]
    }
   ],
   "source": [
    "from Startup import *\n",
    "print('df has %d rows, stations has %d rows'%(df.count(),stations.count()))"
   ]
  },
  {
   "cell_type": "code",
   "execution_count": 3,
   "metadata": {},
   "outputs": [
    {
     "name": "stdout",
     "output_type": "stream",
     "text": [
      "\n",
      "SELECT stations.ID, stations.elevation, stations.state\n",
      "FROM stations\n",
      "WHERE stations.state='CA'\n",
      "\n",
      "\n",
      "SELECT stations.ID, stations.elevation, stations.state\n",
      "FROM stations\n",
      "WHERE stations.state='WA'\n",
      "\n",
      "CPU times: user 36 ms, sys: 4 ms, total: 40 ms\n",
      "Wall time: 829 ms\n"
     ]
    }
   ],
   "source": [
    "%%time\n",
    "query=\"\"\"\n",
    "SELECT stations.ID, stations.elevation, stations.state\n",
    "FROM stations\n",
    "WHERE stations.state='CA'\n",
    "\"\"\"\n",
    "print(query)\n",
    "CA_df=sqlContext.sql(query)\n",
    "sqlContext.registerDataFrameAsTable(CA_df,'CA_df')\n",
    "CA_pdf=CA_df.toPandas()\n",
    "\n",
    "query=\"\"\"\n",
    "SELECT stations.ID, stations.elevation, stations.state\n",
    "FROM stations\n",
    "WHERE stations.state='WA'\n",
    "\"\"\"\n",
    "print(query)\n",
    "WA_df=sqlContext.sql(query)\n",
    "sqlContext.registerDataFrameAsTable(WA_df,'WA_df')\n",
    "WA_pdf=WA_df.toPandas()"
   ]
  },
  {
   "cell_type": "code",
   "execution_count": 4,
   "metadata": {},
   "outputs": [
    {
     "name": "stdout",
     "output_type": "stream",
     "text": [
      "\n",
      "SELECT year,COUNT(year) AS count\n",
      "FROM weather  \n",
      "GROUP BY year \n",
      "ORDER BY year\n",
      "\n",
      "CPU times: user 12 ms, sys: 0 ns, total: 12 ms\n",
      "Wall time: 6.67 s\n"
     ]
    }
   ],
   "source": [
    "%%time\n",
    "query=\"\"\"\n",
    "SELECT year,COUNT(year) AS count\n",
    "FROM weather  \n",
    "GROUP BY year \n",
    "ORDER BY year\n",
    "\"\"\"\n",
    "print(query)\n",
    "year_pdf=sqlContext.sql(query).toPandas()\n",
    "year_pdf"
   ]
  },
  {
   "cell_type": "code",
   "execution_count": 6,
   "metadata": {},
   "outputs": [
    {
     "name": "stdout",
     "output_type": "stream",
     "text": [
      "\n",
      "SELECT stations.ID, stations.elevation, stations.state, \n",
      "        weather.Station, weather.Measurement, weather.Year, weather.Values\n",
      "FROM stations\n",
      "LEFT JOIN weather\n",
      "ON stations.ID = weather.Station\n",
      "WHERE stations.state='CA' AND weather.Measurement='SNOW'\n",
      "\n",
      "CPU times: user 496 ms, sys: 44 ms, total: 540 ms\n",
      "Wall time: 28.4 s\n"
     ]
    }
   ],
   "source": [
    "%%time\n",
    "query=\"\"\"\n",
    "SELECT stations.ID, stations.elevation, stations.state, \n",
    "        weather.Station, weather.Measurement, weather.Year, weather.Values\n",
    "FROM stations\n",
    "LEFT JOIN weather\n",
    "ON stations.ID = weather.Station\n",
    "WHERE stations.state='CA' AND weather.Measurement='SNOW'\n",
    "\"\"\"\n",
    "\n",
    "print(query)\n",
    "CA_SNOW_df=sqlContext.sql(query)\n",
    "CA_SNOW_pdf=CA_SNOW_df.toPandas()\n",
    "sqlContext.registerDataFrameAsTable(CA_SNOW_df,'CA_SNOW_df')"
   ]
  },
  {
   "cell_type": "code",
   "execution_count": 7,
   "metadata": {},
   "outputs": [
    {
     "name": "stdout",
     "output_type": "stream",
     "text": [
      "\n",
      "SELECT stations.ID, stations.elevation, stations.state, \n",
      "        weather.Station, weather.Measurement, weather.Year, weather.Values\n",
      "FROM stations\n",
      "LEFT JOIN weather\n",
      "ON stations.ID = weather.Station\n",
      "WHERE stations.state='WA' AND weather.Measurement='SNOW'\n",
      "\n",
      "CPU times: user 200 ms, sys: 12 ms, total: 212 ms\n",
      "Wall time: 19.8 s\n"
     ]
    }
   ],
   "source": [
    "%%time\n",
    "query=\"\"\"\n",
    "SELECT stations.ID, stations.elevation, stations.state, \n",
    "        weather.Station, weather.Measurement, weather.Year, weather.Values\n",
    "FROM stations\n",
    "LEFT JOIN weather\n",
    "ON stations.ID = weather.Station\n",
    "WHERE stations.state='WA' AND weather.Measurement='SNOW'\n",
    "\"\"\"\n",
    "\n",
    "print(query)\n",
    "WA_SNOW_df=sqlContext.sql(query)\n",
    "WA_SNOW_pdf=WA_SNOW_df.toPandas()\n",
    "sqlContext.registerDataFrameAsTable(WA_SNOW_df,'WA_SNOW_df')"
   ]
  },
  {
   "cell_type": "code",
   "execution_count": 8,
   "metadata": {
    "collapsed": true
   },
   "outputs": [],
   "source": [
    "CA_SNOW_copy = CA_SNOW_pdf.copy()\n",
    "WA_SNOW_copy = WA_SNOW_pdf.copy()"
   ]
  },
  {
   "cell_type": "markdown",
   "metadata": {},
   "source": [
    "### Remove all zero rows"
   ]
  },
  {
   "cell_type": "code",
   "execution_count": 21,
   "metadata": {},
   "outputs": [
    {
     "name": "stdout",
     "output_type": "stream",
     "text": [
      "ID             28292\n",
      "elevation      28292\n",
      "state          28292\n",
      "Station        28292\n",
      "Measurement    28292\n",
      "Year           28292\n",
      "Values         28292\n",
      "dtype: int64\n",
      "ID             28292\n",
      "elevation      28292\n",
      "state          28292\n",
      "Station        28292\n",
      "Measurement    28292\n",
      "Year           28292\n",
      "Values         28292\n",
      "dtype: int64\n",
      "ID             20478\n",
      "elevation      20478\n",
      "state          20478\n",
      "Station        20478\n",
      "Measurement    20478\n",
      "Year           20478\n",
      "Values         20478\n",
      "dtype: int64\n",
      "ID             20478\n",
      "elevation      20478\n",
      "state          20478\n",
      "Station        20478\n",
      "Measurement    20478\n",
      "Year           20478\n",
      "Values         20478\n",
      "dtype: int64\n"
     ]
    }
   ],
   "source": [
    "print(CA_SNOW_pdf.count())\n",
    "CA_SNOW_pdf = CA_SNOW_pdf[CA_SNOW_pdf.apply(lambda x: any(x['Values']), axis=1)]\n",
    "CA_SNOW_pdf = CA_SNOW_pdf[CA_SNOW_pdf.apply(lambda x: len(x['Values']) > 300, axis=1)]\n",
    "print(CA_SNOW_pdf.count())\n",
    "\n",
    "print(WA_SNOW_pdf.count())\n",
    "WA_SNOW_pdf = WA_SNOW_pdf[WA_SNOW_pdf.apply(lambda x: any(x['Values']), axis=1)]\n",
    "WA_SNOW_pdf = WA_SNOW_pdf[WA_SNOW_pdf.apply(lambda x: len(x['Values']) > 300, axis=1)]\n",
    "print(WA_SNOW_pdf.count())"
   ]
  },
  {
   "cell_type": "markdown",
   "metadata": {},
   "source": [
    "### Data v.s. Year distribution"
   ]
  },
  {
   "cell_type": "code",
   "execution_count": 54,
   "metadata": {},
   "outputs": [
    {
     "name": "stdout",
     "output_type": "stream",
     "text": [
      "[(1879, 1), (1889, 1), (1890, 1), (1891, 1), (1892, 2), (1893, 19), (1894, 22), (1895, 21), (1896, 34), (1897, 28), (1898, 33), (1899, 39), (1900, 29), (1901, 31), (1902, 36), (1903, 65), (1904, 39), (1905, 57), (1906, 76), (1907, 110), (1908, 83), (1909, 135), (1910, 172), (1911, 163), (1912, 159), (1913, 137), (1914, 98), (1915, 129), (1916, 182), (1917, 160), (1918, 166), (1919, 125), (1920, 84), (1921, 88), (1922, 141), (1923, 106), (1924, 167), (1925, 164), (1926, 157), (1927, 161), (1928, 167), (1929, 184), (1930, 197), (1931, 149), (1932, 216), (1933, 182), (1934, 117), (1935, 206), (1936, 223), (1937, 200), (1938, 219), (1939, 228), (1940, 219), (1941, 217), (1942, 262), (1943, 318), (1944, 305), (1945, 266), (1946, 229), (1947, 288), (1948, 623), (1949, 493), (1950, 375), (1951, 354), (1952, 356), (1953, 343), (1954, 315), (1955, 391), (1956, 362), (1957, 455), (1958, 320), (1959, 362), (1960, 366), (1961, 322), (1962, 463), (1963, 304), (1964, 352), (1965, 331), (1966, 273), (1967, 338), (1968, 359), (1969, 299), (1970, 266), (1971, 280), (1972, 331), (1973, 325), (1974, 306), (1975, 268), (1976, 268), (1977, 276), (1978, 233), (1979, 282), (1980, 240), (1981, 173), (1982, 340), (1983, 251), (1984, 255), (1985, 267), (1986, 252), (1987, 276), (1988, 274), (1989, 241), (1990, 220), (1991, 179), (1992, 189), (1993, 181), (1994, 166), (1995, 189), (1996, 192), (1997, 163), (1998, 218), (1999, 218), (2000, 227), (2001, 240), (2002, 236), (2003, 229), (2004, 195), (2005, 231), (2006, 230), (2007, 204), (2008, 401), (2009, 567), (2010, 601), (2011, 603), (2012, 612), (2013, 427)]\n"
     ]
    },
    {
     "data": {
      "image/png": "[encoded data removed]",
      "text/plain": [
       "<matplotlib.figure.Figure at 0x7f4420764898>"
      ]
     },
     "metadata": {},
     "output_type": "display_data"
    },
    {
     "name": "stdout",
     "output_type": "stream",
     "text": [
      "[(1890, 1), (1891, 4), (1892, 6), (1893, 27), (1894, 41), (1895, 42), (1896, 46), (1897, 46), (1898, 50), (1899, 64), (1900, 66), (1901, 67), (1902, 69), (1903, 71), (1904, 74), (1905, 82), (1906, 81), (1907, 87), (1908, 80), (1909, 105), (1910, 112), (1911, 115), (1912, 115), (1913, 121), (1914, 138), (1915, 147), (1916, 154), (1917, 155), (1918, 146), (1919, 144), (1920, 142), (1921, 135), (1922, 140), (1923, 136), (1924, 140), (1925, 138), (1926, 162), (1927, 166), (1928, 158), (1929, 172), (1930, 186), (1931, 174), (1932, 178), (1933, 189), (1934, 190), (1935, 193), (1936, 195), (1937, 199), (1938, 193), (1939, 196), (1940, 193), (1941, 163), (1942, 198), (1943, 200), (1944, 166), (1945, 186), (1946, 195), (1947, 192), (1948, 220), (1949, 230), (1950, 223), (1951, 227), (1952, 213), (1953, 173), (1954, 215), (1955, 216), (1956, 216), (1957, 217), (1958, 176), (1959, 213), (1960, 213), (1961, 203), (1962, 218), (1963, 198), (1964, 214), (1965, 204), (1966, 196), (1967, 183), (1968, 181), (1969, 190), (1970, 204), (1971, 205), (1972, 205), (1973, 196), (1974, 185), (1975, 187), (1976, 165), (1977, 174), (1978, 178), (1979, 166), (1980, 180), (1981, 148), (1982, 168), (1983, 157), (1984, 162), (1985, 164), (1986, 145), (1987, 145), (1988, 128), (1989, 155), (1990, 156), (1991, 135), (1992, 151), (1993, 155), (1994, 141), (1995, 141), (1996, 141), (1997, 119), (1998, 140), (1999, 120), (2000, 137), (2001, 134), (2002, 138), (2003, 129), (2004, 134), (2005, 126), (2006, 124), (2007, 129), (2008, 400), (2009, 472), (2010, 509), (2011, 507), (2012, 507), (2013, 346)]\n"
     ]
    },
    {
     "data": {
      "image/png": "[encoded data removed]",
      "text/plain": [
       "<matplotlib.figure.Figure at 0x7f441ffb3978>"
      ]
     },
     "metadata": {},
     "output_type": "display_data"
    },
    {
     "name": "stdout",
     "output_type": "stream",
     "text": [
      "126 124\n",
      "0 0\n"
     ]
    }
   ],
   "source": [
    "years = list(range(1763, 2014))\n",
    "tca = CA_SNOW_pdf.loc[(CA_SNOW_pdf['Year'].isin(years))]\n",
    "twa = WA_SNOW_pdf.loc[(WA_SNOW_pdf['Year'].isin(years))]\n",
    "\n",
    "from collections import Counter\n",
    "import matplotlib.pyplot as plt\n",
    "\n",
    "c1 = sorted(Counter(tca['Year'].tolist()).items())\n",
    "c2 = sorted(Counter(twa['Year'].tolist()).items())\n",
    "\n",
    "print(c1)\n",
    "\n",
    "plt.bar([c[0] for c in c1], [c[1] for c in c1])\n",
    "plt.show()\n",
    "\n",
    "print(c2)\n",
    "\n",
    "plt.bar([c[0] for c in c2], [c[1] for c in c2])\n",
    "plt.show()\n",
    "\n",
    "print(len(c1), len(c2))\n",
    "l1, l2 = [], []\n",
    "for k in c1:\n",
    "    if k[1] == 79:\n",
    "        l1.append(k[0])\n",
    "for k in c2:\n",
    "    if k[1] == 79:\n",
    "        l2.append(k)\n",
    "print(len(l1), len(l2))"
   ]
  },
  {
   "cell_type": "markdown",
   "metadata": {},
   "source": [
    "### Keep stations that has data across certain year range"
   ]
  },
  {
   "cell_type": "code",
   "execution_count": 55,
   "metadata": {},
   "outputs": [
    {
     "name": "stdout",
     "output_type": "stream",
     "text": [
      "736 245\n",
      "51 67\n"
     ]
    }
   ],
   "source": [
    "years = list(range(1970, 2000))\n",
    "tca = CA_SNOW_pdf.loc[(CA_SNOW_pdf['Year'].isin(years))]\n",
    "twa = WA_SNOW_pdf.loc[(WA_SNOW_pdf['Year'].isin(years))]\n",
    "\n",
    "c1 = Counter(tca['ID'].tolist())\n",
    "c2 = Counter(twa['ID'].tolist())\n",
    "\n",
    "print(len(c1), len(c2))\n",
    "l1, l2 = [], []\n",
    "for k in c1:\n",
    "    if c1[k] == len(years):\n",
    "        l1.append(k)\n",
    "for k in c2:\n",
    "    if c2[k] == len(years):\n",
    "        l2.append(k)\n",
    "print(len(l1), len(l2))\n",
    "\n",
    "miniTca = tca.loc[(tca['ID'].isin(l1))]\n",
    "miniTwa = twa.loc[(twa['ID'].isin(l2))]"
   ]
  },
  {
   "cell_type": "code",
   "execution_count": 57,
   "metadata": {},
   "outputs": [
    {
     "name": "stdout",
     "output_type": "stream",
     "text": [
      "               ID  elevation state      Station Measurement  Year  \\\n",
      "0     USC00042239     1414.3    CA  USC00042239        SNOW  1970   \n",
      "1     USC00042239     1414.3    CA  USC00042239        SNOW  1971   \n",
      "2     USC00042239     1414.3    CA  USC00042239        SNOW  1972   \n",
      "3     USC00042239     1414.3    CA  USC00042239        SNOW  1973   \n",
      "4     USC00042239     1414.3    CA  USC00042239        SNOW  1974   \n",
      "5     USC00042239     1414.3    CA  USC00042239        SNOW  1975   \n",
      "6     USC00042239     1414.3    CA  USC00042239        SNOW  1976   \n",
      "7     USC00042239     1414.3    CA  USC00042239        SNOW  1977   \n",
      "8     USC00042239     1414.3    CA  USC00042239        SNOW  1978   \n",
      "9     USC00042239     1414.3    CA  USC00042239        SNOW  1979   \n",
      "10    USC00042239     1414.3    CA  USC00042239        SNOW  1980   \n",
      "11    USC00042239     1414.3    CA  USC00042239        SNOW  1981   \n",
      "12    USC00042239     1414.3    CA  USC00042239        SNOW  1982   \n",
      "13    USC00042239     1414.3    CA  USC00042239        SNOW  1983   \n",
      "14    USC00042239     1414.3    CA  USC00042239        SNOW  1984   \n",
      "15    USC00042239     1414.3    CA  USC00042239        SNOW  1985   \n",
      "16    USC00042239     1414.3    CA  USC00042239        SNOW  1986   \n",
      "17    USC00042239     1414.3    CA  USC00042239        SNOW  1987   \n",
      "18    USC00042239     1414.3    CA  USC00042239        SNOW  1988   \n",
      "19    USC00042239     1414.3    CA  USC00042239        SNOW  1989   \n",
      "20    USC00042239     1414.3    CA  USC00042239        SNOW  1990   \n",
      "21    USC00042239     1414.3    CA  USC00042239        SNOW  1991   \n",
      "22    USC00042239     1414.3    CA  USC00042239        SNOW  1992   \n",
      "23    USC00042239     1414.3    CA  USC00042239        SNOW  1993   \n",
      "24    USC00042239     1414.3    CA  USC00042239        SNOW  1994   \n",
      "25    USC00042239     1414.3    CA  USC00042239        SNOW  1995   \n",
      "26    USC00042239     1414.3    CA  USC00042239        SNOW  1996   \n",
      "27    USC00042239     1414.3    CA  USC00042239        SNOW  1997   \n",
      "28    USC00042239     1414.3    CA  USC00042239        SNOW  1998   \n",
      "29    USC00045400     1374.6    CA  USC00045400        SNOW  1970   \n",
      "...           ...        ...   ...          ...         ...   ...   \n",
      "1449  USC00041990      823.9    CA  USC00041990        SNOW  1998   \n",
      "1450  USC00045311     1752.6    CA  USC00045311        SNOW  1970   \n",
      "1451  USC00045311     1752.6    CA  USC00045311        SNOW  1971   \n",
      "1452  USC00045311     1752.6    CA  USC00045311        SNOW  1972   \n",
      "1453  USC00045311     1752.6    CA  USC00045311        SNOW  1973   \n",
      "1454  USC00045311     1752.6    CA  USC00045311        SNOW  1974   \n",
      "1455  USC00045311     1752.6    CA  USC00045311        SNOW  1975   \n",
      "1456  USC00045311     1752.6    CA  USC00045311        SNOW  1976   \n",
      "1457  USC00045311     1752.6    CA  USC00045311        SNOW  1977   \n",
      "1458  USC00045311     1752.6    CA  USC00045311        SNOW  1978   \n",
      "1459  USC00045311     1752.6    CA  USC00045311        SNOW  1979   \n",
      "1460  USC00045311     1752.6    CA  USC00045311        SNOW  1980   \n",
      "1461  USC00045311     1752.6    CA  USC00045311        SNOW  1981   \n",
      "1462  USC00045311     1752.6    CA  USC00045311        SNOW  1982   \n",
      "1463  USC00045311     1752.6    CA  USC00045311        SNOW  1983   \n",
      "1464  USC00045311     1752.6    CA  USC00045311        SNOW  1984   \n",
      "1465  USC00045311     1752.6    CA  USC00045311        SNOW  1985   \n",
      "1466  USC00045311     1752.6    CA  USC00045311        SNOW  1986   \n",
      "1467  USC00045311     1752.6    CA  USC00045311        SNOW  1987   \n",
      "1468  USC00045311     1752.6    CA  USC00045311        SNOW  1988   \n",
      "1469  USC00045311     1752.6    CA  USC00045311        SNOW  1989   \n",
      "1470  USC00045311     1752.6    CA  USC00045311        SNOW  1990   \n",
      "1471  USC00045311     1752.6    CA  USC00045311        SNOW  1991   \n",
      "1472  USC00045311     1752.6    CA  USC00045311        SNOW  1992   \n",
      "1473  USC00045311     1752.6    CA  USC00045311        SNOW  1993   \n",
      "1474  USC00045311     1752.6    CA  USC00045311        SNOW  1994   \n",
      "1475  USC00045311     1752.6    CA  USC00045311        SNOW  1995   \n",
      "1476  USC00045311     1752.6    CA  USC00045311        SNOW  1996   \n",
      "1477  USC00045311     1752.6    CA  USC00045311        SNOW  1997   \n",
      "1478  USC00045311     1752.6    CA  USC00045311        SNOW  1998   \n",
      "\n",
      "                                                 Values  \n",
      "0     [0, 0, 0, 0, 0, 0, 0, 0, 0, 0, 0, 0, 0, 0, 0, ...  \n",
      "1     [0, 0, 0, 0, 0, 0, 0, 0, 0, 0, 0, 0, 0, 0, 0, ...  \n",
      "2     [0, 0, 0, 0, 0, 0, 0, 0, 0, 0, 0, 0, 0, 0, 0, ...  \n",
      "3     [0, 0, 0, 0, 0, 0, 0, 0, 0, 0, 0, 0, 0, 0, 0, ...  \n",
      "4     [0, 0, 0, 0, 0, 0, 0, 0, 0, 0, 0, 0, 0, 0, 0, ...  \n",
      "5     [77, 0, 0, 0, 0, 0, 0, 0, 0, 0, 83, 40, 91, 19...  \n",
      "6     [0, 0, 0, 0, 0, 0, 0, 96, 82, 0, 0, 0, 0, 0, 0...  \n",
      "7     [0, 0, 0, 0, 0, 0, 0, 0, 0, 0, 0, 0, 0, 0, 0, ...  \n",
      "8     [0, 0, 0, 0, 0, 0, 0, 0, 0, 0, 0, 0, 72, 0, 0,...  \n",
      "9     [0, 0, 0, 0, 0, 0, 0, 0, 0, 0, 0, 0, 0, 0, 0, ...  \n",
      "10    [0, 0, 72, 0, 0, 0, 0, 0, 0, 0, 0, 0, 0, 0, 0,...  \n",
      "11    [0, 0, 0, 96, 82, 0, 0, 0, 0, 0, 0, 0, 0, 0, 0...  \n",
      "12    [0, 96, 82, 0, 0, 0, 0, 0, 0, 0, 0, 0, 0, 0, 0...  \n",
      "13    [0, 0, 0, 0, 0, 0, 0, 0, 0, 0, 0, 0, 0, 0, 0, ...  \n",
      "14    [0, 0, 0, 0, 0, 0, 0, 0, 0, 0, 0, 0, 0, 0, 0, ...  \n",
      "15    [0, 0, 0, 0, 0, 0, 0, 0, 0, 0, 0, 0, 0, 0, 0, ...  \n",
      "16    [0, 0, 0, 0, 0, 0, 0, 0, 0, 0, 0, 0, 0, 0, 0, ...  \n",
      "17    [0, 0, 0, 0, 0, 96, 82, 0, 0, 0, 0, 0, 0, 0, 0...  \n",
      "18    [0, 0, 0, 0, 0, 0, 0, 0, 0, 0, 0, 0, 0, 0, 0, ...  \n",
      "19    [0, 0, 0, 0, 0, 0, 0, 0, 0, 0, 0, 0, 0, 0, 0, ...  \n",
      "20    [0, 0, 0, 0, 0, 0, 0, 0, 0, 0, 0, 0, 0, 0, 0, ...  \n",
      "21    [90, 0, 0, 0, 0, 0, 0, 0, 0, 0, 0, 0, 0, 0, 0,...  \n",
      "22    [0, 0, 0, 0, 0, 0, 0, 0, 0, 0, 0, 0, 0, 0, 0, ...  \n",
      "23    [0, 0, 0, 0, 0, 0, 0, 0, 0, 0, 0, 0, 0, 0, 0, ...  \n",
      "24    [0, 0, 0, 0, 0, 0, 0, 0, 0, 0, 0, 0, 0, 0, 0, ...  \n",
      "25    [0, 0, 0, 0, 0, 0, 0, 0, 0, 0, 0, 0, 0, 0, 0, ...  \n",
      "26    [0, 0, 0, 0, 0, 0, 0, 0, 0, 0, 0, 0, 0, 0, 0, ...  \n",
      "27    [0, 0, 0, 0, 0, 0, 0, 0, 0, 0, 0, 0, 0, 0, 0, ...  \n",
      "28    [88, 96, 86, 0, 0, 0, 0, 0, 0, 0, 0, 0, 0, 0, ...  \n",
      "29    [0, 0, 0, 0, 0, 0, 0, 0, 0, 0, 0, 0, 0, 0, 0, ...  \n",
      "...                                                 ...  \n",
      "1449  [0, 0, 0, 0, 0, 0, 0, 0, 0, 0, 0, 0, 0, 0, 0, ...  \n",
      "1450  [0, 0, 0, 0, 0, 0, 0, 0, 0, 0, 0, 0, 0, 0, 0, ...  \n",
      "1451  [0, 0, 0, 0, 0, 0, 0, 0, 0, 0, 0, 128, 74, 64,...  \n",
      "1452  [0, 0, 0, 0, 0, 0, 0, 0, 0, 0, 0, 0, 0, 0, 0, ...  \n",
      "1453  [78, 0, 0, 0, 0, 0, 0, 0, 0, 0, 0, 0, 0, 0, 0,...  \n",
      "1454  [80, 64, 78, 192, 80, 0, 0, 0, 0, 0, 84, 0, 0,...  \n",
      "1455  [0, 0, 0, 96, 82, 92, 92, 40, 91, 64, 78, 0, 0...  \n",
      "1456  [89, 0, 0, 0, 0, 0, 0, 0, 0, 0, 0, 0, 0, 240, ...  \n",
      "1457  [0, 0, 0, 0, 0, 0, 0, 0, 0, 0, 0, 0, 0, 128, 7...  \n",
      "1458  [78, 96, 86, 0, 0, 88, 90, 0, 0, 94, 96, 0, 0,...  \n",
      "1459  [0, 0, 0, 0, 0, 0, 0, 0, 0, 0, 0, 0, 0, 0, 0, ...  \n",
      "1460  [0, 0, 0, 0, 0, 0, 0, 96, 82, 64, 78, 96, 82, ...  \n",
      "1461  [87, 0, 0, 0, 0, 0, 0, 0, 0, 0, 0, 0, 0, 0, 0,...  \n",
      "1462  [84, 64, 78, 96, 82, 144, 89, 0, 0, 96, 88, 19...  \n",
      "1463  [0, 128, 74, 0, 0, 0, 0, 0, 0, 0, 0, 0, 0, 0, ...  \n",
      "1464  [84, 0, 0, 0, 0, 0, 0, 128, 74, 96, 82, 0, 0, ...  \n",
      "1465  [0, 0, 0, 0, 0, 0, 0, 0, 0, 0, 0, 0, 0, 0, 0, ...  \n",
      "1466  [0, 0, 0, 0, 0, 0, 0, 0, 0, 0, 0, 0, 0, 96, 82...  \n",
      "1467  [0, 0, 0, 0, 0, 0, 0, 0, 0, 0, 0, 0, 0, 0, 0, ...  \n",
      "1468  [0, 0, 0, 0, 0, 0, 0, 0, 0, 0, 0, 0, 0, 0, 0, ...  \n",
      "1469  [0, 0, 0, 0, 0, 0, 0, 0, 0, 0, 0, 0, 0, 0, 0, ...  \n",
      "1470  [0, 0, 0, 0, 0, 0, 0, 0, 0, 0, 0, 0, 0, 0, 0, ...  \n",
      "1471  [0, 0, 0, 0, 0, 0, 0, 0, 0, 96, 86, 0, 0, 0, 0...  \n",
      "1472  [0, 0, 0, 0, 0, 0, 0, 0, 0, 0, 0, 0, 0, 0, 0, ...  \n",
      "1473  [126, 0, 126, 0, 126, 0, 126, 0, 126, 0, 126, ...  \n",
      "1474  [0, 0, 0, 0, 0, 0, 0, 0, 0, 0, 0, 0, 0, 0, 0, ...  \n",
      "1475  [78, 0, 0, 0, 0, 0, 0, 0, 0, 0, 0, 192, 84, 0,...  \n",
      "1476  [0, 96, 82, 64, 78, 0, 0, 0, 0, 0, 0, 0, 0, 0,...  \n",
      "1477  [82, 0, 0, 0, 0, 0, 0, 0, 0, 0, 0, 0, 0, 0, 0,...  \n",
      "1478  [86, 0, 0, 192, 88, 96, 86, 96, 82, 92, 92, 19...  \n",
      "\n",
      "[1479 rows x 7 columns]                ID  elevation state      Station Measurement  Year  \\\n",
      "0     USC00451400      254.2    WA  USC00451400        SNOW  1970   \n",
      "1     USC00451400      254.2    WA  USC00451400        SNOW  1971   \n",
      "2     USC00451400      254.2    WA  USC00451400        SNOW  1972   \n",
      "3     USC00451400      254.2    WA  USC00451400        SNOW  1973   \n",
      "4     USC00451400      254.2    WA  USC00451400        SNOW  1974   \n",
      "5     USC00451400      254.2    WA  USC00451400        SNOW  1975   \n",
      "6     USC00451400      254.2    WA  USC00451400        SNOW  1976   \n",
      "7     USC00451400      254.2    WA  USC00451400        SNOW  1977   \n",
      "8     USC00451400      254.2    WA  USC00451400        SNOW  1978   \n",
      "9     USC00451400      254.2    WA  USC00451400        SNOW  1979   \n",
      "10    USC00451400      254.2    WA  USC00451400        SNOW  1980   \n",
      "11    USC00451400      254.2    WA  USC00451400        SNOW  1981   \n",
      "12    USC00451400      254.2    WA  USC00451400        SNOW  1982   \n",
      "13    USC00451400      254.2    WA  USC00451400        SNOW  1983   \n",
      "14    USC00451400      254.2    WA  USC00451400        SNOW  1984   \n",
      "15    USC00451400      254.2    WA  USC00451400        SNOW  1985   \n",
      "16    USC00451400      254.2    WA  USC00451400        SNOW  1986   \n",
      "17    USC00451400      254.2    WA  USC00451400        SNOW  1987   \n",
      "18    USC00451400      254.2    WA  USC00451400        SNOW  1988   \n",
      "19    USC00451400      254.2    WA  USC00451400        SNOW  1989   \n",
      "20    USC00451400      254.2    WA  USC00451400        SNOW  1990   \n",
      "21    USC00451400      254.2    WA  USC00451400        SNOW  1991   \n",
      "22    USC00451400      254.2    WA  USC00451400        SNOW  1992   \n",
      "23    USC00451400      254.2    WA  USC00451400        SNOW  1993   \n",
      "24    USC00451400      254.2    WA  USC00451400        SNOW  1994   \n",
      "25    USC00451400      254.2    WA  USC00451400        SNOW  1995   \n",
      "26    USC00451400      254.2    WA  USC00451400        SNOW  1996   \n",
      "27    USC00451400      254.2    WA  USC00451400        SNOW  1997   \n",
      "28    USC00451400      254.2    WA  USC00451400        SNOW  1998   \n",
      "29    USC00455326      345.9    WA  USC00455326        SNOW  1970   \n",
      "...           ...        ...   ...          ...         ...   ...   \n",
      "1913  USC00456039      470.0    WA  USC00456039        SNOW  1998   \n",
      "1914  USC00451767      524.0    WA  USC00451767        SNOW  1970   \n",
      "1915  USC00451767      524.0    WA  USC00451767        SNOW  1971   \n",
      "1916  USC00451767      524.0    WA  USC00451767        SNOW  1972   \n",
      "1917  USC00451767      524.0    WA  USC00451767        SNOW  1973   \n",
      "1918  USC00451767      524.0    WA  USC00451767        SNOW  1974   \n",
      "1919  USC00451767      524.0    WA  USC00451767        SNOW  1975   \n",
      "1920  USC00451767      524.0    WA  USC00451767        SNOW  1976   \n",
      "1921  USC00451767      524.0    WA  USC00451767        SNOW  1977   \n",
      "1922  USC00451767      524.0    WA  USC00451767        SNOW  1978   \n",
      "1923  USC00451767      524.0    WA  USC00451767        SNOW  1979   \n",
      "1924  USC00451767      524.0    WA  USC00451767        SNOW  1980   \n",
      "1925  USC00451767      524.0    WA  USC00451767        SNOW  1981   \n",
      "1926  USC00451767      524.0    WA  USC00451767        SNOW  1982   \n",
      "1927  USC00451767      524.0    WA  USC00451767        SNOW  1983   \n",
      "1928  USC00451767      524.0    WA  USC00451767        SNOW  1984   \n",
      "1929  USC00451767      524.0    WA  USC00451767        SNOW  1985   \n",
      "1930  USC00451767      524.0    WA  USC00451767        SNOW  1986   \n",
      "1931  USC00451767      524.0    WA  USC00451767        SNOW  1987   \n",
      "1932  USC00451767      524.0    WA  USC00451767        SNOW  1988   \n",
      "1933  USC00451767      524.0    WA  USC00451767        SNOW  1989   \n",
      "1934  USC00451767      524.0    WA  USC00451767        SNOW  1990   \n",
      "1935  USC00451767      524.0    WA  USC00451767        SNOW  1991   \n",
      "1936  USC00451767      524.0    WA  USC00451767        SNOW  1992   \n",
      "1937  USC00451767      524.0    WA  USC00451767        SNOW  1993   \n",
      "1938  USC00451767      524.0    WA  USC00451767        SNOW  1994   \n",
      "1939  USC00451767      524.0    WA  USC00451767        SNOW  1995   \n",
      "1940  USC00451767      524.0    WA  USC00451767        SNOW  1996   \n",
      "1941  USC00451767      524.0    WA  USC00451767        SNOW  1997   \n",
      "1942  USC00451767      524.0    WA  USC00451767        SNOW  1998   \n",
      "\n",
      "                                                 Values  \n",
      "0     [0, 0, 0, 0, 0, 0, 0, 0, 0, 0, 0, 0, 0, 0, 0, ...  \n",
      "1     [0, 0, 0, 0, 0, 0, 0, 0, 0, 0, 0, 0, 0, 0, 0, ...  \n",
      "2     [126, 0, 126, 0, 126, 0, 126, 0, 126, 0, 126, ...  \n",
      "3     [0, 0, 0, 0, 0, 0, 0, 0, 0, 0, 0, 0, 0, 0, 0, ...  \n",
      "4     [0, 0, 0, 0, 0, 0, 0, 0, 0, 0, 0, 0, 0, 0, 0, ...  \n",
      "5     [0, 0, 0, 0, 0, 0, 0, 0, 0, 0, 0, 0, 0, 0, 0, ...  \n",
      "6     [0, 0, 0, 0, 0, 0, 0, 0, 0, 0, 0, 0, 0, 0, 0, ...  \n",
      "7     [0, 0, 0, 0, 0, 0, 0, 0, 0, 0, 0, 0, 0, 0, 0, ...  \n",
      "8     [0, 0, 0, 0, 0, 0, 0, 0, 0, 0, 0, 0, 0, 0, 0, ...  \n",
      "9     [0, 0, 0, 0, 0, 0, 0, 0, 0, 0, 0, 0, 0, 0, 0, ...  \n",
      "10    [0, 0, 0, 0, 0, 0, 0, 0, 0, 0, 0, 0, 0, 0, 0, ...  \n",
      "11    [0, 0, 0, 0, 0, 0, 0, 0, 0, 0, 0, 0, 0, 0, 0, ...  \n",
      "12    [0, 0, 0, 0, 0, 0, 0, 0, 0, 0, 0, 0, 0, 0, 0, ...  \n",
      "13    [0, 0, 0, 0, 0, 0, 0, 0, 0, 0, 0, 0, 0, 0, 0, ...  \n",
      "14    [0, 0, 0, 0, 0, 0, 0, 0, 0, 0, 0, 0, 0, 0, 0, ...  \n",
      "15    [0, 0, 0, 0, 0, 0, 0, 0, 0, 0, 0, 0, 0, 0, 0, ...  \n",
      "16    [0, 0, 0, 0, 0, 0, 0, 0, 0, 0, 0, 0, 0, 0, 0, ...  \n",
      "17    [0, 0, 0, 0, 0, 0, 0, 0, 0, 0, 0, 0, 0, 0, 0, ...  \n",
      "18    [0, 0, 0, 0, 0, 0, 0, 0, 0, 0, 0, 0, 0, 0, 0, ...  \n",
      "19    [0, 0, 0, 0, 0, 0, 0, 0, 0, 0, 0, 0, 0, 0, 0, ...  \n",
      "20    [0, 0, 0, 0, 0, 0, 0, 0, 0, 0, 0, 0, 0, 0, 0, ...  \n",
      "21    [0, 0, 0, 0, 0, 0, 0, 0, 0, 0, 0, 0, 0, 0, 0, ...  \n",
      "22    [0, 0, 0, 0, 0, 0, 0, 0, 0, 0, 0, 0, 0, 0, 0, ...  \n",
      "23    [0, 0, 0, 0, 0, 0, 0, 0, 0, 0, 0, 0, 0, 0, 0, ...  \n",
      "24    [0, 0, 0, 0, 0, 0, 0, 0, 0, 0, 0, 0, 0, 0, 0, ...  \n",
      "25    [0, 0, 0, 0, 0, 0, 0, 0, 0, 0, 0, 0, 0, 0, 0, ...  \n",
      "26    [0, 0, 0, 0, 0, 0, 0, 0, 0, 0, 0, 0, 0, 0, 0, ...  \n",
      "27    [0, 0, 0, 0, 0, 0, 0, 0, 0, 0, 0, 0, 0, 0, 0, ...  \n",
      "28    [0, 0, 0, 0, 0, 0, 0, 0, 0, 0, 0, 0, 0, 0, 0, ...  \n",
      "29    [126, 0, 126, 0, 126, 0, 126, 0, 126, 0, 126, ...  \n",
      "...                                                 ...  \n",
      "1913  [0, 0, 0, 0, 0, 0, 0, 0, 0, 0, 0, 0, 0, 0, 0, ...  \n",
      "1914  [0, 0, 0, 0, 0, 0, 0, 0, 0, 0, 0, 0, 0, 0, 0, ...  \n",
      "1915  [0, 0, 0, 0, 0, 0, 0, 0, 0, 0, 0, 0, 0, 0, 0, ...  \n",
      "1916  [126, 0, 126, 0, 126, 0, 126, 0, 126, 0, 126, ...  \n",
      "1917  [0, 0, 0, 0, 0, 0, 0, 0, 0, 0, 0, 0, 0, 0, 0, ...  \n",
      "1918  [0, 0, 0, 0, 0, 0, 0, 0, 0, 0, 0, 0, 0, 0, 0, ...  \n",
      "1919  [0, 0, 0, 0, 0, 0, 0, 0, 0, 0, 0, 0, 0, 0, 0, ...  \n",
      "1920  [0, 0, 0, 0, 0, 0, 0, 0, 0, 0, 0, 0, 0, 0, 0, ...  \n",
      "1921  [0, 0, 0, 0, 0, 0, 0, 0, 0, 0, 0, 0, 0, 0, 0, ...  \n",
      "1922  [0, 0, 0, 0, 0, 0, 0, 0, 0, 0, 0, 0, 0, 0, 0, ...  \n",
      "1923  [0, 0, 0, 0, 0, 0, 0, 0, 0, 0, 0, 0, 0, 0, 0, ...  \n",
      "1924  [0, 0, 0, 0, 0, 0, 0, 0, 0, 0, 126, 0, 0, 0, 0...  \n",
      "1925  [0, 0, 0, 0, 0, 0, 0, 0, 0, 0, 0, 0, 0, 0, 0, ...  \n",
      "1926  [0, 0, 0, 0, 0, 0, 0, 0, 0, 0, 0, 0, 0, 0, 0, ...  \n",
      "1927  [0, 0, 0, 0, 0, 0, 0, 0, 0, 0, 0, 0, 0, 0, 0, ...  \n",
      "1928  [0, 0, 0, 0, 0, 0, 0, 0, 0, 0, 0, 0, 0, 0, 0, ...  \n",
      "1929  [0, 0, 0, 0, 0, 0, 0, 0, 0, 0, 0, 0, 0, 0, 0, ...  \n",
      "1930  [0, 0, 0, 0, 0, 0, 0, 0, 0, 0, 0, 0, 0, 0, 0, ...  \n",
      "1931  [0, 0, 0, 0, 0, 0, 0, 0, 0, 0, 0, 0, 0, 0, 0, ...  \n",
      "1932  [0, 0, 0, 0, 0, 0, 0, 0, 0, 0, 0, 0, 0, 0, 0, ...  \n",
      "1933  [0, 0, 0, 0, 0, 0, 0, 0, 0, 0, 0, 0, 0, 0, 0, ...  \n",
      "1934  [0, 0, 0, 0, 0, 0, 0, 0, 0, 0, 0, 0, 0, 0, 0, ...  \n",
      "1935  [0, 0, 0, 0, 0, 0, 0, 0, 0, 0, 0, 0, 0, 0, 0, ...  \n",
      "1936  [0, 0, 0, 0, 0, 0, 0, 0, 0, 0, 0, 0, 0, 0, 0, ...  \n",
      "1937  [0, 0, 0, 0, 0, 0, 0, 0, 0, 0, 0, 0, 0, 0, 0, ...  \n",
      "1938  [0, 0, 0, 0, 0, 0, 0, 0, 0, 0, 0, 0, 0, 0, 0, ...  \n",
      "1939  [0, 0, 0, 0, 0, 0, 0, 0, 0, 0, 0, 0, 0, 0, 0, ...  \n",
      "1940  [0, 0, 0, 0, 0, 0, 0, 0, 0, 0, 0, 0, 0, 0, 0, ...  \n",
      "1941  [0, 0, 0, 0, 0, 0, 0, 0, 0, 0, 0, 0, 0, 0, 0, ...  \n",
      "1942  [0, 0, 0, 0, 0, 0, 0, 0, 0, 0, 0, 0, 0, 0, 0, ...  \n",
      "\n",
      "[1943 rows x 7 columns]\n"
     ]
    }
   ],
   "source": [
    "import numpy\n",
    "import pandas\n",
    "\n",
    "def f1(row):\n",
    "    return row['Values'][:181]\n",
    "\n",
    "def f2(row):\n",
    "    return row['Values'][181:]\n",
    "\n",
    "def Jan2Jun(df):\n",
    "    df_first = df.copy()\n",
    "    df_first['V_first'] = df_first.apply(f1, axis=1)\n",
    "    df_first['Year'] = df_first.apply(lambda x: x['Year']-1, axis=1)\n",
    "    df_second = df.copy()\n",
    "    df_second['V_second'] = df_second.apply(f2, axis=1)\n",
    "    df_second = df_second.drop(['elevation', 'state', 'Station', 'Measurement', 'Values'], axis=1)\n",
    "    result = pandas.merge(df_first, df_second, on=['ID', 'Year'], how='inner')\n",
    "    result['Values'] = result.apply(lambda x: x['V_second'] + x['V_first'], axis=1)\n",
    "    return result.drop(['V_second', 'V_first'], axis=1)\n",
    "    \n",
    "\n",
    "dca = Jan2Jun(miniTca)\n",
    "dwa = Jan2Jun(miniTwa)\n",
    "print(dca, dwa)"
   ]
  },
  {
   "cell_type": "markdown",
   "metadata": {
    "collapsed": true
   },
   "source": [
    "## Now start with dca and dwa as CA and WA data respectively"
   ]
  },
  {
   "cell_type": "code",
   "execution_count": null,
   "metadata": {
    "collapsed": true
   },
   "outputs": [],
   "source": []
  },
  {
   "cell_type": "code",
   "execution_count": null,
   "metadata": {
    "collapsed": true
   },
   "outputs": [],
   "source": []
  }
 ],
 "metadata": {
  "kernelspec": {
   "display_name": "Python 3",
   "language": "python",
   "name": "python3"
  },
  "language_info": {
   "codemirror_mode": {
    "name": "ipython",
    "version": 3
   },
   "file_extension": ".py",
   "mimetype": "text/x-python",
   "name": "python",
   "nbconvert_exporter": "python",
   "pygments_lexer": "ipython3",
   "version": "3.4.5"
  }
 },
 "nbformat": 4,
 "nbformat_minor": 2
}
