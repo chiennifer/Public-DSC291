{
 "cells": [
  {
   "cell_type": "code",
   "execution_count": 1,
   "metadata": {
    "collapsed": true
   },
   "outputs": [],
   "source": [
    "# sc.stop()"
   ]
  },
  {
   "cell_type": "code",
   "execution_count": 190,
   "metadata": {},
   "outputs": [
    {
     "data": {
      "text/plain": [
       "'/mnt/workspace/Public-DSC291/notebooks/Section2-PCA/Full_Dataset_analysis'"
      ]
     },
     "execution_count": 190,
     "metadata": {},
     "output_type": "execute_result"
    }
   ],
   "source": [
    "import os\n",
    "os.getcwd()\n",
    "os.chdir(\"/mnt/workspace/Public-DSC291/notebooks/Section2-PCA/Full_Dataset_analysis\")\n",
    "os.getcwd()"
   ]
  },
  {
   "cell_type": "code",
   "execution_count": 191,
   "metadata": {},
   "outputs": [
    {
     "name": "stdout",
     "output_type": "stream",
     "text": [
      "df has 9358394 rows, stations has 85284 rows\n"
     ]
    }
   ],
   "source": [
    "from Startup import *\n",
    "print('df has %d rows, stations has %d rows'%(df.count(),stations.count()))"
   ]
  },
  {
   "cell_type": "code",
   "execution_count": 192,
   "metadata": {},
   "outputs": [
    {
     "name": "stdout",
     "output_type": "stream",
     "text": [
      "\n",
      "SELECT stations.ID, stations.elevation, stations.state\n",
      "FROM stations\n",
      "WHERE stations.state='CA'\n",
      "\n",
      "\n",
      "SELECT stations.ID, stations.elevation, stations.state\n",
      "FROM stations\n",
      "WHERE stations.state='WA'\n",
      "\n",
      "CPU times: user 24 ms, sys: 4 ms, total: 28 ms\n",
      "Wall time: 810 ms\n"
     ]
    }
   ],
   "source": [
    "%%time\n",
    "query=\"\"\"\n",
    "SELECT stations.ID, stations.elevation, stations.state\n",
    "FROM stations\n",
    "WHERE stations.state='CA'\n",
    "\"\"\"\n",
    "print(query)\n",
    "CA_df=sqlContext.sql(query)\n",
    "sqlContext.registerDataFrameAsTable(CA_df,'CA_df')\n",
    "CA_pdf=CA_df.toPandas()\n",
    "\n",
    "query=\"\"\"\n",
    "SELECT stations.ID, stations.elevation, stations.state\n",
    "FROM stations\n",
    "WHERE stations.state='WA'\n",
    "\"\"\"\n",
    "print(query)\n",
    "WA_df=sqlContext.sql(query)\n",
    "sqlContext.registerDataFrameAsTable(WA_df,'WA_df')\n",
    "WA_pdf=WA_df.toPandas()"
   ]
  },
  {
   "cell_type": "code",
   "execution_count": 193,
   "metadata": {},
   "outputs": [
    {
     "name": "stdout",
     "output_type": "stream",
     "text": [
      "\n",
      "SELECT year,COUNT(year) AS count\n",
      "FROM weather  \n",
      "GROUP BY year \n",
      "ORDER BY year\n",
      "\n",
      "CPU times: user 40 ms, sys: 0 ns, total: 40 ms\n",
      "Wall time: 2.85 s\n"
     ]
    }
   ],
   "source": [
    "%%time\n",
    "query=\"\"\"\n",
    "SELECT year,COUNT(year) AS count\n",
    "FROM weather  \n",
    "GROUP BY year \n",
    "ORDER BY year\n",
    "\"\"\"\n",
    "print(query)\n",
    "year_pdf=sqlContext.sql(query).toPandas()\n",
    "year_pdf"
   ]
  },
  {
   "cell_type": "code",
   "execution_count": 194,
   "metadata": {},
   "outputs": [
    {
     "name": "stdout",
     "output_type": "stream",
     "text": [
      "\n",
      "SELECT stations.ID, stations.elevation, stations.state, \n",
      "        weather.Station, weather.Measurement, weather.Year, weather.Values\n",
      "FROM stations\n",
      "LEFT JOIN weather\n",
      "ON stations.ID = weather.Station\n",
      "WHERE stations.state='CA' AND weather.Measurement='SNOW'\n",
      "\n",
      "CPU times: user 20 ms, sys: 0 ns, total: 20 ms\n",
      "Wall time: 639 ms\n"
     ]
    }
   ],
   "source": [
    "%%time\n",
    "query=\"\"\"\n",
    "SELECT stations.ID, stations.elevation, stations.state, \n",
    "        weather.Station, weather.Measurement, weather.Year, weather.Values\n",
    "FROM stations\n",
    "LEFT JOIN weather\n",
    "ON stations.ID = weather.Station\n",
    "WHERE stations.state='CA' AND weather.Measurement='SNOW'\n",
    "\"\"\"\n",
    "\n",
    "print(query)\n",
    "CA_SNOW_df=sqlContext.sql(query)\n",
    "CA_SNOW_pdf=CA_SNOW_df.toPandas()\n",
    "sqlContext.registerDataFrameAsTable(CA_SNOW_df,'CA_SNOW_df')"
   ]
  },
  {
   "cell_type": "code",
   "execution_count": 195,
   "metadata": {},
   "outputs": [
    {
     "name": "stdout",
     "output_type": "stream",
     "text": [
      "\n",
      "SELECT stations.ID, stations.elevation, stations.state, \n",
      "        weather.Station, weather.Measurement, weather.Year, weather.Values\n",
      "FROM stations\n",
      "LEFT JOIN weather\n",
      "ON stations.ID = weather.Station\n",
      "WHERE stations.state='WA' AND weather.Measurement='SNOW'\n",
      "\n",
      "CPU times: user 8 ms, sys: 0 ns, total: 8 ms\n",
      "Wall time: 405 ms\n"
     ]
    }
   ],
   "source": [
    "%%time\n",
    "query=\"\"\"\n",
    "SELECT stations.ID, stations.elevation, stations.state, \n",
    "        weather.Station, weather.Measurement, weather.Year, weather.Values\n",
    "FROM stations\n",
    "LEFT JOIN weather\n",
    "ON stations.ID = weather.Station\n",
    "WHERE stations.state='WA' AND weather.Measurement='SNOW'\n",
    "\"\"\"\n",
    "\n",
    "print(query)\n",
    "WA_SNOW_df=sqlContext.sql(query)\n",
    "WA_SNOW_pdf=WA_SNOW_df.toPandas()\n",
    "sqlContext.registerDataFrameAsTable(WA_SNOW_df,'WA_SNOW_df')"
   ]
  },
  {
   "cell_type": "code",
   "execution_count": 196,
   "metadata": {
    "collapsed": true
   },
   "outputs": [],
   "source": [
    "CA_SNOW_copy = CA_SNOW_pdf.copy()\n",
    "WA_SNOW_copy = WA_SNOW_pdf.copy()"
   ]
  },
  {
   "cell_type": "markdown",
   "metadata": {},
   "source": [
    "### Remove all zero rows"
   ]
  },
  {
   "cell_type": "code",
   "execution_count": 9,
   "metadata": {},
   "outputs": [
    {
     "name": "stdout",
     "output_type": "stream",
     "text": [
      "ID             43901\n",
      "elevation      43901\n",
      "state          43901\n",
      "Station        43901\n",
      "Measurement    43901\n",
      "Year           43901\n",
      "Values         43901\n",
      "dtype: int64\n",
      "ID             28292\n",
      "elevation      28292\n",
      "state          28292\n",
      "Station        28292\n",
      "Measurement    28292\n",
      "Year           28292\n",
      "Values         28292\n",
      "dtype: int64\n",
      "ID             21170\n",
      "elevation      21170\n",
      "state          21170\n",
      "Station        21170\n",
      "Measurement    21170\n",
      "Year           21170\n",
      "Values         21170\n",
      "dtype: int64\n",
      "ID             20478\n",
      "elevation      20478\n",
      "state          20478\n",
      "Station        20478\n",
      "Measurement    20478\n",
      "Year           20478\n",
      "Values         20478\n",
      "dtype: int64\n"
     ]
    }
   ],
   "source": [
    "print(CA_SNOW_pdf.count())\n",
    "CA_SNOW_pdf = CA_SNOW_pdf[CA_SNOW_pdf.apply(lambda x: any(x['Values']), axis=1)]\n",
    "CA_SNOW_pdf = CA_SNOW_pdf[CA_SNOW_pdf.apply(lambda x: len(x['Values']) > 300, axis=1)]\n",
    "print(CA_SNOW_pdf.count())\n",
    "\n",
    "print(WA_SNOW_pdf.count())\n",
    "WA_SNOW_pdf = WA_SNOW_pdf[WA_SNOW_pdf.apply(lambda x: any(x['Values']), axis=1)]\n",
    "WA_SNOW_pdf = WA_SNOW_pdf[WA_SNOW_pdf.apply(lambda x: len(x['Values']) > 300, axis=1)]\n",
    "print(WA_SNOW_pdf.count())"
   ]
  },
  {
   "cell_type": "markdown",
   "metadata": {},
   "source": [
    "### Data v.s. Year distribution"
   ]
  },
  {
   "cell_type": "code",
   "execution_count": 10,
   "metadata": {},
   "outputs": [
    {
     "name": "stdout",
     "output_type": "stream",
     "text": [
      "[(1879, 1), (1889, 1), (1890, 1), (1891, 1), (1892, 2), (1893, 19), (1894, 22), (1895, 21), (1896, 34), (1897, 28), (1898, 33), (1899, 39), (1900, 29), (1901, 31), (1902, 36), (1903, 65), (1904, 39), (1905, 57), (1906, 76), (1907, 110), (1908, 83), (1909, 135), (1910, 172), (1911, 163), (1912, 159), (1913, 137), (1914, 98), (1915, 129), (1916, 182), (1917, 160), (1918, 166), (1919, 125), (1920, 84), (1921, 88), (1922, 141), (1923, 106), (1924, 167), (1925, 164), (1926, 157), (1927, 161), (1928, 167), (1929, 184), (1930, 197), (1931, 149), (1932, 216), (1933, 182), (1934, 117), (1935, 206), (1936, 223), (1937, 200), (1938, 219), (1939, 228), (1940, 219), (1941, 217), (1942, 262), (1943, 318), (1944, 305), (1945, 266), (1946, 229), (1947, 288), (1948, 623), (1949, 493), (1950, 375), (1951, 354), (1952, 356), (1953, 343), (1954, 315), (1955, 391), (1956, 362), (1957, 455), (1958, 320), (1959, 362), (1960, 366), (1961, 322), (1962, 463), (1963, 304), (1964, 352), (1965, 331), (1966, 273), (1967, 338), (1968, 359), (1969, 299), (1970, 266), (1971, 280), (1972, 331), (1973, 325), (1974, 306), (1975, 268), (1976, 268), (1977, 276), (1978, 233), (1979, 282), (1980, 240), (1981, 173), (1982, 340), (1983, 251), (1984, 255), (1985, 267), (1986, 252), (1987, 276), (1988, 274), (1989, 241), (1990, 220), (1991, 179), (1992, 189), (1993, 181), (1994, 166), (1995, 189), (1996, 192), (1997, 163), (1998, 218), (1999, 218), (2000, 227), (2001, 240), (2002, 236), (2003, 229), (2004, 195), (2005, 231), (2006, 230), (2007, 204), (2008, 401), (2009, 567), (2010, 601), (2011, 603), (2012, 612), (2013, 427)]\n"
     ]
    },
    {
     "data": {
      "image/png": "[encoded data removed]",
      "text/plain": [
       "<matplotlib.figure.Figure at 0x7fdca5804710>"
      ]
     },
     "metadata": {},
     "output_type": "display_data"
    },
    {
     "name": "stdout",
     "output_type": "stream",
     "text": [
      "[(1890, 1), (1891, 4), (1892, 6), (1893, 27), (1894, 41), (1895, 42), (1896, 46), (1897, 46), (1898, 50), (1899, 64), (1900, 66), (1901, 67), (1902, 69), (1903, 71), (1904, 74), (1905, 82), (1906, 81), (1907, 87), (1908, 80), (1909, 105), (1910, 112), (1911, 115), (1912, 115), (1913, 121), (1914, 138), (1915, 147), (1916, 154), (1917, 155), (1918, 146), (1919, 144), (1920, 142), (1921, 135), (1922, 140), (1923, 136), (1924, 140), (1925, 138), (1926, 162), (1927, 166), (1928, 158), (1929, 172), (1930, 186), (1931, 174), (1932, 178), (1933, 189), (1934, 190), (1935, 193), (1936, 195), (1937, 199), (1938, 193), (1939, 196), (1940, 193), (1941, 163), (1942, 198), (1943, 200), (1944, 166), (1945, 186), (1946, 195), (1947, 192), (1948, 220), (1949, 230), (1950, 223), (1951, 227), (1952, 213), (1953, 173), (1954, 215), (1955, 216), (1956, 216), (1957, 217), (1958, 176), (1959, 213), (1960, 213), (1961, 203), (1962, 218), (1963, 198), (1964, 214), (1965, 204), (1966, 196), (1967, 183), (1968, 181), (1969, 190), (1970, 204), (1971, 205), (1972, 205), (1973, 196), (1974, 185), (1975, 187), (1976, 165), (1977, 174), (1978, 178), (1979, 166), (1980, 180), (1981, 148), (1982, 168), (1983, 157), (1984, 162), (1985, 164), (1986, 145), (1987, 145), (1988, 128), (1989, 155), (1990, 156), (1991, 135), (1992, 151), (1993, 155), (1994, 141), (1995, 141), (1996, 141), (1997, 119), (1998, 140), (1999, 120), (2000, 137), (2001, 134), (2002, 138), (2003, 129), (2004, 134), (2005, 126), (2006, 124), (2007, 129), (2008, 400), (2009, 472), (2010, 509), (2011, 507), (2012, 507), (2013, 346)]\n"
     ]
    },
    {
     "data": {
      "image/png": "[encoded data removed]",
      "text/plain": [
       "<matplotlib.figure.Figure at 0x7fdc9eb7b5c0>"
      ]
     },
     "metadata": {},
     "output_type": "display_data"
    },
    {
     "name": "stdout",
     "output_type": "stream",
     "text": [
      "126 124\n",
      "0 0\n"
     ]
    }
   ],
   "source": [
    "years = list(range(1763, 2014))\n",
    "tca = CA_SNOW_pdf.loc[(CA_SNOW_pdf['Year'].isin(years))]\n",
    "twa = WA_SNOW_pdf.loc[(WA_SNOW_pdf['Year'].isin(years))]\n",
    "\n",
    "from collections import Counter\n",
    "import matplotlib.pyplot as plt\n",
    "\n",
    "c1 = sorted(Counter(tca['Year'].tolist()).items())\n",
    "c2 = sorted(Counter(twa['Year'].tolist()).items())\n",
    "\n",
    "print(c1)\n",
    "\n",
    "plt.bar([c[0] for c in c1], [c[1] for c in c1])\n",
    "plt.show()\n",
    "\n",
    "print(c2)\n",
    "\n",
    "plt.bar([c[0] for c in c2], [c[1] for c in c2])\n",
    "plt.show()\n",
    "\n",
    "print(len(c1), len(c2))\n",
    "l1, l2 = [], []\n",
    "for k in c1:\n",
    "    if k[1] == 79:\n",
    "        l1.append(k[0])\n",
    "for k in c2:\n",
    "    if k[1] == 79:\n",
    "        l2.append(k)\n",
    "print(len(l1), len(l2))"
   ]
  },
  {
   "cell_type": "markdown",
   "metadata": {},
   "source": [
    "### Keep stations that has data across certain year range"
   ]
  },
  {
   "cell_type": "code",
   "execution_count": 11,
   "metadata": {},
   "outputs": [
    {
     "name": "stdout",
     "output_type": "stream",
     "text": [
      "736 245\n",
      "51 67\n"
     ]
    }
   ],
   "source": [
    "years = list(range(1970, 2000))\n",
    "tca = CA_SNOW_pdf.loc[(CA_SNOW_pdf['Year'].isin(years))]\n",
    "twa = WA_SNOW_pdf.loc[(WA_SNOW_pdf['Year'].isin(years))]\n",
    "\n",
    "c1 = Counter(tca['ID'].tolist())\n",
    "c2 = Counter(twa['ID'].tolist())\n",
    "\n",
    "print(len(c1), len(c2))\n",
    "l1, l2 = [], []\n",
    "for k in c1:\n",
    "    if c1[k] == len(years):\n",
    "        l1.append(k)\n",
    "for k in c2:\n",
    "    if c2[k] == len(years):\n",
    "        l2.append(k)\n",
    "print(len(l1), len(l2))\n",
    "\n",
    "miniTca = tca.loc[(tca['ID'].isin(l1))]\n",
    "miniTwa = twa.loc[(twa['ID'].isin(l2))]"
   ]
  },
  {
   "cell_type": "code",
   "execution_count": 12,
   "metadata": {},
   "outputs": [
    {
     "name": "stdout",
     "output_type": "stream",
     "text": [
      "               ID  elevation state      Station Measurement  Year  \\\n",
      "0     USC00042239     1414.3    CA  USC00042239        SNOW  1970   \n",
      "1     USC00042239     1414.3    CA  USC00042239        SNOW  1971   \n",
      "2     USC00042239     1414.3    CA  USC00042239        SNOW  1972   \n",
      "3     USC00042239     1414.3    CA  USC00042239        SNOW  1973   \n",
      "4     USC00042239     1414.3    CA  USC00042239        SNOW  1974   \n",
      "5     USC00042239     1414.3    CA  USC00042239        SNOW  1975   \n",
      "6     USC00042239     1414.3    CA  USC00042239        SNOW  1976   \n",
      "7     USC00042239     1414.3    CA  USC00042239        SNOW  1977   \n",
      "8     USC00042239     1414.3    CA  USC00042239        SNOW  1978   \n",
      "9     USC00042239     1414.3    CA  USC00042239        SNOW  1979   \n",
      "10    USC00042239     1414.3    CA  USC00042239        SNOW  1980   \n",
      "11    USC00042239     1414.3    CA  USC00042239        SNOW  1981   \n",
      "12    USC00042239     1414.3    CA  USC00042239        SNOW  1982   \n",
      "13    USC00042239     1414.3    CA  USC00042239        SNOW  1983   \n",
      "14    USC00042239     1414.3    CA  USC00042239        SNOW  1984   \n",
      "15    USC00042239     1414.3    CA  USC00042239        SNOW  1985   \n",
      "16    USC00042239     1414.3    CA  USC00042239        SNOW  1986   \n",
      "17    USC00042239     1414.3    CA  USC00042239        SNOW  1987   \n",
      "18    USC00042239     1414.3    CA  USC00042239        SNOW  1988   \n",
      "19    USC00042239     1414.3    CA  USC00042239        SNOW  1989   \n",
      "20    USC00042239     1414.3    CA  USC00042239        SNOW  1990   \n",
      "21    USC00042239     1414.3    CA  USC00042239        SNOW  1991   \n",
      "22    USC00042239     1414.3    CA  USC00042239        SNOW  1992   \n",
      "23    USC00042239     1414.3    CA  USC00042239        SNOW  1993   \n",
      "24    USC00042239     1414.3    CA  USC00042239        SNOW  1994   \n",
      "25    USC00042239     1414.3    CA  USC00042239        SNOW  1995   \n",
      "26    USC00042239     1414.3    CA  USC00042239        SNOW  1996   \n",
      "27    USC00042239     1414.3    CA  USC00042239        SNOW  1997   \n",
      "28    USC00042239     1414.3    CA  USC00042239        SNOW  1998   \n",
      "29    USC00045400     1374.6    CA  USC00045400        SNOW  1970   \n",
      "...           ...        ...   ...          ...         ...   ...   \n",
      "1449  USC00041990      823.9    CA  USC00041990        SNOW  1998   \n",
      "1450  USC00045311     1752.6    CA  USC00045311        SNOW  1970   \n",
      "1451  USC00045311     1752.6    CA  USC00045311        SNOW  1971   \n",
      "1452  USC00045311     1752.6    CA  USC00045311        SNOW  1972   \n",
      "1453  USC00045311     1752.6    CA  USC00045311        SNOW  1973   \n",
      "1454  USC00045311     1752.6    CA  USC00045311        SNOW  1974   \n",
      "1455  USC00045311     1752.6    CA  USC00045311        SNOW  1975   \n",
      "1456  USC00045311     1752.6    CA  USC00045311        SNOW  1976   \n",
      "1457  USC00045311     1752.6    CA  USC00045311        SNOW  1977   \n",
      "1458  USC00045311     1752.6    CA  USC00045311        SNOW  1978   \n",
      "1459  USC00045311     1752.6    CA  USC00045311        SNOW  1979   \n",
      "1460  USC00045311     1752.6    CA  USC00045311        SNOW  1980   \n",
      "1461  USC00045311     1752.6    CA  USC00045311        SNOW  1981   \n",
      "1462  USC00045311     1752.6    CA  USC00045311        SNOW  1982   \n",
      "1463  USC00045311     1752.6    CA  USC00045311        SNOW  1983   \n",
      "1464  USC00045311     1752.6    CA  USC00045311        SNOW  1984   \n",
      "1465  USC00045311     1752.6    CA  USC00045311        SNOW  1985   \n",
      "1466  USC00045311     1752.6    CA  USC00045311        SNOW  1986   \n",
      "1467  USC00045311     1752.6    CA  USC00045311        SNOW  1987   \n",
      "1468  USC00045311     1752.6    CA  USC00045311        SNOW  1988   \n",
      "1469  USC00045311     1752.6    CA  USC00045311        SNOW  1989   \n",
      "1470  USC00045311     1752.6    CA  USC00045311        SNOW  1990   \n",
      "1471  USC00045311     1752.6    CA  USC00045311        SNOW  1991   \n",
      "1472  USC00045311     1752.6    CA  USC00045311        SNOW  1992   \n",
      "1473  USC00045311     1752.6    CA  USC00045311        SNOW  1993   \n",
      "1474  USC00045311     1752.6    CA  USC00045311        SNOW  1994   \n",
      "1475  USC00045311     1752.6    CA  USC00045311        SNOW  1995   \n",
      "1476  USC00045311     1752.6    CA  USC00045311        SNOW  1996   \n",
      "1477  USC00045311     1752.6    CA  USC00045311        SNOW  1997   \n",
      "1478  USC00045311     1752.6    CA  USC00045311        SNOW  1998   \n",
      "\n",
      "                                                 Values  \n",
      "0     [0, 0, 0, 0, 0, 0, 0, 0, 0, 0, 0, 0, 0, 0, 0, ...  \n",
      "1     [0, 0, 0, 0, 0, 0, 0, 0, 0, 0, 0, 0, 0, 0, 0, ...  \n",
      "2     [0, 0, 0, 0, 0, 0, 0, 0, 0, 0, 0, 0, 0, 0, 0, ...  \n",
      "3     [0, 0, 0, 0, 0, 0, 0, 0, 0, 0, 0, 0, 0, 0, 0, ...  \n",
      "4     [0, 0, 0, 0, 0, 0, 0, 0, 0, 0, 0, 0, 0, 0, 0, ...  \n",
      "5     [77, 0, 0, 0, 0, 0, 0, 0, 0, 0, 83, 40, 91, 19...  \n",
      "6     [0, 0, 0, 0, 0, 0, 0, 96, 82, 0, 0, 0, 0, 0, 0...  \n",
      "7     [0, 0, 0, 0, 0, 0, 0, 0, 0, 0, 0, 0, 0, 0, 0, ...  \n",
      "8     [0, 0, 0, 0, 0, 0, 0, 0, 0, 0, 0, 0, 72, 0, 0,...  \n",
      "9     [0, 0, 0, 0, 0, 0, 0, 0, 0, 0, 0, 0, 0, 0, 0, ...  \n",
      "10    [0, 0, 72, 0, 0, 0, 0, 0, 0, 0, 0, 0, 0, 0, 0,...  \n",
      "11    [0, 0, 0, 96, 82, 0, 0, 0, 0, 0, 0, 0, 0, 0, 0...  \n",
      "12    [0, 96, 82, 0, 0, 0, 0, 0, 0, 0, 0, 0, 0, 0, 0...  \n",
      "13    [0, 0, 0, 0, 0, 0, 0, 0, 0, 0, 0, 0, 0, 0, 0, ...  \n",
      "14    [0, 0, 0, 0, 0, 0, 0, 0, 0, 0, 0, 0, 0, 0, 0, ...  \n",
      "15    [0, 0, 0, 0, 0, 0, 0, 0, 0, 0, 0, 0, 0, 0, 0, ...  \n",
      "16    [0, 0, 0, 0, 0, 0, 0, 0, 0, 0, 0, 0, 0, 0, 0, ...  \n",
      "17    [0, 0, 0, 0, 0, 96, 82, 0, 0, 0, 0, 0, 0, 0, 0...  \n",
      "18    [0, 0, 0, 0, 0, 0, 0, 0, 0, 0, 0, 0, 0, 0, 0, ...  \n",
      "19    [0, 0, 0, 0, 0, 0, 0, 0, 0, 0, 0, 0, 0, 0, 0, ...  \n",
      "20    [0, 0, 0, 0, 0, 0, 0, 0, 0, 0, 0, 0, 0, 0, 0, ...  \n",
      "21    [90, 0, 0, 0, 0, 0, 0, 0, 0, 0, 0, 0, 0, 0, 0,...  \n",
      "22    [0, 0, 0, 0, 0, 0, 0, 0, 0, 0, 0, 0, 0, 0, 0, ...  \n",
      "23    [0, 0, 0, 0, 0, 0, 0, 0, 0, 0, 0, 0, 0, 0, 0, ...  \n",
      "24    [0, 0, 0, 0, 0, 0, 0, 0, 0, 0, 0, 0, 0, 0, 0, ...  \n",
      "25    [0, 0, 0, 0, 0, 0, 0, 0, 0, 0, 0, 0, 0, 0, 0, ...  \n",
      "26    [0, 0, 0, 0, 0, 0, 0, 0, 0, 0, 0, 0, 0, 0, 0, ...  \n",
      "27    [0, 0, 0, 0, 0, 0, 0, 0, 0, 0, 0, 0, 0, 0, 0, ...  \n",
      "28    [88, 96, 86, 0, 0, 0, 0, 0, 0, 0, 0, 0, 0, 0, ...  \n",
      "29    [0, 0, 0, 0, 0, 0, 0, 0, 0, 0, 0, 0, 0, 0, 0, ...  \n",
      "...                                                 ...  \n",
      "1449  [0, 0, 0, 0, 0, 0, 0, 0, 0, 0, 0, 0, 0, 0, 0, ...  \n",
      "1450  [0, 0, 0, 0, 0, 0, 0, 0, 0, 0, 0, 0, 0, 0, 0, ...  \n",
      "1451  [0, 0, 0, 0, 0, 0, 0, 0, 0, 0, 0, 128, 74, 64,...  \n",
      "1452  [0, 0, 0, 0, 0, 0, 0, 0, 0, 0, 0, 0, 0, 0, 0, ...  \n",
      "1453  [78, 0, 0, 0, 0, 0, 0, 0, 0, 0, 0, 0, 0, 0, 0,...  \n",
      "1454  [80, 64, 78, 192, 80, 0, 0, 0, 0, 0, 84, 0, 0,...  \n",
      "1455  [0, 0, 0, 96, 82, 92, 92, 40, 91, 64, 78, 0, 0...  \n",
      "1456  [89, 0, 0, 0, 0, 0, 0, 0, 0, 0, 0, 0, 0, 240, ...  \n",
      "1457  [0, 0, 0, 0, 0, 0, 0, 0, 0, 0, 0, 0, 0, 128, 7...  \n",
      "1458  [78, 96, 86, 0, 0, 88, 90, 0, 0, 94, 96, 0, 0,...  \n",
      "1459  [0, 0, 0, 0, 0, 0, 0, 0, 0, 0, 0, 0, 0, 0, 0, ...  \n",
      "1460  [0, 0, 0, 0, 0, 0, 0, 96, 82, 64, 78, 96, 82, ...  \n",
      "1461  [87, 0, 0, 0, 0, 0, 0, 0, 0, 0, 0, 0, 0, 0, 0,...  \n",
      "1462  [84, 64, 78, 96, 82, 144, 89, 0, 0, 96, 88, 19...  \n",
      "1463  [0, 128, 74, 0, 0, 0, 0, 0, 0, 0, 0, 0, 0, 0, ...  \n",
      "1464  [84, 0, 0, 0, 0, 0, 0, 128, 74, 96, 82, 0, 0, ...  \n",
      "1465  [0, 0, 0, 0, 0, 0, 0, 0, 0, 0, 0, 0, 0, 0, 0, ...  \n",
      "1466  [0, 0, 0, 0, 0, 0, 0, 0, 0, 0, 0, 0, 0, 96, 82...  \n",
      "1467  [0, 0, 0, 0, 0, 0, 0, 0, 0, 0, 0, 0, 0, 0, 0, ...  \n",
      "1468  [0, 0, 0, 0, 0, 0, 0, 0, 0, 0, 0, 0, 0, 0, 0, ...  \n",
      "1469  [0, 0, 0, 0, 0, 0, 0, 0, 0, 0, 0, 0, 0, 0, 0, ...  \n",
      "1470  [0, 0, 0, 0, 0, 0, 0, 0, 0, 0, 0, 0, 0, 0, 0, ...  \n",
      "1471  [0, 0, 0, 0, 0, 0, 0, 0, 0, 96, 86, 0, 0, 0, 0...  \n",
      "1472  [0, 0, 0, 0, 0, 0, 0, 0, 0, 0, 0, 0, 0, 0, 0, ...  \n",
      "1473  [126, 0, 126, 0, 126, 0, 126, 0, 126, 0, 126, ...  \n",
      "1474  [0, 0, 0, 0, 0, 0, 0, 0, 0, 0, 0, 0, 0, 0, 0, ...  \n",
      "1475  [78, 0, 0, 0, 0, 0, 0, 0, 0, 0, 0, 192, 84, 0,...  \n",
      "1476  [0, 96, 82, 64, 78, 0, 0, 0, 0, 0, 0, 0, 0, 0,...  \n",
      "1477  [82, 0, 0, 0, 0, 0, 0, 0, 0, 0, 0, 0, 0, 0, 0,...  \n",
      "1478  [86, 0, 0, 192, 88, 96, 86, 96, 82, 92, 92, 19...  \n",
      "\n",
      "[1479 rows x 7 columns]                ID  elevation state      Station Measurement  Year  \\\n",
      "0     USC00451400      254.2    WA  USC00451400        SNOW  1970   \n",
      "1     USC00451400      254.2    WA  USC00451400        SNOW  1971   \n",
      "2     USC00451400      254.2    WA  USC00451400        SNOW  1972   \n",
      "3     USC00451400      254.2    WA  USC00451400        SNOW  1973   \n",
      "4     USC00451400      254.2    WA  USC00451400        SNOW  1974   \n",
      "5     USC00451400      254.2    WA  USC00451400        SNOW  1975   \n",
      "6     USC00451400      254.2    WA  USC00451400        SNOW  1976   \n",
      "7     USC00451400      254.2    WA  USC00451400        SNOW  1977   \n",
      "8     USC00451400      254.2    WA  USC00451400        SNOW  1978   \n",
      "9     USC00451400      254.2    WA  USC00451400        SNOW  1979   \n",
      "10    USC00451400      254.2    WA  USC00451400        SNOW  1980   \n",
      "11    USC00451400      254.2    WA  USC00451400        SNOW  1981   \n",
      "12    USC00451400      254.2    WA  USC00451400        SNOW  1982   \n",
      "13    USC00451400      254.2    WA  USC00451400        SNOW  1983   \n",
      "14    USC00451400      254.2    WA  USC00451400        SNOW  1984   \n",
      "15    USC00451400      254.2    WA  USC00451400        SNOW  1985   \n",
      "16    USC00451400      254.2    WA  USC00451400        SNOW  1986   \n",
      "17    USC00451400      254.2    WA  USC00451400        SNOW  1987   \n",
      "18    USC00451400      254.2    WA  USC00451400        SNOW  1988   \n",
      "19    USC00451400      254.2    WA  USC00451400        SNOW  1989   \n",
      "20    USC00451400      254.2    WA  USC00451400        SNOW  1990   \n",
      "21    USC00451400      254.2    WA  USC00451400        SNOW  1991   \n",
      "22    USC00451400      254.2    WA  USC00451400        SNOW  1992   \n",
      "23    USC00451400      254.2    WA  USC00451400        SNOW  1993   \n",
      "24    USC00451400      254.2    WA  USC00451400        SNOW  1994   \n",
      "25    USC00451400      254.2    WA  USC00451400        SNOW  1995   \n",
      "26    USC00451400      254.2    WA  USC00451400        SNOW  1996   \n",
      "27    USC00451400      254.2    WA  USC00451400        SNOW  1997   \n",
      "28    USC00451400      254.2    WA  USC00451400        SNOW  1998   \n",
      "29    USC00455326      345.9    WA  USC00455326        SNOW  1970   \n",
      "...           ...        ...   ...          ...         ...   ...   \n",
      "1913  USC00456039      470.0    WA  USC00456039        SNOW  1998   \n",
      "1914  USC00451767      524.0    WA  USC00451767        SNOW  1970   \n",
      "1915  USC00451767      524.0    WA  USC00451767        SNOW  1971   \n",
      "1916  USC00451767      524.0    WA  USC00451767        SNOW  1972   \n",
      "1917  USC00451767      524.0    WA  USC00451767        SNOW  1973   \n",
      "1918  USC00451767      524.0    WA  USC00451767        SNOW  1974   \n",
      "1919  USC00451767      524.0    WA  USC00451767        SNOW  1975   \n",
      "1920  USC00451767      524.0    WA  USC00451767        SNOW  1976   \n",
      "1921  USC00451767      524.0    WA  USC00451767        SNOW  1977   \n",
      "1922  USC00451767      524.0    WA  USC00451767        SNOW  1978   \n",
      "1923  USC00451767      524.0    WA  USC00451767        SNOW  1979   \n",
      "1924  USC00451767      524.0    WA  USC00451767        SNOW  1980   \n",
      "1925  USC00451767      524.0    WA  USC00451767        SNOW  1981   \n",
      "1926  USC00451767      524.0    WA  USC00451767        SNOW  1982   \n",
      "1927  USC00451767      524.0    WA  USC00451767        SNOW  1983   \n",
      "1928  USC00451767      524.0    WA  USC00451767        SNOW  1984   \n",
      "1929  USC00451767      524.0    WA  USC00451767        SNOW  1985   \n",
      "1930  USC00451767      524.0    WA  USC00451767        SNOW  1986   \n",
      "1931  USC00451767      524.0    WA  USC00451767        SNOW  1987   \n",
      "1932  USC00451767      524.0    WA  USC00451767        SNOW  1988   \n",
      "1933  USC00451767      524.0    WA  USC00451767        SNOW  1989   \n",
      "1934  USC00451767      524.0    WA  USC00451767        SNOW  1990   \n",
      "1935  USC00451767      524.0    WA  USC00451767        SNOW  1991   \n",
      "1936  USC00451767      524.0    WA  USC00451767        SNOW  1992   \n",
      "1937  USC00451767      524.0    WA  USC00451767        SNOW  1993   \n",
      "1938  USC00451767      524.0    WA  USC00451767        SNOW  1994   \n",
      "1939  USC00451767      524.0    WA  USC00451767        SNOW  1995   \n",
      "1940  USC00451767      524.0    WA  USC00451767        SNOW  1996   \n",
      "1941  USC00451767      524.0    WA  USC00451767        SNOW  1997   \n",
      "1942  USC00451767      524.0    WA  USC00451767        SNOW  1998   \n",
      "\n",
      "                                                 Values  \n",
      "0     [0, 0, 0, 0, 0, 0, 0, 0, 0, 0, 0, 0, 0, 0, 0, ...  \n",
      "1     [0, 0, 0, 0, 0, 0, 0, 0, 0, 0, 0, 0, 0, 0, 0, ...  \n",
      "2     [126, 0, 126, 0, 126, 0, 126, 0, 126, 0, 126, ...  \n",
      "3     [0, 0, 0, 0, 0, 0, 0, 0, 0, 0, 0, 0, 0, 0, 0, ...  \n",
      "4     [0, 0, 0, 0, 0, 0, 0, 0, 0, 0, 0, 0, 0, 0, 0, ...  \n",
      "5     [0, 0, 0, 0, 0, 0, 0, 0, 0, 0, 0, 0, 0, 0, 0, ...  \n",
      "6     [0, 0, 0, 0, 0, 0, 0, 0, 0, 0, 0, 0, 0, 0, 0, ...  \n",
      "7     [0, 0, 0, 0, 0, 0, 0, 0, 0, 0, 0, 0, 0, 0, 0, ...  \n",
      "8     [0, 0, 0, 0, 0, 0, 0, 0, 0, 0, 0, 0, 0, 0, 0, ...  \n",
      "9     [0, 0, 0, 0, 0, 0, 0, 0, 0, 0, 0, 0, 0, 0, 0, ...  \n",
      "10    [0, 0, 0, 0, 0, 0, 0, 0, 0, 0, 0, 0, 0, 0, 0, ...  \n",
      "11    [0, 0, 0, 0, 0, 0, 0, 0, 0, 0, 0, 0, 0, 0, 0, ...  \n",
      "12    [0, 0, 0, 0, 0, 0, 0, 0, 0, 0, 0, 0, 0, 0, 0, ...  \n",
      "13    [0, 0, 0, 0, 0, 0, 0, 0, 0, 0, 0, 0, 0, 0, 0, ...  \n",
      "14    [0, 0, 0, 0, 0, 0, 0, 0, 0, 0, 0, 0, 0, 0, 0, ...  \n",
      "15    [0, 0, 0, 0, 0, 0, 0, 0, 0, 0, 0, 0, 0, 0, 0, ...  \n",
      "16    [0, 0, 0, 0, 0, 0, 0, 0, 0, 0, 0, 0, 0, 0, 0, ...  \n",
      "17    [0, 0, 0, 0, 0, 0, 0, 0, 0, 0, 0, 0, 0, 0, 0, ...  \n",
      "18    [0, 0, 0, 0, 0, 0, 0, 0, 0, 0, 0, 0, 0, 0, 0, ...  \n",
      "19    [0, 0, 0, 0, 0, 0, 0, 0, 0, 0, 0, 0, 0, 0, 0, ...  \n",
      "20    [0, 0, 0, 0, 0, 0, 0, 0, 0, 0, 0, 0, 0, 0, 0, ...  \n",
      "21    [0, 0, 0, 0, 0, 0, 0, 0, 0, 0, 0, 0, 0, 0, 0, ...  \n",
      "22    [0, 0, 0, 0, 0, 0, 0, 0, 0, 0, 0, 0, 0, 0, 0, ...  \n",
      "23    [0, 0, 0, 0, 0, 0, 0, 0, 0, 0, 0, 0, 0, 0, 0, ...  \n",
      "24    [0, 0, 0, 0, 0, 0, 0, 0, 0, 0, 0, 0, 0, 0, 0, ...  \n",
      "25    [0, 0, 0, 0, 0, 0, 0, 0, 0, 0, 0, 0, 0, 0, 0, ...  \n",
      "26    [0, 0, 0, 0, 0, 0, 0, 0, 0, 0, 0, 0, 0, 0, 0, ...  \n",
      "27    [0, 0, 0, 0, 0, 0, 0, 0, 0, 0, 0, 0, 0, 0, 0, ...  \n",
      "28    [0, 0, 0, 0, 0, 0, 0, 0, 0, 0, 0, 0, 0, 0, 0, ...  \n",
      "29    [126, 0, 126, 0, 126, 0, 126, 0, 126, 0, 126, ...  \n",
      "...                                                 ...  \n",
      "1913  [0, 0, 0, 0, 0, 0, 0, 0, 0, 0, 0, 0, 0, 0, 0, ...  \n",
      "1914  [0, 0, 0, 0, 0, 0, 0, 0, 0, 0, 0, 0, 0, 0, 0, ...  \n",
      "1915  [0, 0, 0, 0, 0, 0, 0, 0, 0, 0, 0, 0, 0, 0, 0, ...  \n",
      "1916  [126, 0, 126, 0, 126, 0, 126, 0, 126, 0, 126, ...  \n",
      "1917  [0, 0, 0, 0, 0, 0, 0, 0, 0, 0, 0, 0, 0, 0, 0, ...  \n",
      "1918  [0, 0, 0, 0, 0, 0, 0, 0, 0, 0, 0, 0, 0, 0, 0, ...  \n",
      "1919  [0, 0, 0, 0, 0, 0, 0, 0, 0, 0, 0, 0, 0, 0, 0, ...  \n",
      "1920  [0, 0, 0, 0, 0, 0, 0, 0, 0, 0, 0, 0, 0, 0, 0, ...  \n",
      "1921  [0, 0, 0, 0, 0, 0, 0, 0, 0, 0, 0, 0, 0, 0, 0, ...  \n",
      "1922  [0, 0, 0, 0, 0, 0, 0, 0, 0, 0, 0, 0, 0, 0, 0, ...  \n",
      "1923  [0, 0, 0, 0, 0, 0, 0, 0, 0, 0, 0, 0, 0, 0, 0, ...  \n",
      "1924  [0, 0, 0, 0, 0, 0, 0, 0, 0, 0, 126, 0, 0, 0, 0...  \n",
      "1925  [0, 0, 0, 0, 0, 0, 0, 0, 0, 0, 0, 0, 0, 0, 0, ...  \n",
      "1926  [0, 0, 0, 0, 0, 0, 0, 0, 0, 0, 0, 0, 0, 0, 0, ...  \n",
      "1927  [0, 0, 0, 0, 0, 0, 0, 0, 0, 0, 0, 0, 0, 0, 0, ...  \n",
      "1928  [0, 0, 0, 0, 0, 0, 0, 0, 0, 0, 0, 0, 0, 0, 0, ...  \n",
      "1929  [0, 0, 0, 0, 0, 0, 0, 0, 0, 0, 0, 0, 0, 0, 0, ...  \n",
      "1930  [0, 0, 0, 0, 0, 0, 0, 0, 0, 0, 0, 0, 0, 0, 0, ...  \n",
      "1931  [0, 0, 0, 0, 0, 0, 0, 0, 0, 0, 0, 0, 0, 0, 0, ...  \n",
      "1932  [0, 0, 0, 0, 0, 0, 0, 0, 0, 0, 0, 0, 0, 0, 0, ...  \n",
      "1933  [0, 0, 0, 0, 0, 0, 0, 0, 0, 0, 0, 0, 0, 0, 0, ...  \n",
      "1934  [0, 0, 0, 0, 0, 0, 0, 0, 0, 0, 0, 0, 0, 0, 0, ...  \n",
      "1935  [0, 0, 0, 0, 0, 0, 0, 0, 0, 0, 0, 0, 0, 0, 0, ...  \n",
      "1936  [0, 0, 0, 0, 0, 0, 0, 0, 0, 0, 0, 0, 0, 0, 0, ...  \n",
      "1937  [0, 0, 0, 0, 0, 0, 0, 0, 0, 0, 0, 0, 0, 0, 0, ...  \n",
      "1938  [0, 0, 0, 0, 0, 0, 0, 0, 0, 0, 0, 0, 0, 0, 0, ...  \n",
      "1939  [0, 0, 0, 0, 0, 0, 0, 0, 0, 0, 0, 0, 0, 0, 0, ...  \n",
      "1940  [0, 0, 0, 0, 0, 0, 0, 0, 0, 0, 0, 0, 0, 0, 0, ...  \n",
      "1941  [0, 0, 0, 0, 0, 0, 0, 0, 0, 0, 0, 0, 0, 0, 0, ...  \n",
      "1942  [0, 0, 0, 0, 0, 0, 0, 0, 0, 0, 0, 0, 0, 0, 0, ...  \n",
      "\n",
      "[1943 rows x 7 columns]\n"
     ]
    }
   ],
   "source": [
    "import numpy\n",
    "import pandas\n",
    "\n",
    "def f1(row):\n",
    "    return row['Values'][:181]\n",
    "\n",
    "def f2(row):\n",
    "    return row['Values'][181:]\n",
    "\n",
    "def Jan2Jun(df):\n",
    "    df_first = df.copy()\n",
    "    df_first['V_first'] = df_first.apply(f1, axis=1)\n",
    "    df_first['Year'] = df_first.apply(lambda x: x['Year']-1, axis=1)\n",
    "    df_second = df.copy()\n",
    "    df_second['V_second'] = df_second.apply(f2, axis=1)\n",
    "    df_second = df_second.drop(['elevation', 'state', 'Station', 'Measurement', 'Values'], axis=1)\n",
    "    result = pandas.merge(df_first, df_second, on=['ID', 'Year'], how='inner')\n",
    "    result['Values'] = result.apply(lambda x: x['V_second'] + x['V_first'], axis=1)\n",
    "    return result.drop(['V_second', 'V_first'], axis=1)\n",
    "    \n",
    "\n",
    "dca = Jan2Jun(miniTca)\n",
    "dwa = Jan2Jun(miniTwa)\n",
    "print(dca, dwa)"
   ]
  },
  {
   "cell_type": "markdown",
   "metadata": {
    "collapsed": true
   },
   "source": [
    "## Now start with dca and dwa as CA and WA data respectively"
   ]
  },
  {
   "cell_type": "markdown",
   "metadata": {
    "collapsed": true
   },
   "source": [
    "## Jennifer's PCA work"
   ]
  },
  {
   "cell_type": "code",
   "execution_count": 57,
   "metadata": {},
   "outputs": [
    {
     "name": "stdout",
     "output_type": "stream",
     "text": [
      "CPU times: user 132 ms, sys: 0 ns, total: 132 ms\n",
      "Wall time: 144 ms\n"
     ]
    }
   ],
   "source": [
    "%%time\n",
    "dca_sql_table = sqlContext.createDataFrame(dca)"
   ]
  },
  {
   "cell_type": "code",
   "execution_count": 75,
   "metadata": {},
   "outputs": [
    {
     "name": "stdout",
     "output_type": "stream",
     "text": [
      "+-----------+-----------+----+--------------------+\n",
      "|    Station|Measurement|Year|              Values|\n",
      "+-----------+-----------+----+--------------------+\n",
      "|USW00093819|       WDFM|1972|[38 58 EC 5C 38 5...|\n",
      "|USW00093819|       WDFM|1973|[38 5C EC 5C 08 5...|\n",
      "|USW00093819|       WDFM|1974|[EC 5C A0 51 EC 5...|\n",
      "|USW00093819|       WDFM|1975|[EC 5C 38 58 38 5...|\n",
      "|USW00093819|       WDFM|1976|[38 58 38 58 38 5...|\n",
      "|USW00093819|       WDFM|1977|[EC 5C 38 5C A0 5...|\n",
      "|USW00093819|       WDFM|1978|[38 5C 08 5B EC 5...|\n",
      "|USW00093819|       WDFM|1979|[EC 5C 38 5C 08 5...|\n",
      "|USW00093819|       WESD|1952|[00 7E 00 7E 00 7...|\n",
      "|USW00093819|       WESD|1953|[00 7E 00 7E 00 7...|\n",
      "|USW00093819|       WESD|1954|[00 7E 00 7E 00 7...|\n",
      "|USW00093819|       WESD|1955|[00 7E 00 7E 00 7...|\n",
      "|USW00093819|       WESD|1956|[00 7E 00 7E 00 7...|\n",
      "|USW00093819|       WESD|1957|[00 7E 00 7E 00 7...|\n",
      "|USW00093819|       WESD|1958|[00 7E 00 7E 00 7...|\n",
      "|USW00093819|       WESD|1959|[00 7E 00 7E 00 7...|\n",
      "|USW00093819|       WESD|1960|[00 7E 00 7E 00 7...|\n",
      "|USW00093819|       WESD|1961|[00 7E 00 7E 00 7...|\n",
      "|USW00093819|       WESD|1962|[A0 53 A0 53 60 5...|\n",
      "|USW00093819|       WESD|1963|[00 7E 00 7E 00 7...|\n",
      "+-----------+-----------+----+--------------------+\n",
      "only showing top 20 rows\n",
      "\n"
     ]
    }
   ],
   "source": [
    "df.show()"
   ]
  },
  {
   "cell_type": "code",
   "execution_count": 58,
   "metadata": {},
   "outputs": [
    {
     "name": "stdout",
     "output_type": "stream",
     "text": [
      "<class 'pyspark.sql.dataframe.DataFrame'>\n",
      "<class 'pyspark.sql.dataframe.DataFrame'>\n",
      "+-----------+---------+-----+-----------+-----------+----+--------------------+\n",
      "|         ID|elevation|state|    Station|Measurement|Year|              Values|\n",
      "+-----------+---------+-----+-----------+-----------+----+--------------------+\n",
      "|USC00042239|   1414.3|   CA|USC00042239|       SNOW|1970|[00 00 00 00 00 0...|\n",
      "|USC00042239|   1414.3|   CA|USC00042239|       SNOW|1971|[00 00 00 00 00 0...|\n",
      "|USC00042239|   1414.3|   CA|USC00042239|       SNOW|1972|[00 00 00 00 00 0...|\n",
      "|USC00042239|   1414.3|   CA|USC00042239|       SNOW|1973|[00 00 00 00 00 0...|\n",
      "|USC00042239|   1414.3|   CA|USC00042239|       SNOW|1974|[00 00 00 00 00 0...|\n",
      "|USC00042239|   1414.3|   CA|USC00042239|       SNOW|1975|[4D 00 00 00 00 0...|\n",
      "|USC00042239|   1414.3|   CA|USC00042239|       SNOW|1976|[00 00 00 00 00 0...|\n",
      "|USC00042239|   1414.3|   CA|USC00042239|       SNOW|1977|[00 00 00 00 00 0...|\n",
      "|USC00042239|   1414.3|   CA|USC00042239|       SNOW|1978|[00 00 00 00 00 0...|\n",
      "|USC00042239|   1414.3|   CA|USC00042239|       SNOW|1979|[00 00 00 00 00 0...|\n",
      "|USC00042239|   1414.3|   CA|USC00042239|       SNOW|1980|[00 00 48 00 00 0...|\n",
      "|USC00042239|   1414.3|   CA|USC00042239|       SNOW|1981|[00 00 00 60 52 0...|\n",
      "|USC00042239|   1414.3|   CA|USC00042239|       SNOW|1982|[00 60 52 00 00 0...|\n",
      "|USC00042239|   1414.3|   CA|USC00042239|       SNOW|1983|[00 00 00 00 00 0...|\n",
      "|USC00042239|   1414.3|   CA|USC00042239|       SNOW|1984|[00 00 00 00 00 0...|\n",
      "|USC00042239|   1414.3|   CA|USC00042239|       SNOW|1985|[00 00 00 00 00 0...|\n",
      "|USC00042239|   1414.3|   CA|USC00042239|       SNOW|1986|[00 00 00 00 00 0...|\n",
      "|USC00042239|   1414.3|   CA|USC00042239|       SNOW|1987|[00 00 00 00 00 6...|\n",
      "|USC00042239|   1414.3|   CA|USC00042239|       SNOW|1988|[00 00 00 00 00 0...|\n",
      "|USC00042239|   1414.3|   CA|USC00042239|       SNOW|1989|[00 00 00 00 00 0...|\n",
      "+-----------+---------+-----+-----------+-----------+----+--------------------+\n",
      "only showing top 20 rows\n",
      "\n"
     ]
    }
   ],
   "source": [
    "print(type(df))\n",
    "print(type(dca_sql_table))\n",
    "\n",
    "from pyspark.sql.types import *\n",
    "\n",
    "dca_sql_table.show()\n",
    "\n",
    "sqlContext.registerDataFrameAsTable(dca_sql_table,'dca_sql_table')"
   ]
  },
  {
   "cell_type": "code",
   "execution_count": 109,
   "metadata": {
    "collapsed": true
   },
   "outputs": [],
   "source": [
    "from numpy import linalg as LA\n",
    "import numpy as np\n",
    "\n",
    "from numpy_pack import packArray,unpackArray\n",
    "from spark_PCA import computeCov\n",
    "from time import time\n",
    "\n",
    "def computeStatistics(sqlContext,df,measurements=['TMAX', 'SNOW', 'SNWD', 'TMIN', 'PRCP', 'TOBS']):\n",
    "    \"\"\"Compute all of the statistics for a given dataframe\n",
    "    Input: sqlContext: to perform SQL queries\n",
    "            df: dataframe with the fields \n",
    "            Station(string), Measurement(string), Year(integer), Values (byteArray with 365 float16 numbers)\n",
    "            measurements= a list of measurement types for which we want to do the analysis\n",
    "    returns: STAT, a dictionary of dictionaries. First key is measurement, \n",
    "             second keys described in computeStats.STAT_Descriptions\n",
    "    \"\"\"\n",
    "\n",
    "    sqlContext.registerDataFrameAsTable(df,'weather')\n",
    "    STAT={}  # dictionary storing the statistics for each measurement\n",
    "    \n",
    "    for meas in measurements:\n",
    "        t=time()\n",
    "        Query=\"SELECT * FROM weather\\n\\tWHERE measurement = '%s'\"%(meas)\n",
    "        mdf = sqlContext.sql(Query)\n",
    "        print(meas,': shape of mdf is ',mdf.count())\n",
    "\n",
    "        data=mdf.rdd.map(lambda row: unpackArray(row['Values'],np.float16))\n",
    "#         print(\"data: \" + str(data.collect()))\n",
    "\n",
    "        #Compute basic statistics\n",
    "        STAT[meas]=computeOverAllDist(data)   # Compute the statistics \n",
    "\n",
    "        # compute covariance matrix\n",
    "        OUT=computeCov(data)\n",
    "        cov=OUT['Cov']\n",
    "        cov=np.nan_to_num(cov)\n",
    "        #find PCA decomposition\n",
    "        eigval,eigvec=LA.eig(cov)\n",
    "\n",
    "        # collect all of the statistics in STAT[meas]\n",
    "        STAT[meas]['eigval']=eigval\n",
    "        STAT[meas]['eigvec']=eigvec\n",
    "        STAT[meas].update(OUT)\n",
    "\n",
    "        print('time for',meas,'is',time()-t)\n",
    "    \n",
    "    return STAT\n",
    "\n",
    "# Compute the overall distribution of values and the distribution of the number of nan per year\n",
    "def find_percentiles(SortedVals,percentile):\n",
    "    L=int(len(SortedVals)/percentile)\n",
    "    return SortedVals[L],SortedVals[-L]\n",
    "  \n",
    "def computeOverAllDist(rdd0):\n",
    "    UnDef=np.array(rdd0.map(lambda row:sum(np.isnan(row))).sample(False,0.01).collect())\n",
    "    flat=rdd0.flatMap(lambda v:list(v)).filter(lambda x: not np.isnan(x)).cache()\n",
    "    count,S1,S2=flat.map(lambda x: np.float64([1,x,x**2]))\\\n",
    "                  .reduce(lambda x,y: x+y)\n",
    "    mean=S1/count\n",
    "    \n",
    "    print(\"S1: \" + str(S1))\n",
    "    print(\"S2: \" + str(S2))\n",
    "    print(\"count: \" +str(count))\n",
    "    print(\"mean: \" + str(mean))\n",
    "    \n",
    "    std=np.sqrt(S2/count-mean**2)\n",
    "    Vals=flat.sample(False,0.0001).collect()\n",
    "    SortedVals=np.array(sorted(Vals))\n",
    "    low100,high100=find_percentiles(SortedVals,100)\n",
    "    low1000,high1000=find_percentiles(SortedVals,1000)\n",
    "    return {'UnDef':UnDef,\\\n",
    "          'mean':mean,\\\n",
    "          'std':std,\\\n",
    "          'SortedVals':SortedVals,\\\n",
    "          'low100':low100,\\\n",
    "          'high100':high100,\\\n",
    "          'low1000':low100,\\\n",
    "          'high1000':high1000\n",
    "          }\n",
    "\n",
    "# description of data returned by computeOverAllDist\n",
    "STAT_Descriptions=[\n",
    "('SortedVals', 'Sample of values', 'vector whose length varies between measurements'),\n",
    " ('UnDef', 'sample of number of undefs per row', 'vector whose length varies between measurements'),\n",
    " ('mean', 'mean value', ()),\n",
    " ('std', 'std', ()),\n",
    " ('low100', 'bottom 1%', ()),\n",
    " ('high100', 'top 1%', ()),\n",
    " ('low1000', 'bottom 0.1%', ()),\n",
    " ('high1000', 'top 0.1%', ()),\n",
    " ('E', 'Sum of values per day', (365,)),\n",
    " ('NE', 'count of values per day', (365,)),\n",
    " ('Mean', 'E/NE', (365,)),\n",
    " ('O', 'Sum of outer products', (365, 365)),\n",
    " ('NO', 'counts for outer products', (365, 365)),\n",
    " ('Cov', 'O/NO', (365, 365)),\n",
    " ('Var', 'The variance per day = diagonal of Cov', (365,)),\n",
    " ('eigval', 'PCA eigen-values', (365,)),\n",
    " ('eigvec', 'PCA eigen-vectors', (365, 365))\n",
    "]"
   ]
  },
  {
   "cell_type": "code",
   "execution_count": 110,
   "metadata": {},
   "outputs": [
    {
     "name": "stdout",
     "output_type": "stream",
     "text": [
      "SNOW : shape of mdf is  1479\n",
      "S1: inf\n",
      "S2: inf\n",
      "count: 539832.0\n",
      "mean: inf\n"
     ]
    },
    {
     "name": "stderr",
     "output_type": "stream",
     "text": [
      "/mnt/anaconda/envs/ipykernel_py34/lib/python3.4/site-packages/ipykernel/__main__.py:65: RuntimeWarning: invalid value encountered in double_scalars\n"
     ]
    },
    {
     "name": "stdout",
     "output_type": "stream",
     "text": [
      "time for SNOW is 4.9449241161346436\n",
      "CPU times: user 304 ms, sys: 12 ms, total: 316 ms\n",
      "Wall time: 4.95 s\n"
     ]
    },
    {
     "name": "stderr",
     "output_type": "stream",
     "text": [
      "/mnt/workspace/Public-DSC291/notebooks/Section2-PCA/PCA/lib/spark_PCA.py:36: RuntimeWarning: invalid value encountered in subtract\n",
      "  Cov=O/NO - np.outer(Mean,Mean)\n"
     ]
    }
   ],
   "source": [
    "%%time\n",
    "STAT_CA = computeStatistics(sqlContext, dca_sql_table, measurements=['SNOW'])"
   ]
  },
  {
   "cell_type": "markdown",
   "metadata": {},
   "source": [
    "## okay, so since the prof's PCA didn't work let's try using sklearn's PCA\n",
    "## first, clean the data of nans and too large values"
   ]
  },
  {
   "cell_type": "code",
   "execution_count": 259,
   "metadata": {},
   "outputs": [
    {
     "name": "stdout",
     "output_type": "stream",
     "text": [
      "<class 'pandas.core.frame.DataFrame'>\n",
      "(1479, 365)\n",
      "(1476, 365)\n",
      "Empty DataFrame\n",
      "Columns: [0, 1, 2, 3, 4, 5, 6, 7, 8, 9, 10, 11, 12, 13, 14, 15, 16, 17, 18, 19, 20, 21, 22, 23, 24, 25, 26, 27, 28, 29, 30, 31, 32, 33, 34, 35, 36, 37, 38, 39, 40, 41, 42, 43, 44, 45, 46, 47, 48, 49, 50, 51, 52, 53, 54, 55, 56, 57, 58, 59, 60, 61, 62, 63, 64, 65, 66, 67, 68, 69, 70, 71, 72, 73, 74, 75, 76, 77, 78, 79, 80, 81, 82, 83, 84, 85, 86, 87, 88, 89, 90, 91, 92, 93, 94, 95, 96, 97, 98, 99, ...]\n",
      "Index: []\n",
      "\n",
      "[0 rows x 365 columns]\n"
     ]
    }
   ],
   "source": [
    "## https://stackoverflow.com/questions/23282130/principal-components-analysis-using-pandas-dataframe\n",
    "\n",
    "import pandas as pd\n",
    "import numpy as np\n",
    "from sklearn.decomposition import PCA\n",
    "\n",
    "# df = pd.DataFrame(data=np.random.normal(0, 1, (20, 10)))\n",
    "# print(dca.shape) ## (1479, 7)\n",
    "\n",
    "def unpackData(row):\n",
    "    row = row.to_frame()\n",
    "    L = list(row.transpose()['Values'])\n",
    "    asf = np.stack([unpackArray(v, np.float16) for v in L])\n",
    "    return asf[0].tolist()\n",
    "\n",
    "dca['unpackedValues']=dca.apply(lambda row: unpackData(row), axis=1)\n",
    "dca.head()\n",
    "\n",
    "dca_values = pd.DataFrame(dca.unpackedValues.tolist(), index=dca.index)\n",
    "\n",
    "print(type(dca_values))\n",
    "\n",
    "# dca_values.dtypes\n",
    "\n",
    "df1 = dca_values[dca_values.isnull().any(axis=1)]\n",
    "# df1.head()\n",
    "\n",
    "dca_values_clean = dca_values\n",
    "dca_values_clean = dca_values_clean.drop(dca_values_clean.index[452])\n",
    "dca_values_clean = dca_values_clean.drop(dca_values_clean.index[712])\n",
    "dca_values_clean = dca_values_clean.drop(dca_values_clean.index[824])\n",
    "\n",
    "print(dca_values.shape)\n",
    "print(dca_values_clean.shape)\n",
    "\n",
    "df1 = dca_values_clean[dca_values_clean.isnull().any(axis=1)]\n",
    "print(df1)\n",
    "\n",
    "dca_values_clean = dca_values_clean.drop(dca_values_clean.index[822])\n"
   ]
  },
  {
   "cell_type": "code",
   "execution_count": 170,
   "metadata": {},
   "outputs": [
    {
     "data": {
      "text/plain": [
       "(array([], dtype=int64), array([], dtype=int64))"
      ]
     },
     "execution_count": 170,
     "metadata": {},
     "output_type": "execute_result"
    }
   ],
   "source": [
    "np.where(dca_values_clean.values >= np.finfo(np.float64).max)"
   ]
  },
  {
   "cell_type": "code",
   "execution_count": 172,
   "metadata": {},
   "outputs": [
    {
     "data": {
      "text/plain": [
       "PCA(copy=True, iterated_power='auto', n_components=365, random_state=None,\n",
       "  svd_solver='auto', tol=0.0, whiten=False)"
      ]
     },
     "execution_count": 172,
     "metadata": {},
     "output_type": "execute_result"
    }
   ],
   "source": [
    "pca = PCA(n_components=365)\n",
    "pca.fit(dca_values_clean)"
   ]
  },
  {
   "cell_type": "code",
   "execution_count": 173,
   "metadata": {},
   "outputs": [
    {
     "data": {
      "text/plain": [
       "array([[  3.09657820e-03,  -2.63107958e-03,  -1.59696333e-02, ...,\n",
       "         -2.52549080e-02,   9.36447433e-03,  -1.80158660e-02],\n",
       "       [  1.97112100e-03,  -8.53795824e-03,  -2.28391336e-02, ...,\n",
       "         -3.37381912e-02,  -5.30360033e-03,  -2.46509262e-02],\n",
       "       [  9.15060554e-04,  -2.82016387e-03,   6.28751216e-03, ...,\n",
       "         -1.22034918e-02,   5.11711609e-03,   4.80724276e-02],\n",
       "       ..., \n",
       "       [  0.00000000e+00,   2.13687437e-17,   5.77632650e-17, ...,\n",
       "         -3.04828930e-17,  -2.02648871e-17,   3.04363980e-17],\n",
       "       [ -0.00000000e+00,   9.10715578e-17,   8.76964892e-17, ...,\n",
       "          3.23222178e-17,   1.74724956e-17,   2.22781246e-17],\n",
       "       [ -0.00000000e+00,  -2.18931800e-17,  -6.25237548e-17, ...,\n",
       "         -4.44322147e-17,   2.55294911e-17,   2.50552849e-17]])"
      ]
     },
     "execution_count": 173,
     "metadata": {},
     "output_type": "execute_result"
    }
   ],
   "source": [
    "pca.components_"
   ]
  },
  {
   "cell_type": "markdown",
   "metadata": {},
   "source": [
    "## let's graph the cumulative pca components by the explained variance"
   ]
  },
  {
   "cell_type": "code",
   "execution_count": 177,
   "metadata": {},
   "outputs": [
    {
     "data": {
      "image/png": "[encoded data removed]",
      "text/plain": [
       "<matplotlib.figure.Figure at 0x7fdc7725e4a8>"
      ]
     },
     "metadata": {},
     "output_type": "display_data"
    }
   ],
   "source": [
    "y = [0]\n",
    "\n",
    "for v in pca.explained_variance_ratio_:\n",
    "    y.append(v+y[-1])\n",
    "\n",
    "import matplotlib.pyplot as plt\n",
    "plt.plot(y)\n",
    "plt.show()"
   ]
  },
  {
   "cell_type": "markdown",
   "metadata": {},
   "source": [
    "## ruh-roh that doesnt look so great for finding helpful components.\n",
    "## maybe I should include the year?"
   ]
  },
  {
   "cell_type": "code",
   "execution_count": 283,
   "metadata": {},
   "outputs": [
    {
     "data": {
      "text/html": [
       "<div>\n",
       "<table border=\"1\" class=\"dataframe\">\n",
       "  <thead>\n",
       "    <tr style=\"text-align: right;\">\n",
       "      <th></th>\n",
       "      <th>Year</th>\n",
       "      <th>0</th>\n",
       "      <th>1</th>\n",
       "      <th>2</th>\n",
       "      <th>3</th>\n",
       "      <th>4</th>\n",
       "      <th>5</th>\n",
       "      <th>6</th>\n",
       "      <th>7</th>\n",
       "      <th>8</th>\n",
       "      <th>...</th>\n",
       "      <th>355</th>\n",
       "      <th>356</th>\n",
       "      <th>357</th>\n",
       "      <th>358</th>\n",
       "      <th>359</th>\n",
       "      <th>360</th>\n",
       "      <th>361</th>\n",
       "      <th>362</th>\n",
       "      <th>363</th>\n",
       "      <th>364</th>\n",
       "    </tr>\n",
       "  </thead>\n",
       "  <tbody>\n",
       "    <tr>\n",
       "      <th>0</th>\n",
       "      <td>1970</td>\n",
       "      <td>0.0</td>\n",
       "      <td>0.0</td>\n",
       "      <td>0.0</td>\n",
       "      <td>0.0</td>\n",
       "      <td>0.0</td>\n",
       "      <td>0.0</td>\n",
       "      <td>0.0</td>\n",
       "      <td>0.0</td>\n",
       "      <td>0.0</td>\n",
       "      <td>...</td>\n",
       "      <td>0.000000</td>\n",
       "      <td>0.0</td>\n",
       "      <td>0.0</td>\n",
       "      <td>0.0</td>\n",
       "      <td>0.000000</td>\n",
       "      <td>0.0</td>\n",
       "      <td>0.0</td>\n",
       "      <td>0.000000</td>\n",
       "      <td>0.0</td>\n",
       "      <td>0.0</td>\n",
       "    </tr>\n",
       "    <tr>\n",
       "      <th>1</th>\n",
       "      <td>1971</td>\n",
       "      <td>0.0</td>\n",
       "      <td>0.0</td>\n",
       "      <td>0.0</td>\n",
       "      <td>0.0</td>\n",
       "      <td>0.0</td>\n",
       "      <td>0.0</td>\n",
       "      <td>0.0</td>\n",
       "      <td>0.0</td>\n",
       "      <td>0.0</td>\n",
       "      <td>...</td>\n",
       "      <td>0.000000</td>\n",
       "      <td>0.0</td>\n",
       "      <td>0.0</td>\n",
       "      <td>0.0</td>\n",
       "      <td>0.000000</td>\n",
       "      <td>0.0</td>\n",
       "      <td>0.0</td>\n",
       "      <td>0.000000</td>\n",
       "      <td>0.0</td>\n",
       "      <td>0.0</td>\n",
       "    </tr>\n",
       "    <tr>\n",
       "      <th>2</th>\n",
       "      <td>1972</td>\n",
       "      <td>0.0</td>\n",
       "      <td>0.0</td>\n",
       "      <td>0.0</td>\n",
       "      <td>0.0</td>\n",
       "      <td>0.0</td>\n",
       "      <td>0.0</td>\n",
       "      <td>0.0</td>\n",
       "      <td>0.0</td>\n",
       "      <td>0.0</td>\n",
       "      <td>...</td>\n",
       "      <td>0.000005</td>\n",
       "      <td>0.0</td>\n",
       "      <td>0.0</td>\n",
       "      <td>-0.0</td>\n",
       "      <td>0.000004</td>\n",
       "      <td>0.0</td>\n",
       "      <td>0.0</td>\n",
       "      <td>0.000005</td>\n",
       "      <td>0.0</td>\n",
       "      <td>0.0</td>\n",
       "    </tr>\n",
       "    <tr>\n",
       "      <th>3</th>\n",
       "      <td>1973</td>\n",
       "      <td>0.0</td>\n",
       "      <td>0.0</td>\n",
       "      <td>0.0</td>\n",
       "      <td>0.0</td>\n",
       "      <td>0.0</td>\n",
       "      <td>0.0</td>\n",
       "      <td>0.0</td>\n",
       "      <td>0.0</td>\n",
       "      <td>0.0</td>\n",
       "      <td>...</td>\n",
       "      <td>0.000000</td>\n",
       "      <td>0.0</td>\n",
       "      <td>0.0</td>\n",
       "      <td>0.0</td>\n",
       "      <td>0.000000</td>\n",
       "      <td>0.0</td>\n",
       "      <td>0.0</td>\n",
       "      <td>0.000000</td>\n",
       "      <td>0.0</td>\n",
       "      <td>0.0</td>\n",
       "    </tr>\n",
       "    <tr>\n",
       "      <th>4</th>\n",
       "      <td>1974</td>\n",
       "      <td>0.0</td>\n",
       "      <td>0.0</td>\n",
       "      <td>0.0</td>\n",
       "      <td>0.0</td>\n",
       "      <td>0.0</td>\n",
       "      <td>0.0</td>\n",
       "      <td>0.0</td>\n",
       "      <td>0.0</td>\n",
       "      <td>0.0</td>\n",
       "      <td>...</td>\n",
       "      <td>0.000000</td>\n",
       "      <td>0.0</td>\n",
       "      <td>0.0</td>\n",
       "      <td>0.0</td>\n",
       "      <td>0.000000</td>\n",
       "      <td>0.0</td>\n",
       "      <td>0.0</td>\n",
       "      <td>0.000000</td>\n",
       "      <td>0.0</td>\n",
       "      <td>0.0</td>\n",
       "    </tr>\n",
       "  </tbody>\n",
       "</table>\n",
       "<p>5 rows × 366 columns</p>\n",
       "</div>"
      ],
      "text/plain": [
       "   Year    0    1    2    3    4    5    6    7    8 ...        355  356  357  \\\n",
       "0  1970  0.0  0.0  0.0  0.0  0.0  0.0  0.0  0.0  0.0 ...   0.000000  0.0  0.0   \n",
       "1  1971  0.0  0.0  0.0  0.0  0.0  0.0  0.0  0.0  0.0 ...   0.000000  0.0  0.0   \n",
       "2  1972  0.0  0.0  0.0  0.0  0.0  0.0  0.0  0.0  0.0 ...   0.000005  0.0  0.0   \n",
       "3  1973  0.0  0.0  0.0  0.0  0.0  0.0  0.0  0.0  0.0 ...   0.000000  0.0  0.0   \n",
       "4  1974  0.0  0.0  0.0  0.0  0.0  0.0  0.0  0.0  0.0 ...   0.000000  0.0  0.0   \n",
       "\n",
       "   358       359  360  361       362  363  364  \n",
       "0  0.0  0.000000  0.0  0.0  0.000000  0.0  0.0  \n",
       "1  0.0  0.000000  0.0  0.0  0.000000  0.0  0.0  \n",
       "2 -0.0  0.000004  0.0  0.0  0.000005  0.0  0.0  \n",
       "3  0.0  0.000000  0.0  0.0  0.000000  0.0  0.0  \n",
       "4  0.0  0.000000  0.0  0.0  0.000000  0.0  0.0  \n",
       "\n",
       "[5 rows x 366 columns]"
      ]
     },
     "execution_count": 283,
     "metadata": {},
     "output_type": "execute_result"
    }
   ],
   "source": [
    "dca_values = pd.DataFrame(dca.unpackedValues.tolist(), index=dca.index)\n",
    "result = pd.concat([dca['Year'], dca_values], axis=1).reindex(dca_values.index)\n",
    "result.head()"
   ]
  },
  {
   "cell_type": "code",
   "execution_count": 292,
   "metadata": {},
   "outputs": [
    {
     "name": "stdout",
     "output_type": "stream",
     "text": [
      "(1476, 366)\n",
      "(0, 366)\n",
      "(array([822]), array([301]))\n",
      "(array([], dtype=int64), array([], dtype=int64))\n"
     ]
    }
   ],
   "source": [
    "# filter out nans\n",
    "\n",
    "import pandas as pd\n",
    "\n",
    "result = pd.concat([dca['Year'], dca_values], axis=1).reindex(dca_values.index)\n",
    "result.head()\n",
    "\n",
    "result_clean = result\n",
    "result_clean = result_clean.drop(452)\n",
    "result_clean = result_clean.drop(713)\n",
    "result_clean = result_clean.drop(826)\n",
    "\n",
    "print(result_clean.shape)\n",
    "\n",
    "remove = result_clean[result_clean.isnull().any(axis=1)]\n",
    "print(remove.shape)\n",
    "\n",
    "# # filter out rows with values too big\n",
    "result_clean.reindex()\n",
    "print(np.where(result_clean.values >= np.finfo(np.float64).max))\n",
    "\n",
    "result_clean = result_clean.drop(result_clean.index[822])\n",
    "\n",
    "print(np.where(result_clean.values >= np.finfo(np.float64).max))"
   ]
  },
  {
   "cell_type": "code",
   "execution_count": 293,
   "metadata": {},
   "outputs": [
    {
     "data": {
      "image/png": "[encoded data removed]",
      "text/plain": [
       "<matplotlib.figure.Figure at 0x7fdca608a0b8>"
      ]
     },
     "metadata": {},
     "output_type": "display_data"
    }
   ],
   "source": [
    "pca = PCA(n_components=366)\n",
    "pca.fit(result_clean)\n",
    "\n",
    "y = [0]\n",
    "\n",
    "for v in pca.explained_variance_ratio_:\n",
    "    y.append(v+y[-1])\n",
    "\n",
    "import matplotlib.pyplot as plt\n",
    "plt.plot(y)\n",
    "plt.show()"
   ]
  },
  {
   "cell_type": "code",
   "execution_count": null,
   "metadata": {
    "collapsed": true
   },
   "outputs": [],
   "source": []
  },
  {
   "cell_type": "markdown",
   "metadata": {
    "collapsed": true
   },
   "source": [
    "## maybe we should consider el nino years in CA vs not?"
   ]
  },
  {
   "cell_type": "code",
   "execution_count": 286,
   "metadata": {},
   "outputs": [
    {
     "data": {
      "text/html": [
       "<div>\n",
       "<table border=\"1\" class=\"dataframe\">\n",
       "  <thead>\n",
       "    <tr style=\"text-align: right;\">\n",
       "      <th></th>\n",
       "      <th>Year</th>\n",
       "      <th>0</th>\n",
       "      <th>1</th>\n",
       "      <th>2</th>\n",
       "      <th>3</th>\n",
       "      <th>4</th>\n",
       "      <th>5</th>\n",
       "      <th>6</th>\n",
       "      <th>7</th>\n",
       "      <th>8</th>\n",
       "      <th>...</th>\n",
       "      <th>355</th>\n",
       "      <th>356</th>\n",
       "      <th>357</th>\n",
       "      <th>358</th>\n",
       "      <th>359</th>\n",
       "      <th>360</th>\n",
       "      <th>361</th>\n",
       "      <th>362</th>\n",
       "      <th>363</th>\n",
       "      <th>364</th>\n",
       "    </tr>\n",
       "  </thead>\n",
       "  <tbody>\n",
       "    <tr>\n",
       "      <th>2</th>\n",
       "      <td>1972</td>\n",
       "      <td>0.0</td>\n",
       "      <td>0.000000</td>\n",
       "      <td>0.0</td>\n",
       "      <td>0.0</td>\n",
       "      <td>0.0</td>\n",
       "      <td>0.0</td>\n",
       "      <td>0.0</td>\n",
       "      <td>0.0</td>\n",
       "      <td>0.0</td>\n",
       "      <td>...</td>\n",
       "      <td>0.000005</td>\n",
       "      <td>0.0</td>\n",
       "      <td>0.0</td>\n",
       "      <td>-0.000000</td>\n",
       "      <td>0.000004</td>\n",
       "      <td>0.0</td>\n",
       "      <td>0.0</td>\n",
       "      <td>0.000005</td>\n",
       "      <td>0.0</td>\n",
       "      <td>0.0</td>\n",
       "    </tr>\n",
       "    <tr>\n",
       "      <th>7</th>\n",
       "      <td>1977</td>\n",
       "      <td>0.0</td>\n",
       "      <td>0.000000</td>\n",
       "      <td>0.0</td>\n",
       "      <td>0.0</td>\n",
       "      <td>0.0</td>\n",
       "      <td>0.0</td>\n",
       "      <td>0.0</td>\n",
       "      <td>0.0</td>\n",
       "      <td>0.0</td>\n",
       "      <td>...</td>\n",
       "      <td>0.000000</td>\n",
       "      <td>0.0</td>\n",
       "      <td>0.0</td>\n",
       "      <td>0.000000</td>\n",
       "      <td>0.000000</td>\n",
       "      <td>0.0</td>\n",
       "      <td>0.0</td>\n",
       "      <td>0.000000</td>\n",
       "      <td>0.0</td>\n",
       "      <td>0.0</td>\n",
       "    </tr>\n",
       "    <tr>\n",
       "      <th>9</th>\n",
       "      <td>1979</td>\n",
       "      <td>0.0</td>\n",
       "      <td>0.000000</td>\n",
       "      <td>0.0</td>\n",
       "      <td>0.0</td>\n",
       "      <td>0.0</td>\n",
       "      <td>0.0</td>\n",
       "      <td>0.0</td>\n",
       "      <td>0.0</td>\n",
       "      <td>0.0</td>\n",
       "      <td>...</td>\n",
       "      <td>0.000005</td>\n",
       "      <td>0.0</td>\n",
       "      <td>0.0</td>\n",
       "      <td>-2.000000</td>\n",
       "      <td>0.000005</td>\n",
       "      <td>0.0</td>\n",
       "      <td>0.0</td>\n",
       "      <td>0.000000</td>\n",
       "      <td>0.0</td>\n",
       "      <td>0.0</td>\n",
       "    </tr>\n",
       "    <tr>\n",
       "      <th>12</th>\n",
       "      <td>1982</td>\n",
       "      <td>512.0</td>\n",
       "      <td>0.000005</td>\n",
       "      <td>0.0</td>\n",
       "      <td>0.0</td>\n",
       "      <td>0.0</td>\n",
       "      <td>0.0</td>\n",
       "      <td>0.0</td>\n",
       "      <td>0.0</td>\n",
       "      <td>0.0</td>\n",
       "      <td>...</td>\n",
       "      <td>0.000000</td>\n",
       "      <td>0.0</td>\n",
       "      <td>512.0</td>\n",
       "      <td>0.000005</td>\n",
       "      <td>0.000000</td>\n",
       "      <td>0.0</td>\n",
       "      <td>0.0</td>\n",
       "      <td>0.000000</td>\n",
       "      <td>0.0</td>\n",
       "      <td>0.0</td>\n",
       "    </tr>\n",
       "    <tr>\n",
       "      <th>16</th>\n",
       "      <td>1986</td>\n",
       "      <td>0.0</td>\n",
       "      <td>0.000000</td>\n",
       "      <td>0.0</td>\n",
       "      <td>0.0</td>\n",
       "      <td>0.0</td>\n",
       "      <td>0.0</td>\n",
       "      <td>0.0</td>\n",
       "      <td>0.0</td>\n",
       "      <td>0.0</td>\n",
       "      <td>...</td>\n",
       "      <td>0.000005</td>\n",
       "      <td>0.0</td>\n",
       "      <td>-4.0</td>\n",
       "      <td>0.000005</td>\n",
       "      <td>0.000000</td>\n",
       "      <td>0.0</td>\n",
       "      <td>0.0</td>\n",
       "      <td>0.000000</td>\n",
       "      <td>0.0</td>\n",
       "      <td>0.0</td>\n",
       "    </tr>\n",
       "  </tbody>\n",
       "</table>\n",
       "<p>5 rows × 366 columns</p>\n",
       "</div>"
      ],
      "text/plain": [
       "    Year      0         1    2    3    4    5    6    7    8 ...        355  \\\n",
       "2   1972    0.0  0.000000  0.0  0.0  0.0  0.0  0.0  0.0  0.0 ...   0.000005   \n",
       "7   1977    0.0  0.000000  0.0  0.0  0.0  0.0  0.0  0.0  0.0 ...   0.000000   \n",
       "9   1979    0.0  0.000000  0.0  0.0  0.0  0.0  0.0  0.0  0.0 ...   0.000005   \n",
       "12  1982  512.0  0.000005  0.0  0.0  0.0  0.0  0.0  0.0  0.0 ...   0.000000   \n",
       "16  1986    0.0  0.000000  0.0  0.0  0.0  0.0  0.0  0.0  0.0 ...   0.000005   \n",
       "\n",
       "    356    357       358       359  360  361       362  363  364  \n",
       "2   0.0    0.0 -0.000000  0.000004  0.0  0.0  0.000005  0.0  0.0  \n",
       "7   0.0    0.0  0.000000  0.000000  0.0  0.0  0.000000  0.0  0.0  \n",
       "9   0.0    0.0 -2.000000  0.000005  0.0  0.0  0.000000  0.0  0.0  \n",
       "12  0.0  512.0  0.000005  0.000000  0.0  0.0  0.000000  0.0  0.0  \n",
       "16  0.0   -4.0  0.000005  0.000000  0.0  0.0  0.000000  0.0  0.0  \n",
       "\n",
       "[5 rows x 366 columns]"
      ]
     },
     "execution_count": 286,
     "metadata": {},
     "output_type": "execute_result"
    }
   ],
   "source": [
    "## for reference: these are the years used for el nino years\n",
    "## https://psl.noaa.gov/enso/past_events.html\n",
    "ca_elnino = result_clean[(result_clean['Year'] == 1972)\n",
    "               | (result_clean['Year'] == 1977)\n",
    "               | (result_clean['Year'] == 1979)\n",
    "               | (result_clean['Year'] == 1982)\n",
    "               | (result_clean['Year'] == 1986)\n",
    "               | (result_clean['Year'] == 1987)\n",
    "               | (result_clean['Year'] == 1991)\n",
    "               | (result_clean['Year'] == 1994)\n",
    "               | (result_clean['Year'] == 1997)]\n",
    "ca_elnino.head()\n"
   ]
  },
  {
   "cell_type": "code",
   "execution_count": 296,
   "metadata": {},
   "outputs": [
    {
     "name": "stdout",
     "output_type": "stream",
     "text": [
      "(0, 366)\n",
      "(array([], dtype=int64), array([], dtype=int64))\n"
     ]
    }
   ],
   "source": [
    "remove = ca_elnino[ca_elnino.isnull().any(axis=1)]\n",
    "print(remove.shape)\n",
    "\n",
    "print(np.where(ca_elnino.values >= np.finfo(np.float64).max))"
   ]
  },
  {
   "cell_type": "code",
   "execution_count": 300,
   "metadata": {},
   "outputs": [
    {
     "data": {
      "image/png": "[encoded data removed]",
      "text/plain": [
       "<matplotlib.figure.Figure at 0x7fdca5c84c88>"
      ]
     },
     "metadata": {},
     "output_type": "display_data"
    }
   ],
   "source": [
    "pca = PCA(n_components=366)\n",
    "pca.fit(ca_elnino)\n",
    "\n",
    "y = [0]\n",
    "\n",
    "for v in pca.explained_variance_ratio_:\n",
    "    y.append(v+y[-1])\n",
    "\n",
    "import matplotlib.pyplot as plt\n",
    "plt.plot(y)\n",
    "plt.show()"
   ]
  },
  {
   "cell_type": "markdown",
   "metadata": {},
   "source": [
    "## let's try smoothing for CA all years?"
   ]
  },
  {
   "cell_type": "code",
   "execution_count": 304,
   "metadata": {},
   "outputs": [
    {
     "data": {
      "text/html": [
       "<div>\n",
       "<table border=\"1\" class=\"dataframe\">\n",
       "  <thead>\n",
       "    <tr style=\"text-align: right;\">\n",
       "      <th></th>\n",
       "      <th>ID</th>\n",
       "      <th>elevation</th>\n",
       "      <th>state</th>\n",
       "      <th>Station</th>\n",
       "      <th>Measurement</th>\n",
       "      <th>Year</th>\n",
       "      <th>Values</th>\n",
       "      <th>unpackedValues</th>\n",
       "    </tr>\n",
       "  </thead>\n",
       "  <tbody>\n",
       "    <tr>\n",
       "      <th>0</th>\n",
       "      <td>USC00042239</td>\n",
       "      <td>1414.3</td>\n",
       "      <td>CA</td>\n",
       "      <td>USC00042239</td>\n",
       "      <td>SNOW</td>\n",
       "      <td>1970</td>\n",
       "      <td>[0, 0, 0, 0, 0, 0, 0, 0, 0, 0, 0, 0, 0, 0, 0, ...</td>\n",
       "      <td>[0.0, 0.0, 0.0, 0.0, 0.0, 0.0, 0.0, 0.0, 0.0, ...</td>\n",
       "    </tr>\n",
       "    <tr>\n",
       "      <th>1</th>\n",
       "      <td>USC00042239</td>\n",
       "      <td>1414.3</td>\n",
       "      <td>CA</td>\n",
       "      <td>USC00042239</td>\n",
       "      <td>SNOW</td>\n",
       "      <td>1971</td>\n",
       "      <td>[0, 0, 0, 0, 0, 0, 0, 0, 0, 0, 0, 0, 0, 0, 0, ...</td>\n",
       "      <td>[0.0, 0.0, 0.0, 0.0, 0.0, 0.0, 0.0, 0.0, 0.0, ...</td>\n",
       "    </tr>\n",
       "    <tr>\n",
       "      <th>2</th>\n",
       "      <td>USC00042239</td>\n",
       "      <td>1414.3</td>\n",
       "      <td>CA</td>\n",
       "      <td>USC00042239</td>\n",
       "      <td>SNOW</td>\n",
       "      <td>1972</td>\n",
       "      <td>[0, 0, 0, 0, 0, 0, 0, 0, 0, 0, 0, 0, 0, 0, 0, ...</td>\n",
       "      <td>[0.0, 0.0, 0.0, 0.0, 0.0, 0.0, 0.0, 0.0, 0.0, ...</td>\n",
       "    </tr>\n",
       "    <tr>\n",
       "      <th>3</th>\n",
       "      <td>USC00042239</td>\n",
       "      <td>1414.3</td>\n",
       "      <td>CA</td>\n",
       "      <td>USC00042239</td>\n",
       "      <td>SNOW</td>\n",
       "      <td>1973</td>\n",
       "      <td>[0, 0, 0, 0, 0, 0, 0, 0, 0, 0, 0, 0, 0, 0, 0, ...</td>\n",
       "      <td>[0.0, 0.0, 0.0, 0.0, 0.0, 0.0, 0.0, 0.0, 0.0, ...</td>\n",
       "    </tr>\n",
       "    <tr>\n",
       "      <th>4</th>\n",
       "      <td>USC00042239</td>\n",
       "      <td>1414.3</td>\n",
       "      <td>CA</td>\n",
       "      <td>USC00042239</td>\n",
       "      <td>SNOW</td>\n",
       "      <td>1974</td>\n",
       "      <td>[0, 0, 0, 0, 0, 0, 0, 0, 0, 0, 0, 0, 0, 0, 0, ...</td>\n",
       "      <td>[0.0, 0.0, 0.0, 0.0, 0.0, 0.0, 0.0, 0.0, 0.0, ...</td>\n",
       "    </tr>\n",
       "  </tbody>\n",
       "</table>\n",
       "</div>"
      ],
      "text/plain": [
       "            ID  elevation state      Station Measurement  Year  \\\n",
       "0  USC00042239     1414.3    CA  USC00042239        SNOW  1970   \n",
       "1  USC00042239     1414.3    CA  USC00042239        SNOW  1971   \n",
       "2  USC00042239     1414.3    CA  USC00042239        SNOW  1972   \n",
       "3  USC00042239     1414.3    CA  USC00042239        SNOW  1973   \n",
       "4  USC00042239     1414.3    CA  USC00042239        SNOW  1974   \n",
       "\n",
       "                                              Values  \\\n",
       "0  [0, 0, 0, 0, 0, 0, 0, 0, 0, 0, 0, 0, 0, 0, 0, ...   \n",
       "1  [0, 0, 0, 0, 0, 0, 0, 0, 0, 0, 0, 0, 0, 0, 0, ...   \n",
       "2  [0, 0, 0, 0, 0, 0, 0, 0, 0, 0, 0, 0, 0, 0, 0, ...   \n",
       "3  [0, 0, 0, 0, 0, 0, 0, 0, 0, 0, 0, 0, 0, 0, 0, ...   \n",
       "4  [0, 0, 0, 0, 0, 0, 0, 0, 0, 0, 0, 0, 0, 0, 0, ...   \n",
       "\n",
       "                                      unpackedValues  \n",
       "0  [0.0, 0.0, 0.0, 0.0, 0.0, 0.0, 0.0, 0.0, 0.0, ...  \n",
       "1  [0.0, 0.0, 0.0, 0.0, 0.0, 0.0, 0.0, 0.0, 0.0, ...  \n",
       "2  [0.0, 0.0, 0.0, 0.0, 0.0, 0.0, 0.0, 0.0, 0.0, ...  \n",
       "3  [0.0, 0.0, 0.0, 0.0, 0.0, 0.0, 0.0, 0.0, 0.0, ...  \n",
       "4  [0.0, 0.0, 0.0, 0.0, 0.0, 0.0, 0.0, 0.0, 0.0, ...  "
      ]
     },
     "execution_count": 304,
     "metadata": {},
     "output_type": "execute_result"
    }
   ],
   "source": [
    "dca.head()"
   ]
  },
  {
   "cell_type": "code",
   "execution_count": 317,
   "metadata": {},
   "outputs": [
    {
     "data": {
      "text/html": [
       "<div>\n",
       "<table border=\"1\" class=\"dataframe\">\n",
       "  <thead>\n",
       "    <tr style=\"text-align: right;\">\n",
       "      <th></th>\n",
       "      <th>ID</th>\n",
       "      <th>elevation</th>\n",
       "      <th>state</th>\n",
       "      <th>Station</th>\n",
       "      <th>Measurement</th>\n",
       "      <th>Year</th>\n",
       "      <th>Values</th>\n",
       "      <th>unpackedValues</th>\n",
       "    </tr>\n",
       "  </thead>\n",
       "  <tbody>\n",
       "    <tr>\n",
       "      <th>0</th>\n",
       "      <td>USC00042239</td>\n",
       "      <td>1414.3</td>\n",
       "      <td>CA</td>\n",
       "      <td>USC00042239</td>\n",
       "      <td>smooth_SNOW</td>\n",
       "      <td>1970</td>\n",
       "      <td>[112, 164, 187, 164, 7, 165, 85, 165, 164, 165...</td>\n",
       "      <td>[-0.017333984375, -0.0184783935546875, -0.0196...</td>\n",
       "    </tr>\n",
       "    <tr>\n",
       "      <th>1</th>\n",
       "      <td>USC00042239</td>\n",
       "      <td>1414.3</td>\n",
       "      <td>CA</td>\n",
       "      <td>USC00042239</td>\n",
       "      <td>smooth_SNOW</td>\n",
       "      <td>1971</td>\n",
       "      <td>[116, 63, 193, 63, 6, 64, 42, 64, 76, 64, 109,...</td>\n",
       "      <td>[1.86328125, 1.9384765625, 2.01171875, 2.08203...</td>\n",
       "    </tr>\n",
       "    <tr>\n",
       "      <th>2</th>\n",
       "      <td>USC00042239</td>\n",
       "      <td>1414.3</td>\n",
       "      <td>CA</td>\n",
       "      <td>USC00042239</td>\n",
       "      <td>smooth_SNOW</td>\n",
       "      <td>1972</td>\n",
       "      <td>[228, 38, 51, 39, 129, 39, 205, 39, 11, 40, 47...</td>\n",
       "      <td>[0.02691650390625, 0.0281219482421875, 0.02931...</td>\n",
       "    </tr>\n",
       "    <tr>\n",
       "      <th>3</th>\n",
       "      <td>USC00042239</td>\n",
       "      <td>1414.3</td>\n",
       "      <td>CA</td>\n",
       "      <td>USC00042239</td>\n",
       "      <td>smooth_SNOW</td>\n",
       "      <td>1973</td>\n",
       "      <td>[52, 73, 8, 73, 217, 72, 170, 72, 121, 72, 72,...</td>\n",
       "      <td>[10.40625, 10.0625, 9.6953125, 9.328125, 8.945...</td>\n",
       "    </tr>\n",
       "    <tr>\n",
       "      <th>4</th>\n",
       "      <td>USC00042239</td>\n",
       "      <td>1414.3</td>\n",
       "      <td>CA</td>\n",
       "      <td>USC00042239</td>\n",
       "      <td>smooth_SNOW</td>\n",
       "      <td>1974</td>\n",
       "      <td>[190, 68, 115, 68, 42, 68, 199, 67, 62, 67, 18...</td>\n",
       "      <td>[4.7421875, 4.44921875, 4.1640625, 3.888671875...</td>\n",
       "    </tr>\n",
       "  </tbody>\n",
       "</table>\n",
       "</div>"
      ],
      "text/plain": [
       "            ID  elevation state      Station  Measurement  Year  \\\n",
       "0  USC00042239     1414.3    CA  USC00042239  smooth_SNOW  1970   \n",
       "1  USC00042239     1414.3    CA  USC00042239  smooth_SNOW  1971   \n",
       "2  USC00042239     1414.3    CA  USC00042239  smooth_SNOW  1972   \n",
       "3  USC00042239     1414.3    CA  USC00042239  smooth_SNOW  1973   \n",
       "4  USC00042239     1414.3    CA  USC00042239  smooth_SNOW  1974   \n",
       "\n",
       "                                              Values  \\\n",
       "0  [112, 164, 187, 164, 7, 165, 85, 165, 164, 165...   \n",
       "1  [116, 63, 193, 63, 6, 64, 42, 64, 76, 64, 109,...   \n",
       "2  [228, 38, 51, 39, 129, 39, 205, 39, 11, 40, 47...   \n",
       "3  [52, 73, 8, 73, 217, 72, 170, 72, 121, 72, 72,...   \n",
       "4  [190, 68, 115, 68, 42, 68, 199, 67, 62, 67, 18...   \n",
       "\n",
       "                                      unpackedValues  \n",
       "0  [-0.017333984375, -0.0184783935546875, -0.0196...  \n",
       "1  [1.86328125, 1.9384765625, 2.01171875, 2.08203...  \n",
       "2  [0.02691650390625, 0.0281219482421875, 0.02931...  \n",
       "3  [10.40625, 10.0625, 9.6953125, 9.328125, 8.945...  \n",
       "4  [4.7421875, 4.44921875, 4.1640625, 3.888671875...  "
      ]
     },
     "execution_count": 317,
     "metadata": {},
     "output_type": "execute_result"
    }
   ],
   "source": [
    "from astropy.convolution import convolve\n",
    "from scipy import signal\n",
    "#using astrophy.convolution.convolve and not scipy.signal.convolve because the first can handle nans.\n",
    "\n",
    "# orig_pdf=df.toPandas()\n",
    "# orig_pdf.head()\n",
    "\n",
    "def Smoother(orig_pdf,order=101,std=20):\n",
    "    window = signal.gaussian(order, std=std)\n",
    "    window/=sum(window)\n",
    "\n",
    "    L=list(orig_pdf['Values'])\n",
    "\n",
    "    orig=np.stack([unpackArray(V,np.float16) for V in L])\n",
    "    orig_shape=orig.shape\n",
    "    orig=orig.flatten()\n",
    "\n",
    "    smoothed = convolve(orig, window)\n",
    "    smoothed=np.reshape(smoothed,orig_shape)\n",
    "\n",
    "    #create a new pandas dataframe\n",
    "    smoothed_pdf=orig_pdf.copy()   # make a copy\n",
    "\n",
    "    L=[packArray(smoothed[i,:]) for i in range(smoothed.shape[0])]\n",
    "    smoothed_pdf['Values']=L\n",
    "\n",
    "    smoothed_pdf.loc[0,'Measurement']\n",
    "\n",
    "    new_name = 'smooth_'+smoothed_pdf.loc[0,'Measurement']\n",
    "    smoothed_pdf['Measurement']=new_name\n",
    "    return smoothed_pdf\n",
    "\n",
    "smoothed_pdf=Smoother(dca)\n",
    "smoothed_pdf.head()\n",
    "\n",
    "\n",
    "def unpackData(row):\n",
    "    row = row.to_frame()\n",
    "    L = list(row.transpose()['Values'])\n",
    "    asf = np.stack([unpackArray(v, np.float16) for v in L])\n",
    "    return asf[0].tolist()\n",
    "\n",
    "smoothed_pdf['unpackedValues']=smoothed_pdf.apply(lambda row: unpackData(row), axis=1)\n",
    "smoothed_pdf.head()"
   ]
  },
  {
   "cell_type": "code",
   "execution_count": 321,
   "metadata": {
    "scrolled": true
   },
   "outputs": [
    {
     "data": {
      "text/html": [
       "<div>\n",
       "<table border=\"1\" class=\"dataframe\">\n",
       "  <thead>\n",
       "    <tr style=\"text-align: right;\">\n",
       "      <th></th>\n",
       "      <th>ID</th>\n",
       "      <th>elevation</th>\n",
       "      <th>state</th>\n",
       "      <th>Station</th>\n",
       "      <th>Measurement</th>\n",
       "      <th>Year</th>\n",
       "      <th>Values</th>\n",
       "      <th>unpackedValues</th>\n",
       "    </tr>\n",
       "  </thead>\n",
       "  <tbody>\n",
       "    <tr>\n",
       "      <th>0</th>\n",
       "      <td>USC00042239</td>\n",
       "      <td>1414.3</td>\n",
       "      <td>CA</td>\n",
       "      <td>USC00042239</td>\n",
       "      <td>smooth_SNOW</td>\n",
       "      <td>1970</td>\n",
       "      <td>[112, 164, 187, 164, 7, 165, 85, 165, 164, 165...</td>\n",
       "      <td>[-0.017333984375, -0.0184783935546875, -0.0196...</td>\n",
       "    </tr>\n",
       "    <tr>\n",
       "      <th>1</th>\n",
       "      <td>USC00042239</td>\n",
       "      <td>1414.3</td>\n",
       "      <td>CA</td>\n",
       "      <td>USC00042239</td>\n",
       "      <td>smooth_SNOW</td>\n",
       "      <td>1971</td>\n",
       "      <td>[116, 63, 193, 63, 6, 64, 42, 64, 76, 64, 109,...</td>\n",
       "      <td>[1.86328125, 1.9384765625, 2.01171875, 2.08203...</td>\n",
       "    </tr>\n",
       "    <tr>\n",
       "      <th>2</th>\n",
       "      <td>USC00042239</td>\n",
       "      <td>1414.3</td>\n",
       "      <td>CA</td>\n",
       "      <td>USC00042239</td>\n",
       "      <td>smooth_SNOW</td>\n",
       "      <td>1972</td>\n",
       "      <td>[228, 38, 51, 39, 129, 39, 205, 39, 11, 40, 47...</td>\n",
       "      <td>[0.02691650390625, 0.0281219482421875, 0.02931...</td>\n",
       "    </tr>\n",
       "    <tr>\n",
       "      <th>3</th>\n",
       "      <td>USC00042239</td>\n",
       "      <td>1414.3</td>\n",
       "      <td>CA</td>\n",
       "      <td>USC00042239</td>\n",
       "      <td>smooth_SNOW</td>\n",
       "      <td>1973</td>\n",
       "      <td>[52, 73, 8, 73, 217, 72, 170, 72, 121, 72, 72,...</td>\n",
       "      <td>[10.40625, 10.0625, 9.6953125, 9.328125, 8.945...</td>\n",
       "    </tr>\n",
       "    <tr>\n",
       "      <th>4</th>\n",
       "      <td>USC00042239</td>\n",
       "      <td>1414.3</td>\n",
       "      <td>CA</td>\n",
       "      <td>USC00042239</td>\n",
       "      <td>smooth_SNOW</td>\n",
       "      <td>1974</td>\n",
       "      <td>[190, 68, 115, 68, 42, 68, 199, 67, 62, 67, 18...</td>\n",
       "      <td>[4.7421875, 4.44921875, 4.1640625, 3.888671875...</td>\n",
       "    </tr>\n",
       "  </tbody>\n",
       "</table>\n",
       "</div>"
      ],
      "text/plain": [
       "            ID  elevation state      Station  Measurement  Year  \\\n",
       "0  USC00042239     1414.3    CA  USC00042239  smooth_SNOW  1970   \n",
       "1  USC00042239     1414.3    CA  USC00042239  smooth_SNOW  1971   \n",
       "2  USC00042239     1414.3    CA  USC00042239  smooth_SNOW  1972   \n",
       "3  USC00042239     1414.3    CA  USC00042239  smooth_SNOW  1973   \n",
       "4  USC00042239     1414.3    CA  USC00042239  smooth_SNOW  1974   \n",
       "\n",
       "                                              Values  \\\n",
       "0  [112, 164, 187, 164, 7, 165, 85, 165, 164, 165...   \n",
       "1  [116, 63, 193, 63, 6, 64, 42, 64, 76, 64, 109,...   \n",
       "2  [228, 38, 51, 39, 129, 39, 205, 39, 11, 40, 47...   \n",
       "3  [52, 73, 8, 73, 217, 72, 170, 72, 121, 72, 72,...   \n",
       "4  [190, 68, 115, 68, 42, 68, 199, 67, 62, 67, 18...   \n",
       "\n",
       "                                      unpackedValues  \n",
       "0  [-0.017333984375, -0.0184783935546875, -0.0196...  \n",
       "1  [1.86328125, 1.9384765625, 2.01171875, 2.08203...  \n",
       "2  [0.02691650390625, 0.0281219482421875, 0.02931...  \n",
       "3  [10.40625, 10.0625, 9.6953125, 9.328125, 8.945...  \n",
       "4  [4.7421875, 4.44921875, 4.1640625, 3.888671875...  "
      ]
     },
     "execution_count": 321,
     "metadata": {},
     "output_type": "execute_result"
    }
   ],
   "source": [
    "def unpackData(row):\n",
    "    row = row.to_frame()\n",
    "    L = list(row.transpose()['Values'])\n",
    "    asf = np.stack([unpackArray(v, np.float16) for v in L])\n",
    "    return asf[0].tolist()\n",
    "\n",
    "smoothed_pdf['unpackedValues']=smoothed_pdf.apply(lambda row: unpackData(row), axis=1)\n",
    "smoothed_pdf.head()"
   ]
  },
  {
   "cell_type": "code",
   "execution_count": 339,
   "metadata": {},
   "outputs": [
    {
     "name": "stdout",
     "output_type": "stream",
     "text": [
      "(array([824, 824, 824, 824, 824, 824, 824, 824, 824, 824, 824, 824, 824,\n",
      "       824, 824, 824, 824, 824, 824, 824, 824, 824, 824, 824, 824, 824,\n",
      "       824, 824, 824, 824, 824, 824, 824, 824, 824, 824, 824, 824, 824,\n",
      "       824, 824, 824, 824, 824, 824, 824, 824, 824, 824, 824, 824, 824,\n",
      "       824, 824, 824, 824, 824, 824, 824, 824, 824, 824, 824, 824, 824,\n",
      "       824, 824, 824, 824, 824, 824, 824, 824, 824, 824, 824, 824, 824,\n",
      "       824, 824, 824, 824, 824, 824, 824, 824, 824, 824, 824, 824, 824,\n",
      "       824, 824, 824, 824, 824, 824, 824, 824, 824, 824]), array([250, 251, 252, 253, 254, 255, 256, 257, 258, 259, 260, 261, 262,\n",
      "       263, 264, 265, 266, 267, 268, 269, 270, 271, 272, 273, 274, 275,\n",
      "       276, 277, 278, 279, 280, 281, 282, 283, 284, 285, 286, 287, 288,\n",
      "       289, 290, 291, 292, 293, 294, 295, 296, 297, 298, 299, 300, 301,\n",
      "       302, 303, 304, 305, 306, 307, 308, 309, 310, 311, 312, 313, 314,\n",
      "       315, 316, 317, 318, 319, 320, 321, 322, 323, 324, 325, 326, 327,\n",
      "       328, 329, 330, 331, 332, 333, 334, 335, 336, 337, 338, 339, 340,\n",
      "       341, 342, 343, 344, 345, 346, 347, 348, 349, 350]))\n",
      "(array([], dtype=int64), array([], dtype=int64))\n"
     ]
    }
   ],
   "source": [
    "# filter out nans\n",
    "smoothed_pdf_values = pd.DataFrame(smoothed_pdf.unpackedValues.tolist(), index=smoothed_pdf.index)\n",
    "smoothed_pdf_values.head()\n",
    "\n",
    "result_clean = smoothed_pdf_values.copy()\n",
    "\n",
    "remove = result_clean[result_clean.isnull().any(axis=1)]\n",
    "remove.head()\n",
    "\n",
    "# # result_clean = result_clean.drop(452)\n",
    "# # result_clean = result_clean.drop(713)\n",
    "# # result_clean = result_clean.drop(826)\n",
    "\n",
    "# # print(result_clean.shape)\n",
    "\n",
    "# # remove = result_clean[result_clean.isnull().any(axis=1)]\n",
    "# # print(remove.shape)\n",
    "\n",
    "# # # # filter out rows with values too big\n",
    "# # result_clean.reindex()\n",
    "\n",
    "print(np.where(result_clean.values >= np.finfo(np.float64).max))\n",
    "\n",
    "result_clean = result_clean.drop(result_clean.index[824])\n",
    "\n",
    "print(np.where(result_clean.values >= np.finfo(np.float64).max))\n",
    "\n",
    "# # print(np.where(result_clean.values >= np.finfo(np.float64).max))"
   ]
  },
  {
   "cell_type": "code",
   "execution_count": 364,
   "metadata": {},
   "outputs": [
    {
     "data": {
      "image/png": "[encoded data removed]",
      "text/plain": [
       "<matplotlib.figure.Figure at 0x7fdca5f3ef60>"
      ]
     },
     "metadata": {},
     "output_type": "display_data"
    }
   ],
   "source": [
    "pca = PCA(n_components=365)\n",
    "pca.fit(result_clean)\n",
    "\n",
    "y = [0]\n",
    "\n",
    "for v in pca.explained_variance_ratio_:\n",
    "    y.append(v+y[-1])\n",
    "\n",
    "import matplotlib.pyplot as plt\n",
    "plt.plot(y)\n",
    "plt.xlim(left=0, right=5)\n",
    "plt.title('Principal Components vs Cumulative Percentage of Variance Explained in CA from 1970-2000')\n",
    "plt.xlabel('Principal Components')\n",
    "plt.ylabel('Cumulative Percentage of Variance Explained')\n",
    "plt.show()"
   ]
  },
  {
   "cell_type": "markdown",
   "metadata": {},
   "source": [
    "## smoothing for CA for only el nino years"
   ]
  },
  {
   "cell_type": "code",
   "execution_count": 350,
   "metadata": {},
   "outputs": [
    {
     "data": {
      "text/html": [
       "<div>\n",
       "<table border=\"1\" class=\"dataframe\">\n",
       "  <thead>\n",
       "    <tr style=\"text-align: right;\">\n",
       "      <th></th>\n",
       "      <th>ID</th>\n",
       "      <th>elevation</th>\n",
       "      <th>state</th>\n",
       "      <th>Station</th>\n",
       "      <th>Measurement</th>\n",
       "      <th>Year</th>\n",
       "      <th>Values</th>\n",
       "      <th>unpackedValues</th>\n",
       "    </tr>\n",
       "  </thead>\n",
       "  <tbody>\n",
       "    <tr>\n",
       "      <th>0</th>\n",
       "      <td>USC00042239</td>\n",
       "      <td>1414.3</td>\n",
       "      <td>CA</td>\n",
       "      <td>USC00042239</td>\n",
       "      <td>smooth_SNOW</td>\n",
       "      <td>1970</td>\n",
       "      <td>[112, 164, 187, 164, 7, 165, 85, 165, 164, 165...</td>\n",
       "      <td>[-0.017333984375, -0.0184783935546875, -0.0196...</td>\n",
       "    </tr>\n",
       "    <tr>\n",
       "      <th>1</th>\n",
       "      <td>USC00042239</td>\n",
       "      <td>1414.3</td>\n",
       "      <td>CA</td>\n",
       "      <td>USC00042239</td>\n",
       "      <td>smooth_SNOW</td>\n",
       "      <td>1971</td>\n",
       "      <td>[116, 63, 193, 63, 6, 64, 42, 64, 76, 64, 109,...</td>\n",
       "      <td>[1.86328125, 1.9384765625, 2.01171875, 2.08203...</td>\n",
       "    </tr>\n",
       "    <tr>\n",
       "      <th>2</th>\n",
       "      <td>USC00042239</td>\n",
       "      <td>1414.3</td>\n",
       "      <td>CA</td>\n",
       "      <td>USC00042239</td>\n",
       "      <td>smooth_SNOW</td>\n",
       "      <td>1972</td>\n",
       "      <td>[228, 38, 51, 39, 129, 39, 205, 39, 11, 40, 47...</td>\n",
       "      <td>[0.02691650390625, 0.0281219482421875, 0.02931...</td>\n",
       "    </tr>\n",
       "    <tr>\n",
       "      <th>3</th>\n",
       "      <td>USC00042239</td>\n",
       "      <td>1414.3</td>\n",
       "      <td>CA</td>\n",
       "      <td>USC00042239</td>\n",
       "      <td>smooth_SNOW</td>\n",
       "      <td>1973</td>\n",
       "      <td>[52, 73, 8, 73, 217, 72, 170, 72, 121, 72, 72,...</td>\n",
       "      <td>[10.40625, 10.0625, 9.6953125, 9.328125, 8.945...</td>\n",
       "    </tr>\n",
       "    <tr>\n",
       "      <th>4</th>\n",
       "      <td>USC00042239</td>\n",
       "      <td>1414.3</td>\n",
       "      <td>CA</td>\n",
       "      <td>USC00042239</td>\n",
       "      <td>smooth_SNOW</td>\n",
       "      <td>1974</td>\n",
       "      <td>[190, 68, 115, 68, 42, 68, 199, 67, 62, 67, 18...</td>\n",
       "      <td>[4.7421875, 4.44921875, 4.1640625, 3.888671875...</td>\n",
       "    </tr>\n",
       "  </tbody>\n",
       "</table>\n",
       "</div>"
      ],
      "text/plain": [
       "            ID  elevation state      Station  Measurement  Year  \\\n",
       "0  USC00042239     1414.3    CA  USC00042239  smooth_SNOW  1970   \n",
       "1  USC00042239     1414.3    CA  USC00042239  smooth_SNOW  1971   \n",
       "2  USC00042239     1414.3    CA  USC00042239  smooth_SNOW  1972   \n",
       "3  USC00042239     1414.3    CA  USC00042239  smooth_SNOW  1973   \n",
       "4  USC00042239     1414.3    CA  USC00042239  smooth_SNOW  1974   \n",
       "\n",
       "                                              Values  \\\n",
       "0  [112, 164, 187, 164, 7, 165, 85, 165, 164, 165...   \n",
       "1  [116, 63, 193, 63, 6, 64, 42, 64, 76, 64, 109,...   \n",
       "2  [228, 38, 51, 39, 129, 39, 205, 39, 11, 40, 47...   \n",
       "3  [52, 73, 8, 73, 217, 72, 170, 72, 121, 72, 72,...   \n",
       "4  [190, 68, 115, 68, 42, 68, 199, 67, 62, 67, 18...   \n",
       "\n",
       "                                      unpackedValues  \n",
       "0  [-0.017333984375, -0.0184783935546875, -0.0196...  \n",
       "1  [1.86328125, 1.9384765625, 2.01171875, 2.08203...  \n",
       "2  [0.02691650390625, 0.0281219482421875, 0.02931...  \n",
       "3  [10.40625, 10.0625, 9.6953125, 9.328125, 8.945...  \n",
       "4  [4.7421875, 4.44921875, 4.1640625, 3.888671875...  "
      ]
     },
     "execution_count": 350,
     "metadata": {},
     "output_type": "execute_result"
    }
   ],
   "source": [
    "ca_elnino = dca[(dca['Year'] == 1972)\n",
    "               | (dca['Year'] == 1977)\n",
    "               | (dca['Year'] == 1979)\n",
    "               | (dca['Year'] == 1982)\n",
    "               | (dca['Year'] == 1986)\n",
    "               | (dca['Year'] == 1987)\n",
    "               | (dca['Year'] == 1991)\n",
    "               | (dca['Year'] == 1994)\n",
    "               | (dca['Year'] == 1997)]\n",
    "# ca_elnino.head()\n",
    "\n",
    "ca_elnino_smoothed_pdf=Smoother(dca)\n",
    "ca_elnino_smoothed_pdf.head()\n",
    "\n",
    "def unpackData(row):\n",
    "    row = row.to_frame()\n",
    "    L = list(row.transpose()['Values'])\n",
    "    asf = np.stack([unpackArray(v, np.float16) for v in L])\n",
    "    return asf[0].tolist()\n",
    "\n",
    "ca_elnino_smoothed_pdf['unpackedValues']=ca_elnino_smoothed_pdf.apply(lambda row: unpackData(row), axis=1)\n",
    "ca_elnino_smoothed_pdf.head()"
   ]
  },
  {
   "cell_type": "code",
   "execution_count": 355,
   "metadata": {},
   "outputs": [
    {
     "name": "stdout",
     "output_type": "stream",
     "text": [
      "(array([824, 824, 824, 824, 824, 824, 824, 824, 824, 824, 824, 824, 824,\n",
      "       824, 824, 824, 824, 824, 824, 824, 824, 824, 824, 824, 824, 824,\n",
      "       824, 824, 824, 824, 824, 824, 824, 824, 824, 824, 824, 824, 824,\n",
      "       824, 824, 824, 824, 824, 824, 824, 824, 824, 824, 824, 824, 824,\n",
      "       824, 824, 824, 824, 824, 824, 824, 824, 824, 824, 824, 824, 824,\n",
      "       824, 824, 824, 824, 824, 824, 824, 824, 824, 824, 824, 824, 824,\n",
      "       824, 824, 824, 824, 824, 824, 824, 824, 824, 824, 824, 824, 824,\n",
      "       824, 824, 824, 824, 824, 824, 824, 824, 824, 824]), array([250, 251, 252, 253, 254, 255, 256, 257, 258, 259, 260, 261, 262,\n",
      "       263, 264, 265, 266, 267, 268, 269, 270, 271, 272, 273, 274, 275,\n",
      "       276, 277, 278, 279, 280, 281, 282, 283, 284, 285, 286, 287, 288,\n",
      "       289, 290, 291, 292, 293, 294, 295, 296, 297, 298, 299, 300, 301,\n",
      "       302, 303, 304, 305, 306, 307, 308, 309, 310, 311, 312, 313, 314,\n",
      "       315, 316, 317, 318, 319, 320, 321, 322, 323, 324, 325, 326, 327,\n",
      "       328, 329, 330, 331, 332, 333, 334, 335, 336, 337, 338, 339, 340,\n",
      "       341, 342, 343, 344, 345, 346, 347, 348, 349, 350]))\n",
      "(array([], dtype=int64), array([], dtype=int64))\n"
     ]
    }
   ],
   "source": [
    "# filter out nans\n",
    "ca_elnino_smoothed_pdf_values = pd.DataFrame(smoothed_pdf.unpackedValues.tolist(), index=smoothed_pdf.index)\n",
    "ca_elnino_smoothed_pdf_values.head()\n",
    "\n",
    "result_clean = smoothed_pdf_values.copy()\n",
    "\n",
    "remove = result_clean[result_clean.isnull().any(axis=1)]\n",
    "# remove.head()\n",
    "\n",
    "print(np.where(result_clean.values >= np.finfo(np.float64).max))\n",
    "\n",
    "result_clean = result_clean.drop(result_clean.index[824])\n",
    "\n",
    "print(np.where(result_clean.values >= np.finfo(np.float64).max))"
   ]
  },
  {
   "cell_type": "code",
   "execution_count": 365,
   "metadata": {},
   "outputs": [
    {
     "data": {
      "image/png": "[encoded data removed]",
      "text/plain": [
       "<matplotlib.figure.Figure at 0x7fdca5de8898>"
      ]
     },
     "metadata": {},
     "output_type": "display_data"
    }
   ],
   "source": [
    "pca = PCA(n_components=365)\n",
    "pca.fit(result_clean)\n",
    "\n",
    "y = [0]\n",
    "\n",
    "for v in pca.explained_variance_ratio_:\n",
    "    y.append(v+y[-1])\n",
    "\n",
    "import matplotlib.pyplot as plt\n",
    "plt.plot(y)\n",
    "plt.xlim(left=0, right=5)\n",
    "plt.title('Principal Components vs Cumulative Percentage of Variance Explained in CA during El Nino Years (1970-2000)')\n",
    "plt.xlabel('Principal Components')\n",
    "plt.ylabel('Cumulative Percentage of Variance Explained')\n",
    "plt.show()"
   ]
  },
  {
   "cell_type": "code",
   "execution_count": null,
   "metadata": {
    "collapsed": true
   },
   "outputs": [],
   "source": []
  }
 ],
 "metadata": {
  "kernelspec": {
   "display_name": "Python 3",
   "language": "python",
   "name": "python3"
  },
  "language_info": {
   "codemirror_mode": {
    "name": "ipython",
    "version": 3
   },
   "file_extension": ".py",
   "mimetype": "text/x-python",
   "name": "python",
   "nbconvert_exporter": "python",
   "pygments_lexer": "ipython3",
   "version": "3.4.5"
  }
 },
 "nbformat": 4,
 "nbformat_minor": 2
}
