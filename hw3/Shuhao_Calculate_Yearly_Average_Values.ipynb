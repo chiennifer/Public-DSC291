{
 "cells": [
  {
   "cell_type": "code",
   "execution_count": 58,
   "metadata": {},
   "outputs": [],
   "source": [
    "import os\n",
    "os.getcwd()\n",
    "os.chdir(\"/mnt/workspace/Public-DSC291/notebooks/Section2-PCA/Full_Dataset_analysis\")\n",
    "os.getcwd()\n",
    "\n",
    "from Startup import *"
   ]
  },
  {
   "cell_type": "code",
   "execution_count": 59,
   "metadata": {},
   "outputs": [
    {
     "name": "stdout",
     "output_type": "stream",
     "text": [
      "+-----------+---------+-----+--------+---------+-----------+-----------+----+--------------------+\n",
      "|         ID|elevation|state|latitude|longitude|    Station|Measurement|Year|              Values|\n",
      "+-----------+---------+-----+--------+---------+-----------+-----------+----+--------------------+\n",
      "|USC00042239|   1414.3|   CA| 32.9897|-116.5872|USC00042239|       PRCP|1899|[00 7E 00 7E 0C 5...|\n",
      "|USC00042239|   1414.3|   CA| 32.9897|-116.5872|USC00042239|       PRCP|1900|[00 00 00 00 84 5...|\n",
      "|USC00042239|   1414.3|   CA| 32.9897|-116.5872|USC00042239|       PRCP|1901|[00 49 00 00 00 0...|\n",
      "|USC00042239|   1414.3|   CA| 32.9897|-116.5872|USC00042239|       PRCP|1902|[00 7E 00 7E 00 7...|\n",
      "|USC00042239|   1414.3|   CA| 32.9897|-116.5872|USC00042239|       PRCP|1903|[00 00 00 00 00 0...|\n",
      "|USC00042239|   1414.3|   CA| 32.9897|-116.5872|USC00042239|       PRCP|1904|[00 00 00 00 00 0...|\n",
      "|USC00042239|   1414.3|   CA| 32.9897|-116.5872|USC00042239|       PRCP|1905|[7C 5C 00 00 00 0...|\n",
      "|USC00042239|   1414.3|   CA| 32.9897|-116.5872|USC00042239|       PRCP|1906|[10 55 00 00 00 0...|\n",
      "|USC00042239|   1414.3|   CA| 32.9897|-116.5872|USC00042239|       PRCP|1907|[00 00 00 00 00 0...|\n",
      "|USC00042239|   1414.3|   CA| 32.9897|-116.5872|USC00042239|       PRCP|1908|[00 7E 00 7E 00 7...|\n",
      "+-----------+---------+-----+--------+---------+-----------+-----------+----+--------------------+\n",
      "only showing top 10 rows\n",
      "\n",
      "CPU times: user 4 ms, sys: 0 ns, total: 4 ms\n",
      "Wall time: 9.31 s\n"
     ]
    }
   ],
   "source": [
    "%%time\n",
    "query=\"\"\"\n",
    "SELECT stations.ID, stations.elevation, stations.state, stations.latitude, stations.longitude,\n",
    "        weather.Station, weather.Measurement, weather.Year, weather.Values\n",
    "FROM stations\n",
    "LEFT JOIN weather\n",
    "ON stations.ID = weather.Station\n",
    "WHERE stations.state <> '' AND weather.Measurement='PRCP'\n",
    "\"\"\"\n",
    "\n",
    "US_df = sqlContext.sql(query)\n",
    "US_df.show(10)"
   ]
  },
  {
   "cell_type": "code",
   "execution_count": 61,
   "metadata": {},
   "outputs": [
    {
     "name": "stdout",
     "output_type": "stream",
     "text": [
      "+-----------+---------+-----+--------+---------+-----------+-----------+----+--------------------+----------+\n",
      "|         ID|elevation|state|latitude|longitude|    Station|Measurement|Year|              Values|Values_avg|\n",
      "+-----------+---------+-----+--------+---------+-----------+-----------+----+--------------------+----------+\n",
      "|USC00042239|   1414.3|   CA| 32.9897|-116.5872|USC00042239|       PRCP|1899|[00 7E 00 7E 0C 5...|   128.125|\n",
      "|USC00042239|   1414.3|   CA| 32.9897|-116.5872|USC00042239|       PRCP|1900|[00 00 00 00 84 5...| 21.140625|\n",
      "|USC00042239|   1414.3|   CA| 32.9897|-116.5872|USC00042239|       PRCP|1901|[00 49 00 00 00 0...|   80.4375|\n",
      "|USC00042239|   1414.3|   CA| 32.9897|-116.5872|USC00042239|       PRCP|1902|[00 7E 00 7E 00 7...| 25.421875|\n",
      "|USC00042239|   1414.3|   CA| 32.9897|-116.5872|USC00042239|       PRCP|1903|[00 00 00 00 00 0...| 23.890625|\n",
      "|USC00042239|   1414.3|   CA| 32.9897|-116.5872|USC00042239|       PRCP|1904|[00 00 00 00 00 0...| 27.984375|\n",
      "|USC00042239|   1414.3|   CA| 32.9897|-116.5872|USC00042239|       PRCP|1905|[7C 5C 00 00 00 0...|   99.5625|\n",
      "|USC00042239|   1414.3|   CA| 32.9897|-116.5872|USC00042239|       PRCP|1906|[10 55 00 00 00 0...|  47.40625|\n",
      "|USC00042239|   1414.3|   CA| 32.9897|-116.5872|USC00042239|       PRCP|1907|[00 00 00 00 00 0...|   38.3125|\n",
      "|USC00042239|   1414.3|   CA| 32.9897|-116.5872|USC00042239|       PRCP|1908|[00 7E 00 7E 00 7...|    17.375|\n",
      "+-----------+---------+-----+--------+---------+-----------+-----------+----+--------------------+----------+\n",
      "only showing top 10 rows\n",
      "\n",
      "CPU times: user 8 ms, sys: 0 ns, total: 8 ms\n",
      "Wall time: 1.92 s\n"
     ]
    }
   ],
   "source": [
    "%%time\n",
    "import pyspark.sql.functions as F\n",
    "import pyspark.sql.types as T\n",
    "\n",
    "def getMean(row):\n",
    "    new_row = np.nanmean(unpackArray(row,np.float16))\n",
    "    return float(new_row)\n",
    "\n",
    "my_udf = F.UserDefinedFunction(getMean, T.DoubleType())\n",
    "US_df = US_df.withColumn('Values_avg', my_udf('Values'))\n",
    "US_df.show(10)"
   ]
  },
  {
   "cell_type": "code",
   "execution_count": null,
   "metadata": {
    "collapsed": true
   },
   "outputs": [],
   "source": []
  }
 ],
 "metadata": {
  "kernelspec": {
   "display_name": "Python 3",
   "language": "python",
   "name": "python3"
  },
  "language_info": {
   "codemirror_mode": {
    "name": "ipython",
    "version": 3
   },
   "file_extension": ".py",
   "mimetype": "text/x-python",
   "name": "python",
   "nbconvert_exporter": "python",
   "pygments_lexer": "ipython3",
   "version": "3.4.5"
  }
 },
 "nbformat": 4,
 "nbformat_minor": 2
}
