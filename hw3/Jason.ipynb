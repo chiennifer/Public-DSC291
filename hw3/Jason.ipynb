{
 "cells": [
  {
   "cell_type": "code",
   "execution_count": 4,
   "metadata": {},
   "outputs": [],
   "source": [
    "# #once per cluster\n",
    "# s3helper.open_bucket('mas-dse-open',region='us-west-2')\n",
    "\n",
    "# info_files=s3helper.ls('Weather/Info')\n",
    "# Without_path=[x[13:] for x in info_files]\n",
    "\n",
    "\n",
    "# !mkdir /mnt/workspace/WeatherInfo\n",
    "\n",
    "# for i in range(len(info_files)-1):   # Last entry is the directory name\n",
    "#     _from=info_files[i]\n",
    "#     _to='/mnt/workspace/WeatherInfo/'+Without_path[i]\n",
    "#     print('From %s to %s'%(_from,_to))\n",
    "#     s3helper.s3_to_local(_from,_to)\n",
    "    \n",
    "# s3helper.open_bucket('dse-weather-west-2', region=\"us-west-2\")\n",
    "# s3helper.ls('')\n",
    "# s3helper.s3_to_hdfs(\"weather.parquet\", \"/tmp/weather.parquet\")\n",
    "# s3helper.s3_to_hdfs(\"info/stations.parquet\", \"/tmp/stations.parquet\")\n",
    "# print(s3helper.ls_hdfs(\"/tmp\"))"
   ]
  },
  {
   "cell_type": "code",
   "execution_count": 1,
   "metadata": {},
   "outputs": [
    {
     "name": "stdout",
     "output_type": "stream",
     "text": [
      "finished standard imports\n",
      "dict_items([('spark.executor.memory', '3g'), ('spark.default.parallelism', '10'), ('spark.executor.cores', '1'), ('spark.logConf', 'True'), ('spark.cores.max', '4'), ('spark.app.name', 'Weather_PCA')])\n",
      "started SparkContext and SQLContext in 12.90 seconds\n",
      "loaded weather.parquet in 8.15 seconds\n",
      "loaded stations.parquet in 0.20 seconds\n",
      "registered dataframes as tables in 0.20 seconds\n"
     ]
    }
   ],
   "source": [
    "import os\n",
    "import matplotlib.pyplot as plt\n",
    "import pyspark.sql.functions as F\n",
    "import pyspark.sql.types as T\n",
    "\n",
    "os.getcwd()\n",
    "os.chdir(\"/mnt/workspace/Public-DSC291/notebooks/Section2-PCA/Full_Dataset_analysis\")\n",
    "os.getcwd()\n",
    "\n",
    "from Startup import *"
   ]
  },
  {
   "cell_type": "markdown",
   "metadata": {},
   "source": [
    "# Load Data\n",
    "\n",
    "Here we load the data for the US.  There are a few stations in Canada and Mexico included but shouldn't be a big deal"
   ]
  },
  {
   "cell_type": "code",
   "execution_count": 2,
   "metadata": {},
   "outputs": [
    {
     "name": "stdout",
     "output_type": "stream",
     "text": [
      "\n",
      "SELECT stations.ID, stations.elevation, stations.state, stations.latitude, stations.longitude,\n",
      "        weather.Station, weather.Measurement, weather.Year, weather.Values\n",
      "FROM stations\n",
      "LEFT JOIN weather\n",
      "ON stations.ID = weather.Station\n",
      "WHERE stations.state <> '' AND weather.Measurement='PRCP'\n",
      "\n",
      "CPU times: user 0 ns, sys: 0 ns, total: 0 ns\n",
      "Wall time: 101 ms\n"
     ]
    }
   ],
   "source": [
    "%%time\n",
    "query=\"\"\"\n",
    "SELECT stations.ID, stations.elevation, stations.state, stations.latitude, stations.longitude,\n",
    "        weather.Station, weather.Measurement, weather.Year, weather.Values\n",
    "FROM stations\n",
    "LEFT JOIN weather\n",
    "ON stations.ID = weather.Station\n",
    "WHERE stations.state <> '' AND weather.Measurement='PRCP'\n",
    "\"\"\"\n",
    "\n",
    "print(query)\n",
    "US_weather_df=sqlContext.sql(query)\n",
    "sqlContext.registerDataFrameAsTable(US_weather_df,'US_weather_df')"
   ]
  },
  {
   "cell_type": "code",
   "execution_count": 3,
   "metadata": {},
   "outputs": [
    {
     "name": "stdout",
     "output_type": "stream",
     "text": [
      "US has 959259 rows before filter\n"
     ]
    },
    {
     "data": {
      "text/plain": [
       "['ID',\n",
       " 'elevation',\n",
       " 'state',\n",
       " 'latitude',\n",
       " 'longitude',\n",
       " 'Station',\n",
       " 'Measurement',\n",
       " 'Year',\n",
       " 'Values']"
      ]
     },
     "execution_count": 3,
     "metadata": {},
     "output_type": "execute_result"
    }
   ],
   "source": [
    "print('US has %d rows before filter'%(US_weather_df.count()))\n",
    "US_weather_df.columns"
   ]
  },
  {
   "cell_type": "code",
   "execution_count": 4,
   "metadata": {},
   "outputs": [
    {
     "data": {
      "image/png": "[encoded data removed]",
      "text/plain": [
       "<matplotlib.figure.Figure at 0x7fcbd3fcd4a8>"
      ]
     },
     "metadata": {},
     "output_type": "display_data"
    }
   ],
   "source": [
    "cnt = US_weather_df.groupBy('Year').count()\n",
    "cnt = cnt.toPandas()\n",
    "cnt = cnt.sort_values('Year')\n",
    "ax = cnt.plot.bar('Year', 'count')\n",
    "ticks = ax.xaxis.get_ticklocs()\n",
    "ticklabels = [l.get_text() for l in ax.xaxis.get_ticklabels()]\n",
    "ax.xaxis.set_ticks(ticks[::10])\n",
    "ax.xaxis.set_ticklabels(ticklabels[::10])\n",
    "plt.title('Number of Measurements by year')\n",
    "plt.show()"
   ]
  },
  {
   "cell_type": "code",
   "execution_count": 5,
   "metadata": {},
   "outputs": [
    {
     "name": "stdout",
     "output_type": "stream",
     "text": [
      "US has 729715 rows after filter\n"
     ]
    }
   ],
   "source": [
    "filter_year = 1945\n",
    "#Filter for certain dates\n",
    "US_weather_df = US_weather_df.filter(US_weather_df.Year > filter_year)\n",
    "print('US has %d rows after filter'%(US_weather_df.count()))"
   ]
  },
  {
   "cell_type": "code",
   "execution_count": 6,
   "metadata": {},
   "outputs": [],
   "source": [
    "#Filter for only stations with data in the full range\n",
    "#May or may not be necessary\n",
    "cnt_bystation = US_weather_df.groupBy('Station').count()\n",
    "US_weather_df = US_weather_df.join(cnt_bystation, \"Station\")"
   ]
  },
  {
   "cell_type": "code",
   "execution_count": 7,
   "metadata": {},
   "outputs": [],
   "source": [
    "mx = cnt_bystation.agg({\"count\": \"max\"}).collect()[0][\"max(count)\"]"
   ]
  },
  {
   "cell_type": "code",
   "execution_count": 8,
   "metadata": {},
   "outputs": [
    {
     "name": "stdout",
     "output_type": "stream",
     "text": [
      "US has 118796 rows after filter\n"
     ]
    }
   ],
   "source": [
    "US_weather_df = US_weather_df.filter(US_weather_df['count'] == mx)\n",
    "print('US has %d rows after filter'%(US_weather_df.count()))"
   ]
  },
  {
   "cell_type": "code",
   "execution_count": 9,
   "metadata": {},
   "outputs": [
    {
     "name": "stdout",
     "output_type": "stream",
     "text": [
      "+----+-----+\n",
      "|Year|count|\n",
      "+----+-----+\n",
      "|1959| 1747|\n",
      "|1990| 1747|\n",
      "|1975| 1747|\n",
      "|1977| 1747|\n",
      "|2003| 1747|\n",
      "|2007| 1747|\n",
      "|1974| 1747|\n",
      "|1955| 1747|\n",
      "|2006| 1747|\n",
      "|1978| 1747|\n",
      "|1961| 1747|\n",
      "|2013| 1747|\n",
      "|1952| 1747|\n",
      "|1956| 1747|\n",
      "|1988| 1747|\n",
      "|1997| 1747|\n",
      "|1994| 1747|\n",
      "|1968| 1747|\n",
      "|1951| 1747|\n",
      "|1973| 1747|\n",
      "+----+-----+\n",
      "only showing top 20 rows\n",
      "\n"
     ]
    }
   ],
   "source": [
    "US_weather_df.groupby('Year').count().show()"
   ]
  },
  {
   "cell_type": "markdown",
   "metadata": {},
   "source": [
    "# Change from Jan-Jan to Jun-Jun\n",
    "\n",
    "PRCP data has 365 x 2 = 730 measurements per year so the start of June is at 151 x 2 = 302"
   ]
  },
  {
   "cell_type": "code",
   "execution_count": 10,
   "metadata": {},
   "outputs": [],
   "source": [
    "def f1(row):\n",
    "    return row['Values'][:362]\n",
    "\n",
    "def f2(row):\n",
    "    return row['Values'][362:]\n",
    "\n",
    "def Jan2Jun(df):\n",
    "    df_first = df.copy()\n",
    "    \n",
    "    # df_first is same as df except for its ['Values'] column only contains the \n",
    "    # the first half year data.\n",
    "    df_first['V_first'] = df_first.apply(f1, axis=1)\n",
    "    \n",
    "    # subtract df_first 'Year' column by 1, because we want to join originally 1998 Jan-Jun to 1997 July-Dec,\n",
    "    # as 1997 data, so minus 1998 by 1 to match 1997.\n",
    "    df_first['Year'] = df_first.apply(lambda x: x['Year']-1, axis=1)\n",
    "    \n",
    "    # df_second is same as df except for its ['Values'] column only contains the \n",
    "    # the second half year data.\n",
    "    df_second = df.copy()\n",
    "    df_second['V_second'] = df_second.apply(f2, axis=1)\n",
    "    \n",
    "    # drop the inrrelevant columns of df_second so that join can be easier later. I only kept 'ID' and 'Year'\n",
    "    # that are used to be joined on later.\n",
    "    df_second = df_second.drop(['elevation', 'state', 'Station',\n",
    "                                'Measurement', 'Values', 'latitude',\n",
    "                                'longitude', 'count'], axis=1)\n",
    "    \n",
    "    # join df_first and df_second on ID, Year.\n",
    "    result = pd.merge(df_first, df_second, on=['ID', 'Year'], how='inner')\n",
    "    \n",
    "    # generate the thansformed data, e.g. 1997 July - 1998 June from 'V_second' (1997 July - 1997 Dec) and \n",
    "    # 'V_first' (1998 Jan - 1998 June)\n",
    "    result['Values'] = result.apply(lambda x: x['V_second'] + x['V_first'], axis=1)\n",
    "    \n",
    "    # drop V_second and V_first as they are useless now.\n",
    "    return result.drop(['V_second', 'V_first'], axis=1)\n",
    "\n",
    "US_weather_pdf = US_weather_df.toPandas()\n",
    "US_weather_pdf = Jan2Jun(US_weather_pdf)"
   ]
  },
  {
   "cell_type": "code",
   "execution_count": 13,
   "metadata": {},
   "outputs": [
    {
     "data": {
      "text/html": [
       "<div>\n",
       "<table border=\"1\" class=\"dataframe\">\n",
       "  <thead>\n",
       "    <tr style=\"text-align: right;\">\n",
       "      <th></th>\n",
       "      <th>Station</th>\n",
       "      <th>ID</th>\n",
       "      <th>elevation</th>\n",
       "      <th>state</th>\n",
       "      <th>latitude</th>\n",
       "      <th>longitude</th>\n",
       "      <th>Measurement</th>\n",
       "      <th>Year</th>\n",
       "      <th>Values</th>\n",
       "      <th>count</th>\n",
       "    </tr>\n",
       "  </thead>\n",
       "  <tbody>\n",
       "    <tr>\n",
       "      <th>0</th>\n",
       "      <td>USC00033466</td>\n",
       "      <td>USC00033466</td>\n",
       "      <td>190.8</td>\n",
       "      <td>AR</td>\n",
       "      <td>34.5128</td>\n",
       "      <td>-93.0486</td>\n",
       "      <td>PRCP</td>\n",
       "      <td>1946</td>\n",
       "      <td>[0, 69, 0, 0, 0, 0, 0, 0, 0, 0, 0, 0, 0, 0, 12...</td>\n",
       "      <td>68</td>\n",
       "    </tr>\n",
       "    <tr>\n",
       "      <th>1</th>\n",
       "      <td>USC00033466</td>\n",
       "      <td>USC00033466</td>\n",
       "      <td>190.8</td>\n",
       "      <td>AR</td>\n",
       "      <td>34.5128</td>\n",
       "      <td>-93.0486</td>\n",
       "      <td>PRCP</td>\n",
       "      <td>1947</td>\n",
       "      <td>[32, 84, 0, 0, 0, 0, 0, 0, 0, 0, 0, 69, 0, 0, ...</td>\n",
       "      <td>68</td>\n",
       "    </tr>\n",
       "    <tr>\n",
       "      <th>2</th>\n",
       "      <td>USC00033466</td>\n",
       "      <td>USC00033466</td>\n",
       "      <td>190.8</td>\n",
       "      <td>AR</td>\n",
       "      <td>34.5128</td>\n",
       "      <td>-93.0486</td>\n",
       "      <td>PRCP</td>\n",
       "      <td>1948</td>\n",
       "      <td>[0, 0, 0, 0, 0, 0, 0, 0, 96, 85, 0, 0, 176, 92...</td>\n",
       "      <td>68</td>\n",
       "    </tr>\n",
       "    <tr>\n",
       "      <th>3</th>\n",
       "      <td>USC00033466</td>\n",
       "      <td>USC00033466</td>\n",
       "      <td>190.8</td>\n",
       "      <td>AR</td>\n",
       "      <td>34.5128</td>\n",
       "      <td>-93.0486</td>\n",
       "      <td>PRCP</td>\n",
       "      <td>1949</td>\n",
       "      <td>[0, 0, 0, 0, 128, 75, 32, 88, 104, 89, 0, 0, 9...</td>\n",
       "      <td>68</td>\n",
       "    </tr>\n",
       "    <tr>\n",
       "      <th>4</th>\n",
       "      <td>USC00033466</td>\n",
       "      <td>USC00033466</td>\n",
       "      <td>190.8</td>\n",
       "      <td>AR</td>\n",
       "      <td>34.5128</td>\n",
       "      <td>-93.0486</td>\n",
       "      <td>PRCP</td>\n",
       "      <td>1950</td>\n",
       "      <td>[0, 0, 0, 0, 0, 0, 32, 87, 0, 0, 0, 0, 0, 0, 0...</td>\n",
       "      <td>68</td>\n",
       "    </tr>\n",
       "  </tbody>\n",
       "</table>\n",
       "</div>"
      ],
      "text/plain": [
       "       Station           ID  elevation state  latitude  longitude Measurement  \\\n",
       "0  USC00033466  USC00033466      190.8    AR   34.5128   -93.0486        PRCP   \n",
       "1  USC00033466  USC00033466      190.8    AR   34.5128   -93.0486        PRCP   \n",
       "2  USC00033466  USC00033466      190.8    AR   34.5128   -93.0486        PRCP   \n",
       "3  USC00033466  USC00033466      190.8    AR   34.5128   -93.0486        PRCP   \n",
       "4  USC00033466  USC00033466      190.8    AR   34.5128   -93.0486        PRCP   \n",
       "\n",
       "   Year                                             Values  count  \n",
       "0  1946  [0, 69, 0, 0, 0, 0, 0, 0, 0, 0, 0, 0, 0, 0, 12...     68  \n",
       "1  1947  [32, 84, 0, 0, 0, 0, 0, 0, 0, 0, 0, 69, 0, 0, ...     68  \n",
       "2  1948  [0, 0, 0, 0, 0, 0, 0, 0, 96, 85, 0, 0, 176, 92...     68  \n",
       "3  1949  [0, 0, 0, 0, 128, 75, 32, 88, 104, 89, 0, 0, 9...     68  \n",
       "4  1950  [0, 0, 0, 0, 0, 0, 32, 87, 0, 0, 0, 0, 0, 0, 0...     68  "
      ]
     },
     "execution_count": 13,
     "metadata": {},
     "output_type": "execute_result"
    }
   ],
   "source": [
    "US_weather_pdf.head()"
   ]
  },
  {
   "cell_type": "code",
   "execution_count": 12,
   "metadata": {},
   "outputs": [],
   "source": [
    "US_weather_df = sqlContext.createDataFrame(US_weather_pdf)"
   ]
  },
  {
   "cell_type": "markdown",
   "metadata": {},
   "source": [
    "# Do calculations\n",
    "\n",
    "Here we calculate the anomaly per station per year.  Anom_mean refers to the anomaly over the average rainfall for a given year while Anom_sum refers to the anomaly of the total rainfal. "
   ]
  },
  {
   "cell_type": "code",
   "execution_count": 14,
   "metadata": {
    "collapsed": true
   },
   "outputs": [],
   "source": [
    "def get_sum(row):\n",
    "    row = unpackArray(row,np.float16)\n",
    "    row[~np.isfinite(row)] = 0\n",
    "    row = float(np.nansum(row))\n",
    "    if ~np.isfinite(row): return 0\n",
    "    return row\n",
    "\n",
    "def get_mean(row):\n",
    "    row = unpackArray(row,np.float16)\n",
    "    row[~np.isfinite(row)] = 0\n",
    "    row = float(np.nanmean(row))\n",
    "    if ~np.isfinite(row): return 0\n",
    "    return row\n",
    "\n",
    "my_sum = F.UserDefinedFunction(get_sum, T.DoubleType())\n",
    "my_mean = F.UserDefinedFunction(get_mean, T.DoubleType())\n",
    "\n",
    "US_weather_df = US_weather_df.withColumn('Values_sum', my_sum('Values'))\n",
    "US_weather_df = US_weather_df.withColumn('Values_mean', my_mean('Values'))\n",
    "\n",
    "US_weather_df = US_weather_df.filter(US_weather_df.Values_sum != 0)\n",
    "US_weather_df = US_weather_df.filter(US_weather_df.Values_mean != 0)"
   ]
  },
  {
   "cell_type": "code",
   "execution_count": 15,
   "metadata": {
    "collapsed": true
   },
   "outputs": [],
   "source": [
    "avg_sum = US_weather_df.groupby('Station').agg({'Values_sum': 'mean'})\n",
    "avg_mean = US_weather_df.groupby('Station').agg({'Values_mean': 'mean'})\n",
    "avg = avg_sum.join(avg_mean, \"Station\")"
   ]
  },
  {
   "cell_type": "code",
   "execution_count": 16,
   "metadata": {
    "collapsed": true
   },
   "outputs": [],
   "source": [
    "a = US_weather_df.alias('a')\n",
    "b = avg.alias('b')\n",
    "US_weather_df = a.join(b, \"Station\")"
   ]
  },
  {
   "cell_type": "code",
   "execution_count": 17,
   "metadata": {
    "collapsed": true
   },
   "outputs": [],
   "source": [
    "US_weather_df = US_weather_df.drop('Values', 'ID')"
   ]
  },
  {
   "cell_type": "code",
   "execution_count": 18,
   "metadata": {
    "collapsed": true
   },
   "outputs": [],
   "source": [
    "US_weather_df = US_weather_df.withColumn('Anom_sum', F.col('Values_sum')-F.col('avg(Values_sum)'))\n",
    "US_weather_df = US_weather_df.withColumn('Anom_mean', F.col('Values_mean')-F.col('avg(Values_mean)'))"
   ]
  },
  {
   "cell_type": "markdown",
   "metadata": {},
   "source": [
    "# Anomaly by Station"
   ]
  },
  {
   "cell_type": "code",
   "execution_count": 35,
   "metadata": {},
   "outputs": [],
   "source": [
    "# data gives Anom_mean and Anom_sum per station per year.  Lat/Long given\n",
    "US_weather_df = US_weather_df.drop('avg(Values_sum)', 'avg(Values_mean)',\n",
    "                                    'count', 'Measurement', 'Values_sum',\n",
    "                                    'Values_mean')"
   ]
  },
  {
   "cell_type": "code",
   "execution_count": 36,
   "metadata": {},
   "outputs": [
    {
     "name": "stdout",
     "output_type": "stream",
     "text": [
      "+-----------+---------+-----+--------+---------+----+-------------------+-------------------+\n",
      "|    Station|elevation|state|latitude|longitude|Year|           Anom_sum|          Anom_mean|\n",
      "+-----------+---------+-----+--------+---------+----+-------------------+-------------------+\n",
      "|USC00033466|    190.8|   AR| 34.5128| -93.0486|1946| -1928.119402985074| -5.278218283582092|\n",
      "|USC00033466|    190.8|   AR| 34.5128| -93.0486|1947| -1024.119402985074| -2.809468283582092|\n",
      "|USC00033466|    190.8|   AR| 34.5128| -93.0486|1948|  1039.880597014926|  2.846781716417908|\n",
      "|USC00033466|    190.8|   AR| 34.5128| -93.0486|1949|  2759.880597014926|  7.565531716417908|\n",
      "|USC00033466|    190.8|   AR| 34.5128| -93.0486|1950|   711.880597014926| 1.9405317164179081|\n",
      "|USC00033466|    190.8|   AR| 34.5128| -93.0486|1951|   687.880597014926| 1.8780317164179081|\n",
      "|USC00033466|    190.8|   AR| 34.5128| -93.0486|1952|  2407.880597014926|  6.596781716417908|\n",
      "|USC00033466|    190.8|   AR| 34.5128| -93.0486|1953| -2768.119402985074| -7.590718283582092|\n",
      "|USC00033466|    190.8|   AR| 34.5128| -93.0486|1954| -2880.119402985074| -7.887593283582092|\n",
      "|USC00033466|    190.8|   AR| 34.5128| -93.0486|1955|  -360.119402985074|-0.9969682835820919|\n",
      "|USC00033466|    190.8|   AR| 34.5128| -93.0486|1956|  2631.880597014926|  7.221781716417908|\n",
      "|USC00033466|    190.8|   AR| 34.5128| -93.0486|1957|   999.880597014926|  2.753031716417908|\n",
      "|USC00033466|    190.8|   AR| 34.5128| -93.0486|1958|  -944.119402985074| -2.590718283582092|\n",
      "|USC00033466|    190.8|   AR| 34.5128| -93.0486|1959|-224.11940298507398|-0.6219682835820919|\n",
      "|USC00033466|    190.8|   AR| 34.5128| -93.0486|1960|  -880.119402985074| -2.403218283582092|\n",
      "|USC00033466|    190.8|   AR| 34.5128| -93.0486|1961|   287.880597014926| 0.7842817164179081|\n",
      "|USC00033466|    190.8|   AR| 34.5128| -93.0486|1962| -4352.119402985074|-11.918843283582092|\n",
      "|USC00033466|    190.8|   AR| 34.5128| -93.0486|1963|   367.880597014926| 1.0030317164179081|\n",
      "|USC00033466|    190.8|   AR| 34.5128| -93.0486|1964| -2184.119402985074| -5.996968283582092|\n",
      "|USC00033466|    190.8|   AR| 34.5128| -93.0486|1965| -2720.119402985074| -7.450093283582092|\n",
      "+-----------+---------+-----+--------+---------+----+-------------------+-------------------+\n",
      "only showing top 20 rows\n",
      "\n"
     ]
    }
   ],
   "source": [
    "US_weather_df.show()"
   ]
  },
  {
   "cell_type": "markdown",
   "metadata": {},
   "source": [
    "# Calculate average anomaly per state"
   ]
  },
  {
   "cell_type": "code",
   "execution_count": 21,
   "metadata": {
    "collapsed": true
   },
   "outputs": [],
   "source": [
    "State_avg = US_weather_df.groupby('state', 'Year').agg({'Anom_mean': 'mean', 'Anom_sum': 'mean'})"
   ]
  },
  {
   "cell_type": "code",
   "execution_count": 22,
   "metadata": {},
   "outputs": [
    {
     "name": "stdout",
     "output_type": "stream",
     "text": [
      "+-----+----+-------------------+-------------------+\n",
      "|state|Year|      avg(Anom_sum)|     avg(Anom_mean)|\n",
      "+-----+----+-------------------+-------------------+\n",
      "|   MO|1975|-1443.4743283582095|  -3.95372658800723|\n",
      "|   SD|1971|  760.4416553595657| 2.0835574601689713|\n",
      "|   SD|2008|  428.2598371777476| 1.1734012101689704|\n",
      "|   ID|2003| -670.2912397261343|-1.8370291634446607|\n",
      "|   TX|1974| 2162.2354626865676|  5.923578351142018|\n",
      "|   TX|1999|-1207.8746311731388| -3.309290835432102|\n",
      "|   VA|1976| -1240.877931769723|-3.3995785581023457|\n",
      "|   WA|1951|-1493.8361779618656|-4.0928332158919805|\n",
      "|   WA|1972|-1396.0730200671287|-3.8232505678656663|\n",
      "|   ME|1999| 1420.3482587064677| 3.8953863495024876|\n",
      "|   IN|1964| -1770.859701492537| -4.853591174984453|\n",
      "|   CO|1980| -724.5688573449769|-1.9846790206086855|\n",
      "|   MD|1988|  668.1572139303483| 1.8317552860696522|\n",
      "|   KY|1996| 3257.9656716417912|  8.924821085004663|\n",
      "|   QC|2008|-238.25373134328402|-0.6476212686567155|\n",
      "|   NT|1974|  27.19402985074612|0.07346082089552297|\n",
      "|   NT|2010| 229.19402985074612|  0.628148320895523|\n",
      "|   ND|2001|-249.68822553897178|-0.6836018475331674|\n",
      "|   NM|1974|  770.8915325967564|  2.112774266208906|\n",
      "|   NC|2010|-1026.2342634652819|  -2.81348289969987|\n",
      "+-----+----+-------------------+-------------------+\n",
      "only showing top 20 rows\n",
      "\n",
      "CPU times: user 28 ms, sys: 4 ms, total: 32 ms\n",
      "Wall time: 1min 17s\n"
     ]
    }
   ],
   "source": [
    "%%time\n",
    "State_avg.show()"
   ]
  },
  {
   "cell_type": "code",
   "execution_count": 23,
   "metadata": {
    "collapsed": true
   },
   "outputs": [],
   "source": [
    "pdf = State_avg.filter((F.col(\"state\") == \"CA\")).toPandas()"
   ]
  },
  {
   "cell_type": "code",
   "execution_count": 39,
   "metadata": {},
   "outputs": [
    {
     "data": {
      "image/png": "[encoded data removed]",
      "text/plain": [
       "<matplotlib.figure.Figure at 0x7fcbc7a9d5c0>"
      ]
     },
     "metadata": {},
     "output_type": "display_data"
    }
   ],
   "source": [
    "major_elnino = [1973, 1977, 1982, 1997]\n",
    "pdf.plot.scatter('Year', 'avg(Anom_mean)')\n",
    "for x in major_elnino: plt.axvline(x)\n",
    "plt.axhline(0, linestyle = '--', color = 'r')\n",
    "plt.show()"
   ]
  },
  {
   "cell_type": "code",
   "execution_count": 40,
   "metadata": {},
   "outputs": [
    {
     "data": {
      "image/png": "[encoded data removed]",
      "text/plain": [
       "<matplotlib.figure.Figure at 0x7fcbc830e908>"
      ]
     },
     "metadata": {},
     "output_type": "display_data"
    }
   ],
   "source": [
    "major_elnino = [1973, 1977, 1982, 1997]\n",
    "pdf.plot.scatter('Year', 'avg(Anom_sum)')\n",
    "for x in major_elnino: plt.axvline(x)\n",
    "plt.axhline(0, linestyle = '--', color = 'r')\n",
    "plt.show()"
   ]
  },
  {
   "cell_type": "code",
   "execution_count": null,
   "metadata": {
    "collapsed": true
   },
   "outputs": [],
   "source": []
  }
 ],
 "metadata": {
  "kernelspec": {
   "display_name": "Python 3",
   "language": "python",
   "name": "python3"
  },
  "language_info": {
   "codemirror_mode": {
    "name": "ipython",
    "version": 3
   },
   "file_extension": ".py",
   "mimetype": "text/x-python",
   "name": "python",
   "nbconvert_exporter": "python",
   "pygments_lexer": "ipython3",
   "version": "3.4.5"
  }
 },
 "nbformat": 4,
 "nbformat_minor": 2
}
