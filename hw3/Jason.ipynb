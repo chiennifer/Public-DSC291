{
 "cells": [
  {
   "cell_type": "code",
   "execution_count": 1,
   "metadata": {
    "collapsed": true
   },
   "outputs": [],
   "source": [
    "# #once per cluster\n",
    "# s3helper.open_bucket('mas-dse-open',region='us-west-2')\n",
    "\n",
    "# info_files=s3helper.ls('Weather/Info')\n",
    "# Without_path=[x[13:] for x in info_files]\n",
    "\n",
    "\n",
    "# !mkdir /mnt/workspace/WeatherInfo\n",
    "\n",
    "# for i in range(len(info_files)-1):   # Last entry is the directory name\n",
    "#     _from=info_files[i]\n",
    "#     _to='/mnt/workspace/WeatherInfo/'+Without_path[i]\n",
    "#     print('From %s to %s'%(_from,_to))\n",
    "#     s3helper.s3_to_local(_from,_to)\n",
    "    \n",
    "# s3helper.open_bucket('dse-weather-west-2', region=\"us-west-2\")\n",
    "# s3helper.ls('')\n",
    "# s3helper.s3_to_hdfs(\"weather.parquet\", \"/tmp/weather.parquet\")\n",
    "# s3helper.s3_to_hdfs(\"info/stations.parquet\", \"/tmp/stations.parquet\")\n",
    "# print(s3helper.ls_hdfs(\"/tmp\"))"
   ]
  },
  {
   "cell_type": "code",
   "execution_count": 1,
   "metadata": {},
   "outputs": [
    {
     "name": "stdout",
     "output_type": "stream",
     "text": [
      "finished standard imports\n",
      "dict_items([('spark.executor.cores', '1'), ('spark.logConf', 'True'), ('spark.executor.memory', '3g'), ('spark.cores.max', '4'), ('spark.app.name', 'Weather_PCA'), ('spark.default.parallelism', '10')])\n",
      "started SparkContext and SQLContext in 13.09 seconds\n",
      "loaded weather.parquet in 8.10 seconds\n",
      "loaded stations.parquet in 0.20 seconds\n",
      "registered dataframes as tables in 0.20 seconds\n"
     ]
    }
   ],
   "source": [
    "import os\n",
    "os.getcwd()\n",
    "os.chdir(\"/mnt/workspace/Public-DSC291/notebooks/Section2-PCA/Full_Dataset_analysis\")\n",
    "os.getcwd()\n",
    "\n",
    "from Startup import *"
   ]
  },
  {
   "cell_type": "markdown",
   "metadata": {},
   "source": [
    "# Load Data\n",
    "\n",
    "Here we load the data for the US.  There are a few stations in Canada and Mexico included but shouldn't be a big deal"
   ]
  },
  {
   "cell_type": "code",
   "execution_count": 2,
   "metadata": {},
   "outputs": [
    {
     "name": "stdout",
     "output_type": "stream",
     "text": [
      "\n",
      "SELECT stations.ID, stations.elevation, stations.state, stations.latitude, stations.longitude,\n",
      "        weather.Station, weather.Measurement, weather.Year, weather.Values\n",
      "FROM stations\n",
      "LEFT JOIN weather\n",
      "ON stations.ID = weather.Station\n",
      "WHERE stations.state <> '' AND weather.Measurement='PRCP'\n",
      "\n",
      "CPU times: user 0 ns, sys: 0 ns, total: 0 ns\n",
      "Wall time: 109 ms\n"
     ]
    }
   ],
   "source": [
    "%%time\n",
    "query=\"\"\"\n",
    "SELECT stations.ID, stations.elevation, stations.state, stations.latitude, stations.longitude,\n",
    "        weather.Station, weather.Measurement, weather.Year, weather.Values\n",
    "FROM stations\n",
    "LEFT JOIN weather\n",
    "ON stations.ID = weather.Station\n",
    "WHERE stations.state <> '' AND weather.Measurement='PRCP'\n",
    "\"\"\"\n",
    "\n",
    "print(query)\n",
    "US_weather_df=sqlContext.sql(query)\n",
    "sqlContext.registerDataFrameAsTable(US_weather_df,'US_weather_df')"
   ]
  },
  {
   "cell_type": "code",
   "execution_count": 3,
   "metadata": {},
   "outputs": [
    {
     "name": "stdout",
     "output_type": "stream",
     "text": [
      "US has 959259 rows before filter\n",
      "US has 580625 rows after filter\n"
     ]
    }
   ],
   "source": [
    "print('US has %d rows before filter'%(US_weather_df.count()))\n",
    "US_weather_df.columns\n",
    "# US_weather_df.describe('latitude').show()\n",
    "US_weather_df = US_weather_df.filter(US_weather_df.Year > 1960)\n",
    "# US_weather_df.show(3,truncate= True)\n",
    "# US_weather_df.select('Year', 'Values').show(3)\n",
    "print('US has %d rows after filter'%(US_weather_df.count()))"
   ]
  },
  {
   "cell_type": "markdown",
   "metadata": {},
   "source": [
    "# Do calculations\n",
    "\n",
    "Here we calculate the anomaly per station per year.  Anom_mean refers to the anomaly over the average rainfall for a given year while Anom_sum refers to the anomaly of the total rainfal. "
   ]
  },
  {
   "cell_type": "code",
   "execution_count": 4,
   "metadata": {},
   "outputs": [],
   "source": [
    "import pyspark.sql.functions as F\n",
    "import pyspark.sql.types as T\n",
    "\n",
    "def get_sum(row):\n",
    "    row = unpackArray(row,np.float16)\n",
    "    row[~np.isfinite(row)] = 0\n",
    "    row = float(np.nansum(row))\n",
    "    if ~np.isfinite(row): return 0\n",
    "    return row\n",
    "\n",
    "def get_mean(row):\n",
    "    row = unpackArray(row,np.float16)\n",
    "    row[~np.isfinite(row)] = 0\n",
    "    row = float(np.nanmean(row))\n",
    "    if ~np.isfinite(row): return 0\n",
    "    return row\n",
    "\n",
    "my_sum = F.UserDefinedFunction(get_sum, T.DoubleType())\n",
    "my_mean = F.UserDefinedFunction(get_mean, T.DoubleType())\n",
    "\n",
    "US_weather_df = US_weather_df.withColumn('Values_sum', my_sum('Values'))\n",
    "US_weather_df = US_weather_df.withColumn('Values_mean', my_mean('Values'))\n",
    "\n",
    "US_weather_df = US_weather_df.filter(US_weather_df.Values_sum != 0)\n",
    "US_weather_df = US_weather_df.filter(US_weather_df.Values_mean != 0)"
   ]
  },
  {
   "cell_type": "code",
   "execution_count": 5,
   "metadata": {},
   "outputs": [],
   "source": [
    "avg_sum = US_weather_df.groupby('Station').agg({'Values_sum': 'mean'})\n",
    "avg_mean = US_weather_df.groupby('Station').agg({'Values_mean': 'mean'})\n",
    "avg = avg_sum.join(avg_mean, \"Station\")"
   ]
  },
  {
   "cell_type": "code",
   "execution_count": 6,
   "metadata": {},
   "outputs": [],
   "source": [
    "a = US_weather_df.alias('a')\n",
    "b = avg.alias('b')\n",
    "US_weather_df = a.join(b, \"Station\")"
   ]
  },
  {
   "cell_type": "code",
   "execution_count": 7,
   "metadata": {},
   "outputs": [],
   "source": [
    "US_weather_df = US_weather_df.drop('Values', 'ID')"
   ]
  },
  {
   "cell_type": "code",
   "execution_count": 8,
   "metadata": {},
   "outputs": [],
   "source": [
    "US_weather_df = US_weather_df.withColumn('Anom_sum', F.col('Values_sum')-F.col('avg(Values_sum)'))\n",
    "US_weather_df = US_weather_df.withColumn('Anom_mean', F.col('Values_mean')-F.col('avg(Values_mean)'))"
   ]
  },
  {
   "cell_type": "code",
   "execution_count": 9,
   "metadata": {},
   "outputs": [
    {
     "data": {
      "text/plain": [
       "['Station',\n",
       " 'elevation',\n",
       " 'state',\n",
       " 'latitude',\n",
       " 'longitude',\n",
       " 'Measurement',\n",
       " 'Year',\n",
       " 'Values_sum',\n",
       " 'Values_mean',\n",
       " 'avg(Values_sum)',\n",
       " 'avg(Values_mean)',\n",
       " 'Anom_sum',\n",
       " 'Anom_mean']"
      ]
     },
     "execution_count": 9,
     "metadata": {},
     "output_type": "execute_result"
    }
   ],
   "source": [
    "US_weather_df.columns"
   ]
  },
  {
   "cell_type": "markdown",
   "metadata": {},
   "source": [
    "# Calculate average anomaly per state"
   ]
  },
  {
   "cell_type": "code",
   "execution_count": 10,
   "metadata": {
    "collapsed": true
   },
   "outputs": [],
   "source": [
    "State_avg = US_weather_df.groupby('state', 'Year').agg({'Anom_mean': 'mean', 'Anom_sum': 'mean'})"
   ]
  },
  {
   "cell_type": "code",
   "execution_count": 11,
   "metadata": {},
   "outputs": [
    {
     "name": "stdout",
     "output_type": "stream",
     "text": [
      "+-----+----+-------------------+--------------------+\n",
      "|state|Year|      avg(Anom_sum)|      avg(Anom_mean)|\n",
      "+-----+----+-------------------+--------------------+\n",
      "|   MS|2010|-1487.2689060868113|  -4.074554272991666|\n",
      "|   CA|2006| -40.60206514618465|-0.11155768973669186|\n",
      "|   IA|1997| -985.1584507409452|  -2.699631493937605|\n",
      "|   ME|2004|-1904.0171809678732| -5.2161572812609815|\n",
      "|   OH|1962|-1173.2909964440228| -3.2148284444834445|\n",
      "|   OR|1976| -2441.213081056963| -6.6878651075162665|\n",
      "|   SC|2006| -759.2406572438675| -2.0803878619282394|\n",
      "|   WV|1981|  -666.892201074573| -1.8285084634281754|\n",
      "|   WV|1990|  994.6915577613445|  2.7253577106030358|\n",
      "|   MI|1993| 39.204770420656104| 0.10744579233157826|\n",
      "|   PR|1970|  5636.503563112466|  15.442878218786054|\n",
      "|   AZ|2013|-2766.2374741396766|  -7.578786485962923|\n",
      "|   AL|1966|   225.940901181971|  0.6193557346056852|\n",
      "|   FL|1968|  577.5829095482169|  1.5827792664859157|\n",
      "|   NH|1961|  -1035.75239077095| -2.8368604309812424|\n",
      "|   PW|1991|    861.53722943723|    2.36765435085748|\n",
      "|   FM|1993|  5626.695902441245|  15.413187409573714|\n",
      "|   QC|2013|  -8427.96136346124| -23.090406773819318|\n",
      "|   NS|2000|   -6508.4477124183|  -17.83443755106209|\n",
      "|   PE|1990|             4550.5|     12.454833984375|\n",
      "+-----+----+-------------------+--------------------+\n",
      "only showing top 20 rows\n",
      "\n"
     ]
    }
   ],
   "source": [
    "State_avg.show()"
   ]
  },
  {
   "cell_type": "code",
   "execution_count": 12,
   "metadata": {},
   "outputs": [],
   "source": [
    "pdf = State_avg.filter((F.col(\"state\") == \"CA\")).toPandas()"
   ]
  },
  {
   "cell_type": "code",
   "execution_count": 13,
   "metadata": {},
   "outputs": [
    {
     "data": {
      "image/png": "[encoded data removed]",
      "text/plain": [
       "<matplotlib.figure.Figure at 0x7fc920819b38>"
      ]
     },
     "metadata": {},
     "output_type": "display_data"
    }
   ],
   "source": [
    "import matplotlib.pyplot as plt\n",
    "major_elnino = [1973,  1983, 1998]\n",
    "pdf.plot.scatter('Year', 'avg(Anom_mean)')\n",
    "for x in major_elnino: plt.axvline(x)\n",
    "plt.show()"
   ]
  },
  {
   "cell_type": "markdown",
   "metadata": {},
   "source": [
    "# TO DO: Might be best to filter for stations that have values in the whole time range to avoid skewing data\n",
    "\n",
    "# TODO: Data needs to be organized Jul-Jul to capture full rain season"
   ]
  },
  {
   "cell_type": "code",
   "execution_count": null,
   "metadata": {
    "collapsed": true
   },
   "outputs": [],
   "source": []
  }
 ],
 "metadata": {
  "kernelspec": {
   "display_name": "Python 3",
   "language": "python",
   "name": "python3"
  },
  "language_info": {
   "codemirror_mode": {
    "name": "ipython",
    "version": 3
   },
   "file_extension": ".py",
   "mimetype": "text/x-python",
   "name": "python",
   "nbconvert_exporter": "python",
   "pygments_lexer": "ipython3",
   "version": "3.4.5"
  }
 },
 "nbformat": 4,
 "nbformat_minor": 2
}
