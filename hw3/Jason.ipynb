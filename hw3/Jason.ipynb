{
 "cells": [
  {
   "cell_type": "code",
   "execution_count": 1,
   "metadata": {
    "collapsed": true
   },
   "outputs": [],
   "source": [
    "# #once per cluster\n",
    "# s3helper.open_bucket('mas-dse-open',region='us-west-2')\n",
    "\n",
    "# info_files=s3helper.ls('Weather/Info')\n",
    "# Without_path=[x[13:] for x in info_files]\n",
    "\n",
    "\n",
    "# !mkdir /mnt/workspace/WeatherInfo\n",
    "\n",
    "# for i in range(len(info_files)-1):   # Last entry is the directory name\n",
    "#     _from=info_files[i]\n",
    "#     _to='/mnt/workspace/WeatherInfo/'+Without_path[i]\n",
    "#     print('From %s to %s'%(_from,_to))\n",
    "#     s3helper.s3_to_local(_from,_to)\n",
    "    \n",
    "# s3helper.open_bucket('dse-weather-west-2', region=\"us-west-2\")\n",
    "# s3helper.ls('')\n",
    "# s3helper.s3_to_hdfs(\"weather.parquet\", \"/tmp/weather.parquet\")\n",
    "# s3helper.s3_to_hdfs(\"info/stations.parquet\", \"/tmp/stations.parquet\")\n",
    "# print(s3helper.ls_hdfs(\"/tmp\"))"
   ]
  },
  {
   "cell_type": "code",
   "execution_count": 1,
   "metadata": {},
   "outputs": [
    {
     "name": "stdout",
     "output_type": "stream",
     "text": [
      "finished standard imports\n",
      "dict_items([('spark.default.parallelism', '10'), ('spark.app.name', 'Weather_PCA'), ('spark.logConf', 'True'), ('spark.executor.memory', '3g'), ('spark.cores.max', '4'), ('spark.executor.cores', '1')])\n",
      "started SparkContext and SQLContext in 13.43 seconds\n",
      "loaded weather.parquet in 8.25 seconds\n",
      "loaded stations.parquet in 0.24 seconds\n",
      "registered dataframes as tables in 0.22 seconds\n"
     ]
    }
   ],
   "source": [
    "import os\n",
    "os.getcwd()\n",
    "os.chdir(\"/mnt/workspace/Public-DSC291/notebooks/Section2-PCA/Full_Dataset_analysis\")\n",
    "os.getcwd()\n",
    "\n",
    "from Startup import *"
   ]
  },
  {
   "cell_type": "code",
   "execution_count": 2,
   "metadata": {},
   "outputs": [
    {
     "name": "stdout",
     "output_type": "stream",
     "text": [
      "\n",
      "SELECT stations.ID, stations.elevation, stations.state, stations.latitude, stations.longitude,\n",
      "        weather.Station, weather.Measurement, weather.Year, weather.Values\n",
      "FROM stations\n",
      "LEFT JOIN weather\n",
      "ON stations.ID = weather.Station\n",
      "WHERE stations.state='CA' AND weather.Measurement='PRCP'\n",
      "\n",
      "CPU times: user 560 ms, sys: 72 ms, total: 632 ms\n",
      "Wall time: 38.3 s\n"
     ]
    }
   ],
   "source": [
    "%%time\n",
    "query=\"\"\"\n",
    "SELECT stations.ID, stations.elevation, stations.state, stations.latitude, stations.longitude,\n",
    "        weather.Station, weather.Measurement, weather.Year, weather.Values\n",
    "FROM stations\n",
    "LEFT JOIN weather\n",
    "ON stations.ID = weather.Station\n",
    "WHERE stations.state='CA' AND weather.Measurement='PRCP'\n",
    "\"\"\"\n",
    "\n",
    "print(query)\n",
    "CA_weather_df=sqlContext.sql(query)\n",
    "sqlContext.registerDataFrameAsTable(CA_weather_df,'CA_weather_df')"
   ]
  },
  {
   "cell_type": "code",
   "execution_count": 53,
   "metadata": {
    "collapsed": true
   },
   "outputs": [],
   "source": [
    "# print('CA has %d rows'%(CA_weather_df.count()))\n",
    "# CA_weather_df.columns\n",
    "# CA_weather_df.describe('latitude').show()\n",
    "# CA_weather_df = CA_weather_df.filter(CA_weather_df.Year > 1960)\n",
    "# CA_weather_df.show(3,truncate= True)\n",
    "# CA_weather_df.select('Year', 'Values').show(3)"
   ]
  },
  {
   "cell_type": "code",
   "execution_count": 54,
   "metadata": {
    "collapsed": true
   },
   "outputs": [],
   "source": [
    "# CA_weather_df.groupby('Year').agg({'Values': 'sum'})"
   ]
  },
  {
   "cell_type": "code",
   "execution_count": 32,
   "metadata": {
    "collapsed": true
   },
   "outputs": [],
   "source": [
    "# from pyspark.sql.functions import col\n",
    "# from pyspark.sql.types import DoubleType\n",
    "# CA_weather_df = CA_weather_df.withColumn(\"Values\", col(\"Values\").cast(np.float16))"
   ]
  },
  {
   "cell_type": "code",
   "execution_count": 37,
   "metadata": {},
   "outputs": [
    {
     "data": {
      "text/plain": [
       "<pyspark.sql.group.GroupedData at 0x7f38f9961940>"
      ]
     },
     "execution_count": 37,
     "metadata": {},
     "output_type": "execute_result"
    }
   ],
   "source": [
    "# CA_weather_df.groupby('Year').agg({'Values': 'mean'}).show()"
   ]
  },
  {
   "cell_type": "code",
   "execution_count": 55,
   "metadata": {
    "collapsed": true
   },
   "outputs": [],
   "source": [
    "# rdd0=CA_weather_df.rdd.map(lambda row: unpackArray(row['Values'],np.float16))\n",
    "# UnDef=np.array(rdd0.map(lambda row:sum(np.isnan(row))).sample(False,0.01).collect())\n",
    "# flat=rdd0.flatMap(lambda v:list(v)).filter(lambda x: not np.isnan(x)).cache()"
   ]
  },
  {
   "cell_type": "code",
   "execution_count": 56,
   "metadata": {},
   "outputs": [
    {
     "data": {
      "text/html": [
       "<div>\n",
       "<table border=\"1\" class=\"dataframe\">\n",
       "  <thead>\n",
       "    <tr style=\"text-align: right;\">\n",
       "      <th></th>\n",
       "      <th>ID</th>\n",
       "      <th>elevation</th>\n",
       "      <th>state</th>\n",
       "      <th>latitude</th>\n",
       "      <th>longitude</th>\n",
       "      <th>Station</th>\n",
       "      <th>Measurement</th>\n",
       "      <th>Year</th>\n",
       "      <th>Values</th>\n",
       "    </tr>\n",
       "  </thead>\n",
       "  <tbody>\n",
       "    <tr>\n",
       "      <th>0</th>\n",
       "      <td>USC00042239</td>\n",
       "      <td>1414.3</td>\n",
       "      <td>CA</td>\n",
       "      <td>32.9897</td>\n",
       "      <td>-116.5872</td>\n",
       "      <td>USC00042239</td>\n",
       "      <td>PRCP</td>\n",
       "      <td>1899</td>\n",
       "      <td>[0, 126, 0, 126, 12, 93, 160, 84, 0, 126, 0, 1...</td>\n",
       "    </tr>\n",
       "    <tr>\n",
       "      <th>1</th>\n",
       "      <td>USC00042239</td>\n",
       "      <td>1414.3</td>\n",
       "      <td>CA</td>\n",
       "      <td>32.9897</td>\n",
       "      <td>-116.5872</td>\n",
       "      <td>USC00042239</td>\n",
       "      <td>PRCP</td>\n",
       "      <td>1900</td>\n",
       "      <td>[0, 0, 0, 0, 132, 94, 180, 95, 0, 73, 0, 0, 0,...</td>\n",
       "    </tr>\n",
       "    <tr>\n",
       "      <th>2</th>\n",
       "      <td>USC00042239</td>\n",
       "      <td>1414.3</td>\n",
       "      <td>CA</td>\n",
       "      <td>32.9897</td>\n",
       "      <td>-116.5872</td>\n",
       "      <td>USC00042239</td>\n",
       "      <td>PRCP</td>\n",
       "      <td>1901</td>\n",
       "      <td>[0, 73, 0, 0, 0, 0, 0, 0, 0, 69, 0, 82, 80, 89...</td>\n",
       "    </tr>\n",
       "    <tr>\n",
       "      <th>3</th>\n",
       "      <td>USC00042239</td>\n",
       "      <td>1414.3</td>\n",
       "      <td>CA</td>\n",
       "      <td>32.9897</td>\n",
       "      <td>-116.5872</td>\n",
       "      <td>USC00042239</td>\n",
       "      <td>PRCP</td>\n",
       "      <td>1902</td>\n",
       "      <td>[0, 126, 0, 126, 0, 126, 0, 126, 0, 126, 0, 12...</td>\n",
       "    </tr>\n",
       "    <tr>\n",
       "      <th>4</th>\n",
       "      <td>USC00042239</td>\n",
       "      <td>1414.3</td>\n",
       "      <td>CA</td>\n",
       "      <td>32.9897</td>\n",
       "      <td>-116.5872</td>\n",
       "      <td>USC00042239</td>\n",
       "      <td>PRCP</td>\n",
       "      <td>1903</td>\n",
       "      <td>[0, 0, 0, 0, 0, 0, 0, 0, 0, 0, 0, 0, 0, 0, 0, ...</td>\n",
       "    </tr>\n",
       "  </tbody>\n",
       "</table>\n",
       "</div>"
      ],
      "text/plain": [
       "            ID  elevation state  latitude  longitude      Station Measurement  \\\n",
       "0  USC00042239     1414.3    CA   32.9897  -116.5872  USC00042239        PRCP   \n",
       "1  USC00042239     1414.3    CA   32.9897  -116.5872  USC00042239        PRCP   \n",
       "2  USC00042239     1414.3    CA   32.9897  -116.5872  USC00042239        PRCP   \n",
       "3  USC00042239     1414.3    CA   32.9897  -116.5872  USC00042239        PRCP   \n",
       "4  USC00042239     1414.3    CA   32.9897  -116.5872  USC00042239        PRCP   \n",
       "\n",
       "   Year                                             Values  \n",
       "0  1899  [0, 126, 0, 126, 12, 93, 160, 84, 0, 126, 0, 1...  \n",
       "1  1900  [0, 0, 0, 0, 132, 94, 180, 95, 0, 73, 0, 0, 0,...  \n",
       "2  1901  [0, 73, 0, 0, 0, 0, 0, 0, 0, 69, 0, 82, 80, 89...  \n",
       "3  1902  [0, 126, 0, 126, 0, 126, 0, 126, 0, 126, 0, 12...  \n",
       "4  1903  [0, 0, 0, 0, 0, 0, 0, 0, 0, 0, 0, 0, 0, 0, 0, ...  "
      ]
     },
     "execution_count": 56,
     "metadata": {},
     "output_type": "execute_result"
    }
   ],
   "source": [
    "CA_weather_pdf.head()"
   ]
  },
  {
   "cell_type": "code",
   "execution_count": 28,
   "metadata": {
    "collapsed": true
   },
   "outputs": [],
   "source": [
    "CA_rdd = CA_weather_df.rdd.map(list)"
   ]
  },
  {
   "cell_type": "code",
   "execution_count": 22,
   "metadata": {
    "collapsed": true
   },
   "outputs": [],
   "source": [
    "rdd0 = CA_weather_df.rdd.map(lambda row: unpackArray(row['Values'],np.float16))\n",
    "rdd0 = rdd0.map(lambda row: np.nan_to_num(row))"
   ]
  },
  {
   "cell_type": "code",
   "execution_count": 32,
   "metadata": {
    "collapsed": true
   },
   "outputs": [],
   "source": [
    "rddAnom = rdd0.map(lambda row: np.sum(row))"
   ]
  },
  {
   "cell_type": "code",
   "execution_count": 34,
   "metadata": {},
   "outputs": [
    {
     "data": {
      "text/plain": [
       "[32928.0, 4568.0, 6032.0]"
      ]
     },
     "execution_count": 34,
     "metadata": {},
     "output_type": "execute_result"
    }
   ],
   "source": [
    "rddAnom.take(3)"
   ]
  },
  {
   "cell_type": "code",
   "execution_count": 3,
   "metadata": {},
   "outputs": [
    {
     "name": "stdout",
     "output_type": "stream",
     "text": [
      "+-----------+---------+-----+--------+---------+-----------+-----------+----+--------------------+----------+\n",
      "|         ID|elevation|state|latitude|longitude|    Station|Measurement|Year|              Values|Values_sum|\n",
      "+-----------+---------+-----+--------+---------+-----------+-----------+----+--------------------+----------+\n",
      "|USC00042239|   1414.3|   CA| 32.9897|-116.5872|USC00042239|       PRCP|1899|[00 7E 00 7E 0C 5...|   128.125|\n",
      "|USC00042239|   1414.3|   CA| 32.9897|-116.5872|USC00042239|       PRCP|1900|[00 00 00 00 84 5...| 21.140625|\n",
      "|USC00042239|   1414.3|   CA| 32.9897|-116.5872|USC00042239|       PRCP|1901|[00 49 00 00 00 0...|   80.4375|\n",
      "|USC00042239|   1414.3|   CA| 32.9897|-116.5872|USC00042239|       PRCP|1902|[00 7E 00 7E 00 7...| 25.421875|\n",
      "|USC00042239|   1414.3|   CA| 32.9897|-116.5872|USC00042239|       PRCP|1903|[00 00 00 00 00 0...| 23.890625|\n",
      "|USC00042239|   1414.3|   CA| 32.9897|-116.5872|USC00042239|       PRCP|1904|[00 00 00 00 00 0...| 27.984375|\n",
      "|USC00042239|   1414.3|   CA| 32.9897|-116.5872|USC00042239|       PRCP|1905|[7C 5C 00 00 00 0...|   99.5625|\n",
      "|USC00042239|   1414.3|   CA| 32.9897|-116.5872|USC00042239|       PRCP|1906|[10 55 00 00 00 0...|  47.40625|\n",
      "|USC00042239|   1414.3|   CA| 32.9897|-116.5872|USC00042239|       PRCP|1907|[00 00 00 00 00 0...|   38.3125|\n",
      "|USC00042239|   1414.3|   CA| 32.9897|-116.5872|USC00042239|       PRCP|1908|[00 7E 00 7E 00 7...|    17.375|\n",
      "+-----------+---------+-----+--------+---------+-----------+-----------+----+--------------------+----------+\n",
      "only showing top 10 rows\n",
      "\n"
     ]
    }
   ],
   "source": [
    "import pyspark.sql.functions as F\n",
    "import pyspark.sql.types as T\n",
    "\n",
    "my_udf = F.UserDefinedFunction(lambda row: float(np.nanmean(unpackArray(row,np.float16))),\n",
    "                               T.DoubleType())\n",
    "CA_weather_df = CA_weather_df.withColumn('Values_sum', my_udf('Values'))\n",
    "CA_weather_df.show(10)"
   ]
  },
  {
   "cell_type": "code",
   "execution_count": 4,
   "metadata": {},
   "outputs": [],
   "source": [
    "avg = CA_weather_df.groupby('Station').agg({'Values_sum': 'mean'})"
   ]
  },
  {
   "cell_type": "code",
   "execution_count": 7,
   "metadata": {},
   "outputs": [
    {
     "name": "stdout",
     "output_type": "stream",
     "text": [
      "+-----------+------------------+\n",
      "|    Station|   avg(Values_sum)|\n",
      "+-----------+------------------+\n",
      "|USC00040174|2.0240885416666665|\n",
      "|USC00044056| 20.51215277777778|\n",
      "|US1CARV0008| 8.589762369791666|\n",
      "|USC00043405| 43.01081730769231|\n",
      "|USC00047965|23.466517857142858|\n",
      "|US1CASN0094|25.145833333333332|\n",
      "|USC00046390| 2.822975852272727|\n",
      "|US1CASR0004|   13.260986328125|\n",
      "|US1CASZ0015|           242.875|\n",
      "|USC00045371|       10.68359375|\n",
      "|USC00043735|       16.41640625|\n",
      "|US1CASC0018|        9.81484375|\n",
      "|USC00045032|12.423014322916666|\n",
      "|USC00046599|       25.55390625|\n",
      "|USS0020K13S|29.976792279411764|\n",
      "|USC00042218| 47.84829545454546|\n",
      "|USC00046154|   5.4309814453125|\n",
      "|US1CAOR0020|         32.734375|\n",
      "|USW00023226|     18.6142578125|\n",
      "|US1CASM0008|       11.17890625|\n",
      "+-----------+------------------+\n",
      "only showing top 20 rows\n",
      "\n"
     ]
    }
   ],
   "source": [
    "avg.show()"
   ]
  },
  {
   "cell_type": "code",
   "execution_count": 5,
   "metadata": {},
   "outputs": [],
   "source": [
    "a = CA_weather_df.alias('a')\n",
    "b = avg.alias('b')\n",
    "CA_weather_df = a.join(b, \"Station\")"
   ]
  },
  {
   "cell_type": "code",
   "execution_count": 8,
   "metadata": {},
   "outputs": [],
   "source": [
    "CA_weather_df = CA_weather_df.drop('Values', 'ID')"
   ]
  },
  {
   "cell_type": "code",
   "execution_count": 9,
   "metadata": {},
   "outputs": [
    {
     "name": "stdout",
     "output_type": "stream",
     "text": [
      "+-----------+---------+-----+--------+---------+-----------+----+-------------+------------------+\n",
      "|    Station|elevation|state|latitude|longitude|Measurement|Year|   Values_sum|   avg(Values_sum)|\n",
      "+-----------+---------+-----+--------+---------+-----------+----+-------------+------------------+\n",
      "|US1CARV0008|    427.9|   CA| 33.7307|-117.4276|       PRCP|2008|    9.8046875| 8.589762369791666|\n",
      "|US1CARV0008|    427.9|   CA| 33.7307|-117.4276|       PRCP|2009|   6.16015625| 8.589762369791666|\n",
      "|US1CARV0008|    427.9|   CA| 33.7307|-117.4276|       PRCP|2010|        20.75| 8.589762369791666|\n",
      "|US1CARV0008|    427.9|   CA| 33.7307|-117.4276|       PRCP|2011|    8.0546875| 8.589762369791666|\n",
      "|US1CARV0008|    427.9|   CA| 33.7307|-117.4276|       PRCP|2012|    6.0546875| 8.589762369791666|\n",
      "|US1CARV0008|    427.9|   CA| 33.7307|-117.4276|       PRCP|2013|0.71435546875| 8.589762369791666|\n",
      "|US1CASN0094|     66.4|   CA|  38.324|-123.0304|       PRCP|2011|     19.53125|25.145833333333332|\n",
      "|US1CASN0094|     66.4|   CA|  38.324|-123.0304|       PRCP|2012|     33.15625|25.145833333333332|\n",
      "|US1CASN0094|     66.4|   CA|  38.324|-123.0304|       PRCP|2013|        22.75|25.145833333333332|\n",
      "|USC00040174|    387.7|   CA| 34.1614|-115.8045|       PRCP|2009| 0.7783203125|2.0240885416666665|\n",
      "|USC00040174|    387.7|   CA| 34.1614|-115.8045|       PRCP|2010|    4.1953125|2.0240885416666665|\n",
      "|USC00040174|    387.7|   CA| 34.1614|-115.8045|       PRCP|2011| 1.0986328125|2.0240885416666665|\n",
      "|USC00043405|    502.9|   CA| 41.0167|   -122.4|       PRCP|1965|      45.3125| 43.01081730769231|\n",
      "|USC00043405|    502.9|   CA| 41.0167|   -122.4|       PRCP|1966|     49.15625| 43.01081730769231|\n",
      "|USC00043405|    502.9|   CA| 41.0167|   -122.4|       PRCP|1967|      44.1875| 43.01081730769231|\n",
      "|USC00043405|    502.9|   CA| 41.0167|   -122.4|       PRCP|1968|         34.5| 43.01081730769231|\n",
      "|USC00043405|    502.9|   CA| 41.0167|   -122.4|       PRCP|1969|     48.40625| 43.01081730769231|\n",
      "|USC00043405|    502.9|   CA| 41.0167|   -122.4|       PRCP|1970|     55.71875| 43.01081730769231|\n",
      "|USC00043405|    502.9|   CA| 41.0167|   -122.4|       PRCP|1971|       32.875| 43.01081730769231|\n",
      "|USC00043405|    502.9|   CA| 41.0167|   -122.4|       PRCP|1972|       44.375| 43.01081730769231|\n",
      "+-----------+---------+-----+--------+---------+-----------+----+-------------+------------------+\n",
      "only showing top 20 rows\n",
      "\n"
     ]
    }
   ],
   "source": [
    "CA_weather_df.show()"
   ]
  },
  {
   "cell_type": "code",
   "execution_count": 12,
   "metadata": {},
   "outputs": [],
   "source": [
    "CA_weather_df = CA_weather_df.withColumn('Anom', F.col('Values_sum')-F.col('avg(Values_sum)'))"
   ]
  },
  {
   "cell_type": "code",
   "execution_count": 13,
   "metadata": {},
   "outputs": [
    {
     "name": "stdout",
     "output_type": "stream",
     "text": [
      "+-----------+---------+-----+--------+---------+-----------+----+-------------+------------------+-------------------+\n",
      "|    Station|elevation|state|latitude|longitude|Measurement|Year|   Values_sum|   avg(Values_sum)|               Anom|\n",
      "+-----------+---------+-----+--------+---------+-----------+----+-------------+------------------+-------------------+\n",
      "|US1CARV0008|    427.9|   CA| 33.7307|-117.4276|       PRCP|2008|    9.8046875| 8.589762369791666|  1.214925130208334|\n",
      "|US1CARV0008|    427.9|   CA| 33.7307|-117.4276|       PRCP|2009|   6.16015625| 8.589762369791666| -2.429606119791666|\n",
      "|US1CARV0008|    427.9|   CA| 33.7307|-117.4276|       PRCP|2010|        20.75| 8.589762369791666| 12.160237630208334|\n",
      "|US1CARV0008|    427.9|   CA| 33.7307|-117.4276|       PRCP|2011|    8.0546875| 8.589762369791666|-0.5350748697916661|\n",
      "|US1CARV0008|    427.9|   CA| 33.7307|-117.4276|       PRCP|2012|    6.0546875| 8.589762369791666| -2.535074869791666|\n",
      "|US1CARV0008|    427.9|   CA| 33.7307|-117.4276|       PRCP|2013|0.71435546875| 8.589762369791666| -7.875406901041666|\n",
      "|US1CASN0094|     66.4|   CA|  38.324|-123.0304|       PRCP|2011|     19.53125|25.145833333333332| -5.614583333333332|\n",
      "|US1CASN0094|     66.4|   CA|  38.324|-123.0304|       PRCP|2012|     33.15625|25.145833333333332|  8.010416666666668|\n",
      "|US1CASN0094|     66.4|   CA|  38.324|-123.0304|       PRCP|2013|        22.75|25.145833333333332| -2.395833333333332|\n",
      "|USC00040174|    387.7|   CA| 34.1614|-115.8045|       PRCP|2009| 0.7783203125|2.0240885416666665|-1.2457682291666665|\n",
      "|USC00040174|    387.7|   CA| 34.1614|-115.8045|       PRCP|2010|    4.1953125|2.0240885416666665| 2.1712239583333335|\n",
      "|USC00040174|    387.7|   CA| 34.1614|-115.8045|       PRCP|2011| 1.0986328125|2.0240885416666665|-0.9254557291666665|\n",
      "|USC00043405|    502.9|   CA| 41.0167|   -122.4|       PRCP|1965|      45.3125| 43.01081730769231| 2.3016826923076934|\n",
      "|USC00043405|    502.9|   CA| 41.0167|   -122.4|       PRCP|1966|     49.15625| 43.01081730769231|  6.145432692307693|\n",
      "|USC00043405|    502.9|   CA| 41.0167|   -122.4|       PRCP|1967|      44.1875| 43.01081730769231| 1.1766826923076934|\n",
      "|USC00043405|    502.9|   CA| 41.0167|   -122.4|       PRCP|1968|         34.5| 43.01081730769231| -8.510817307692307|\n",
      "|USC00043405|    502.9|   CA| 41.0167|   -122.4|       PRCP|1969|     48.40625| 43.01081730769231|  5.395432692307693|\n",
      "|USC00043405|    502.9|   CA| 41.0167|   -122.4|       PRCP|1970|     55.71875| 43.01081730769231| 12.707932692307693|\n",
      "|USC00043405|    502.9|   CA| 41.0167|   -122.4|       PRCP|1971|       32.875| 43.01081730769231|-10.135817307692307|\n",
      "|USC00043405|    502.9|   CA| 41.0167|   -122.4|       PRCP|1972|       44.375| 43.01081730769231| 1.3641826923076934|\n",
      "+-----------+---------+-----+--------+---------+-----------+----+-------------+------------------+-------------------+\n",
      "only showing top 20 rows\n",
      "\n"
     ]
    }
   ],
   "source": [
    "CA_weather_df.show()"
   ]
  },
  {
   "cell_type": "code",
   "execution_count": 22,
   "metadata": {},
   "outputs": [],
   "source": [
    "pd1stat = CA_weather_df.filter(CA_weather_df[\"Station\"] == 'USC00040174').toPandas()"
   ]
  },
  {
   "cell_type": "code",
   "execution_count": 23,
   "metadata": {},
   "outputs": [
    {
     "data": {
      "image/png": "[encoded data removed]",
      "text/plain": [
       "<matplotlib.figure.Figure at 0x7f70d993b860>"
      ]
     },
     "metadata": {},
     "output_type": "display_data"
    }
   ],
   "source": [
    "import matplotlib.pyplot as plt\n",
    "pd1stat.plot.line('Year', 'Anom')\n",
    "plt.show()"
   ]
  },
  {
   "cell_type": "code",
   "execution_count": null,
   "metadata": {
    "collapsed": true
   },
   "outputs": [],
   "source": []
  }
 ],
 "metadata": {
  "kernelspec": {
   "display_name": "Python 3",
   "language": "python",
   "name": "python3"
  },
  "language_info": {
   "codemirror_mode": {
    "name": "ipython",
    "version": 3
   },
   "file_extension": ".py",
   "mimetype": "text/x-python",
   "name": "python",
   "nbconvert_exporter": "python",
   "pygments_lexer": "ipython3",
   "version": "3.4.5"
  }
 },
 "nbformat": 4,
 "nbformat_minor": 2
}
