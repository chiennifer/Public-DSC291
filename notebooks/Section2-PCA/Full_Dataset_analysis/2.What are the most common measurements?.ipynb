{
 "cells": [
  {
   "cell_type": "markdown",
   "metadata": {},
   "source": [
    "## Initialize dataframes"
   ]
  },
  {
   "cell_type": "code",
   "execution_count": 1,
   "metadata": {},
   "outputs": [
    {
     "name": "stdout",
     "output_type": "stream",
     "text": [
      "finished standard imports\n",
      "[('spark.logConf', u'True'), ('spark.executor.cores', u'1'), ('spark.default.parallelism', u'10'), ('spark.cores.max', u'4'), ('spark.executor.memory', u'3g'), ('spark.app.name', u'Weather_PCA')]\n",
      "started SparkContext and SQLContext in 13.16 seconds\n",
      "loaded weather.parquet in 7.08 seconds\n",
      "loaded stations.parquet in 0.17 seconds\n",
      "registered dataframes as tables in 0.22 seconds\n"
     ]
    }
   ],
   "source": [
    "from Startup import *"
   ]
  },
  {
   "cell_type": "code",
   "execution_count": null,
   "metadata": {
    "collapsed": true
   },
   "outputs": [],
   "source": [
    "%%time\n",
    "print('df has %d rows, stations has %d rows'%(df.count(),stations.count()))"
   ]
  },
  {
   "cell_type": "markdown",
   "metadata": {},
   "source": [
    "## Check how many rows corresponds to each measurement"
   ]
  },
  {
   "cell_type": "code",
   "execution_count": 2,
   "metadata": {
    "scrolled": true
   },
   "outputs": [
    {
     "name": "stdout",
     "output_type": "stream",
     "text": [
      "\n",
      "SELECT measurement,COUNT(measurement) AS count\n",
      "FROM weather  \n",
      "GROUP BY measurement \n",
      "ORDER BY count\n",
      "\n",
      "CPU times: user 8 ms, sys: 8 ms, total: 16 ms\n",
      "Wall time: 18.1 s\n"
     ]
    }
   ],
   "source": [
    "%%time\n",
    "query=\"\"\"\n",
    "SELECT measurement,COUNT(measurement) AS count\n",
    "FROM weather  \n",
    "GROUP BY measurement \n",
    "ORDER BY count\n",
    "\"\"\"\n",
    "print(query)\n",
    "measurements_pdf=sqlContext.sql(query).toPandas()"
   ]
  },
  {
   "cell_type": "code",
   "execution_count": 3,
   "metadata": {
    "scrolled": false
   },
   "outputs": [
    {
     "data": {
      "text/html": [
       "<div>\n",
       "<style scoped>\n",
       "    .dataframe tbody tr th:only-of-type {\n",
       "        vertical-align: middle;\n",
       "    }\n",
       "\n",
       "    .dataframe tbody tr th {\n",
       "        vertical-align: top;\n",
       "    }\n",
       "\n",
       "    .dataframe thead th {\n",
       "        text-align: right;\n",
       "    }\n",
       "</style>\n",
       "<table border=\"1\" class=\"dataframe\">\n",
       "  <thead>\n",
       "    <tr style=\"text-align: right;\">\n",
       "      <th></th>\n",
       "      <th>measurement</th>\n",
       "      <th>count</th>\n",
       "    </tr>\n",
       "  </thead>\n",
       "  <tbody>\n",
       "    <tr>\n",
       "      <th>113</th>\n",
       "      <td>WT14</td>\n",
       "      <td>38369</td>\n",
       "    </tr>\n",
       "    <tr>\n",
       "      <th>114</th>\n",
       "      <td>WT18</td>\n",
       "      <td>53072</td>\n",
       "    </tr>\n",
       "    <tr>\n",
       "      <th>115</th>\n",
       "      <td>WT08</td>\n",
       "      <td>53648</td>\n",
       "    </tr>\n",
       "    <tr>\n",
       "      <th>116</th>\n",
       "      <td>WESD</td>\n",
       "      <td>55740</td>\n",
       "    </tr>\n",
       "    <tr>\n",
       "      <th>117</th>\n",
       "      <td>WT16</td>\n",
       "      <td>73840</td>\n",
       "    </tr>\n",
       "    <tr>\n",
       "      <th>118</th>\n",
       "      <td>WT06</td>\n",
       "      <td>103479</td>\n",
       "    </tr>\n",
       "    <tr>\n",
       "      <th>119</th>\n",
       "      <td>WT11</td>\n",
       "      <td>120277</td>\n",
       "    </tr>\n",
       "    <tr>\n",
       "      <th>120</th>\n",
       "      <td>WT05</td>\n",
       "      <td>148289</td>\n",
       "    </tr>\n",
       "    <tr>\n",
       "      <th>121</th>\n",
       "      <td>WT04</td>\n",
       "      <td>163690</td>\n",
       "    </tr>\n",
       "    <tr>\n",
       "      <th>122</th>\n",
       "      <td>DWPR</td>\n",
       "      <td>180462</td>\n",
       "    </tr>\n",
       "    <tr>\n",
       "      <th>123</th>\n",
       "      <td>WT01</td>\n",
       "      <td>239625</td>\n",
       "    </tr>\n",
       "    <tr>\n",
       "      <th>124</th>\n",
       "      <td>WT03</td>\n",
       "      <td>272406</td>\n",
       "    </tr>\n",
       "    <tr>\n",
       "      <th>125</th>\n",
       "      <td>DAPR</td>\n",
       "      <td>299139</td>\n",
       "    </tr>\n",
       "    <tr>\n",
       "      <th>126</th>\n",
       "      <td>MDPR</td>\n",
       "      <td>349252</td>\n",
       "    </tr>\n",
       "    <tr>\n",
       "      <th>127</th>\n",
       "      <td>TOBS</td>\n",
       "      <td>478981</td>\n",
       "    </tr>\n",
       "    <tr>\n",
       "      <th>128</th>\n",
       "      <td>SNWD</td>\n",
       "      <td>864192</td>\n",
       "    </tr>\n",
       "    <tr>\n",
       "      <th>129</th>\n",
       "      <td>SNOW</td>\n",
       "      <td>881399</td>\n",
       "    </tr>\n",
       "    <tr>\n",
       "      <th>130</th>\n",
       "      <td>TMAX</td>\n",
       "      <td>967931</td>\n",
       "    </tr>\n",
       "    <tr>\n",
       "      <th>131</th>\n",
       "      <td>TMIN</td>\n",
       "      <td>969579</td>\n",
       "    </tr>\n",
       "    <tr>\n",
       "      <th>132</th>\n",
       "      <td>PRCP</td>\n",
       "      <td>2521007</td>\n",
       "    </tr>\n",
       "  </tbody>\n",
       "</table>\n",
       "</div>"
      ],
      "text/plain": [
       "    measurement    count\n",
       "113        WT14    38369\n",
       "114        WT18    53072\n",
       "115        WT08    53648\n",
       "116        WESD    55740\n",
       "117        WT16    73840\n",
       "118        WT06   103479\n",
       "119        WT11   120277\n",
       "120        WT05   148289\n",
       "121        WT04   163690\n",
       "122        DWPR   180462\n",
       "123        WT01   239625\n",
       "124        WT03   272406\n",
       "125        DAPR   299139\n",
       "126        MDPR   349252\n",
       "127        TOBS   478981\n",
       "128        SNWD   864192\n",
       "129        SNOW   881399\n",
       "130        TMAX   967931\n",
       "131        TMIN   969579\n",
       "132        PRCP  2521007"
      ]
     },
     "execution_count": 3,
     "metadata": {},
     "output_type": "execute_result"
    }
   ],
   "source": [
    "measurements_pdf.tail(20)"
   ]
  },
  {
   "cell_type": "markdown",
   "metadata": {},
   "source": [
    "## The most populated measurements\n",
    "* The most populated measurements are the ones which we have been looking at: `PRCP,TMIN,TMAX,SNWD,TOBS`\n",
    "* After those the most common ones are **weather types**. These are binary features that describe the daily weather qualitatively."
   ]
  },
  {
   "cell_type": "markdown",
   "metadata": {},
   "source": [
    "## Weather-Type Fields (WT**)\n",
    "\n",
    "(from `/mnt/workspace/WeatherInfo/ghcnd-readme.txt`)\n",
    "\n",
    "           WT** = Weather Type where ** has one of the following values:\n",
    "\n",
    "                  01 = Fog, ice fog, or freezing fog (may include heavy fog)\n",
    "                  02 = Heavy fog or heaving freezing fog (not always\n",
    "                       distinquished from fog)\n",
    "                  03 = Thunder\n",
    "                  04 = Ice pellets, sleet, snow pellets, or small hail\n",
    "                  05 = Hail (may include small hail)\n",
    "                  06 = Glaze or rime\n",
    "                  07 = Dust, volcanic ash, blowing dust, blowing sand, or\n",
    "                       blowing obstruction\n",
    "                  08 = Smoke or haze\n",
    "                  09 = Blowing or drifting snow\n",
    "                  10 = Tornado, waterspout, or funnel cloud\n",
    "                  11 = High or damaging winds\n",
    "                  12 = Blowing spray\n",
    "                  13 = Mist\n",
    "                  14 = Drizzle\n",
    "                  15 = Freezing drizzle\n",
    "                  16 = Rain (may include freezing rain, drizzle, and\n",
    "                       freezing drizzle)\n",
    "                  17 = Freezing rain\n",
    "                  18 = Snow, snow pellets, snow grains, or ice crystals\n",
    "                  19 = Unknown source of precipitation\n",
    "                  21 = Ground fog\n",
    "                  22 = Ice fog or freezing fog\n",
    "\n",
    "* *Possibe Question*: The categries have probably chosen by a human not by a formula. Can we model the join distribution of all of these ccategories? In other words, is catergory $i$ approximately a subset of category $j$? are they disjoint?"
   ]
  },
  {
   "cell_type": "markdown",
   "metadata": {},
   "source": [
    "## MDPR, MWPR, DAPR\n",
    "\n",
    "(from `/mnt/workspace/WeatherInfo/ghcnd-readme.txt`)\n",
    "\n",
    "* **MDPR** = Multiday precipitation total (tenths of mm; use with DAPR and DWPR, if available)\n",
    "* **DAPR** = Number of days included in the multiday precipiation total (MDPR)\n",
    "* **DWPR** = Number of days with non-zero precipitation included in multiday precipitation total (MDPR)\n",
    "                  \n",
    "Taking the multiday total is similar to smoothing. A smoothed precipitation graph is easier to analyze using PCA."
   ]
  },
  {
   "cell_type": "markdown",
   "metadata": {},
   "source": [
    "## Visualizing weather types"
   ]
  },
  {
   "cell_type": "code",
   "execution_count": null,
   "metadata": {
    "collapsed": true,
    "scrolled": true
   },
   "outputs": [],
   "source": [
    "%%time\n",
    "station='USW00093819'\n",
    "query=\"\"\"\n",
    "SELECT *\n",
    "FROM weather\n",
    "WHERE measurement='WT01' and station='%s'\n",
    "\"\"\"%station\n",
    "print(query)\n",
    "WT01_df=sqlContext.sql(query)\n",
    "WT01_pdf=WT01_df.toPandas()"
   ]
  },
  {
   "cell_type": "code",
   "execution_count": null,
   "metadata": {
    "collapsed": true
   },
   "outputs": [],
   "source": [
    "WT01_pdf.head(4)"
   ]
  },
  {
   "cell_type": "code",
   "execution_count": null,
   "metadata": {
    "collapsed": true
   },
   "outputs": [],
   "source": [
    "%pylab inline"
   ]
  },
  {
   "cell_type": "code",
   "execution_count": null,
   "metadata": {
    "collapsed": true
   },
   "outputs": [],
   "source": [
    "wt01_graphs=[]\n",
    "for i in range(WT01_pdf.shape[0]):\n",
    "    graph=unpackArray(WT01_pdf.iloc[i,3],np.float16)\n",
    "    graph=np.nan_to_num(graph)\n",
    "    wt01_graphs.append(graph)\n",
    "wt01_graphs=np.stack(wt01_graphs)"
   ]
  },
  {
   "cell_type": "code",
   "execution_count": null,
   "metadata": {
    "collapsed": true
   },
   "outputs": [],
   "source": [
    "from lib.YearPlotter import YearPlotter\n",
    "W=wt01_graphs[:4,:]\n",
    "fig, ax = plt.subplots(figsize=[10,10]);\n",
    "YP=YearPlotter()\n",
    "YP.plot(W.transpose(),fig,ax,title='WT01, %s'%(station));\n",
    "#plt.savefig('percipitation.png')\n",
    "#title('A sample of graphs');"
   ]
  }
 ],
 "metadata": {
  "kernelspec": {
   "display_name": "Python 2",
   "language": "python",
   "name": "python2"
  },
  "language_info": {
   "codemirror_mode": {
    "name": "ipython",
    "version": 2
   },
   "file_extension": ".py",
   "mimetype": "text/x-python",
   "name": "python",
   "nbconvert_exporter": "python",
   "pygments_lexer": "ipython2",
   "version": "2.7.16"
  }
 },
 "nbformat": 4,
 "nbformat_minor": 1
}
