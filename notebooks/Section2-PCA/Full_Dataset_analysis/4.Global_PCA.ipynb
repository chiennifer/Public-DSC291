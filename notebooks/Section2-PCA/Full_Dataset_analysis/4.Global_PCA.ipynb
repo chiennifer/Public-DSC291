{
 "cells": [
  {
   "cell_type": "markdown",
   "metadata": {},
   "source": [
    "## Initialize dataframes"
   ]
  },
  {
   "cell_type": "code",
   "execution_count": 1,
   "metadata": {},
   "outputs": [
    {
     "name": "stdout",
     "output_type": "stream",
     "text": [
      "finished standard imports\n",
      "dict_items([('spark.app.name', 'Weather_PCA'), ('spark.executor.cores', '1'), ('spark.default.parallelism', '10'), ('spark.executor.memory', '3g'), ('spark.logConf', 'True'), ('spark.cores.max', '4')])\n",
      "started SparkContext and SQLContext in 13.49 seconds\n",
      "loaded weather.parquet in 6.95 seconds\n",
      "loaded stations.parquet in 0.19 seconds\n",
      "registered dataframes as tables in 0.21 seconds\n"
     ]
    }
   ],
   "source": [
    "from Startup import *"
   ]
  },
  {
   "cell_type": "code",
   "execution_count": 2,
   "metadata": {},
   "outputs": [
    {
     "name": "stdout",
     "output_type": "stream",
     "text": [
      "df has 9358394 rows, stations has 85284 rows\n",
      "CPU times: user 4 ms, sys: 0 ns, total: 4 ms\n",
      "Wall time: 15.5 s\n"
     ]
    }
   ],
   "source": [
    "%%time\n",
    "print('df has %d rows, stations has %d rows'%(df.count(),stations.count()))"
   ]
  },
  {
   "cell_type": "code",
   "execution_count": 3,
   "metadata": {},
   "outputs": [
    {
     "name": "stdout",
     "output_type": "stream",
     "text": [
      "TMAX : shape of mdf is  967931\n",
      "time for TMAX is 987.1683599948883\n",
      "SNOW : shape of mdf is  881399\n",
      "time for SNOW is 830.0158543586731\n",
      "SNWD : shape of mdf is  864192\n",
      "time for SNWD is 750.2181012630463\n",
      "TMIN : shape of mdf is  969579\n",
      "time for TMIN is 962.1656839847565\n",
      "PRCP : shape of mdf is  2521007\n"
     ]
    },
    {
     "name": "stderr",
     "output_type": "stream",
     "text": [
      "/mnt/workspace/Public-DSC291/notebooks/Section2-PCA/Full_Dataset_analysis/lib/computeStatistics.py:60: RuntimeWarning: invalid value encountered in double_scalars\n",
      "  std=np.sqrt(S2/count-mean**2)\n",
      "/mnt/workspace/Public-DSC291/notebooks/Section2-PCA/PCA/lib/spark_PCA.py:36: RuntimeWarning: invalid value encountered in subtract\n",
      "  Cov=O/NO - np.outer(Mean,Mean)\n"
     ]
    },
    {
     "name": "stdout",
     "output_type": "stream",
     "text": [
      "time for PRCP is 2255.739919900894\n",
      "TOBS : shape of mdf is  478981\n",
      "time for TOBS is 451.5077791213989\n",
      "CPU times: user 5.72 s, sys: 440 ms, total: 6.16 s\n",
      "Wall time: 1h 43min 56s\n"
     ]
    }
   ],
   "source": [
    "%%time\n",
    "STAT=computeStatistics(sqlContext,df)"
   ]
  },
  {
   "cell_type": "code",
   "execution_count": 8,
   "metadata": {},
   "outputs": [
    {
     "name": "stdout",
     "output_type": "stream",
     "text": [
      "-rw-rw-r-- 1 hadoop hadoop 27M May  5 14:00 STAT_all.pkl\r\n"
     ]
    }
   ],
   "source": [
    "import pickle as pkl\n",
    "with open('STAT_all.pkl','wb') as pk_file:\n",
    "    pkl.dump(STAT,pk_file)\n",
    "!ls -lh STAT_all.pkl"
   ]
  },
  {
   "cell_type": "code",
   "execution_count": 3,
   "metadata": {},
   "outputs": [
    {
     "name": "stdout",
     "output_type": "stream",
     "text": [
      "MDPR : shape of mdf is  349252\n"
     ]
    },
    {
     "name": "stderr",
     "output_type": "stream",
     "text": [
      "/mnt/workspace/Public-DSC291/notebooks/Section2-PCA/PCA/lib/spark_PCA.py:36: RuntimeWarning: invalid value encountered in true_divide\n",
      "  Cov=O/NO - np.outer(Mean,Mean)\n"
     ]
    },
    {
     "name": "stdout",
     "output_type": "stream",
     "text": [
      "time for MDPR is 256.83741784095764\n",
      "DWPR : shape of mdf is  180462\n",
      "time for DWPR is 133.9655475616455\n",
      "DAPR : shape of mdf is  299139\n",
      "time for DAPR is 206.19285202026367\n"
     ]
    }
   ],
   "source": [
    "MDPR_STAT=computeStatistics(sqlContext,df,measurements=['MDPR', 'DWPR', 'DAPR'])"
   ]
  },
  {
   "cell_type": "code",
   "execution_count": 4,
   "metadata": {},
   "outputs": [
    {
     "name": "stdout",
     "output_type": "stream",
     "text": [
      "-rw-rw-r-- 1 hadoop hadoop 27M May  5 14:00 STAT_all.pkl\r\n",
      "-rw-rw-r-- 1 hadoop hadoop 13M May  5 17:32 STAT_MDPR.pkl\r\n"
     ]
    }
   ],
   "source": [
    "import pickle as pkl\n",
    "with open('STAT_MDPR.pkl','wb') as pk_file:\n",
    "    pkl.dump(MDPR_STAT,pk_file)\n",
    "!ls -lh *.pkl"
   ]
  },
  {
   "cell_type": "code",
   "execution_count": 12,
   "metadata": {},
   "outputs": [
    {
     "name": "stdout",
     "output_type": "stream",
     "text": [
      "upload: ./STAT_MDPR.pkl to s3://mas-dse-open/Weather/global_statistics/STAT_MDPR.pkl\n",
      "upload: ./STAT_all.pkl to s3://mas-dse-open/Weather/global_statistics/STAT_all.pkl\n"
     ]
    }
   ],
   "source": [
    "!aws s3 cp STAT_MDPR.pkl s3://mas-dse-open/Weather/global_statistics/STAT_MDPR.pkl\n",
    "!aws s3 cp STAT_all.pkl s3://mas-dse-open/Weather/global_statistics/STAT_all.pkl"
   ]
  },
  {
   "cell_type": "code",
   "execution_count": 16,
   "metadata": {},
   "outputs": [
    {
     "name": "stdout",
     "output_type": "stream",
     "text": [
      "2020-05-05 17:53:09   12904280 STAT_MDPR.pkl\r\n",
      "2020-05-05 17:53:10   27689262 STAT_all.pkl\r\n"
     ]
    }
   ],
   "source": [
    "!aws s3 ls mas-dse-open/Weather/global_statistics/"
   ]
  },
  {
   "cell_type": "code",
   "execution_count": null,
   "metadata": {
    "collapsed": true
   },
   "outputs": [],
   "source": []
  }
 ],
 "metadata": {
  "kernelspec": {
   "display_name": "Python 3",
   "language": "python",
   "name": "python3"
  },
  "language_info": {
   "codemirror_mode": {
    "name": "ipython",
    "version": 3
   },
   "file_extension": ".py",
   "mimetype": "text/x-python",
   "name": "python",
   "nbconvert_exporter": "python",
   "pygments_lexer": "ipython3",
   "version": "3.6.5"
  },
  "toc": {
   "base_numbering": 1,
   "nav_menu": {},
   "number_sections": true,
   "sideBar": true,
   "skip_h1_title": false,
   "title_cell": "Table of Contents",
   "title_sidebar": "Contents",
   "toc_cell": false,
   "toc_position": {},
   "toc_section_display": true,
   "toc_window_display": false
  },
  "varInspector": {
   "cols": {
    "lenName": 16,
    "lenType": 16,
    "lenVar": 40
   },
   "kernels_config": {
    "python": {
     "delete_cmd_postfix": "",
     "delete_cmd_prefix": "del ",
     "library": "var_list.py",
     "varRefreshCmd": "print(var_dic_list())"
    },
    "r": {
     "delete_cmd_postfix": ") ",
     "delete_cmd_prefix": "rm(",
     "library": "var_list.r",
     "varRefreshCmd": "cat(var_dic_list()) "
    }
   },
   "types_to_exclude": [
    "module",
    "function",
    "builtin_function_or_method",
    "instance",
    "_Feature"
   ],
   "window_display": false
  }
 },
 "nbformat": 4,
 "nbformat_minor": 1
}
