{
 "cells": [
  {
   "cell_type": "markdown",
   "metadata": {
    "slideshow": {
     "slide_type": "slide"
    }
   },
   "source": [
    "# Split into small Parquet files"
   ]
  },
  {
   "cell_type": "code",
   "execution_count": null,
   "metadata": {},
   "outputs": [],
   "source": [
    "sc.stop()"
   ]
  },
  {
   "cell_type": "code",
   "execution_count": 1,
   "metadata": {
    "scrolled": true
   },
   "outputs": [
    {
     "name": "stdout",
     "output_type": "stream",
     "text": [
      "CPU times: user 248 ms, sys: 16 ms, total: 264 ms\n",
      "Wall time: 13.4 s\n"
     ]
    }
   ],
   "source": [
    "%%time\n",
    "import sys\n",
    "sys.path.append('./lib')\n",
    "from numpy_pack import packArray,unpackArray\n",
    "from binary_search import binary_search\n",
    "\n",
    "from pyspark import SparkContext\n",
    "sc = SparkContext(pyFiles=['lib/numpy_pack.py'])"
   ]
  },
  {
   "cell_type": "code",
   "execution_count": 2,
   "metadata": {},
   "outputs": [],
   "source": [
    "Conf=sc.getConf()\n",
    "#Conf.getAll()"
   ]
  },
  {
   "cell_type": "code",
   "execution_count": 42,
   "metadata": {},
   "outputs": [
    {
     "name": "stdout",
     "output_type": "stream",
     "text": [
      "                           PRE 256_STAT/\r\n",
      "                           PRE NY.parquet/\r\n",
      "                           PRE US_Weather_with_smoothed.parquet/\r\n",
      "                           PRE US_stations.parquet/\r\n",
      "                           PRE US_weather.parquet/\r\n",
      "                           PRE info/\r\n",
      "                           PRE weather.parquet/\r\n",
      "2016-02-09 04:09:49 1511481989 ALL.csv.gz\r\n",
      "2018-04-18 15:48:12        715 ALLBootstrap.sh\r\n",
      "2018-04-18 15:48:13        539 MasterBootstrap.sh\r\n",
      "2018-04-17 02:25:22        600 PrivateBootstrap.sh\r\n",
      "2018-04-18 15:48:14        616 RunFromTerminal.sh\r\n",
      "2018-04-19 00:06:22          0 US_Weather_with_smoothed.parquet_$folder$\r\n",
      "2018-04-18 15:48:11        421 s3hook.sh\r\n"
     ]
    }
   ],
   "source": [
    "!aws s3 ls dse-weather"
   ]
  },
  {
   "cell_type": "code",
   "execution_count": 78,
   "metadata": {},
   "outputs": [],
   "source": [
    "# Open public bucket (readable by anybody with an AWS account, but not through a ublic URL)\n",
    "bucket='dse-weather'\n",
    "dir='/home/ec2-user/spark/'\n",
    "s3helper.open_bucket(bucket)\n",
    "from time import time"
   ]
  },
  {
   "cell_type": "code",
   "execution_count": 79,
   "metadata": {},
   "outputs": [
    {
     "name": "stdout",
     "output_type": "stream",
     "text": [
      "0 weather.parquet/_SUCCESS\n",
      "1 weather.parquet/part-00000-6cb19187-62a0-42ad-9516-e03e05ea0c40-c000.snappy.parquet\n",
      "2 weather.parquet/part-00001-6cb19187-62a0-42ad-9516-e03e05ea0c40-c000.snappy.parquet\n",
      "3 weather.parquet/part-00002-6cb19187-62a0-42ad-9516-e03e05ea0c40-c000.snappy.parquet\n",
      "4 weather.parquet/part-00003-6cb19187-62a0-42ad-9516-e03e05ea0c40-c000.snappy.parquet\n",
      "5 weather.parquet/part-00004-6cb19187-62a0-42ad-9516-e03e05ea0c40-c000.snappy.parquet\n",
      "6 weather.parquet/part-00005-6cb19187-62a0-42ad-9516-e03e05ea0c40-c000.snappy.parquet\n",
      "7 weather.parquet/part-00006-6cb19187-62a0-42ad-9516-e03e05ea0c40-c000.snappy.parquet\n",
      "8 weather.parquet/part-00007-6cb19187-62a0-42ad-9516-e03e05ea0c40-c000.snappy.parquet\n",
      "9 weather.parquet/part-00008-6cb19187-62a0-42ad-9516-e03e05ea0c40-c000.snappy.parquet\n",
      "10 weather.parquet/part-00009-6cb19187-62a0-42ad-9516-e03e05ea0c40-c000.snappy.parquet\n",
      "11 weather.parquet/part-00010-6cb19187-62a0-42ad-9516-e03e05ea0c40-c000.snappy.parquet\n",
      "12 weather.parquet/part-00011-6cb19187-62a0-42ad-9516-e03e05ea0c40-c000.snappy.parquet\n",
      "13 weather.parquet/part-00012-6cb19187-62a0-42ad-9516-e03e05ea0c40-c000.snappy.parquet\n",
      "14 weather.parquet/part-00013-6cb19187-62a0-42ad-9516-e03e05ea0c40-c000.snappy.parquet\n",
      "15 weather.parquet/part-00014-6cb19187-62a0-42ad-9516-e03e05ea0c40-c000.snappy.parquet\n",
      "16 weather.parquet/part-00015-6cb19187-62a0-42ad-9516-e03e05ea0c40-c000.snappy.parquet\n",
      "17 weather.parquet/part-00016-6cb19187-62a0-42ad-9516-e03e05ea0c40-c000.snappy.parquet\n",
      "18 weather.parquet/part-00017-6cb19187-62a0-42ad-9516-e03e05ea0c40-c000.snappy.parquet\n",
      "19 weather.parquet/part-00018-6cb19187-62a0-42ad-9516-e03e05ea0c40-c000.snappy.parquet\n",
      "20 weather.parquet/part-00019-6cb19187-62a0-42ad-9516-e03e05ea0c40-c000.snappy.parquet\n",
      "21 weather.parquet/part-00020-6cb19187-62a0-42ad-9516-e03e05ea0c40-c000.snappy.parquet\n",
      "22 weather.parquet/part-00021-6cb19187-62a0-42ad-9516-e03e05ea0c40-c000.snappy.parquet\n",
      "23 weather.parquet/part-00022-6cb19187-62a0-42ad-9516-e03e05ea0c40-c000.snappy.parquet\n",
      "24 weather.parquet/part-00023-6cb19187-62a0-42ad-9516-e03e05ea0c40-c000.snappy.parquet\n",
      "25 weather.parquet/part-00024-6cb19187-62a0-42ad-9516-e03e05ea0c40-c000.snappy.parquet\n",
      "26 weather.parquet/part-00025-6cb19187-62a0-42ad-9516-e03e05ea0c40-c000.snappy.parquet\n",
      "27 weather.parquet/part-00026-6cb19187-62a0-42ad-9516-e03e05ea0c40-c000.snappy.parquet\n",
      "28 weather.parquet/part-00027-6cb19187-62a0-42ad-9516-e03e05ea0c40-c000.snappy.parquet\n",
      "29 weather.parquet/part-00028-6cb19187-62a0-42ad-9516-e03e05ea0c40-c000.snappy.parquet\n",
      "30 weather.parquet/part-00029-6cb19187-62a0-42ad-9516-e03e05ea0c40-c000.snappy.parquet\n",
      "31 weather.parquet/part-00030-6cb19187-62a0-42ad-9516-e03e05ea0c40-c000.snappy.parquet\n",
      "32 weather.parquet/part-00031-6cb19187-62a0-42ad-9516-e03e05ea0c40-c000.snappy.parquet\n",
      "33 weather.parquet/part-00032-6cb19187-62a0-42ad-9516-e03e05ea0c40-c000.snappy.parquet\n",
      "34 weather.parquet/part-00033-6cb19187-62a0-42ad-9516-e03e05ea0c40-c000.snappy.parquet\n",
      "35 weather.parquet/part-00034-6cb19187-62a0-42ad-9516-e03e05ea0c40-c000.snappy.parquet\n",
      "36 weather.parquet/part-00035-6cb19187-62a0-42ad-9516-e03e05ea0c40-c000.snappy.parquet\n",
      "37 weather.parquet/part-00036-6cb19187-62a0-42ad-9516-e03e05ea0c40-c000.snappy.parquet\n",
      "38 weather.parquet/part-00037-6cb19187-62a0-42ad-9516-e03e05ea0c40-c000.snappy.parquet\n",
      "39 weather.parquet/part-00038-6cb19187-62a0-42ad-9516-e03e05ea0c40-c000.snappy.parquet\n",
      "40 weather.parquet/part-00039-6cb19187-62a0-42ad-9516-e03e05ea0c40-c000.snappy.parquet\n",
      "41 weather.parquet/part-00040-6cb19187-62a0-42ad-9516-e03e05ea0c40-c000.snappy.parquet\n",
      "42 weather.parquet/part-00041-6cb19187-62a0-42ad-9516-e03e05ea0c40-c000.snappy.parquet\n",
      "43 weather.parquet/part-00042-6cb19187-62a0-42ad-9516-e03e05ea0c40-c000.snappy.parquet\n",
      "44 weather.parquet/part-00043-6cb19187-62a0-42ad-9516-e03e05ea0c40-c000.snappy.parquet\n",
      "45 weather.parquet/part-00044-6cb19187-62a0-42ad-9516-e03e05ea0c40-c000.snappy.parquet\n",
      "46 weather.parquet/part-00045-6cb19187-62a0-42ad-9516-e03e05ea0c40-c000.snappy.parquet\n",
      "47 weather.parquet/part-00046-6cb19187-62a0-42ad-9516-e03e05ea0c40-c000.snappy.parquet\n",
      "48 weather.parquet/part-00047-6cb19187-62a0-42ad-9516-e03e05ea0c40-c000.snappy.parquet\n",
      "49 weather.parquet/part-00048-6cb19187-62a0-42ad-9516-e03e05ea0c40-c000.snappy.parquet\n",
      "50 weather.parquet/part-00049-6cb19187-62a0-42ad-9516-e03e05ea0c40-c000.snappy.parquet\n",
      "51 weather.parquet/part-00050-6cb19187-62a0-42ad-9516-e03e05ea0c40-c000.snappy.parquet\n",
      "52 weather.parquet/part-00051-6cb19187-62a0-42ad-9516-e03e05ea0c40-c000.snappy.parquet\n",
      "53 weather.parquet/part-00052-6cb19187-62a0-42ad-9516-e03e05ea0c40-c000.snappy.parquet\n",
      "54 weather.parquet/part-00053-6cb19187-62a0-42ad-9516-e03e05ea0c40-c000.snappy.parquet\n",
      "55 weather.parquet/part-00054-6cb19187-62a0-42ad-9516-e03e05ea0c40-c000.snappy.parquet\n",
      "56 weather.parquet/part-00055-6cb19187-62a0-42ad-9516-e03e05ea0c40-c000.snappy.parquet\n",
      "57 weather.parquet/part-00056-6cb19187-62a0-42ad-9516-e03e05ea0c40-c000.snappy.parquet\n",
      "58 weather.parquet/part-00057-6cb19187-62a0-42ad-9516-e03e05ea0c40-c000.snappy.parquet\n"
     ]
    }
   ],
   "source": [
    "src= \"weather.parquet/\"\n",
    "files = s3helper.bucket.list(prefix=src)\n",
    "i=0\n",
    "for file in files:\n",
    "    print(i,file.key)\n",
    "    i+=1"
   ]
  },
  {
   "cell_type": "code",
   "execution_count": 80,
   "metadata": {},
   "outputs": [
    {
     "data": {
      "text/plain": [
       "S3Connection:s3.amazonaws.com"
      ]
     },
     "execution_count": 80,
     "metadata": {},
     "output_type": "execute_result"
    }
   ],
   "source": [
    "s3helper.conn"
   ]
  },
  {
   "cell_type": "code",
   "execution_count": 81,
   "metadata": {
    "collapsed": true
   },
   "outputs": [],
   "source": [
    "file_names=['weather.parquet/']"
   ]
  },
  {
   "cell_type": "code",
   "execution_count": 82,
   "metadata": {
    "scrolled": false
   },
   "outputs": [
    {
     "name": "stdout",
     "output_type": "stream",
     "text": [
      "rm: `/weather.parquet/': No such file or directory\n",
      "deleted weather.parquet/ in 2.14 seconds\n",
      "s3_to_hdfs: src= \"weather.parquet/\", tgt=\"/weather.parquet/\"\n",
      "s3_to_hdfs, self.bucket.list(prefix=src), src= weather.parquet/\n",
      "s3_to_hdfs, src= weather.parquet/\n",
      "files=[s3n://dse-weather/weather.parquet/_SUCCESS s3n://dse-weather/weather.parquet/part-00000-6cb19187-62a0-42ad-9516-e03e05ea0c40-c000.snappy.parquet s3n://dse-weather/weather.parquet/part-00001-6cb19187-62a0-42ad-9516-e03e05ea0c40-c000.snappy.parquet s3n://dse-weather/weather.parquet/part-00002-6cb19187-62a0-42ad-9516-e03e05ea0c40-c000.snappy.parquet s3n://dse-weather/weather.parquet/part-00003-6cb19187-62a0-42ad-9516-e03e05ea0c40-c000.snappy.parquet s3n://dse-weather/weather.parquet/part-00004-6cb19187-62a0-42ad-9516-e03e05ea0c40-c000.snappy.parquet s3n://dse-weather/weather.parquet/part-00005-6cb19187-62a0-42ad-9516-e03e05ea0c40-c000.snappy.parquet s3n://dse-weather/weather.parquet/part-00006-6cb19187-62a0-42ad-9516-e03e05ea0c40-c000.snappy.parquet s3n://dse-weather/weather.parquet/part-00007-6cb19187-62a0-42ad-9516-e03e05ea0c40-c000.snappy.parquet s3n://dse-weather/weather.parquet/part-00008-6cb19187-62a0-42ad-9516-e03e05ea0c40-c000.snappy.parquet s3n://dse-weather/weather.parquet/part-00009-6cb19187-62a0-42ad-9516-e03e05ea0c40-c000.snappy.parquet s3n://dse-weather/weather.parquet/part-00010-6cb19187-62a0-42ad-9516-e03e05ea0c40-c000.snappy.parquet s3n://dse-weather/weather.parquet/part-00011-6cb19187-62a0-42ad-9516-e03e05ea0c40-c000.snappy.parquet s3n://dse-weather/weather.parquet/part-00012-6cb19187-62a0-42ad-9516-e03e05ea0c40-c000.snappy.parquet s3n://dse-weather/weather.parquet/part-00013-6cb19187-62a0-42ad-9516-e03e05ea0c40-c000.snappy.parquet s3n://dse-weather/weather.parquet/part-00014-6cb19187-62a0-42ad-9516-e03e05ea0c40-c000.snappy.parquet s3n://dse-weather/weather.parquet/part-00015-6cb19187-62a0-42ad-9516-e03e05ea0c40-c000.snappy.parquet s3n://dse-weather/weather.parquet/part-00016-6cb19187-62a0-42ad-9516-e03e05ea0c40-c000.snappy.parquet s3n://dse-weather/weather.parquet/part-00017-6cb19187-62a0-42ad-9516-e03e05ea0c40-c000.snappy.parquet s3n://dse-weather/weather.parquet/part-00018-6cb19187-62a0-42ad-9516-e03e05ea0c40-c000.snappy.parquet s3n://dse-weather/weather.parquet/part-00019-6cb19187-62a0-42ad-9516-e03e05ea0c40-c000.snappy.parquet s3n://dse-weather/weather.parquet/part-00020-6cb19187-62a0-42ad-9516-e03e05ea0c40-c000.snappy.parquet s3n://dse-weather/weather.parquet/part-00021-6cb19187-62a0-42ad-9516-e03e05ea0c40-c000.snappy.parquet s3n://dse-weather/weather.parquet/part-00022-6cb19187-62a0-42ad-9516-e03e05ea0c40-c000.snappy.parquet s3n://dse-weather/weather.parquet/part-00023-6cb19187-62a0-42ad-9516-e03e05ea0c40-c000.snappy.parquet s3n://dse-weather/weather.parquet/part-00024-6cb19187-62a0-42ad-9516-e03e05ea0c40-c000.snappy.parquet s3n://dse-weather/weather.parquet/part-00025-6cb19187-62a0-42ad-9516-e03e05ea0c40-c000.snappy.parquet s3n://dse-weather/weather.parquet/part-00026-6cb19187-62a0-42ad-9516-e03e05ea0c40-c000.snappy.parquet s3n://dse-weather/weather.parquet/part-00027-6cb19187-62a0-42ad-9516-e03e05ea0c40-c000.snappy.parquet s3n://dse-weather/weather.parquet/part-00028-6cb19187-62a0-42ad-9516-e03e05ea0c40-c000.snappy.parquet s3n://dse-weather/weather.parquet/part-00029-6cb19187-62a0-42ad-9516-e03e05ea0c40-c000.snappy.parquet s3n://dse-weather/weather.parquet/part-00030-6cb19187-62a0-42ad-9516-e03e05ea0c40-c000.snappy.parquet s3n://dse-weather/weather.parquet/part-00031-6cb19187-62a0-42ad-9516-e03e05ea0c40-c000.snappy.parquet s3n://dse-weather/weather.parquet/part-00032-6cb19187-62a0-42ad-9516-e03e05ea0c40-c000.snappy.parquet s3n://dse-weather/weather.parquet/part-00033-6cb19187-62a0-42ad-9516-e03e05ea0c40-c000.snappy.parquet s3n://dse-weather/weather.parquet/part-00034-6cb19187-62a0-42ad-9516-e03e05ea0c40-c000.snappy.parquet s3n://dse-weather/weather.parquet/part-00035-6cb19187-62a0-42ad-9516-e03e05ea0c40-c000.snappy.parquet s3n://dse-weather/weather.parquet/part-00036-6cb19187-62a0-42ad-9516-e03e05ea0c40-c000.snappy.parquet s3n://dse-weather/weather.parquet/part-00037-6cb19187-62a0-42ad-9516-e03e05ea0c40-c000.snappy.parquet s3n://dse-weather/weather.parquet/part-00038-6cb19187-62a0-42ad-9516-e03e05ea0c40-c000.snappy.parquet s3n://dse-weather/weather.parquet/part-00039-6cb19187-62a0-42ad-9516-e03e05ea0c40-c000.snappy.parquet s3n://dse-weather/weather.parquet/part-00040-6cb19187-62a0-42ad-9516-e03e05ea0c40-c000.snappy.parquet s3n://dse-weather/weather.parquet/part-00041-6cb19187-62a0-42ad-9516-e03e05ea0c40-c000.snappy.parquet s3n://dse-weather/weather.parquet/part-00042-6cb19187-62a0-42ad-9516-e03e05ea0c40-c000.snappy.parquet s3n://dse-weather/weather.parquet/part-00043-6cb19187-62a0-42ad-9516-e03e05ea0c40-c000.snappy.parquet s3n://dse-weather/weather.parquet/part-00044-6cb19187-62a0-42ad-9516-e03e05ea0c40-c000.snappy.parquet s3n://dse-weather/weather.parquet/part-00045-6cb19187-62a0-42ad-9516-e03e05ea0c40-c000.snappy.parquet s3n://dse-weather/weather.parquet/part-00046-6cb19187-62a0-42ad-9516-e03e05ea0c40-c000.snappy.parquet s3n://dse-weather/weather.parquet/part-00047-6cb19187-62a0-42ad-9516-e03e05ea0c40-c000.snappy.parquet s3n://dse-weather/weather.parquet/part-00048-6cb19187-62a0-42ad-9516-e03e05ea0c40-c000.snappy.parquet s3n://dse-weather/weather.parquet/part-00049-6cb19187-62a0-42ad-9516-e03e05ea0c40-c000.snappy.parquet s3n://dse-weather/weather.parquet/part-00050-6cb19187-62a0-42ad-9516-e03e05ea0c40-c000.snappy.parquet s3n://dse-weather/weather.parquet/part-00051-6cb19187-62a0-42ad-9516-e03e05ea0c40-c000.snappy.parquet s3n://dse-weather/weather.parquet/part-00052-6cb19187-62a0-42ad-9516-e03e05ea0c40-c000.snappy.parquet s3n://dse-weather/weather.parquet/part-00053-6cb19187-62a0-42ad-9516-e03e05ea0c40-c000.snappy.parquet s3n://dse-weather/weather.parquet/part-00054-6cb19187-62a0-42ad-9516-e03e05ea0c40-c000.snappy.parquet s3n://dse-weather/weather.parquet/part-00055-6cb19187-62a0-42ad-9516-e03e05ea0c40-c000.snappy.parquet s3n://dse-weather/weather.parquet/part-00056-6cb19187-62a0-42ad-9516-e03e05ea0c40-c000.snappy.parquet s3n://dse-weather/weather.parquet/part-00057-6cb19187-62a0-42ad-9516-e03e05ea0c40-c000.snappy.parquet]\n",
      "_s3_to_hdfs files=s3n://dse-weather/weather.parquet/_SUCCESS s3n://dse-weather/weather.parquet/part-00000-6cb19187-62a0-42ad-9516-e03e05ea0c40-c000.snappy.parquet s3n://dse-weather/weather.parquet/part-00001-6cb19187-62a0-42ad-9516-e03e05ea0c40-c000.snappy.parquet s3n://dse-weather/weather.parquet/part-00002-6cb19187-62a0-42ad-9516-e03e05ea0c40-c000.snappy.parquet s3n://dse-weather/weather.parquet/part-00003-6cb19187-62a0-42ad-9516-e03e05ea0c40-c000.snappy.parquet s3n://dse-weather/weather.parquet/part-00004-6cb19187-62a0-42ad-9516-e03e05ea0c40-c000.snappy.parquet s3n://dse-weather/weather.parquet/part-00005-6cb19187-62a0-42ad-9516-e03e05ea0c40-c000.snappy.parquet s3n://dse-weather/weather.parquet/part-00006-6cb19187-62a0-42ad-9516-e03e05ea0c40-c000.snappy.parquet s3n://dse-weather/weather.parquet/part-00007-6cb19187-62a0-42ad-9516-e03e05ea0c40-c000.snappy.parquet s3n://dse-weather/weather.parquet/part-00008-6cb19187-62a0-42ad-9516-e03e05ea0c40-c000.snappy.parquet s3n://dse-weather/weather.parquet/part-00009-6cb19187-62a0-42ad-9516-e03e05ea0c40-c000.snappy.parquet s3n://dse-weather/weather.parquet/part-00010-6cb19187-62a0-42ad-9516-e03e05ea0c40-c000.snappy.parquet s3n://dse-weather/weather.parquet/part-00011-6cb19187-62a0-42ad-9516-e03e05ea0c40-c000.snappy.parquet s3n://dse-weather/weather.parquet/part-00012-6cb19187-62a0-42ad-9516-e03e05ea0c40-c000.snappy.parquet s3n://dse-weather/weather.parquet/part-00013-6cb19187-62a0-42ad-9516-e03e05ea0c40-c000.snappy.parquet s3n://dse-weather/weather.parquet/part-00014-6cb19187-62a0-42ad-9516-e03e05ea0c40-c000.snappy.parquet s3n://dse-weather/weather.parquet/part-00015-6cb19187-62a0-42ad-9516-e03e05ea0c40-c000.snappy.parquet s3n://dse-weather/weather.parquet/part-00016-6cb19187-62a0-42ad-9516-e03e05ea0c40-c000.snappy.parquet s3n://dse-weather/weather.parquet/part-00017-6cb19187-62a0-42ad-9516-e03e05ea0c40-c000.snappy.parquet s3n://dse-weather/weather.parquet/part-00018-6cb19187-62a0-42ad-9516-e03e05ea0c40-c000.snappy.parquet s3n://dse-weather/weather.parquet/part-00019-6cb19187-62a0-42ad-9516-e03e05ea0c40-c000.snappy.parquet s3n://dse-weather/weather.parquet/part-00020-6cb19187-62a0-42ad-9516-e03e05ea0c40-c000.snappy.parquet s3n://dse-weather/weather.parquet/part-00021-6cb19187-62a0-42ad-9516-e03e05ea0c40-c000.snappy.parquet s3n://dse-weather/weather.parquet/part-00022-6cb19187-62a0-42ad-9516-e03e05ea0c40-c000.snappy.parquet s3n://dse-weather/weather.parquet/part-00023-6cb19187-62a0-42ad-9516-e03e05ea0c40-c000.snappy.parquet s3n://dse-weather/weather.parquet/part-00024-6cb19187-62a0-42ad-9516-e03e05ea0c40-c000.snappy.parquet s3n://dse-weather/weather.parquet/part-00025-6cb19187-62a0-42ad-9516-e03e05ea0c40-c000.snappy.parquet s3n://dse-weather/weather.parquet/part-00026-6cb19187-62a0-42ad-9516-e03e05ea0c40-c000.snappy.parquet s3n://dse-weather/weather.parquet/part-00027-6cb19187-62a0-42ad-9516-e03e05ea0c40-c000.snappy.parquet s3n://dse-weather/weather.parquet/part-00028-6cb19187-62a0-42ad-9516-e03e05ea0c40-c000.snappy.parquet s3n://dse-weather/weather.parquet/part-00029-6cb19187-62a0-42ad-9516-e03e05ea0c40-c000.snappy.parquet s3n://dse-weather/weather.parquet/part-00030-6cb19187-62a0-42ad-9516-e03e05ea0c40-c000.snappy.parquet s3n://dse-weather/weather.parquet/part-00031-6cb19187-62a0-42ad-9516-e03e05ea0c40-c000.snappy.parquet s3n://dse-weather/weather.parquet/part-00032-6cb19187-62a0-42ad-9516-e03e05ea0c40-c000.snappy.parquet s3n://dse-weather/weather.parquet/part-00033-6cb19187-62a0-42ad-9516-e03e05ea0c40-c000.snappy.parquet s3n://dse-weather/weather.parquet/part-00034-6cb19187-62a0-42ad-9516-e03e05ea0c40-c000.snappy.parquet s3n://dse-weather/weather.parquet/part-00035-6cb19187-62a0-42ad-9516-e03e05ea0c40-c000.snappy.parquet s3n://dse-weather/weather.parquet/part-00036-6cb19187-62a0-42ad-9516-e03e05ea0c40-c000.snappy.parquet s3n://dse-weather/weather.parquet/part-00037-6cb19187-62a0-42ad-9516-e03e05ea0c40-c000.snappy.parquet s3n://dse-weather/weather.parquet/part-00038-6cb19187-62a0-42ad-9516-e03e05ea0c40-c000.snappy.parquet s3n://dse-weather/weather.parquet/part-00039-6cb19187-62a0-42ad-9516-e03e05ea0c40-c000.snappy.parquet s3n://dse-weather/weather.parquet/part-00040-6cb19187-62a0-42ad-9516-e03e05ea0c40-c000.snappy.parquet s3n://dse-weather/weather.parquet/part-00041-6cb19187-62a0-42ad-9516-e03e05ea0c40-c000.snappy.parquet s3n://dse-weather/weather.parquet/part-00042-6cb19187-62a0-42ad-9516-e03e05ea0c40-c000.snappy.parquet s3n://dse-weather/weather.parquet/part-00043-6cb19187-62a0-42ad-9516-e03e05ea0c40-c000.snappy.parquet s3n://dse-weather/weather.parquet/part-00044-6cb19187-62a0-42ad-9516-e03e05ea0c40-c000.snappy.parquet s3n://dse-weather/weather.parquet/part-00045-6cb19187-62a0-42ad-9516-e03e05ea0c40-c000.snappy.parquet s3n://dse-weather/weather.parquet/part-00046-6cb19187-62a0-42ad-9516-e03e05ea0c40-c000.snappy.parquet s3n://dse-weather/weather.parquet/part-00047-6cb19187-62a0-42ad-9516-e03e05ea0c40-c000.snappy.parquet s3n://dse-weather/weather.parquet/part-00048-6cb19187-62a0-42ad-9516-e03e05ea0c40-c000.snappy.parquet s3n://dse-weather/weather.parquet/part-00049-6cb19187-62a0-42ad-9516-e03e05ea0c40-c000.snappy.parquet s3n://dse-weather/weather.parquet/part-00050-6cb19187-62a0-42ad-9516-e03e05ea0c40-c000.snappy.parquet s3n://dse-weather/weather.parquet/part-00051-6cb19187-62a0-42ad-9516-e03e05ea0c40-c000.snappy.parquet s3n://dse-weather/weather.parquet/part-00052-6cb19187-62a0-42ad-9516-e03e05ea0c40-c000.snappy.parquet s3n://dse-weather/weather.parquet/part-00053-6cb19187-62a0-42ad-9516-e03e05ea0c40-c000.snappy.parquet s3n://dse-weather/weather.parquet/part-00054-6cb19187-62a0-42ad-9516-e03e05ea0c40-c000.snappy.parquet s3n://dse-weather/weather.parquet/part-00055-6cb19187-62a0-42ad-9516-e03e05ea0c40-c000.snappy.parquet s3n://dse-weather/weather.parquet/part-00056-6cb19187-62a0-42ad-9516-e03e05ea0c40-c000.snappy.parquet s3n://dse-weather/weather.parquet/part-00057-6cb19187-62a0-42ad-9516-e03e05ea0c40-c000.snappy.parquet, tgt=/weather.parquet/\n",
      "about to run  command:'/usr/bin/hdfs dfs -mkdir -p /weather.parquet/'\n"
     ]
    },
    {
     "name": "stdout",
     "output_type": "stream",
     "text": [
      "about to run  command:'/usr/bin/hdfs dfs -cp s3n://dse-weather/weather.parquet/_SUCCESS s3n://dse-weather/weather.parquet/part-00000-6cb19187-62a0-42ad-9516-e03e05ea0c40-c000.snappy.parquet s3n://dse-weather/weather.parquet/part-00001-6cb19187-62a0-42ad-9516-e03e05ea0c40-c000.snappy.parquet s3n://dse-weather/weather.parquet/part-00002-6cb19187-62a0-42ad-9516-e03e05ea0c40-c000.snappy.parquet s3n://dse-weather/weather.parquet/part-00003-6cb19187-62a0-42ad-9516-e03e05ea0c40-c000.snappy.parquet s3n://dse-weather/weather.parquet/part-00004-6cb19187-62a0-42ad-9516-e03e05ea0c40-c000.snappy.parquet s3n://dse-weather/weather.parquet/part-00005-6cb19187-62a0-42ad-9516-e03e05ea0c40-c000.snappy.parquet s3n://dse-weather/weather.parquet/part-00006-6cb19187-62a0-42ad-9516-e03e05ea0c40-c000.snappy.parquet s3n://dse-weather/weather.parquet/part-00007-6cb19187-62a0-42ad-9516-e03e05ea0c40-c000.snappy.parquet s3n://dse-weather/weather.parquet/part-00008-6cb19187-62a0-42ad-9516-e03e05ea0c40-c000.snappy.parquet s3n://dse-weather/weather.parquet/part-00009-6cb19187-62a0-42ad-9516-e03e05ea0c40-c000.snappy.parquet s3n://dse-weather/weather.parquet/part-00010-6cb19187-62a0-42ad-9516-e03e05ea0c40-c000.snappy.parquet s3n://dse-weather/weather.parquet/part-00011-6cb19187-62a0-42ad-9516-e03e05ea0c40-c000.snappy.parquet s3n://dse-weather/weather.parquet/part-00012-6cb19187-62a0-42ad-9516-e03e05ea0c40-c000.snappy.parquet s3n://dse-weather/weather.parquet/part-00013-6cb19187-62a0-42ad-9516-e03e05ea0c40-c000.snappy.parquet s3n://dse-weather/weather.parquet/part-00014-6cb19187-62a0-42ad-9516-e03e05ea0c40-c000.snappy.parquet s3n://dse-weather/weather.parquet/part-00015-6cb19187-62a0-42ad-9516-e03e05ea0c40-c000.snappy.parquet s3n://dse-weather/weather.parquet/part-00016-6cb19187-62a0-42ad-9516-e03e05ea0c40-c000.snappy.parquet s3n://dse-weather/weather.parquet/part-00017-6cb19187-62a0-42ad-9516-e03e05ea0c40-c000.snappy.parquet s3n://dse-weather/weather.parquet/part-00018-6cb19187-62a0-42ad-9516-e03e05ea0c40-c000.snappy.parquet s3n://dse-weather/weather.parquet/part-00019-6cb19187-62a0-42ad-9516-e03e05ea0c40-c000.snappy.parquet s3n://dse-weather/weather.parquet/part-00020-6cb19187-62a0-42ad-9516-e03e05ea0c40-c000.snappy.parquet s3n://dse-weather/weather.parquet/part-00021-6cb19187-62a0-42ad-9516-e03e05ea0c40-c000.snappy.parquet s3n://dse-weather/weather.parquet/part-00022-6cb19187-62a0-42ad-9516-e03e05ea0c40-c000.snappy.parquet s3n://dse-weather/weather.parquet/part-00023-6cb19187-62a0-42ad-9516-e03e05ea0c40-c000.snappy.parquet s3n://dse-weather/weather.parquet/part-00024-6cb19187-62a0-42ad-9516-e03e05ea0c40-c000.snappy.parquet s3n://dse-weather/weather.parquet/part-00025-6cb19187-62a0-42ad-9516-e03e05ea0c40-c000.snappy.parquet s3n://dse-weather/weather.parquet/part-00026-6cb19187-62a0-42ad-9516-e03e05ea0c40-c000.snappy.parquet s3n://dse-weather/weather.parquet/part-00027-6cb19187-62a0-42ad-9516-e03e05ea0c40-c000.snappy.parquet s3n://dse-weather/weather.parquet/part-00028-6cb19187-62a0-42ad-9516-e03e05ea0c40-c000.snappy.parquet s3n://dse-weather/weather.parquet/part-00029-6cb19187-62a0-42ad-9516-e03e05ea0c40-c000.snappy.parquet s3n://dse-weather/weather.parquet/part-00030-6cb19187-62a0-42ad-9516-e03e05ea0c40-c000.snappy.parquet s3n://dse-weather/weather.parquet/part-00031-6cb19187-62a0-42ad-9516-e03e05ea0c40-c000.snappy.parquet s3n://dse-weather/weather.parquet/part-00032-6cb19187-62a0-42ad-9516-e03e05ea0c40-c000.snappy.parquet s3n://dse-weather/weather.parquet/part-00033-6cb19187-62a0-42ad-9516-e03e05ea0c40-c000.snappy.parquet s3n://dse-weather/weather.parquet/part-00034-6cb19187-62a0-42ad-9516-e03e05ea0c40-c000.snappy.parquet s3n://dse-weather/weather.parquet/part-00035-6cb19187-62a0-42ad-9516-e03e05ea0c40-c000.snappy.parquet s3n://dse-weather/weather.parquet/part-00036-6cb19187-62a0-42ad-9516-e03e05ea0c40-c000.snappy.parquet s3n://dse-weather/weather.parquet/part-00037-6cb19187-62a0-42ad-9516-e03e05ea0c40-c000.snappy.parquet s3n://dse-weather/weather.parquet/part-00038-6cb19187-62a0-42ad-9516-e03e05ea0c40-c000.snappy.parquet s3n://dse-weather/weather.parquet/part-00039-6cb19187-62a0-42ad-9516-e03e05ea0c40-c000.snappy.parquet s3n://dse-weather/weather.parquet/part-00040-6cb19187-62a0-42ad-9516-e03e05ea0c40-c000.snappy.parquet s3n://dse-weather/weather.parquet/part-00041-6cb19187-62a0-42ad-9516-e03e05ea0c40-c000.snappy.parquet s3n://dse-weather/weather.parquet/part-00042-6cb19187-62a0-42ad-9516-e03e05ea0c40-c000.snappy.parquet s3n://dse-weather/weather.parquet/part-00043-6cb19187-62a0-42ad-9516-e03e05ea0c40-c000.snappy.parquet s3n://dse-weather/weather.parquet/part-00044-6cb19187-62a0-42ad-9516-e03e05ea0c40-c000.snappy.parquet s3n://dse-weather/weather.parquet/part-00045-6cb19187-62a0-42ad-9516-e03e05ea0c40-c000.snappy.parquet s3n://dse-weather/weather.parquet/part-00046-6cb19187-62a0-42ad-9516-e03e05ea0c40-c000.snappy.parquet s3n://dse-weather/weather.parquet/part-00047-6cb19187-62a0-42ad-9516-e03e05ea0c40-c000.snappy.parquet s3n://dse-weather/weather.parquet/part-00048-6cb19187-62a0-42ad-9516-e03e05ea0c40-c000.snappy.parquet s3n://dse-weather/weather.parquet/part-00049-6cb19187-62a0-42ad-9516-e03e05ea0c40-c000.snappy.parquet s3n://dse-weather/weather.parquet/part-00050-6cb19187-62a0-42ad-9516-e03e05ea0c40-c000.snappy.parquet s3n://dse-weather/weather.parquet/part-00051-6cb19187-62a0-42ad-9516-e03e05ea0c40-c000.snappy.parquet s3n://dse-weather/weather.parquet/part-00052-6cb19187-62a0-42ad-9516-e03e05ea0c40-c000.snappy.parquet s3n://dse-weather/weather.parquet/part-00053-6cb19187-62a0-42ad-9516-e03e05ea0c40-c000.snappy.parquet s3n://dse-weather/weather.parquet/part-00054-6cb19187-62a0-42ad-9516-e03e05ea0c40-c000.snappy.parquet s3n://dse-weather/weather.parquet/part-00055-6cb19187-62a0-42ad-9516-e03e05ea0c40-c000.snappy.parquet s3n://dse-weather/weather.parquet/part-00056-6cb19187-62a0-42ad-9516-e03e05ea0c40-c000.snappy.parquet s3n://dse-weather/weather.parquet/part-00057-6cb19187-62a0-42ad-9516-e03e05ea0c40-c000.snappy.parquet /weather.parquet/'\n",
      "b\"20/04/26 21:35:35 INFO s3n.S3NativeFileSystem: Opening 's3n://dse-weather/weather.parquet/_SUCCESS' for reading\\n20/04/26 21:35:35 INFO s3n.S3NativeFileSystem: Opening 's3n://dse-weather/weather.parquet/part-00000-6cb19187-62a0-42ad-9516-e03e05ea0c40-c000.snappy.parquet' for reading\\n20/04/26 21:35:37 INFO s3n.S3NativeFileSystem: Opening 's3n://dse-weather/weather.parquet/part-00001-6cb19187-62a0-42ad-9516-e03e05ea0c40-c000.snappy.parquet' for reading\\n20/04/26 21:35:39 INFO s3n.S3NativeFileSystem: Opening 's3n://dse-weather/weather.parquet/part-00002-6cb19187-62a0-42ad-9516-e03e05ea0c40-c000.snappy.parquet' for reading\\n20/04/26 21:35:40 INFO s3n.S3NativeFileSystem: Opening 's3n://dse-weather/weather.parquet/part-00003-6cb19187-62a0-42ad-9516-e03e05ea0c40-c000.snappy.parquet' for reading\\n20/04/26 21:35:42 INFO s3n.S3NativeFileSystem: Opening 's3n://dse-weather/weather.parquet/part-00004-6cb19187-62a0-42ad-9516-e03e05ea0c40-c000.snappy.parquet' for reading\\n20/04/26 21:35:44 INFO s3n.S3NativeFileSystem: Opening 's3n://dse-weather/weather.parquet/part-00005-6cb19187-62a0-42ad-9516-e03e05ea0c40-c000.snappy.parquet' for reading\\n20/04/26 21:35:46 INFO s3n.S3NativeFileSystem: Opening 's3n://dse-weather/weather.parquet/part-00006-6cb19187-62a0-42ad-9516-e03e05ea0c40-c000.snappy.parquet' for reading\\n20/04/26 21:35:47 INFO s3n.S3NativeFileSystem: Opening 's3n://dse-weather/weather.parquet/part-00007-6cb19187-62a0-42ad-9516-e03e05ea0c40-c000.snappy.parquet' for reading\\n20/04/26 21:35:49 INFO s3n.S3NativeFileSystem: Opening 's3n://dse-weather/weather.parquet/part-00008-6cb19187-62a0-42ad-9516-e03e05ea0c40-c000.snappy.parquet' for reading\\n20/04/26 21:35:51 INFO s3n.S3NativeFileSystem: Opening 's3n://dse-weather/weather.parquet/part-00009-6cb19187-62a0-42ad-9516-e03e05ea0c40-c000.snappy.parquet' for reading\\n20/04/26 21:35:52 INFO s3n.S3NativeFileSystem: Opening 's3n://dse-weather/weather.parquet/part-00010-6cb19187-62a0-42ad-9516-e03e05ea0c40-c000.snappy.parquet' for reading\\n20/04/26 21:35:54 INFO s3n.S3NativeFileSystem: Opening 's3n://dse-weather/weather.parquet/part-00011-6cb19187-62a0-42ad-9516-e03e05ea0c40-c000.snappy.parquet' for reading\\n20/04/26 21:35:56 INFO s3n.S3NativeFileSystem: Opening 's3n://dse-weather/weather.parquet/part-00012-6cb19187-62a0-42ad-9516-e03e05ea0c40-c000.snappy.parquet' for reading\\n20/04/26 21:35:57 INFO s3n.S3NativeFileSystem: Opening 's3n://dse-weather/weather.parquet/part-00013-6cb19187-62a0-42ad-9516-e03e05ea0c40-c000.snappy.parquet' for reading\\n20/04/26 21:35:59 INFO s3n.S3NativeFileSystem: Opening 's3n://dse-weather/weather.parquet/part-00014-6cb19187-62a0-42ad-9516-e03e05ea0c40-c000.snappy.parquet' for reading\\n20/04/26 21:36:00 INFO s3n.S3NativeFileSystem: Opening 's3n://dse-weather/weather.parquet/part-00015-6cb19187-62a0-42ad-9516-e03e05ea0c40-c000.snappy.parquet' for reading\\n20/04/26 21:36:02 INFO s3n.S3NativeFileSystem: Opening 's3n://dse-weather/weather.parquet/part-00016-6cb19187-62a0-42ad-9516-e03e05ea0c40-c000.snappy.parquet' for reading\\n20/04/26 21:36:04 INFO s3n.S3NativeFileSystem: Opening 's3n://dse-weather/weather.parquet/part-00017-6cb19187-62a0-42ad-9516-e03e05ea0c40-c000.snappy.parquet' for reading\\n20/04/26 21:36:06 INFO s3n.S3NativeFileSystem: Opening 's3n://dse-weather/weather.parquet/part-00018-6cb19187-62a0-42ad-9516-e03e05ea0c40-c000.snappy.parquet' for reading\\n20/04/26 21:36:07 INFO s3n.S3NativeFileSystem: Opening 's3n://dse-weather/weather.parquet/part-00019-6cb19187-62a0-42ad-9516-e03e05ea0c40-c000.snappy.parquet' for reading\\n20/04/26 21:36:09 INFO s3n.S3NativeFileSystem: Opening 's3n://dse-weather/weather.parquet/part-00020-6cb19187-62a0-42ad-9516-e03e05ea0c40-c000.snappy.parquet' for reading\\n20/04/26 21:36:11 INFO s3n.S3NativeFileSystem: Opening 's3n://dse-weather/weather.parquet/part-00021-6cb19187-62a0-42ad-9516-e03e05ea0c40-c000.snappy.parquet' for reading\\n20/04/26 21:36:12 INFO s3n.S3NativeFileSystem: Opening 's3n://dse-weather/weather.parquet/part-00022-6cb19187-62a0-42ad-9516-e03e05ea0c40-c000.snappy.parquet' for reading\\n20/04/26 21:36:14 INFO s3n.S3NativeFileSystem: Opening 's3n://dse-weather/weather.parquet/part-00023-6cb19187-62a0-42ad-9516-e03e05ea0c40-c000.snappy.parquet' for reading\\n20/04/26 21:36:16 INFO s3n.S3NativeFileSystem: Opening 's3n://dse-weather/weather.parquet/part-00024-6cb19187-62a0-42ad-9516-e03e05ea0c40-c000.snappy.parquet' for reading\\n20/04/26 21:36:17 INFO s3n.S3NativeFileSystem: Opening 's3n://dse-weather/weather.parquet/part-00025-6cb19187-62a0-42ad-9516-e03e05ea0c40-c000.snappy.parquet' for reading\\n20/04/26 21:36:19 INFO s3n.S3NativeFileSystem: Opening 's3n://dse-weather/weather.parquet/part-00026-6cb19187-62a0-42ad-9516-e03e05ea0c40-c000.snappy.parquet' for reading\\n20/04/26 21:36:21 INFO s3n.S3NativeFileSystem: Opening 's3n://dse-weather/weather.parquet/part-00027-6cb19187-62a0-42ad-9516-e03e05ea0c40-c000.snappy.parquet' for reading\\n20/04/26 21:36:22 INFO s3n.S3NativeFileSystem: Opening 's3n://dse-weather/weather.parquet/part-00028-6cb19187-62a0-42ad-9516-e03e05ea0c40-c000.snappy.parquet' for reading\\n20/04/26 21:36:24 INFO s3n.S3NativeFileSystem: Opening 's3n://dse-weather/weather.parquet/part-00029-6cb19187-62a0-42ad-9516-e03e05ea0c40-c000.snappy.parquet' for reading\\n20/04/26 21:36:26 INFO s3n.S3NativeFileSystem: Opening 's3n://dse-weather/weather.parquet/part-00030-6cb19187-62a0-42ad-9516-e03e05ea0c40-c000.snappy.parquet' for reading\\n20/04/26 21:36:27 INFO s3n.S3NativeFileSystem: Opening 's3n://dse-weather/weather.parquet/part-00031-6cb19187-62a0-42ad-9516-e03e05ea0c40-c000.snappy.parquet' for reading\\n20/04/26 21:36:29 INFO s3n.S3NativeFileSystem: Opening 's3n://dse-weather/weather.parquet/part-00032-6cb19187-62a0-42ad-9516-e03e05ea0c40-c000.snappy.parquet' for reading\\n20/04/26 21:36:31 INFO s3n.S3NativeFileSystem: Opening 's3n://dse-weather/weather.parquet/part-00033-6cb19187-62a0-42ad-9516-e03e05ea0c40-c000.snappy.parquet' for reading\\n20/04/26 21:36:32 INFO s3n.S3NativeFileSystem: Opening 's3n://dse-weather/weather.parquet/part-00034-6cb19187-62a0-42ad-9516-e03e05ea0c40-c000.snappy.parquet' for reading\\n20/04/26 21:36:34 INFO s3n.S3NativeFileSystem: Opening 's3n://dse-weather/weather.parquet/part-00035-6cb19187-62a0-42ad-9516-e03e05ea0c40-c000.snappy.parquet' for reading\\n20/04/26 21:36:36 INFO s3n.S3NativeFileSystem: Opening 's3n://dse-weather/weather.parquet/part-00036-6cb19187-62a0-42ad-9516-e03e05ea0c40-c000.snappy.parquet' for reading\\n20/04/26 21:36:38 INFO s3n.S3NativeFileSystem: Opening 's3n://dse-weather/weather.parquet/part-00037-6cb19187-62a0-42ad-9516-e03e05ea0c40-c000.snappy.parquet' for reading\\n20/04/26 21:36:39 INFO s3n.S3NativeFileSystem: Opening 's3n://dse-weather/weather.parquet/part-00038-6cb19187-62a0-42ad-9516-e03e05ea0c40-c000.snappy.parquet' for reading\\n20/04/26 21:36:41 INFO s3n.S3NativeFileSystem: Opening 's3n://dse-weather/weather.parquet/part-00039-6cb19187-62a0-42ad-9516-e03e05ea0c40-c000.snappy.parquet' for reading\\n20/04/26 21:36:43 INFO s3n.S3NativeFileSystem: Opening 's3n://dse-weather/weather.parquet/part-00040-6cb19187-62a0-42ad-9516-e03e05ea0c40-c000.snappy.parquet' for reading\\n20/04/26 21:36:45 INFO s3n.S3NativeFileSystem: Opening 's3n://dse-weather/weather.parquet/part-00041-6cb19187-62a0-42ad-9516-e03e05ea0c40-c000.snappy.parquet' for reading\\n20/04/26 21:36:47 INFO s3n.S3NativeFileSystem: Opening 's3n://dse-weather/weather.parquet/part-00042-6cb19187-62a0-42ad-9516-e03e05ea0c40-c000.snappy.parquet' for reading\\n20/04/26 21:36:49 INFO s3n.S3NativeFileSystem: Opening 's3n://dse-weather/weather.parquet/part-00043-6cb19187-62a0-42ad-9516-e03e05ea0c40-c000.snappy.parquet' for reading\\n20/04/26 21:36:50 INFO s3n.S3NativeFileSystem: Opening 's3n://dse-weather/weather.parquet/part-00044-6cb19187-62a0-42ad-9516-e03e05ea0c40-c000.snappy.parquet' for reading\\n20/04/26 21:36:52 INFO s3n.S3NativeFileSystem: Opening 's3n://dse-weather/weather.parquet/part-00045-6cb19187-62a0-42ad-9516-e03e05ea0c40-c000.snappy.parquet' for reading\\n20/04/26 21:36:54 INFO s3n.S3NativeFileSystem: Opening 's3n://dse-weather/weather.parquet/part-00046-6cb19187-62a0-42ad-9516-e03e05ea0c40-c000.snappy.parquet' for reading\\n20/04/26 21:36:56 INFO s3n.S3NativeFileSystem: Opening 's3n://dse-weather/weather.parquet/part-00047-6cb19187-62a0-42ad-9516-e03e05ea0c40-c000.snappy.parquet' for reading\\n20/04/26 21:36:58 INFO s3n.S3NativeFileSystem: Opening 's3n://dse-weather/weather.parquet/part-00048-6cb19187-62a0-42ad-9516-e03e05ea0c40-c000.snappy.parquet' for reading\\n20/04/26 21:37:00 INFO s3n.S3NativeFileSystem: Opening 's3n://dse-weather/weather.parquet/part-00049-6cb19187-62a0-42ad-9516-e03e05ea0c40-c000.snappy.parquet' for reading\\n20/04/26 21:37:02 INFO s3n.S3NativeFileSystem: Opening 's3n://dse-weather/weather.parquet/part-00050-6cb19187-62a0-42ad-9516-e03e05ea0c40-c000.snappy.parquet' for reading\\n20/04/26 21:37:03 INFO s3n.S3NativeFileSystem: Opening 's3n://dse-weather/weather.parquet/part-00051-6cb19187-62a0-42ad-9516-e03e05ea0c40-c000.snappy.parquet' for reading\\n20/04/26 21:37:05 INFO s3n.S3NativeFileSystem: Opening 's3n://dse-weather/weather.parquet/part-00052-6cb19187-62a0-42ad-9516-e03e05ea0c40-c000.snappy.parquet' for reading\\n20/04/26 21:37:07 INFO s3n.S3NativeFileSystem: Opening 's3n://dse-weather/weather.parquet/part-00053-6cb19187-62a0-42ad-9516-e03e05ea0c40-c000.snappy.parquet' for reading\\n20/04/26 21:37:09 INFO s3n.S3NativeFileSystem: Opening 's3n://dse-weather/weather.parquet/part-00054-6cb19187-62a0-42ad-9516-e03e05ea0c40-c000.snappy.parquet' for reading\\n20/04/26 21:37:11 INFO s3n.S3NativeFileSystem: Opening 's3n://dse-weather/weather.parquet/part-00055-6cb19187-62a0-42ad-9516-e03e05ea0c40-c000.snappy.parquet' for reading\\n20/04/26 21:37:12 INFO s3n.S3NativeFileSystem: Opening 's3n://dse-weather/weather.parquet/part-00056-6cb19187-62a0-42ad-9516-e03e05ea0c40-c000.snappy.parquet' for reading\\n20/04/26 21:37:14 INFO s3n.S3NativeFileSystem: Opening 's3n://dse-weather/weather.parquet/part-00057-6cb19187-62a0-42ad-9516-e03e05ea0c40-c000.snappy.parquet' for reading\\n\"\n",
      "about to run  command:'/usr/bin/hdfs dfs -ls /weather.parquet/'\n"
     ]
    },
    {
     "name": "stdout",
     "output_type": "stream",
     "text": [
      "b'Found 59 items\\n'\n",
      "b'-rw-r--r--   3 hadoop hadoop          0 2020-04-26 21:35 /weather.parquet/_SUCCESS\\n'\n",
      "b'-rw-r--r--   3 hadoop hadoop   40670401 2020-04-26 21:35 /weather.parquet/part-00000-6cb19187-62a0-42ad-9516-e03e05ea0c40-c000.snappy.parquet\\n'\n",
      "b'-rw-r--r--   3 hadoop hadoop   40307528 2020-04-26 21:35 /weather.parquet/part-00001-6cb19187-62a0-42ad-9516-e03e05ea0c40-c000.snappy.parquet\\n'\n",
      "b'-rw-r--r--   3 hadoop hadoop   40016618 2020-04-26 21:35 /weather.parquet/part-00002-6cb19187-62a0-42ad-9516-e03e05ea0c40-c000.snappy.parquet\\n'\n",
      "b'-rw-r--r--   3 hadoop hadoop   40377232 2020-04-26 21:35 /weather.parquet/part-00003-6cb19187-62a0-42ad-9516-e03e05ea0c40-c000.snappy.parquet\\n'\n",
      "b'-rw-r--r--   3 hadoop hadoop   40119938 2020-04-26 21:35 /weather.parquet/part-00004-6cb19187-62a0-42ad-9516-e03e05ea0c40-c000.snappy.parquet\\n'\n",
      "b'-rw-r--r--   3 hadoop hadoop   40278884 2020-04-26 21:35 /weather.parquet/part-00005-6cb19187-62a0-42ad-9516-e03e05ea0c40-c000.snappy.parquet\\n'\n",
      "b'-rw-r--r--   3 hadoop hadoop   40078149 2020-04-26 21:35 /weather.parquet/part-00006-6cb19187-62a0-42ad-9516-e03e05ea0c40-c000.snappy.parquet\\n'\n",
      "b'-rw-r--r--   3 hadoop hadoop   40838598 2020-04-26 21:35 /weather.parquet/part-00007-6cb19187-62a0-42ad-9516-e03e05ea0c40-c000.snappy.parquet\\n'\n",
      "b'-rw-r--r--   3 hadoop hadoop   40257133 2020-04-26 21:35 /weather.parquet/part-00008-6cb19187-62a0-42ad-9516-e03e05ea0c40-c000.snappy.parquet\\n'\n",
      "b'-rw-r--r--   3 hadoop hadoop   40970219 2020-04-26 21:35 /weather.parquet/part-00009-6cb19187-62a0-42ad-9516-e03e05ea0c40-c000.snappy.parquet\\n'\n",
      "b'-rw-r--r--   3 hadoop hadoop   39737699 2020-04-26 21:35 /weather.parquet/part-00010-6cb19187-62a0-42ad-9516-e03e05ea0c40-c000.snappy.parquet\\n'\n",
      "b'-rw-r--r--   3 hadoop hadoop   40588195 2020-04-26 21:35 /weather.parquet/part-00011-6cb19187-62a0-42ad-9516-e03e05ea0c40-c000.snappy.parquet\\n'\n",
      "b'-rw-r--r--   3 hadoop hadoop   39670806 2020-04-26 21:35 /weather.parquet/part-00012-6cb19187-62a0-42ad-9516-e03e05ea0c40-c000.snappy.parquet\\n'\n",
      "b'-rw-r--r--   3 hadoop hadoop   40265820 2020-04-26 21:35 /weather.parquet/part-00013-6cb19187-62a0-42ad-9516-e03e05ea0c40-c000.snappy.parquet\\n'\n",
      "b'-rw-r--r--   3 hadoop hadoop   40504283 2020-04-26 21:36 /weather.parquet/part-00014-6cb19187-62a0-42ad-9516-e03e05ea0c40-c000.snappy.parquet\\n'\n",
      "b'-rw-r--r--   3 hadoop hadoop   39839877 2020-04-26 21:36 /weather.parquet/part-00015-6cb19187-62a0-42ad-9516-e03e05ea0c40-c000.snappy.parquet\\n'\n",
      "b'-rw-r--r--   3 hadoop hadoop   39666134 2020-04-26 21:36 /weather.parquet/part-00016-6cb19187-62a0-42ad-9516-e03e05ea0c40-c000.snappy.parquet\\n'\n",
      "b'-rw-r--r--   3 hadoop hadoop   39971356 2020-04-26 21:36 /weather.parquet/part-00017-6cb19187-62a0-42ad-9516-e03e05ea0c40-c000.snappy.parquet\\n'\n",
      "b'-rw-r--r--   3 hadoop hadoop   40604360 2020-04-26 21:36 /weather.parquet/part-00018-6cb19187-62a0-42ad-9516-e03e05ea0c40-c000.snappy.parquet\\n'\n",
      "b'-rw-r--r--   3 hadoop hadoop   40758812 2020-04-26 21:36 /weather.parquet/part-00019-6cb19187-62a0-42ad-9516-e03e05ea0c40-c000.snappy.parquet\\n'\n",
      "b'-rw-r--r--   3 hadoop hadoop   40382015 2020-04-26 21:36 /weather.parquet/part-00020-6cb19187-62a0-42ad-9516-e03e05ea0c40-c000.snappy.parquet\\n'\n",
      "b'-rw-r--r--   3 hadoop hadoop   40181667 2020-04-26 21:36 /weather.parquet/part-00021-6cb19187-62a0-42ad-9516-e03e05ea0c40-c000.snappy.parquet\\n'\n",
      "b'-rw-r--r--   3 hadoop hadoop   40236103 2020-04-26 21:36 /weather.parquet/part-00022-6cb19187-62a0-42ad-9516-e03e05ea0c40-c000.snappy.parquet\\n'\n",
      "b'-rw-r--r--   3 hadoop hadoop   40395446 2020-04-26 21:36 /weather.parquet/part-00023-6cb19187-62a0-42ad-9516-e03e05ea0c40-c000.snappy.parquet\\n'\n",
      "b'-rw-r--r--   3 hadoop hadoop   39821857 2020-04-26 21:36 /weather.parquet/part-00024-6cb19187-62a0-42ad-9516-e03e05ea0c40-c000.snappy.parquet\\n'\n",
      "b'-rw-r--r--   3 hadoop hadoop   40418247 2020-04-26 21:36 /weather.parquet/part-00025-6cb19187-62a0-42ad-9516-e03e05ea0c40-c000.snappy.parquet\\n'\n",
      "b'-rw-r--r--   3 hadoop hadoop   40050460 2020-04-26 21:36 /weather.parquet/part-00026-6cb19187-62a0-42ad-9516-e03e05ea0c40-c000.snappy.parquet\\n'\n",
      "b'-rw-r--r--   3 hadoop hadoop   40298252 2020-04-26 21:36 /weather.parquet/part-00027-6cb19187-62a0-42ad-9516-e03e05ea0c40-c000.snappy.parquet\\n'\n",
      "b'-rw-r--r--   3 hadoop hadoop   40702652 2020-04-26 21:36 /weather.parquet/part-00028-6cb19187-62a0-42ad-9516-e03e05ea0c40-c000.snappy.parquet\\n'\n",
      "b'-rw-r--r--   3 hadoop hadoop   40528929 2020-04-26 21:36 /weather.parquet/part-00029-6cb19187-62a0-42ad-9516-e03e05ea0c40-c000.snappy.parquet\\n'\n",
      "b'-rw-r--r--   3 hadoop hadoop   40157633 2020-04-26 21:36 /weather.parquet/part-00030-6cb19187-62a0-42ad-9516-e03e05ea0c40-c000.snappy.parquet\\n'\n",
      "b'-rw-r--r--   3 hadoop hadoop   40437074 2020-04-26 21:36 /weather.parquet/part-00031-6cb19187-62a0-42ad-9516-e03e05ea0c40-c000.snappy.parquet\\n'\n",
      "b'-rw-r--r--   3 hadoop hadoop   40382705 2020-04-26 21:36 /weather.parquet/part-00032-6cb19187-62a0-42ad-9516-e03e05ea0c40-c000.snappy.parquet\\n'\n",
      "b'-rw-r--r--   3 hadoop hadoop   39730289 2020-04-26 21:36 /weather.parquet/part-00033-6cb19187-62a0-42ad-9516-e03e05ea0c40-c000.snappy.parquet\\n'\n",
      "b'-rw-r--r--   3 hadoop hadoop   40013953 2020-04-26 21:36 /weather.parquet/part-00034-6cb19187-62a0-42ad-9516-e03e05ea0c40-c000.snappy.parquet\\n'\n",
      "b'-rw-r--r--   3 hadoop hadoop   39831970 2020-04-26 21:36 /weather.parquet/part-00035-6cb19187-62a0-42ad-9516-e03e05ea0c40-c000.snappy.parquet\\n'\n",
      "b'-rw-r--r--   3 hadoop hadoop   40882114 2020-04-26 21:36 /weather.parquet/part-00036-6cb19187-62a0-42ad-9516-e03e05ea0c40-c000.snappy.parquet\\n'\n",
      "b'-rw-r--r--   3 hadoop hadoop   39763515 2020-04-26 21:36 /weather.parquet/part-00037-6cb19187-62a0-42ad-9516-e03e05ea0c40-c000.snappy.parquet\\n'\n",
      "b'-rw-r--r--   3 hadoop hadoop   40065826 2020-04-26 21:36 /weather.parquet/part-00038-6cb19187-62a0-42ad-9516-e03e05ea0c40-c000.snappy.parquet\\n'\n",
      "b'-rw-r--r--   3 hadoop hadoop   40247715 2020-04-26 21:36 /weather.parquet/part-00039-6cb19187-62a0-42ad-9516-e03e05ea0c40-c000.snappy.parquet\\n'\n",
      "b'-rw-r--r--   3 hadoop hadoop   40742694 2020-04-26 21:36 /weather.parquet/part-00040-6cb19187-62a0-42ad-9516-e03e05ea0c40-c000.snappy.parquet\\n'\n",
      "b'-rw-r--r--   3 hadoop hadoop   40173691 2020-04-26 21:36 /weather.parquet/part-00041-6cb19187-62a0-42ad-9516-e03e05ea0c40-c000.snappy.parquet\\n'\n",
      "b'-rw-r--r--   3 hadoop hadoop   40461662 2020-04-26 21:36 /weather.parquet/part-00042-6cb19187-62a0-42ad-9516-e03e05ea0c40-c000.snappy.parquet\\n'\n",
      "b'-rw-r--r--   3 hadoop hadoop   40953050 2020-04-26 21:36 /weather.parquet/part-00043-6cb19187-62a0-42ad-9516-e03e05ea0c40-c000.snappy.parquet\\n'\n",
      "b'-rw-r--r--   3 hadoop hadoop   40845591 2020-04-26 21:36 /weather.parquet/part-00044-6cb19187-62a0-42ad-9516-e03e05ea0c40-c000.snappy.parquet\\n'\n",
      "b'-rw-r--r--   3 hadoop hadoop   40107437 2020-04-26 21:36 /weather.parquet/part-00045-6cb19187-62a0-42ad-9516-e03e05ea0c40-c000.snappy.parquet\\n'\n",
      "b'-rw-r--r--   3 hadoop hadoop   39649676 2020-04-26 21:36 /weather.parquet/part-00046-6cb19187-62a0-42ad-9516-e03e05ea0c40-c000.snappy.parquet\\n'\n",
      "b'-rw-r--r--   3 hadoop hadoop   39912209 2020-04-26 21:36 /weather.parquet/part-00047-6cb19187-62a0-42ad-9516-e03e05ea0c40-c000.snappy.parquet\\n'\n",
      "b'-rw-r--r--   3 hadoop hadoop   41212447 2020-04-26 21:36 /weather.parquet/part-00048-6cb19187-62a0-42ad-9516-e03e05ea0c40-c000.snappy.parquet\\n'\n",
      "b'-rw-r--r--   3 hadoop hadoop   39871083 2020-04-26 21:37 /weather.parquet/part-00049-6cb19187-62a0-42ad-9516-e03e05ea0c40-c000.snappy.parquet\\n'\n",
      "b'-rw-r--r--   3 hadoop hadoop   40465828 2020-04-26 21:37 /weather.parquet/part-00050-6cb19187-62a0-42ad-9516-e03e05ea0c40-c000.snappy.parquet\\n'\n",
      "b'-rw-r--r--   3 hadoop hadoop   40511437 2020-04-26 21:37 /weather.parquet/part-00051-6cb19187-62a0-42ad-9516-e03e05ea0c40-c000.snappy.parquet\\n'\n",
      "b'-rw-r--r--   3 hadoop hadoop   40578221 2020-04-26 21:37 /weather.parquet/part-00052-6cb19187-62a0-42ad-9516-e03e05ea0c40-c000.snappy.parquet\\n'\n",
      "b'-rw-r--r--   3 hadoop hadoop   40458876 2020-04-26 21:37 /weather.parquet/part-00053-6cb19187-62a0-42ad-9516-e03e05ea0c40-c000.snappy.parquet\\n'\n",
      "b'-rw-r--r--   3 hadoop hadoop   40108325 2020-04-26 21:37 /weather.parquet/part-00054-6cb19187-62a0-42ad-9516-e03e05ea0c40-c000.snappy.parquet\\n'\n",
      "b'-rw-r--r--   3 hadoop hadoop   40518066 2020-04-26 21:37 /weather.parquet/part-00055-6cb19187-62a0-42ad-9516-e03e05ea0c40-c000.snappy.parquet\\n'\n",
      "b'-rw-r--r--   3 hadoop hadoop   40574923 2020-04-26 21:37 /weather.parquet/part-00056-6cb19187-62a0-42ad-9516-e03e05ea0c40-c000.snappy.parquet\\n'\n",
      "b'-rw-r--r--   3 hadoop hadoop    5605101 2020-04-26 21:37 /weather.parquet/part-00057-6cb19187-62a0-42ad-9516-e03e05ea0c40-c000.snappy.parquet\\n'\n"
     ]
    },
    {
     "name": "stdout",
     "output_type": "stream",
     "text": [
      "Downloading weather.parquet/ in 114.80 seconds\n",
      "/bin/sh: /home/hadoop/hadoop/bin/hadoop: No such file or directory\r\n"
     ]
    }
   ],
   "source": [
    "t=time()\n",
    "for file in file_names:\n",
    "    t=time()\n",
    "    !hadoop fs -rm -r /$file\n",
    "    print('deleted %s in %4.2f seconds'%(file, time()-t))\n",
    "    t=time()\n",
    "    tmp = s3helper.s3_to_hdfs('%s'%file, '/%s'%file)\n",
    "    print('Downloading %s in %4.2f seconds'%(file, time()-t))\n",
    "    !~/hadoop/bin/hadoop fs -ls -h /$file\n",
    "## copying took 62.695912838, 74.9509780407, 78.921860218 seconds"
   ]
  },
  {
   "cell_type": "code",
   "execution_count": 86,
   "metadata": {},
   "outputs": [
    {
     "name": "stdout",
     "output_type": "stream",
     "text": [
      "Writing /home/hadoop/s3helper2.py\n"
     ]
    }
   ],
   "source": [
    "%%writefile ~/s3helper2.py\n",
    "from boto.exception import S3ResponseError\n",
    "from boto.s3.connection import S3Connection\n",
    "import os\n",
    "import subprocess\n",
    "\n",
    "\n",
    "def _run_command(command, detail=True):\n",
    "    if detail:\n",
    "        print(\"about to run  command:'%s'\"%command)\n",
    "    proc = subprocess.Popen(command.split(),\n",
    "                            stdout=subprocess.PIPE,\n",
    "                            stderr=subprocess.PIPE)\n",
    "    if detail:\n",
    "        while True:\n",
    "            line = proc.stdout.readline()\n",
    "            if not line:\n",
    "                break\n",
    "            print(line),\n",
    "    return proc.communicate()\n",
    "\n",
    "\n",
    "def _list_hdfs(path):\n",
    "    command = \"/usr/bin/hdfs dfs -ls %s\" % path\n",
    "    out, err = _run_command(command)\n",
    "    if out:\n",
    "        print(out)\n",
    "\n",
    "\n",
    "def _s3_to_hdfs(files, tgt):\n",
    "    print(\"_s3_to_hdfs files=%s, tgt=%s\"%(files,tgt))\n",
    "    out, err1 = _run_command(\"/usr/bin/hdfs dfs -mkdir -p %s\" % tgt)\n",
    "    if err1:\n",
    "        print(err1)\n",
    "        return\n",
    "    out, err2 = _run_command(\"/usr/bin/hdfs dfs -cp %s %s\" % (files, tgt))\n",
    "    if err2:\n",
    "        print(err2)\n",
    "\n",
    "\n",
    "def _hdfs_to_s3(files, tgt):\n",
    "    out, err = _run_command(\"/usr/bin/hadoop distcp %s %s\" % (files, tgt), True)\n",
    "    if err:\n",
    "        print(err)\n",
    "\n",
    "\n",
    "def _local_to_hdfs(src, tgt):\n",
    "    if tgt[0] != '/':\n",
    "        tgt = '/' + tgt\n",
    "    out, err1 = _run_command(\"/usr/bin/hdfs dfs -mkdir -p %s\" % tgt)\n",
    "    if err1:\n",
    "        print(err1)\n",
    "        return\n",
    "    out, err2 = _run_command(\"/usr/bin/hdfs dfs -cp %s %s\" % (\"file://\" + os.path.join(src, '*'),\n",
    "                                                              tgt))\n",
    "    if err2:\n",
    "        print(err2)\n",
    "\n",
    "\n",
    "class S3Helper:\n",
    "    \"\"\"A helper function to access S3 files\"\"\"\n",
    "    def __init__(self):\n",
    "        self.conn = None\n",
    "        self.bucket_name = None\n",
    "        self.bucket = None\n",
    "\n",
    "    @staticmethod\n",
    "    def help():\n",
    "        print('''\n",
    "        s3helper is a helper object to move files and directory between\n",
    "        local filesystem, AWS S3 and local HDFS.\n",
    "\n",
    "        Usage:\n",
    "\n",
    "        1. Open a S3 bucket under your account\n",
    "            s3helper.open_bucket(<bucket_name>)\n",
    "        2. List all files under the opened S3 bucket\n",
    "            s3helper.ls() or s3helper.ls_s3()\n",
    "        Or optionally,\n",
    "            s3helper.ls(<file_path>) or s3helper.ls_s3(<file_path>)\n",
    "        3. List all files on HDFS\n",
    "            s3helper.ls_hdfs()\n",
    "        Or optionally,\n",
    "            s3helper.ls_hdfs(<file_path>)\n",
    "        where <file_path> is an absolute path in the opened S3 bucket.\n",
    "\n",
    "        Now you can access your S3 files.\n",
    "\n",
    "        1. Transfer files between S3 and HDFS\n",
    "          a. To download all S3 files under a directory to HDFS, please call\n",
    "                s3helper.s3_to_hdfs(<s3_directory_path>, <HDFS_directory_path>)\n",
    "          b. To upload a directory on HDFS to S3, please call\n",
    "                s3helper.hdfs_to_s3(<HDFS_directory_path>, <s3_directory_path>)\n",
    "\n",
    "        2. Transfer files between S3 and local filesystem (not HDFS)\n",
    "          a. To download one single S3 file to local filesystem, please call\n",
    "                s3helper.s3_to_local(<s3_file_path>, <local_file_path>)\n",
    "          b. To upload a file on local filesystem to S3, please call\n",
    "                s3helper.local_to_s3(<local_file_path>, <s3_directory_path>)\n",
    "\n",
    "        3. Transfer files between local filesystem and HDFS\n",
    "          a. To upload a directory on local filesystem to HDFS, please call\n",
    "                s3helper.local_to_hdfs(<local_dir_path>, <HDFS_dir_path>)\n",
    "\n",
    "        4. Get S3 file paths without data transfer\n",
    "          a. To get the URLs of S3 files under a directory, please call\n",
    "                s3helper.get_path(<s3_directory_path>)\n",
    "          Note this method do nothing on your local HDFS.\n",
    "        ''')\n",
    "\n",
    "    def open_bucket(self, bucket_name):\n",
    "        \"\"\"Open a S3 bucket.\n",
    "\n",
    "            Args:\n",
    "                bucket_name\n",
    "            Returns:\n",
    "                None\n",
    "        \"\"\"\n",
    "        if bucket_name.startswith('s3n://') or bucket_name.startswith('s3://'):\n",
    "            raise ValueError('bucket_name must NOT contain any prefix '\n",
    "                             '(e.g. s3:// or s3n://)')\n",
    "\n",
    "        while bucket_name[-1] == '/':\n",
    "            bucket_name = bucket_name[:-1]\n",
    "        self.bucket_name = bucket_name\n",
    "        self.conn = S3Connection(host=\"s3.amazonaws.com\")\n",
    "        try:\n",
    "            self.bucket = self.conn.get_bucket(self.bucket_name)\n",
    "        except S3ResponseError as e:\n",
    "            print('Open S3 bucket \"%s\" failed.\\nError code %d: '\n",
    "                  % (bucket_name, e.status) + e.reason)\n",
    "\n",
    "    def ls(self, path=''):\n",
    "        \"\"\"same as ls_s3\"\"\"\n",
    "        return self.ls_s3(path)\n",
    "\n",
    "    def ls_s3(self, path=''):\n",
    "        \"\"\"List all files in `path` on S3.\n",
    "\n",
    "            Args:\n",
    "                path\n",
    "            Returns:\n",
    "                an array of files in `path`\n",
    "        \"\"\"\n",
    "        if not self.bucket:\n",
    "            raise Exception('No bucket is opened. '\n",
    "                            'Please use open_bucket method first.')\n",
    "\n",
    "        path = path.strip()\n",
    "        if len(path) and path[0] == '/':\n",
    "            path = path[1:]\n",
    "        files = self.bucket.list(prefix=path)\n",
    "\n",
    "        if path == '':\n",
    "            k = 1\n",
    "        else:\n",
    "            k = len(path.split('/')) + 1\n",
    "        return sorted(list(set(\n",
    "            ['/'.join(t.key.split('/')[:k]) for t in files])))\n",
    "\n",
    "    @staticmethod\n",
    "    def ls_hdfs(path='/'):\n",
    "        \"\"\"List all files in `path` on HDFS.\"\"\"\n",
    "        if not path or path[0] != '/':\n",
    "            path = '/' + path\n",
    "        return _list_hdfs(path)\n",
    "\n",
    "    def get_path(self, path=''):\n",
    "        \"\"\"Get paths of all files in `path` with s3 prefix,\n",
    "           which can be passed to Spark.\n",
    "\n",
    "            Args:\n",
    "                path\n",
    "            Returns:\n",
    "                an array of file paths with s3 prefix\n",
    "        \"\"\"\n",
    "        if not self.bucket:\n",
    "            raise Exception('no bucket is opened.')\n",
    "\n",
    "        path = path.strip()\n",
    "        if len(path) and path[0] == '/':\n",
    "            path = path[1:]\n",
    "        files = self.bucket.list(prefix=path)\n",
    "        prefix = \"s3n://%s/\" % self.bucket_name\n",
    "        return [prefix + t.key for t in files]\n",
    "\n",
    "    def s3_to_hdfs(self, src, tgt):\n",
    "        \"\"\"Load all files in `src` to the directory `tgt` in HDFS.\n",
    "\n",
    "            Args:\n",
    "                src, tgt\n",
    "            Returns:\n",
    "                an array of file paths in HDFS\n",
    "        \"\"\"\n",
    "        if not self.bucket:\n",
    "            raise Exception('no bucket is opened.')\n",
    "\n",
    "        src, tgt = src.strip(), tgt.strip()\n",
    "        print('s3_to_hdfs: src= \"%s\", tgt=\"%s\"'%(src,tgt))\n",
    "        if len(src) and src[0] == '/':\n",
    "            src = src[1:]\n",
    "        if tgt == '' or (tgt[0] != '/' and not tgt.startswith('hdfs://')):\n",
    "            tgt = '/' + tgt\n",
    "        if tgt[-1] != '/':\n",
    "            tgt = tgt + '/'\n",
    "        print(\"s3_to_hdfs, self.bucket.list(prefix=src), src=\",src)\n",
    "        files = self.bucket.list(prefix=src)\n",
    "        print('s3_to_hdfs, src=',src)\n",
    "        prefix = \"s3n://%s/\" % self.bucket_name\n",
    "        print('files=[%s]'%(' '.join([prefix + t.key for t in files])))\n",
    "        _s3_to_hdfs(' '.join([prefix + t.key for t in files]), tgt)\n",
    "        self.ls_hdfs(tgt)\n",
    "\n",
    "    def hdfs_to_s3(self, src, tgt):\n",
    "        \"\"\"Upload a directory `src` on HDFS to a directory `tgt` on S3.\n",
    "\n",
    "           Args:\n",
    "                src, tgt\n",
    "           Returns:\n",
    "                file list of the `tgt` directory on S3 after uploading\n",
    "        \"\"\"\n",
    "        if not self.bucket:\n",
    "            raise Exception('no bucket is opened. '\n",
    "                            'See help() method for more info')\n",
    "\n",
    "        src, tgt = src.strip(), tgt.strip()\n",
    "        if src == '' or (src[0] != '/' and not src.startswith('hdfs://')):\n",
    "            src = '/' + src\n",
    "        if src[-1] != '/':\n",
    "            src = src + '/'\n",
    "        if len(tgt) and tgt[0] == '/':\n",
    "            tgt = tgt[1:]\n",
    "        tgt = \"s3n://%s/\" % self.bucket_name + tgt\n",
    "        print(\"*NOTE*\\n\"\n",
    "              \"This method will create a MapReudce job to upload the content \"\n",
    "              \"in HDFS to S3. The process may take a while.\\n\\n\")\n",
    "        _hdfs_to_s3(src, tgt)\n",
    "\n",
    "    def local_to_s3(self, filename, tgt):\n",
    "        \"\"\"Save a local file `filename` to the directory `tgt` on S3.\n",
    "\n",
    "            Args:\n",
    "                filename, tgt\n",
    "            Returns:\n",
    "                None\n",
    "        \"\"\"\n",
    "        if not self.bucket:\n",
    "            raise Exception('no bucket is opened.')\n",
    "        if not os.path.exists(filename):\n",
    "            raise Exception(\"File does not exist.\")\n",
    "        if os.path.isdir(filename):\n",
    "            raise Exception(\n",
    "                \"Transfer between S3 and local filesystem \"\n",
    "                \"does not support directory.\")\n",
    "\n",
    "        tgt = tgt.strip()\n",
    "        if len(tgt) and tgt[0] == '/':\n",
    "            tgt = tgt[1:]\n",
    "        if not tgt:\n",
    "            tgt = filename.rsplit('/', 1)[-1]\n",
    "        k = self.bucket.new_key(tgt)\n",
    "        k.set_contents_from_filename(filename)\n",
    "\n",
    "    def s3_to_local(self, src, tgt):\n",
    "        \"\"\"Download the remote file `key_name` on S3 to local.\n",
    "\n",
    "            Args:\n",
    "                src, tgt\n",
    "            Returns:\n",
    "                None\n",
    "        \"\"\"\n",
    "        if not self.bucket:\n",
    "            raise Exception('no bucket is opened.')\n",
    "\n",
    "        key = src.strip()\n",
    "        if key[0] == '/':\n",
    "            key = key[1:]\n",
    "        k = self.bucket.get_key(key)\n",
    "        if not k:\n",
    "            raise Exception(\n",
    "                \"File \" + src + \" doesn't exist.\\n\"\n",
    "                \"Note that the transfer between S3 and local filesystem \"\n",
    "                \"do not support directory.\")\n",
    "        k.get_contents_to_filename(tgt)\n",
    "\n",
    "    @staticmethod\n",
    "    def local_to_hdfs(src, tgt):\n",
    "        \"\"\"Upload local directory to HDFS.\n",
    "\n",
    "           Args:\n",
    "               src - path to the local directory,\n",
    "               tgt - path to the HDFS directory\n",
    "           Returns:\n",
    "               None\n",
    "        \"\"\"\n",
    "        if src[0] != '/' or tgt[0] != '/':\n",
    "            raise Exception(\"The directory path cannot be an relative path.\")\n",
    "        _local_to_hdfs(src, tgt)\n",
    "\n",
    "\n",
    "s3helper = S3Helper()\n"
   ]
  },
  {
   "cell_type": "code",
   "execution_count": 87,
   "metadata": {},
   "outputs": [
    {
     "ename": "Exception",
     "evalue": "no bucket is opened.",
     "output_type": "error",
     "traceback": [
      "\u001b[0;31m---------------------------------------------------------------------------\u001b[0m",
      "\u001b[0;31mException\u001b[0m                                 Traceback (most recent call last)",
      "\u001b[0;32m<ipython-input-87-4fe0b6893e09>\u001b[0m in \u001b[0;36m<module>\u001b[0;34m()\u001b[0m\n\u001b[0;32m----> 1\u001b[0;31m \u001b[0ms3helper\u001b[0m\u001b[0;34m.\u001b[0m\u001b[0ms3_to_hdfs\u001b[0m\u001b[0;34m(\u001b[0m\u001b[0;34m'/Weather/%s'\u001b[0m\u001b[0;34m%\u001b[0m\u001b[0mfile\u001b[0m\u001b[0;34m,\u001b[0m \u001b[0;34m'/%s'\u001b[0m\u001b[0;34m%\u001b[0m\u001b[0mfile\u001b[0m\u001b[0;34m)\u001b[0m\u001b[0;34m\u001b[0m\u001b[0m\n\u001b[0m",
      "\u001b[0;32m<ipython-input-83-a9dd217cc4cf>\u001b[0m in \u001b[0;36ms3_to_hdfs\u001b[0;34m(self, src, tgt)\u001b[0m\n\u001b[1;32m    194\u001b[0m         \"\"\"\n\u001b[1;32m    195\u001b[0m         \u001b[0;32mif\u001b[0m \u001b[0;32mnot\u001b[0m \u001b[0mself\u001b[0m\u001b[0;34m.\u001b[0m\u001b[0mbucket\u001b[0m\u001b[0;34m:\u001b[0m\u001b[0;34m\u001b[0m\u001b[0m\n\u001b[0;32m--> 196\u001b[0;31m             \u001b[0;32mraise\u001b[0m \u001b[0mException\u001b[0m\u001b[0;34m(\u001b[0m\u001b[0;34m'no bucket is opened.'\u001b[0m\u001b[0;34m)\u001b[0m\u001b[0;34m\u001b[0m\u001b[0m\n\u001b[0m\u001b[1;32m    197\u001b[0m \u001b[0;34m\u001b[0m\u001b[0m\n\u001b[1;32m    198\u001b[0m         \u001b[0msrc\u001b[0m\u001b[0;34m,\u001b[0m \u001b[0mtgt\u001b[0m \u001b[0;34m=\u001b[0m \u001b[0msrc\u001b[0m\u001b[0;34m.\u001b[0m\u001b[0mstrip\u001b[0m\u001b[0;34m(\u001b[0m\u001b[0;34m)\u001b[0m\u001b[0;34m,\u001b[0m \u001b[0mtgt\u001b[0m\u001b[0;34m.\u001b[0m\u001b[0mstrip\u001b[0m\u001b[0;34m(\u001b[0m\u001b[0;34m)\u001b[0m\u001b[0;34m\u001b[0m\u001b[0m\n",
      "\u001b[0;31mException\u001b[0m: no bucket is opened."
     ]
    }
   ],
   "source": [
    "s3helper.s3_to_hdfs('/Weather/%s'%file, '/%s'%file)"
   ]
  },
  {
   "cell_type": "code",
   "execution_count": 88,
   "metadata": {},
   "outputs": [
    {
     "ename": "Exception",
     "evalue": "No bucket is opened. Please use open_bucket method first.",
     "output_type": "error",
     "traceback": [
      "\u001b[0;31m---------------------------------------------------------------------------\u001b[0m",
      "\u001b[0;31mException\u001b[0m                                 Traceback (most recent call last)",
      "\u001b[0;32m<ipython-input-88-92a3fa0ca5d0>\u001b[0m in \u001b[0;36m<module>\u001b[0;34m()\u001b[0m\n\u001b[1;32m      1\u001b[0m \u001b[0;31m# check what is in the S3 bucket\u001b[0m\u001b[0;34m\u001b[0m\u001b[0;34m\u001b[0m\u001b[0m\n\u001b[0;32m----> 2\u001b[0;31m \u001b[0mprint\u001b[0m\u001b[0;34m(\u001b[0m\u001b[0ms3helper\u001b[0m\u001b[0;34m.\u001b[0m\u001b[0mls_s3\u001b[0m\u001b[0;34m(\u001b[0m\u001b[0;34m)\u001b[0m\u001b[0;34m)\u001b[0m  \u001b[0;31m# By default, list all files in the root directory of the bucket\u001b[0m\u001b[0;34m\u001b[0m\u001b[0m\n\u001b[0m\u001b[1;32m      3\u001b[0m \u001b[0mprint\u001b[0m\u001b[0;34m(\u001b[0m\u001b[0ms3helper\u001b[0m\u001b[0;34m.\u001b[0m\u001b[0mls_s3\u001b[0m\u001b[0;34m(\u001b[0m\u001b[0;34m'Weather'\u001b[0m\u001b[0;34m)\u001b[0m\u001b[0;34m)\u001b[0m\u001b[0;34m\u001b[0m\u001b[0m\n",
      "\u001b[0;32m<ipython-input-83-a9dd217cc4cf>\u001b[0m in \u001b[0;36mls_s3\u001b[0;34m(self, path)\u001b[0m\n\u001b[1;32m    144\u001b[0m         \"\"\"\n\u001b[1;32m    145\u001b[0m         \u001b[0;32mif\u001b[0m \u001b[0;32mnot\u001b[0m \u001b[0mself\u001b[0m\u001b[0;34m.\u001b[0m\u001b[0mbucket\u001b[0m\u001b[0;34m:\u001b[0m\u001b[0;34m\u001b[0m\u001b[0m\n\u001b[0;32m--> 146\u001b[0;31m             raise Exception('No bucket is opened. '\n\u001b[0m\u001b[1;32m    147\u001b[0m                             'Please use open_bucket method first.')\n\u001b[1;32m    148\u001b[0m \u001b[0;34m\u001b[0m\u001b[0m\n",
      "\u001b[0;31mException\u001b[0m: No bucket is opened. Please use open_bucket method first."
     ]
    }
   ],
   "source": [
    "# check what is in the S3 bucket\n",
    "print(s3helper.ls_s3())  # By default, list all files in the root directory of the bucket\n",
    "print(s3helper.ls_s3('Weather'))"
   ]
  },
  {
   "cell_type": "code",
   "execution_count": 89,
   "metadata": {
    "scrolled": true
   },
   "outputs": [
    {
     "name": "stdout",
     "output_type": "stream",
     "text": [
      "0         /weather.parquet/_SUCCESS\r\n",
      "40670401  /weather.parquet/part-00000-6cb19187-62a0-42ad-9516-e03e05ea0c40-c000.snappy.parquet\r\n",
      "40307528  /weather.parquet/part-00001-6cb19187-62a0-42ad-9516-e03e05ea0c40-c000.snappy.parquet\r\n",
      "40016618  /weather.parquet/part-00002-6cb19187-62a0-42ad-9516-e03e05ea0c40-c000.snappy.parquet\r\n",
      "40377232  /weather.parquet/part-00003-6cb19187-62a0-42ad-9516-e03e05ea0c40-c000.snappy.parquet\r\n",
      "40119938  /weather.parquet/part-00004-6cb19187-62a0-42ad-9516-e03e05ea0c40-c000.snappy.parquet\r\n",
      "40278884  /weather.parquet/part-00005-6cb19187-62a0-42ad-9516-e03e05ea0c40-c000.snappy.parquet\r\n",
      "40078149  /weather.parquet/part-00006-6cb19187-62a0-42ad-9516-e03e05ea0c40-c000.snappy.parquet\r\n",
      "40838598  /weather.parquet/part-00007-6cb19187-62a0-42ad-9516-e03e05ea0c40-c000.snappy.parquet\r\n",
      "40257133  /weather.parquet/part-00008-6cb19187-62a0-42ad-9516-e03e05ea0c40-c000.snappy.parquet\r\n",
      "40970219  /weather.parquet/part-00009-6cb19187-62a0-42ad-9516-e03e05ea0c40-c000.snappy.parquet\r\n",
      "39737699  /weather.parquet/part-00010-6cb19187-62a0-42ad-9516-e03e05ea0c40-c000.snappy.parquet\r\n",
      "40588195  /weather.parquet/part-00011-6cb19187-62a0-42ad-9516-e03e05ea0c40-c000.snappy.parquet\r\n",
      "39670806  /weather.parquet/part-00012-6cb19187-62a0-42ad-9516-e03e05ea0c40-c000.snappy.parquet\r\n",
      "40265820  /weather.parquet/part-00013-6cb19187-62a0-42ad-9516-e03e05ea0c40-c000.snappy.parquet\r\n",
      "40504283  /weather.parquet/part-00014-6cb19187-62a0-42ad-9516-e03e05ea0c40-c000.snappy.parquet\r\n",
      "39839877  /weather.parquet/part-00015-6cb19187-62a0-42ad-9516-e03e05ea0c40-c000.snappy.parquet\r\n",
      "39666134  /weather.parquet/part-00016-6cb19187-62a0-42ad-9516-e03e05ea0c40-c000.snappy.parquet\r\n",
      "39971356  /weather.parquet/part-00017-6cb19187-62a0-42ad-9516-e03e05ea0c40-c000.snappy.parquet\r\n",
      "40604360  /weather.parquet/part-00018-6cb19187-62a0-42ad-9516-e03e05ea0c40-c000.snappy.parquet\r\n",
      "40758812  /weather.parquet/part-00019-6cb19187-62a0-42ad-9516-e03e05ea0c40-c000.snappy.parquet\r\n",
      "40382015  /weather.parquet/part-00020-6cb19187-62a0-42ad-9516-e03e05ea0c40-c000.snappy.parquet\r\n",
      "40181667  /weather.parquet/part-00021-6cb19187-62a0-42ad-9516-e03e05ea0c40-c000.snappy.parquet\r\n",
      "40236103  /weather.parquet/part-00022-6cb19187-62a0-42ad-9516-e03e05ea0c40-c000.snappy.parquet\r\n",
      "40395446  /weather.parquet/part-00023-6cb19187-62a0-42ad-9516-e03e05ea0c40-c000.snappy.parquet\r\n",
      "39821857  /weather.parquet/part-00024-6cb19187-62a0-42ad-9516-e03e05ea0c40-c000.snappy.parquet\r\n",
      "40418247  /weather.parquet/part-00025-6cb19187-62a0-42ad-9516-e03e05ea0c40-c000.snappy.parquet\r\n",
      "40050460  /weather.parquet/part-00026-6cb19187-62a0-42ad-9516-e03e05ea0c40-c000.snappy.parquet\r\n",
      "40298252  /weather.parquet/part-00027-6cb19187-62a0-42ad-9516-e03e05ea0c40-c000.snappy.parquet\r\n",
      "40702652  /weather.parquet/part-00028-6cb19187-62a0-42ad-9516-e03e05ea0c40-c000.snappy.parquet\r\n",
      "40528929  /weather.parquet/part-00029-6cb19187-62a0-42ad-9516-e03e05ea0c40-c000.snappy.parquet\r\n",
      "40157633  /weather.parquet/part-00030-6cb19187-62a0-42ad-9516-e03e05ea0c40-c000.snappy.parquet\r\n",
      "40437074  /weather.parquet/part-00031-6cb19187-62a0-42ad-9516-e03e05ea0c40-c000.snappy.parquet\r\n",
      "40382705  /weather.parquet/part-00032-6cb19187-62a0-42ad-9516-e03e05ea0c40-c000.snappy.parquet\r\n",
      "39730289  /weather.parquet/part-00033-6cb19187-62a0-42ad-9516-e03e05ea0c40-c000.snappy.parquet\r\n",
      "40013953  /weather.parquet/part-00034-6cb19187-62a0-42ad-9516-e03e05ea0c40-c000.snappy.parquet\r\n",
      "39831970  /weather.parquet/part-00035-6cb19187-62a0-42ad-9516-e03e05ea0c40-c000.snappy.parquet\r\n",
      "40882114  /weather.parquet/part-00036-6cb19187-62a0-42ad-9516-e03e05ea0c40-c000.snappy.parquet\r\n",
      "39763515  /weather.parquet/part-00037-6cb19187-62a0-42ad-9516-e03e05ea0c40-c000.snappy.parquet\r\n",
      "40065826  /weather.parquet/part-00038-6cb19187-62a0-42ad-9516-e03e05ea0c40-c000.snappy.parquet\r\n",
      "40247715  /weather.parquet/part-00039-6cb19187-62a0-42ad-9516-e03e05ea0c40-c000.snappy.parquet\r\n",
      "40742694  /weather.parquet/part-00040-6cb19187-62a0-42ad-9516-e03e05ea0c40-c000.snappy.parquet\r\n",
      "40173691  /weather.parquet/part-00041-6cb19187-62a0-42ad-9516-e03e05ea0c40-c000.snappy.parquet\r\n",
      "40461662  /weather.parquet/part-00042-6cb19187-62a0-42ad-9516-e03e05ea0c40-c000.snappy.parquet\r\n",
      "40953050  /weather.parquet/part-00043-6cb19187-62a0-42ad-9516-e03e05ea0c40-c000.snappy.parquet\r\n",
      "40845591  /weather.parquet/part-00044-6cb19187-62a0-42ad-9516-e03e05ea0c40-c000.snappy.parquet\r\n",
      "40107437  /weather.parquet/part-00045-6cb19187-62a0-42ad-9516-e03e05ea0c40-c000.snappy.parquet\r\n",
      "39649676  /weather.parquet/part-00046-6cb19187-62a0-42ad-9516-e03e05ea0c40-c000.snappy.parquet\r\n",
      "39912209  /weather.parquet/part-00047-6cb19187-62a0-42ad-9516-e03e05ea0c40-c000.snappy.parquet\r\n",
      "41212447  /weather.parquet/part-00048-6cb19187-62a0-42ad-9516-e03e05ea0c40-c000.snappy.parquet\r\n",
      "39871083  /weather.parquet/part-00049-6cb19187-62a0-42ad-9516-e03e05ea0c40-c000.snappy.parquet\r\n",
      "40465828  /weather.parquet/part-00050-6cb19187-62a0-42ad-9516-e03e05ea0c40-c000.snappy.parquet\r\n",
      "40511437  /weather.parquet/part-00051-6cb19187-62a0-42ad-9516-e03e05ea0c40-c000.snappy.parquet\r\n",
      "40578221  /weather.parquet/part-00052-6cb19187-62a0-42ad-9516-e03e05ea0c40-c000.snappy.parquet\r\n",
      "40458876  /weather.parquet/part-00053-6cb19187-62a0-42ad-9516-e03e05ea0c40-c000.snappy.parquet\r\n",
      "40108325  /weather.parquet/part-00054-6cb19187-62a0-42ad-9516-e03e05ea0c40-c000.snappy.parquet\r\n",
      "40518066  /weather.parquet/part-00055-6cb19187-62a0-42ad-9516-e03e05ea0c40-c000.snappy.parquet\r\n",
      "40574923  /weather.parquet/part-00056-6cb19187-62a0-42ad-9516-e03e05ea0c40-c000.snappy.parquet\r\n",
      "5605101   /weather.parquet/part-00057-6cb19187-62a0-42ad-9516-e03e05ea0c40-c000.snappy.parquet\r\n"
     ]
    }
   ],
   "source": [
    "# check what is on HDFS\n",
    "!hadoop fs -du  /weather.parquet"
   ]
  },
  {
   "cell_type": "code",
   "execution_count": 91,
   "metadata": {
    "collapsed": true
   },
   "outputs": [],
   "source": [
    "# Start SQLContext and SparkSession\n",
    "from pyspark import SparkContext\n",
    "from pyspark.sql import SQLContext,Row,Column\n",
    "from pyspark.sql import SparkSession\n",
    "sqlContext = SQLContext(sc)\n",
    "#spark=SparkSession(sc)"
   ]
  },
  {
   "cell_type": "code",
   "execution_count": null,
   "metadata": {
    "collapsed": true
   },
   "outputs": [],
   "source": []
  },
  {
   "cell_type": "code",
   "execution_count": 92,
   "metadata": {
    "collapsed": true
   },
   "outputs": [],
   "source": [
    "measurements=['TMAX','TMIN','TOBS','SNOW','SNWD','PRCP']"
   ]
  },
  {
   "cell_type": "code",
   "execution_count": null,
   "metadata": {},
   "outputs": [],
   "source": [
    "#read main data file\n",
    "US_Weather_parquet='/US_Weather_cleaned_labeled.parquet/'\n",
    "Query=\"SELECT * from parquet.`%s`\"%US_Weather_parquet\n",
    "print Query"
   ]
  },
  {
   "cell_type": "code",
   "execution_count": null,
   "metadata": {},
   "outputs": [],
   "source": [
    "t=time()\n",
    "df = sqlContext.sql(Query).cache()\n",
    "print df.count()\n",
    "print 'establishing SQL query took',time()-t,'seconds'"
   ]
  },
  {
   "cell_type": "code",
   "execution_count": null,
   "metadata": {},
   "outputs": [],
   "source": [
    "t=time()\n",
    "print df.count()\n",
    "print 'Running SQL query took',time()-t,'seconds'"
   ]
  },
  {
   "cell_type": "code",
   "execution_count": null,
   "metadata": {},
   "outputs": [],
   "source": [
    "from pyspark.sql.functions import *\n",
    "Query='SELECT * from parquet.`/Weather_Stations.parquet`'\n",
    "Station_TBL=sqlContext.sql(Query).cache()\n",
    "Station_TBL.select(col('ID').alias('station'),'longitude','latitude').show(5)\n",
    "#data.select(col(\"Name\").alias(\"name\"), col(\"askdaosdka\").alias(\"age\"))"
   ]
  },
  {
   "cell_type": "code",
   "execution_count": null,
   "metadata": {
    "collapsed": true
   },
   "outputs": [],
   "source": [
    "import numpy as np\n",
    "row,=df.take(1)\n",
    "unpackArray(row['vector'],data_type=np.float16)"
   ]
  },
  {
   "cell_type": "code",
   "execution_count": null,
   "metadata": {
    "collapsed": true
   },
   "outputs": [],
   "source": [
    "import numpy as np\n",
    "t=time()\n",
    "\n",
    "N=sc.defaultParallelism\n",
    "print 'Number of executors=',N\n",
    "#rdd0=df....cache().repartition(N)\n",
    "\n",
    "# Number of executors= 80\n",
    "# took 0.0209968090057 seconds"
   ]
  },
  {
   "cell_type": "code",
   "execution_count": null,
   "metadata": {
    "collapsed": true
   },
   "outputs": [],
   "source": [
    "t=time()\n",
    "Stations=df.groupBy(df.station).count()\n",
    "print 'took',time()-t,'seconds'\n",
    "\n",
    "# took 1.15811896324 seconds\n",
    "Stations.count()"
   ]
  },
  {
   "cell_type": "code",
   "execution_count": null,
   "metadata": {
    "collapsed": true,
    "scrolled": true
   },
   "outputs": [],
   "source": [
    "Stations.show(5)"
   ]
  },
  {
   "cell_type": "code",
   "execution_count": null,
   "metadata": {
    "collapsed": true
   },
   "outputs": [],
   "source": [
    "Stations2=Stations.join(Station_TBL.select(col('ID').alias('station'),'longitude','latitude','state'),on='station',how='left_outer')\n",
    "Stations.count(), Stations2.count()"
   ]
  },
  {
   "cell_type": "code",
   "execution_count": null,
   "metadata": {
    "collapsed": true
   },
   "outputs": [],
   "source": [
    "Stations2.show(5)"
   ]
  },
  {
   "cell_type": "code",
   "execution_count": null,
   "metadata": {
    "collapsed": true,
    "scrolled": true
   },
   "outputs": [],
   "source": [
    "St_pandas=Stations2.toPandas()\n",
    "tmp=St_pandas.sort_values('longitude')\n",
    "print tmp.shape\n",
    "print tmp.iloc[0,:]['longitude']\n",
    "print tmp['longitude'][34738]\n",
    "tmp.head()\n",
    "#tmp.tail()\n"
   ]
  },
  {
   "cell_type": "code",
   "execution_count": null,
   "metadata": {
    "collapsed": true,
    "scrolled": true
   },
   "outputs": [],
   "source": [
    "def bisect(df,field):\n",
    "    tmp=df.sort_values(field)\n",
    "    l=tmp.shape[0]\n",
    "    Min=tmp.iloc[0,:][field]\n",
    "    Max=tmp.iloc[l-1,:][field]\n",
    "    cumul=np.array(np.cumsum(tmp['count']))\n",
    "    cumul=cumul/(cumul[-1]+0.0)\n",
    "    midpoint=binary_search(cumul,0.5)\n",
    "    #print cumul[midpoint-1:midpoint+1]\n",
    "    Median=(tmp.iloc[midpoint-1,:][field]+tmp.iloc[midpoint,:][field])/2.\n",
    "    return Min,Median,Max"
   ]
  },
  {
   "cell_type": "code",
   "execution_count": null,
   "metadata": {
    "collapsed": true,
    "scrolled": true
   },
   "outputs": [],
   "source": [
    "print bisect(St_pandas,'longitude')\n",
    "print bisect(St_pandas,'latitude')"
   ]
  },
  {
   "cell_type": "markdown",
   "metadata": {},
   "source": [
    "### Build a KD-tree."
   ]
  },
  {
   "cell_type": "code",
   "execution_count": null,
   "metadata": {
    "collapsed": true
   },
   "outputs": [],
   "source": [
    "fields=['longitude','latitude']\n",
    "field_i=0\n",
    "def build_tree(DF,field_i,level,index):\n",
    "    field=fields[field_i]\n",
    "    Weight=DF['count'].sum()\n",
    "    if level>0:\n",
    "        min,thr,max=bisect(DF,field)\n",
    "        sub1=DF[DF[field]>=thr]\n",
    "        T1=build_tree(sub1,1-field_i,level-1,index+'B')\n",
    "        sub2=DF[DF[field]<thr]\n",
    "        T2=build_tree(sub2,1-field_i,level-1,index+'S')\n",
    "        return {'min':min,\n",
    "                'max':max,\n",
    "                'level':level,\n",
    "                'index':index,\n",
    "                'field':field,\n",
    "                'thr':thr,\n",
    "                'Weight':Weight,\n",
    "                'larger':T1,\n",
    "                'smaller':T2\n",
    "               }\n",
    "    else:\n",
    "        return Weight"
   ]
  },
  {
   "cell_type": "code",
   "execution_count": null,
   "metadata": {
    "collapsed": true
   },
   "outputs": [],
   "source": [
    "tree=build_tree(St_pandas,0,9,'')"
   ]
  },
  {
   "cell_type": "code",
   "execution_count": null,
   "metadata": {
    "collapsed": true
   },
   "outputs": [],
   "source": [
    "def calc_part(longitude, latitude,tree):\n",
    "    \"\"\" Compute the part index for a given longitude and lattitude\"\"\"\n",
    "    coords=[longitude,latitude]\n",
    "    if tree['field']=='longitude':\n",
    "        field_i=0\n",
    "    else:\n",
    "        field_i=1\n",
    "    return find_recursive(tree,coords,field_i)\n",
    "\n",
    "def find_recursive(tree,coords,field_i):\n",
    "    if type(tree)!= dict:\n",
    "        return None\n",
    "    cond=coords[field_i]>tree['thr']\n",
    "    if cond:\n",
    "        R=find_recursive(tree['larger'],coords,1-field_i)\n",
    "    else:\n",
    "        R=find_recursive(tree['smaller'],coords,1-field_i)\n",
    "    if R is None:\n",
    "        return tree['index']\n",
    "    else:\n",
    "        return R"
   ]
  },
  {
   "cell_type": "code",
   "execution_count": null,
   "metadata": {
    "collapsed": true
   },
   "outputs": [],
   "source": [
    "from pyspark.sql.functions import udf\n",
    "from pyspark.sql.types import StringType\n",
    "\n",
    "label_udf = udf(lambda longit,lat:calc_part(longit,lat,tree),StringType())\n",
    "df_withlabel=df.withColumn(\"label\", label_udf(df.longitude,df.latitude))\n",
    "df_withlabel.cache().count()"
   ]
  },
  {
   "cell_type": "code",
   "execution_count": null,
   "metadata": {
    "collapsed": true
   },
   "outputs": [],
   "source": [
    "label_counts=df_withlabel.groupBy(df_withlabel.label).count().collect()"
   ]
  },
  {
   "cell_type": "code",
   "execution_count": null,
   "metadata": {
    "collapsed": true,
    "scrolled": true
   },
   "outputs": [],
   "source": [
    "Labels=[r['label'] for r in label_counts]\n",
    "len(Labels)"
   ]
  },
  {
   "cell_type": "code",
   "execution_count": null,
   "metadata": {
    "collapsed": true
   },
   "outputs": [],
   "source": [
    "%cd /home/ec2-user/Data\n",
    "!ls -l\n",
    "s3helper.local_to_s3('/home/ec2-user/Data/US_Weather_SSBBSBBS.csv.gz','/Weather/small/US_Weather_SSBBSBBS.csv.gz')\n",
    "!rm *"
   ]
  },
  {
   "cell_type": "code",
   "execution_count": null,
   "metadata": {
    "collapsed": true
   },
   "outputs": [],
   "source": [
    "\n",
    "from pyspark.sql import SQLContext,Row,Column\n",
    "from pyspark import SparkContext\n",
    "from pyspark.sql import SparkSession\n",
    "\n",
    "sqlContext = SQLContext(sc)\n",
    "spark=SparkSession(sc)\n",
    "print Query"
   ]
  },
  {
   "cell_type": "code",
   "execution_count": null,
   "metadata": {
    "collapsed": true
   },
   "outputs": [],
   "source": [
    "t=time()\n",
    "df_withlabel = sqlContext.sql(Query).cache()\n",
    "print df_withlabel.count()\n",
    "print 'took',time()-t,'seconds'"
   ]
  },
  {
   "cell_type": "code",
   "execution_count": null,
   "metadata": {
    "collapsed": true
   },
   "outputs": [],
   "source": [
    "bucket='mas-dse-open'\n",
    "s3helper.open_bucket(bucket)"
   ]
  },
  {
   "cell_type": "code",
   "execution_count": null,
   "metadata": {
    "collapsed": true
   },
   "outputs": [],
   "source": [
    "Labels_list=df_withlabel.select('label').collect()\n",
    "Labels_list[:5]"
   ]
  },
  {
   "cell_type": "code",
   "execution_count": null,
   "metadata": {
    "collapsed": true
   },
   "outputs": [],
   "source": [
    "import pickle\n",
    "for label in Labels:\n",
    "    single_label=df_withlabel.filter(df_withlabel['label']==label).collect()\n",
    "    print label,len(single_label),'  ',\n",
    "    #print single_label[0]\n",
    "    filename='/home/ec2-user/Data/US_Weather_%s.pickle'%label\n",
    "    pickle.dump(single_label,open(filename,'wb'),protocol=2)\n",
    "    !gzip $filename\n",
    "    !ls -l $filename*\n",
    "    filename='US_Weather_%s.pickle.gz'%label\n",
    "    s3helper.local_to_s3('/home/ec2-user/Data/'+filename,'/Weather/small/'+filename)"
   ]
  },
  {
   "cell_type": "code",
   "execution_count": null,
   "metadata": {
    "collapsed": true
   },
   "outputs": [],
   "source": []
  },
  {
   "cell_type": "code",
   "execution_count": null,
   "metadata": {
    "collapsed": true
   },
   "outputs": [],
   "source": [
    "t=time()\n",
    "#df_withlabel.write.save('hdfs:///US_Weather_cleaned_labeled.parquet')\n",
    "#print 'HDFS:\\n',s3helper.ls_hdfs()\n",
    "files=s3helper.hdfs_to_s3(\"/US_Weather_cleaned_labeled.parquet\", \"/Weather/US_Weather_cleaned_labeled.parquet\")\n",
    "print 'S3:\\n',s3helper.ls_s3('Weather')\n",
    "print 'took',time()-t"
   ]
  },
  {
   "cell_type": "code",
   "execution_count": null,
   "metadata": {
    "collapsed": true
   },
   "outputs": [],
   "source": [
    "13000*4*365./1000000."
   ]
  },
  {
   "cell_type": "code",
   "execution_count": null,
   "metadata": {
    "collapsed": true,
    "slideshow": {
     "slide_type": "fragment"
    }
   },
   "outputs": [],
   "source": [
    "# Compute the overall distribution of values and the distribution of the number of nan per year\n",
    "def find_percentiles(SortedVals,percentile):\n",
    "  L=len(SortedVals)/percentile\n",
    "  return SortedVals[L],SortedVals[-L]\n",
    "  \n",
    "def computeOverAllDist(rdd0):\n",
    "  UnDef=np.array(rdd0.map(lambda row:sum(np.isnan(row))).sample(False,0.01).collect())\n",
    "  flat=rdd0.flatMap(lambda v:list(v)).filter(lambda x: not np.isnan(x)).cache()\n",
    "  count,S1,S2=flat.map(lambda x: np.float64([1,x,x**2]))\\\n",
    "                  .reduce(lambda x,y: x+y)\n",
    "  mean=S1/count\n",
    "  std=np.sqrt(S2/count-mean**2)\n",
    "  Vals=flat.sample(False,0.0001).collect()\n",
    "  SortedVals=np.array(sorted(Vals))\n",
    "  low100,high100=find_percentiles(SortedVals,100)\n",
    "  low1000,high1000=find_percentiles(SortedVals,1000)\n",
    "  return {'UnDef':UnDef,\\\n",
    "          'mean':mean,\\\n",
    "          'std':std,\\\n",
    "          'SortedVals':SortedVals,\\\n",
    "          'low100':low100,\\\n",
    "          'high100':high100,\\\n",
    "          'low1000':low100,\\\n",
    "          'high1000':high1000\n",
    "          }"
   ]
  },
  {
   "cell_type": "code",
   "execution_count": null,
   "metadata": {
    "collapsed": true
   },
   "outputs": [],
   "source": [
    "def repack_array(row):\n",
    "    arr=(np.array([np.float16(row[str(i)]) for i in range(1,366)]))\n",
    "    #trim extremes\n",
    "    trimmed=np.array([x if (x>low1000-1) and (x<high1000+1) else np.nan for x in arr],dtype=np.float16)\n",
    "    #count nan\n",
    "    count=int(np.sum(np.isnan(trimmed)))\n",
    "    #return row with 365 entries replaced with a bytestream representing a bytearray.\n",
    "\n",
    "    New={}\n",
    "    keep_keys=['longitude', 'station', 'latitude', 'year', 'elevation', 'measurement']\n",
    "    for k in keep_keys:\n",
    "        New[k]=row[k]\n",
    "    New['vector']=packArray(trimmed)\n",
    "    New['undefs']=count\n",
    "    return Row(**New)\n"
   ]
  },
  {
   "cell_type": "code",
   "execution_count": null,
   "metadata": {
    "collapsed": true,
    "slideshow": {
     "slide_type": "slide"
    }
   },
   "outputs": [],
   "source": [
    "from numpy import linalg as LA\n",
    "\n",
    "STAT={}  # dictionary storing the statistics for each measurement\n",
    "df={}\n",
    "clean_df={}\n",
    "\n",
    "for meas in measurements:\n",
    "    t=time()\n",
    "    Query=\"SELECT * FROM parquet.`%s`\\n\\tWHERE measurement = '%s'\"%(US_Weather_parquet,meas)\n",
    "    print Query\n",
    "    df[meas] = sqlContext.sql(Query)\n",
    "    print 'size of dataframe for ',meas,'before filtering =',df[meas].count()\n",
    "    rdd0=df[meas].rdd.map(lambda row:(row['station'],((row['measurement'],row['year']),np.array([np.float64(row[str(i)]) for i in range(1,366)])))).cache()\n",
    "\n",
    "    rdd1=rdd0.sample(False,1)\\\n",
    "           .map(lambda (key,val): val[1])\\\n",
    "           .cache()\\\n",
    "           .repartition(N)\n",
    "\n",
    "    STAT[meas]=computeOverAllDist(rdd1)   # Compute the statistics \n",
    "    low1000 = STAT[meas]['low1000']  # unpack the extreme values statistics\n",
    "    high1000 = STAT[meas]['high1000']\n",
    "\n",
    "    Cleaned=df[meas].rdd.map(lambda row:repack_array(row))\n",
    "    \n",
    "    clean_df[meas]=spark.createDataFrame(Cleaned).filter(\"undefs<50\")\n",
    "\n",
    "    print 'size of dataframe for ',meas,'after filtering =',clean_df[meas].count()\n",
    "    print meas,'took',time()-t,'seconds'\n",
    "\n"
   ]
  },
  {
   "cell_type": "code",
   "execution_count": null,
   "metadata": {
    "collapsed": true
   },
   "outputs": [],
   "source": [
    "import sys\n",
    "sys.path.append('./lib')\n",
    "from numpy_pack import packArray,unpackArray\n",
    "\n"
   ]
  },
  {
   "cell_type": "code",
   "execution_count": null,
   "metadata": {
    "collapsed": true,
    "scrolled": false
   },
   "outputs": [],
   "source": [
    "t=time()\n",
    "df_all = clean_df['TMIN']\n",
    "s=clean_df['TMIN'].count()\n",
    "print 'TMIN',s\n",
    "for key in ['TOBS', 'TMAX', 'SNOW', 'SNWD', 'PRCP']:\n",
    "    df_all=df_all.union(clean_df[key])\n",
    "    s1= clean_df[key].count()\n",
    "    s+= s1\n",
    "    print key,s1,s\n",
    "print 'total size=',df_all.cache().count()\n",
    "print 'took',time()-t,'seconds'"
   ]
  },
  {
   "cell_type": "code",
   "execution_count": null,
   "metadata": {
    "collapsed": true,
    "scrolled": false
   },
   "outputs": [],
   "source": [
    "t=time()\n",
    "#df_all.write.save(\"hdfs:///US_Weather_Cleaned.parquet\")\n",
    "print 'HDFS:\\n',s3helper.ls_hdfs()\n",
    "s3helper.hdfs_to_s3(\"/US_Weather_Cleaned.parquet\", \"/Weather/US_Weather_Cleaned.parquet\")\n",
    "print 'S3:\\n',s3helper.ls_s3('Weather')\n",
    "print 'took',time()-t\n",
    "# took took 525.435763121"
   ]
  }
 ],
 "metadata": {
  "celltoolbar": "Slideshow",
  "kernelspec": {
   "display_name": "Python 3",
   "language": "python",
   "name": "python3"
  },
  "language_info": {
   "codemirror_mode": {
    "name": "ipython",
    "version": 3
   },
   "file_extension": ".py",
   "mimetype": "text/x-python",
   "name": "python",
   "nbconvert_exporter": "python",
   "pygments_lexer": "ipython3",
   "version": "3.4.5"
  },
  "name": "PCA_using_numpy for HW3",
  "notebookId": 85286,
  "toc": {
   "colors": {
    "hover_highlight": "#DAA520",
    "running_highlight": "#FF0000",
    "selected_highlight": "#FFD700"
   },
   "moveMenuLeft": true,
   "nav_menu": {
    "height": "100px",
    "width": "252px"
   },
   "navigate_menu": true,
   "number_sections": true,
   "sideBar": true,
   "threshold": 4,
   "toc_cell": false,
   "toc_section_display": "block",
   "toc_window_display": false
  }
 },
 "nbformat": 4,
 "nbformat_minor": 1
}
