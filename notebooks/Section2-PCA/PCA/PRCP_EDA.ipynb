{
 "cells": [
  {
   "cell_type": "code",
   "execution_count": 1,
   "metadata": {
    "collapsed": true
   },
   "outputs": [],
   "source": [
    "#setup\n",
    "data_dir='../../../Data/Weather'\n",
    "#!ls $data_dir\n",
    "state='CA'\n",
    "m='PRCP_s20'"
   ]
  },
  {
   "cell_type": "code",
   "execution_count": 2,
   "metadata": {},
   "outputs": [
    {
     "name": "stdout",
     "output_type": "stream",
     "text": [
      "Populating the interactive namespace from numpy and matplotlib\n",
      "    pandas as    pd \tversion=0.19.2 \trequired version>=0.19.2\n",
      "\n",
      "     numpy as    np \tversion=1.11.3 \trequired version>=1.12.0\n",
      "******* Update Version ******\n",
      "   sklearn as    sk \tversion=0.18.1 \trequired version>=0.18.1\n",
      "\n",
      "module urllib has no version\n",
      "   pyspark as pyspark \tversion=2.3.0 \trequired version>=2.1.0\n",
      "\n",
      "ipywidgets as ipywidgets \tversion=5.2.2 \trequired version>=6.0.0\n",
      "******* Update Version ******\n",
      "version of ipwidgets= 5.2.2\n"
     ]
    }
   ],
   "source": [
    "# Enable automiatic reload of libraries\n",
    "import pandas as pd\n",
    "import seaborn as sns\n",
    "import os\n",
    "%load_ext autoreload\n",
    "%autoreload 2 # means that all modules are reloaded before every command\n",
    "\n",
    "%pylab inline\n",
    "#%pylab inline\n",
    "import numpy as np\n",
    "\n",
    "import findspark\n",
    "findspark.init()\n",
    "\n",
    "#import sys\n",
    "#sys.path.append('./lib')\n",
    "\n",
    "from lib.numpy_pack import packArray,unpackArray\n",
    "\n",
    "#from lib.Eigen_decomp import Eigen_decomp\n",
    "from lib.YearPlotter import YearPlotter\n",
    "from lib.decomposer import *\n",
    "from lib.Reconstruction_plots import *\n",
    "\n",
    "\n",
    "from lib.import_modules import import_modules,modules\n",
    "import_modules(modules)\n",
    "\n",
    "from lib.getFiles import *\n",
    "\n",
    "import matplotlib.pyplot as plt\n",
    "from ipywidgets import interact, interactive, fixed, interact_manual,widgets\n",
    "import ipywidgets as widgets\n",
    "\n",
    "print('version of ipwidgets=',widgets.__version__)\n",
    "\n",
    "import warnings  # Suppress Warnings\n",
    "warnings.filterwarnings('ignore')"
   ]
  },
  {
   "cell_type": "code",
   "execution_count": 3,
   "metadata": {},
   "outputs": [],
   "source": [
    "from pyspark import SparkContext\n",
    "#sc.stop()\n",
    "\n",
    "sc = SparkContext(master=\"local[3]\",pyFiles=['lib/numpy_pack.py','lib/spark_PCA.py','lib/computeStatistics.py','lib/Reconstruction_plots.py','lib/decomposer.py'])\n",
    "\n",
    "from pyspark import SparkContext\n",
    "from pyspark.sql import *\n",
    "sqlContext = SQLContext(sc)\n"
   ]
  },
  {
   "cell_type": "code",
   "execution_count": 6,
   "metadata": {},
   "outputs": [
    {
     "name": "stdout",
     "output_type": "stream",
     "text": [
      "curl https://mas-dse-open.s3.amazonaws.com/Weather/by_state_2/CA.tgz > ../../../Data/Weather/CA.tgz\n",
      "tar -xzf ../../../Data/Weather/CA.tgz -C ../../../Data/Weather\n",
      "rm ../../../Data/Weather/CA.tgz\n",
      "curl https://mas-dse-open.s3.amazonaws.com/Weather/by_state_2/STAT_CA.pickle.gz > ../../../Data/Weather/STAT_CA.pickle.gz\n",
      "gunzip ../../../Data/Weather/STAT_CA.pickle.gz\n",
      "curl https://mas-dse-open.s3.amazonaws.com/Weather/Weather_Stations.tgz > ../../../Data/Weather/Weather_Stations.tgz\n",
      "tar -xzf ../../../Data/Weather/Weather_Stations.tgz -C ../../../Data/Weather\n",
      "rm ../../../Data/Weather/Weather_Stations.tgz\n",
      "133M\t../../../Data/Weather/CA.parquet\n",
      "420K\t../../../Data/Weather/stations.parquet\n",
      "182M\t../../../Data/Weather\n"
     ]
    }
   ],
   "source": [
    "get_weather_files(state,data_dir)\n",
    "!du -h $data_dir"
   ]
  },
  {
   "cell_type": "code",
   "execution_count": 7,
   "metadata": {},
   "outputs": [
    {
     "name": "stdout",
     "output_type": "stream",
     "text": [
      "keys from STAT= dict_keys(['SNWD', 'PRCP', 'TMAX_s20', 'TMAX', 'PRCP_s20', 'TMIN', 'SNOW_s20', 'TOBS_s20', 'TOBS', 'SNWD_s20', 'TMIN_s20', 'SNOW'])\n"
     ]
    }
   ],
   "source": [
    "from pickle import load\n",
    "\n",
    "#read statistics\n",
    "filename=data_dir+'/STAT_%s.pickle'%state\n",
    "STAT,STAT_Descriptions = load(open(filename,'rb'))\n",
    "measurements=STAT.keys()\n",
    "print('keys from STAT=',measurements)"
   ]
  },
  {
   "cell_type": "code",
   "execution_count": 8,
   "metadata": {
    "collapsed": true
   },
   "outputs": [],
   "source": [
    "EigVec=STAT[m]['eigvec']\n",
    "Mean=STAT[m]['Mean']"
   ]
  },
  {
   "cell_type": "code",
   "execution_count": 12,
   "metadata": {},
   "outputs": [
    {
     "name": "stdout",
     "output_type": "stream",
     "text": [
      "+-----------+-----------+----+--------------------+-----------------+--------------+----------------+---------+-----------+\n",
      "|    Station|Measurement|Year|              Values|       dist_coast|      latitude|       longitude|elevation|       name|\n",
      "+-----------+-----------+----+--------------------+-----------------+--------------+----------------+---------+-----------+\n",
      "|USC00040437|   PRCP_s20|1953|[00 00 00 00 00 0...|256.1050109863281|35.38330078125|-116.11669921875|    320.0|BAKER 9 NNW|\n",
      "|USC00040437|   PRCP_s20|1954|[57 44 8B 44 BE 4...|256.1050109863281|35.38330078125|-116.11669921875|    320.0|BAKER 9 NNW|\n",
      "|USC00040437|   PRCP_s20|1955|[59 43 5B 43 64 4...|256.1050109863281|35.38330078125|-116.11669921875|    320.0|BAKER 9 NNW|\n",
      "|USC00040437|   PRCP_s20|1956|[8B 39 DD 39 32 3...|256.1050109863281|35.38330078125|-116.11669921875|    320.0|BAKER 9 NNW|\n",
      "|USC00040437|   PRCP_s20|1957|[B2 3E D8 3E FC 3...|256.1050109863281|35.38330078125|-116.11669921875|    320.0|BAKER 9 NNW|\n",
      "+-----------+-----------+----+--------------------+-----------------+--------------+----------------+---------+-----------+\n",
      "only showing top 5 rows\n",
      "\n"
     ]
    }
   ],
   "source": [
    "#read data\n",
    "filename='file:///mnt/workspace/Public-DSC291/Data/Weather/'+'/%s.parquet'%state\n",
    "df_in=sqlContext.read.parquet(filename)\n",
    "#filter in \n",
    "df=df_in.filter(df_in.Measurement==m)\n",
    "df=df.drop('State')\n",
    "df.show(5)"
   ]
  },
  {
   "cell_type": "code",
   "execution_count": 13,
   "metadata": {},
   "outputs": [
    {
     "name": "stdout",
     "output_type": "stream",
     "text": [
      "+-----------+-----+\n",
      "|    Station|count|\n",
      "+-----------+-----+\n",
      "|USC00040174|    3|\n",
      "|USC00047965|  112|\n",
      "|USC00046599|   30|\n",
      "|USC00043735|    5|\n",
      "|USC00045032|  108|\n",
      "|USC00046154|   40|\n",
      "|USW00023226|    4|\n",
      "|USC00043244|   18|\n",
      "|USC00046333|    6|\n",
      "|USC00042805|  115|\n",
      "|USC00045120|   40|\n",
      "|USC00048332|   10|\n",
      "|USC00049540|   46|\n",
      "|USC00040738|   70|\n",
      "|USC00040924|  101|\n",
      "|USC00045064|   68|\n",
      "|USC00043161|  118|\n",
      "|USC00049781|  100|\n",
      "|USC00049473|  102|\n",
      "|USC00040232|   58|\n",
      "+-----------+-----+\n",
      "only showing top 20 rows\n",
      "\n"
     ]
    }
   ],
   "source": [
    "df.groupby('Station').count().show()"
   ]
  },
  {
   "cell_type": "code",
   "execution_count": 14,
   "metadata": {
    "collapsed": true
   },
   "outputs": [],
   "source": [
    "result = df[df.Station == 'USC00047965'].collect()\n",
    "result = pd.DataFrame(result)"
   ]
  },
  {
   "cell_type": "code",
   "execution_count": 15,
   "metadata": {},
   "outputs": [
    {
     "data": {
      "text/html": [
       "<div>\n",
       "<table border=\"1\" class=\"dataframe\">\n",
       "  <thead>\n",
       "    <tr style=\"text-align: right;\">\n",
       "      <th></th>\n",
       "      <th>Station</th>\n",
       "      <th>Measurement</th>\n",
       "      <th>Year</th>\n",
       "      <th>Values</th>\n",
       "      <th>dist_coast</th>\n",
       "      <th>latitude</th>\n",
       "      <th>longitude</th>\n",
       "      <th>elevation</th>\n",
       "      <th>name</th>\n",
       "    </tr>\n",
       "  </thead>\n",
       "  <tbody>\n",
       "    <tr>\n",
       "      <th>107</th>\n",
       "      <td>USC00047965</td>\n",
       "      <td>PRCP_s20</td>\n",
       "      <td>2009</td>\n",
       "      <td>[225, 76, 224, 76, 252, 76, 9, 77, 19, 77, 28,...</td>\n",
       "      <td>32.362</td>\n",
       "      <td>38.438099</td>\n",
       "      <td>-122.6978</td>\n",
       "      <td>53.0</td>\n",
       "      <td>SANTA ROSA</td>\n",
       "    </tr>\n",
       "    <tr>\n",
       "      <th>108</th>\n",
       "      <td>USC00047965</td>\n",
       "      <td>PRCP_s20</td>\n",
       "      <td>2010</td>\n",
       "      <td>[139, 81, 171, 81, 202, 81, 236, 81, 17, 82, 4...</td>\n",
       "      <td>32.362</td>\n",
       "      <td>38.438099</td>\n",
       "      <td>-122.6978</td>\n",
       "      <td>53.0</td>\n",
       "      <td>SANTA ROSA</td>\n",
       "    </tr>\n",
       "    <tr>\n",
       "      <th>109</th>\n",
       "      <td>USC00047965</td>\n",
       "      <td>PRCP_s20</td>\n",
       "      <td>2011</td>\n",
       "      <td>[150, 81, 132, 81, 114, 81, 95, 81, 76, 81, 66...</td>\n",
       "      <td>32.362</td>\n",
       "      <td>38.438099</td>\n",
       "      <td>-122.6978</td>\n",
       "      <td>53.0</td>\n",
       "      <td>SANTA ROSA</td>\n",
       "    </tr>\n",
       "    <tr>\n",
       "      <th>110</th>\n",
       "      <td>USC00047965</td>\n",
       "      <td>PRCP_s20</td>\n",
       "      <td>2012</td>\n",
       "      <td>[246, 88, 19, 89, 39, 89, 57, 89, 72, 89, 86, ...</td>\n",
       "      <td>32.362</td>\n",
       "      <td>38.438099</td>\n",
       "      <td>-122.6978</td>\n",
       "      <td>53.0</td>\n",
       "      <td>SANTA ROSA</td>\n",
       "    </tr>\n",
       "    <tr>\n",
       "      <th>111</th>\n",
       "      <td>USC00047965</td>\n",
       "      <td>PRCP_s20</td>\n",
       "      <td>2013</td>\n",
       "      <td>[48, 84, 32, 84, 19, 84, 5, 84, 239, 83, 211, ...</td>\n",
       "      <td>32.362</td>\n",
       "      <td>38.438099</td>\n",
       "      <td>-122.6978</td>\n",
       "      <td>53.0</td>\n",
       "      <td>SANTA ROSA</td>\n",
       "    </tr>\n",
       "  </tbody>\n",
       "</table>\n",
       "</div>"
      ],
      "text/plain": [
       "         Station Measurement  Year  \\\n",
       "107  USC00047965    PRCP_s20  2009   \n",
       "108  USC00047965    PRCP_s20  2010   \n",
       "109  USC00047965    PRCP_s20  2011   \n",
       "110  USC00047965    PRCP_s20  2012   \n",
       "111  USC00047965    PRCP_s20  2013   \n",
       "\n",
       "                                                Values  dist_coast   latitude  \\\n",
       "107  [225, 76, 224, 76, 252, 76, 9, 77, 19, 77, 28,...      32.362  38.438099   \n",
       "108  [139, 81, 171, 81, 202, 81, 236, 81, 17, 82, 4...      32.362  38.438099   \n",
       "109  [150, 81, 132, 81, 114, 81, 95, 81, 76, 81, 66...      32.362  38.438099   \n",
       "110  [246, 88, 19, 89, 39, 89, 57, 89, 72, 89, 86, ...      32.362  38.438099   \n",
       "111  [48, 84, 32, 84, 19, 84, 5, 84, 239, 83, 211, ...      32.362  38.438099   \n",
       "\n",
       "     longitude  elevation        name  \n",
       "107  -122.6978       53.0  SANTA ROSA  \n",
       "108  -122.6978       53.0  SANTA ROSA  \n",
       "109  -122.6978       53.0  SANTA ROSA  \n",
       "110  -122.6978       53.0  SANTA ROSA  \n",
       "111  -122.6978       53.0  SANTA ROSA  "
      ]
     },
     "execution_count": 15,
     "metadata": {},
     "output_type": "execute_result"
    }
   ],
   "source": [
    "result.columns = df.columns\n",
    "result.tail()"
   ]
  },
  {
   "cell_type": "code",
   "execution_count": 71,
   "metadata": {},
   "outputs": [],
   "source": [
    "L = list(result['Values'])\n",
    "V_day = np.stack([unpackArray(v,np.float16) for v in L]) \n",
    "daysEachMonth = [31, 28, 31, 30, 31, 30, 31, 31, 30, 31, 30, 31] \n",
    "V_month = []\n",
    "for y in range(len(V_day)):\n",
    "    temp = []\n",
    "    for m in range(12):\n",
    "        start = sum(daysEachMonth[:m])\n",
    "        end = sum(daysEachMonth[:m+1]) \n",
    "        temp.append(np.nanmean(V_day[y, start:end]))\n",
    "    V_month.append(temp)\n",
    "V_month = np.stack(V_month)\n",
    "V_avg = np.nanmean(V_month, 1)\n",
    "df_new = pd.DataFrame([list(result['Year']), list(V_day), list(V_month), list(V_avg)]).T\n",
    "df_new.columns = ['Year', 'Value_day', 'Value_month', 'Value_avg']\n",
    "df_new = df_new[df_new['Year']>=1950]"
   ]
  },
  {
   "cell_type": "code",
   "execution_count": 72,
   "metadata": {},
   "outputs": [
    {
     "data": {
      "text/html": [
       "<div>\n",
       "<table border=\"1\" class=\"dataframe\">\n",
       "  <thead>\n",
       "    <tr style=\"text-align: right;\">\n",
       "      <th></th>\n",
       "      <th>Year</th>\n",
       "      <th>Value_day</th>\n",
       "      <th>Value_month</th>\n",
       "      <th>Value_avg</th>\n",
       "      <th>ONI_month</th>\n",
       "      <th>ONI_avg</th>\n",
       "    </tr>\n",
       "  </thead>\n",
       "  <tbody>\n",
       "    <tr>\n",
       "      <th>48</th>\n",
       "      <td>1950</td>\n",
       "      <td>[52.656, 54.094, 55.531, 56.906, 58.25, 59.562...</td>\n",
       "      <td>[65.312, 47.531, 24.891, 14.648, 3.9141, 0.720...</td>\n",
       "      <td>27.0625</td>\n",
       "      <td>[-1.53, -1.34, -1.16, -1.18, -1.07, -0.85, -0....</td>\n",
       "      <td>-0.860000</td>\n",
       "    </tr>\n",
       "    <tr>\n",
       "      <th>49</th>\n",
       "      <td>1951</td>\n",
       "      <td>[47.406, 46.688, 46.0, 45.344, 44.719, 43.75, ...</td>\n",
       "      <td>[40.188, 26.297, 11.023, 11.156, 10.008, 1.413...</td>\n",
       "      <td>20.9062</td>\n",
       "      <td>[-0.82, -0.54, -0.17, 0.18, 0.36, 0.58, 0.70, ...</td>\n",
       "      <td>0.430833</td>\n",
       "    </tr>\n",
       "    <tr>\n",
       "      <th>50</th>\n",
       "      <td>1952</td>\n",
       "      <td>[64.375, 64.562, 64.812, 65.062, 65.312, 65.5,...</td>\n",
       "      <td>[63.406, 43.469, 28.031, 12.523, 4.9336, 6.132...</td>\n",
       "      <td>25.2969</td>\n",
       "      <td>[0.53, 0.37, 0.34, 0.29, 0.20, 0.00, -0.08, 0....</td>\n",
       "      <td>0.174167</td>\n",
       "    </tr>\n",
       "    <tr>\n",
       "      <th>51</th>\n",
       "      <td>1953</td>\n",
       "      <td>[73.375, 72.25, 70.938, 69.438, 68.062, 66.812...</td>\n",
       "      <td>[51.312, 17.031, 18.312, 21.797, 15.578, 6.414...</td>\n",
       "      <td>17.3438</td>\n",
       "      <td>[0.40, 0.60, 0.63, 0.66, 0.75, 0.77, 0.75, 0.7...</td>\n",
       "      <td>0.713333</td>\n",
       "    </tr>\n",
       "    <tr>\n",
       "      <th>52</th>\n",
       "      <td>1954</td>\n",
       "      <td>[36.281, 37.031, 37.875, 38.281, 39.062, 39.93...</td>\n",
       "      <td>[43.906, 41.062, 39.25, 25.844, 8.6641, 2.0098...</td>\n",
       "      <td>22.1719</td>\n",
       "      <td>[0.76, 0.47, -0.05, -0.41, -0.54, -0.50, -0.64...</td>\n",
       "      <td>-0.400833</td>\n",
       "    </tr>\n",
       "  </tbody>\n",
       "</table>\n",
       "</div>"
      ],
      "text/plain": [
       "    Year                                          Value_day  \\\n",
       "48  1950  [52.656, 54.094, 55.531, 56.906, 58.25, 59.562...   \n",
       "49  1951  [47.406, 46.688, 46.0, 45.344, 44.719, 43.75, ...   \n",
       "50  1952  [64.375, 64.562, 64.812, 65.062, 65.312, 65.5,...   \n",
       "51  1953  [73.375, 72.25, 70.938, 69.438, 68.062, 66.812...   \n",
       "52  1954  [36.281, 37.031, 37.875, 38.281, 39.062, 39.93...   \n",
       "\n",
       "                                          Value_month Value_avg  \\\n",
       "48  [65.312, 47.531, 24.891, 14.648, 3.9141, 0.720...   27.0625   \n",
       "49  [40.188, 26.297, 11.023, 11.156, 10.008, 1.413...   20.9062   \n",
       "50  [63.406, 43.469, 28.031, 12.523, 4.9336, 6.132...   25.2969   \n",
       "51  [51.312, 17.031, 18.312, 21.797, 15.578, 6.414...   17.3438   \n",
       "52  [43.906, 41.062, 39.25, 25.844, 8.6641, 2.0098...   22.1719   \n",
       "\n",
       "                                            ONI_month   ONI_avg  \n",
       "48  [-1.53, -1.34, -1.16, -1.18, -1.07, -0.85, -0.... -0.860000  \n",
       "49  [-0.82, -0.54, -0.17, 0.18, 0.36, 0.58, 0.70, ...  0.430833  \n",
       "50  [0.53, 0.37, 0.34, 0.29, 0.20, 0.00, -0.08, 0....  0.174167  \n",
       "51  [0.40, 0.60, 0.63, 0.66, 0.75, 0.77, 0.75, 0.7...  0.713333  \n",
       "52  [0.76, 0.47, -0.05, -0.41, -0.54, -0.50, -0.64... -0.400833  "
      ]
     },
     "execution_count": 72,
     "metadata": {},
     "output_type": "execute_result"
    }
   ],
   "source": [
    "oni_file = open('/mnt/workspace/Public-DSC291/Data/Weather/oni.data') \n",
    "oni_month = []\n",
    "oni_avg = []\n",
    "for line in oni_file:\n",
    "    l = line.split()\n",
    "    oni_month.append(l[1:])\n",
    "    oni_avg.append(np.mean([float(x) for x in l[1:]])) \n",
    "    \n",
    "df_new['ONI_month'] = oni_month\n",
    "df_new['ONI_avg'] = oni_avg\n",
    "df_new.head()"
   ]
  },
  {
   "cell_type": "code",
   "execution_count": 57,
   "metadata": {},
   "outputs": [
    {
     "data": {
      "image/png": "[encoded data removed]",
      "text/plain": [
       "<matplotlib.figure.Figure at 0x7fa7ec4d57f0>"
      ]
     },
     "metadata": {},
     "output_type": "display_data"
    }
   ],
   "source": [
    "def plot_PRCP_ONI(df):\n",
    "    f, (ax1, ax2) = plt.subplots(1, 2, figsize=(12, 4))\n",
    "    ax1.set_xticklabels(ax1.get_xticklabels(), rotation=90)\n",
    "    ax1.set_xticklabels(df['Year'])\n",
    "    ax1.set_ylabel('ONI_avg')\n",
    "    sns.barplot(x=df['Year'], y=df['ONI_avg'], ax=ax1)\n",
    "    ax2.set_xticklabels(ax2.get_xticklabels(), rotation=90)\n",
    "    ax1.set_xticklabels(df['Year'])\n",
    "    ax2.set_ylabel('PRCP_avg')\n",
    "    sns.barplot(x=df['Year'], y=df['Value_avg'], ax=ax2)\n",
    "\n",
    "plot_PRCP_ONI(df_new)"
   ]
  },
  {
   "cell_type": "code",
   "execution_count": 58,
   "metadata": {},
   "outputs": [
    {
     "data": {
      "image/png": "[encoded data removed]",
      "text/plain": [
       "<matplotlib.figure.Figure at 0x7fa7ec605630>"
      ]
     },
     "metadata": {},
     "output_type": "display_data"
    }
   ],
   "source": [
    "df2 = df_new[df_new['ONI_avg']>0.5]\n",
    "plot_PRCP_ONI(df2)"
   ]
  },
  {
   "cell_type": "code",
   "execution_count": 62,
   "metadata": {},
   "outputs": [
    {
     "data": {
      "image/png": "[encoded data removed]",
      "text/plain": [
       "<matplotlib.figure.Figure at 0x7fa7ec3b0320>"
      ]
     },
     "metadata": {},
     "output_type": "display_data"
    }
   ],
   "source": [
    "df3 = df_new[df_new['ONI_avg']<-0.5]\n",
    "plot_PRCP_ONI(df3)"
   ]
  },
  {
   "cell_type": "code",
   "execution_count": 73,
   "metadata": {},
   "outputs": [
    {
     "data": {
      "text/html": [
       "<div>\n",
       "<table border=\"1\" class=\"dataframe\">\n",
       "  <thead>\n",
       "    <tr style=\"text-align: right;\">\n",
       "      <th></th>\n",
       "      <th>Year</th>\n",
       "      <th>Value_day</th>\n",
       "      <th>Value_month</th>\n",
       "      <th>Value_avg</th>\n",
       "      <th>ONI_month</th>\n",
       "      <th>ONI_avg</th>\n",
       "    </tr>\n",
       "  </thead>\n",
       "  <tbody>\n",
       "    <tr>\n",
       "      <th>107</th>\n",
       "      <td>2009</td>\n",
       "      <td>[19.516, 19.5, 19.938, 20.141, 20.297, 20.438,...</td>\n",
       "      <td>[26.453, 50.719, 32.656, 16.047, 12.984, 2.210...</td>\n",
       "      <td>17.7656</td>\n",
       "      <td>[-0.80, -0.69, -0.52, -0.24, 0.09, 0.35, 0.47,...</td>\n",
       "      <td>0.306667</td>\n",
       "    </tr>\n",
       "    <tr>\n",
       "      <th>108</th>\n",
       "      <td>2010</td>\n",
       "      <td>[44.344, 45.344, 46.312, 47.375, 48.531, 49.5,...</td>\n",
       "      <td>[55.562, 50.812, 36.188, 28.266, 19.016, 7.210...</td>\n",
       "      <td>26.875</td>\n",
       "      <td>[1.55, 1.31, 0.94, 0.44, -0.09, -0.59, -1.03, ...</td>\n",
       "      <td>-0.453333</td>\n",
       "    </tr>\n",
       "    <tr>\n",
       "      <th>109</th>\n",
       "      <td>2011</td>\n",
       "      <td>[44.688, 44.125, 43.562, 42.969, 42.375, 42.06...</td>\n",
       "      <td>[42.219, 87.875, 120.38, 83.312, 54.969, 28.75...</td>\n",
       "      <td>57.375</td>\n",
       "      <td>[-1.37, -1.09, -0.83, -0.64, -0.47, -0.38, -0....</td>\n",
       "      <td>-0.834167</td>\n",
       "    </tr>\n",
       "    <tr>\n",
       "      <th>110</th>\n",
       "      <td>2012</td>\n",
       "      <td>[158.75, 162.38, 164.88, 167.12, 169.0, 170.75...</td>\n",
       "      <td>[166.88, 122.62, 107.69, 88.812, 40.969, 1.462...</td>\n",
       "      <td>57.7812</td>\n",
       "      <td>[-0.81, -0.62, -0.50, -0.38, -0.18, 0.05, 0.27...</td>\n",
       "      <td>-0.126667</td>\n",
       "    </tr>\n",
       "    <tr>\n",
       "      <th>111</th>\n",
       "      <td>2013</td>\n",
       "      <td>[67.0, 66.0, 65.188, 64.312, 63.469, 62.594, 6...</td>\n",
       "      <td>[52.531, 23.031, nan, nan, nan, nan, nan, nan,...</td>\n",
       "      <td>18.8906</td>\n",
       "      <td>[-0.38, -0.33, -0.24, -0.21, -0.27, -0.34, -0....</td>\n",
       "      <td>-0.294167</td>\n",
       "    </tr>\n",
       "  </tbody>\n",
       "</table>\n",
       "</div>"
      ],
      "text/plain": [
       "     Year                                          Value_day  \\\n",
       "107  2009  [19.516, 19.5, 19.938, 20.141, 20.297, 20.438,...   \n",
       "108  2010  [44.344, 45.344, 46.312, 47.375, 48.531, 49.5,...   \n",
       "109  2011  [44.688, 44.125, 43.562, 42.969, 42.375, 42.06...   \n",
       "110  2012  [158.75, 162.38, 164.88, 167.12, 169.0, 170.75...   \n",
       "111  2013  [67.0, 66.0, 65.188, 64.312, 63.469, 62.594, 6...   \n",
       "\n",
       "                                           Value_month Value_avg  \\\n",
       "107  [26.453, 50.719, 32.656, 16.047, 12.984, 2.210...   17.7656   \n",
       "108  [55.562, 50.812, 36.188, 28.266, 19.016, 7.210...    26.875   \n",
       "109  [42.219, 87.875, 120.38, 83.312, 54.969, 28.75...    57.375   \n",
       "110  [166.88, 122.62, 107.69, 88.812, 40.969, 1.462...   57.7812   \n",
       "111  [52.531, 23.031, nan, nan, nan, nan, nan, nan,...   18.8906   \n",
       "\n",
       "                                             ONI_month   ONI_avg  \n",
       "107  [-0.80, -0.69, -0.52, -0.24, 0.09, 0.35, 0.47,...  0.306667  \n",
       "108  [1.55, 1.31, 0.94, 0.44, -0.09, -0.59, -1.03, ... -0.453333  \n",
       "109  [-1.37, -1.09, -0.83, -0.64, -0.47, -0.38, -0.... -0.834167  \n",
       "110  [-0.81, -0.62, -0.50, -0.38, -0.18, 0.05, 0.27... -0.126667  \n",
       "111  [-0.38, -0.33, -0.24, -0.21, -0.27, -0.34, -0.... -0.294167  "
      ]
     },
     "execution_count": 73,
     "metadata": {},
     "output_type": "execute_result"
    }
   ],
   "source": [
    "def plot_PRCP_ONI_Month(df):\n",
    "    f, (ax1, ax2) = plt.subplots(1, 2, figsize=(12, 4))\n",
    "    ax1.set_xticklabels(ax1.get_xticklabels(), rotation=90)\n",
    "    ax1.set_xticklabels(df['Month'])\n",
    "    ax1.set_ylabel('ONI_avg')\n",
    "    sns.barplot(x=df['Mo'], y=df['ONI_avg'], ax=ax1)\n",
    "    ax2.set_xticklabels(ax2.get_xticklabels(), rotation=90)\n",
    "    ax1.set_xticklabels(df['Year'])\n",
    "    ax2.set_ylabel('PRCP_avg')\n",
    "    sns.barplot(x=df['Year'], y=df['Value_avg'], ax=ax2)\n",
    "\n",
    "plot_PRCP_ONI(df_new)"
   ]
  },
  {
   "cell_type": "code",
   "execution_count": 98,
   "metadata": {},
   "outputs": [
    {
     "data": {
      "text/plain": [
       "<matplotlib.text.Text at 0x7fa7ebecb128>"
      ]
     },
     "execution_count": 98,
     "metadata": {},
     "output_type": "execute_result"
    },
    {
     "data": {
      "image/png": "[encoded data removed]",
      "text/plain": [
       "<matplotlib.figure.Figure at 0x7fa7ecb3c898>"
      ]
     },
     "metadata": {},
     "output_type": "display_data"
    }
   ],
   "source": [
    "maxoni = np.argmax(df_new['ONI_avg'])\n",
    "fig = plt.figure()\n",
    "\n",
    "ax1 = fig.add_subplot(111)\n",
    "ax1.plot(df_new['Value_month'][maxoni])\n",
    "ax1.set_ylabel('PRCP')\n",
    "\n",
    "ax2 = ax1.twinx() \n",
    "ax2.plot(df_new['ONI_month'][maxoni], 'r')\n",
    "ax2.set_ylabel('ONI')"
   ]
  },
  {
   "cell_type": "code",
   "execution_count": 100,
   "metadata": {},
   "outputs": [
    {
     "data": {
      "text/plain": [
       "<matplotlib.text.Text at 0x7fa7ebea1780>"
      ]
     },
     "execution_count": 100,
     "metadata": {},
     "output_type": "execute_result"
    },
    {
     "data": {
      "image/png": "[encoded data removed]",
      "text/plain": [
       "<matplotlib.figure.Figure at 0x7fa7ebada940>"
      ]
     },
     "metadata": {},
     "output_type": "display_data"
    }
   ],
   "source": [
    "minoni = np.argmin(df_new['ONI_avg'])\n",
    "fig = plt.figure()\n",
    "\n",
    "ax1 = fig.add_subplot(111)\n",
    "ax1.plot(df_new['Value_month'][minoni])\n",
    "ax1.set_ylabel('PRCP')\n",
    "\n",
    "ax2 = ax1.twinx() \n",
    "ax2.plot(df_new['ONI_month'][minoni], 'r')\n",
    "ax2.set_ylabel('ONI')"
   ]
  },
  {
   "cell_type": "code",
   "execution_count": 110,
   "metadata": {},
   "outputs": [
    {
     "data": {
      "text/plain": [
       "<matplotlib.text.Text at 0x7fa7ebdd9b00>"
      ]
     },
     "execution_count": 110,
     "metadata": {},
     "output_type": "execute_result"
    },
    {
     "data": {
      "image/png": "[encoded data removed]",
      "text/plain": [
       "<matplotlib.figure.Figure at 0x7fa7ebda9438>"
      ]
     },
     "metadata": {},
     "output_type": "display_data"
    }
   ],
   "source": [
    "minoni = 52\n",
    "fig = plt.figure()\n",
    "\n",
    "ax1 = fig.add_subplot(111)\n",
    "ax1.plot(df_new['Value_month'][minoni])\n",
    "ax1.set_ylabel('PRCP')\n",
    "\n",
    "ax2 = ax1.twinx() \n",
    "ax2.plot(df_new['ONI_month'][minoni], 'r')\n",
    "ax2.set_ylabel('ONI')"
   ]
  },
  {
   "cell_type": "code",
   "execution_count": 107,
   "metadata": {},
   "outputs": [
    {
     "data": {
      "text/plain": [
       "48    -0.860000\n",
       "49     0.430833\n",
       "50     0.174167\n",
       "51     0.713333\n",
       "52    -0.400833\n",
       "53    -0.948333\n",
       "54    -0.577500\n",
       "55     0.960833\n",
       "56     0.832500\n",
       "57     0.136667\n",
       "58     0.068333\n",
       "59    -0.016667\n",
       "60    -0.215000\n",
       "61     0.657500\n",
       "62    -0.341667\n",
       "63     0.900833\n",
       "64     0.375000\n",
       "65    -0.306667\n",
       "66     0.135000\n",
       "67     0.745000\n",
       "68    -0.320000\n",
       "69    -0.940000\n",
       "70     0.927500\n",
       "71    -0.617500\n",
       "72    -0.886667\n",
       "73    -1.052500\n",
       "74    -0.049167\n",
       "75     0.511667\n",
       "76    -0.098333\n",
       "77     0.250833\n",
       "         ...   \n",
       "82    -0.505833\n",
       "83    -0.598333\n",
       "84     0.253333\n",
       "85     1.276667\n",
       "86    -0.810833\n",
       "87    -0.605000\n",
       "88     0.315000\n",
       "89     0.646667\n",
       "90     0.630833\n",
       "91     0.312500\n",
       "92     0.475000\n",
       "93    -0.160000\n",
       "94    -0.460000\n",
       "95     1.170833\n",
       "96    -0.057500\n",
       "97    -1.225000\n",
       "98    -0.835833\n",
       "99    -0.308333\n",
       "100    0.630833\n",
       "101    0.250833\n",
       "102    0.446667\n",
       "103    0.043333\n",
       "104    0.100833\n",
       "105   -0.581667\n",
       "106   -0.755000\n",
       "107    0.306667\n",
       "108   -0.453333\n",
       "109   -0.834167\n",
       "110   -0.126667\n",
       "111   -0.294167\n",
       "Name: ONI_avg, dtype: float64"
      ]
     },
     "execution_count": 107,
     "metadata": {},
     "output_type": "execute_result"
    }
   ],
   "source": [
    "df_new['ONI_avg']"
   ]
  },
  {
   "cell_type": "code",
   "execution_count": null,
   "metadata": {
    "collapsed": true
   },
   "outputs": [],
   "source": []
  }
 ],
 "metadata": {
  "kernelspec": {
   "display_name": "Python 3",
   "language": "python",
   "name": "python3"
  },
  "language_info": {
   "codemirror_mode": {
    "name": "ipython",
    "version": 3
   },
   "file_extension": ".py",
   "mimetype": "text/x-python",
   "name": "python",
   "nbconvert_exporter": "python",
   "pygments_lexer": "ipython3",
   "version": "3.4.5"
  }
 },
 "nbformat": 4,
 "nbformat_minor": 2
}
