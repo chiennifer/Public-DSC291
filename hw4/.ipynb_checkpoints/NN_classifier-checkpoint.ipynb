{
 "cells": [
  {
   "cell_type": "code",
   "execution_count": 17,
   "metadata": {},
   "outputs": [],
   "source": [
    "from __future__ import absolute_import, division, print_function\n",
    "from sklearn.model_selection import train_test_split\n",
    "from math import sqrt\n",
    "import matplotlib.pyplot as plt\n",
    "import tensorflow as tf\n",
    "import pandas as pd\n",
    "import numpy as np\n",
    "import keras\n",
    "import os"
   ]
  },
  {
   "cell_type": "markdown",
   "metadata": {},
   "source": [
    "## Data Processing"
   ]
  },
  {
   "cell_type": "code",
   "execution_count": 2,
   "metadata": {},
   "outputs": [
    {
     "name": "stdout",
     "output_type": "stream",
     "text": [
      "Loading 100.00%\r"
     ]
    }
   ],
   "source": [
    "# this should be the path of one region, e.g. data/JAMSTEC2/\n",
    "datapath = 'data/'\n",
    "filenames = os.listdir(datapath)\n",
    "data = []\n",
    "count = 0.0\n",
    "for filename in filenames:\n",
    "    count += 1\n",
    "    print(\"Loading {:.2%}\".format(count/len(filenames)), end=\"\\r\")\n",
    "    file = open(datapath + filename)\n",
    "    for line in file:\n",
    "        features = line.split()\n",
    "        features = list(map(float, features[:-1]))\n",
    "        if np.isnan(sum(features)):\n",
    "            continue\n",
    "        data.append(features)\n",
    "    file.close()"
   ]
  },
  {
   "cell_type": "code",
   "execution_count": 67,
   "metadata": {},
   "outputs": [],
   "source": [
    "data = np.array(data)\n",
    "# discard column 0, 1, 3, 4, 5\n",
    "X = data[:, [2]+list(range(6,35))]\n",
    "\n",
    "# normalize data\n",
    "X = keras.utils.normalize(X, axis=0, order=2)\n",
    "y = [int(x==9999) for x in data[:,4]]\n",
    "X_train, X_val, y_train, y_val = train_test_split(X, y, test_size=0.2, random_state=7)"
   ]
  },
  {
   "cell_type": "markdown",
   "metadata": {},
   "source": [
    "## Building Model"
   ]
  },
  {
   "cell_type": "code",
   "execution_count": 68,
   "metadata": {},
   "outputs": [],
   "source": [
    "# Hyper-parameters\n",
    "epochs = 2         # This should be adjusted\n",
    "batch_size = 64    # The larger the faster\n",
    "learning_rate = 0.001\n"
   ]
  },
  {
   "cell_type": "code",
   "execution_count": 73,
   "metadata": {},
   "outputs": [
    {
     "name": "stdout",
     "output_type": "stream",
     "text": [
      "Model: \"model_13\"\n",
      "_________________________________________________________________\n",
      "Layer (type)                 Output Shape              Param #   \n",
      "=================================================================\n",
      "input_13 (InputLayer)        (None, 30)                0         \n",
      "_________________________________________________________________\n",
      "dense_64 (Dense)             (None, 64)                1984      \n",
      "_________________________________________________________________\n",
      "dense_65 (Dense)             (None, 32)                2080      \n",
      "_________________________________________________________________\n",
      "dense_66 (Dense)             (None, 16)                528       \n",
      "_________________________________________________________________\n",
      "dense_67 (Dense)             (None, 8)                 136       \n",
      "_________________________________________________________________\n",
      "dense_68 (Dense)             (None, 1)                 9         \n",
      "=================================================================\n",
      "Total params: 4,737\n",
      "Trainable params: 4,737\n",
      "Non-trainable params: 0\n",
      "_________________________________________________________________\n"
     ]
    }
   ],
   "source": [
    "class Model_FC:    \n",
    "    def forward(inputs):\n",
    "        x = keras.layers.Dense(128, activation=tf.nn.relu)(inputs)\n",
    "        x = keras.layers.Dense(64, activation=tf.nn.relu)(x)\n",
    "        x = keras.layers.Dense(32, activation=tf.nn.relu)(x)\n",
    "        x = keras.layers.Dense(16, activation=tf.nn.relu)(x)\n",
    "        x = keras.layers.Dense(1, activation=tf.nn.sigmoid)(x)\n",
    "        return x\n",
    "    \n",
    "    def build():\n",
    "        inputs = keras.layers.Input(shape=(X_train.shape[1],))\n",
    "        outputs = Model_FC.forward(inputs)\n",
    "        model = keras.Model(inputs=inputs, outputs=outputs)\n",
    "        return model\n",
    "\n",
    "model = Model_FC.build()\n",
    "optimizer = keras.optimizers.Adam(learning_rate)\n",
    "model.compile(loss='binary_crossentropy', \n",
    "              optimizer=optimizer, \n",
    "              metrics=[tf.keras.metrics.Precision(), tf.keras.metrics.Recall()])\n",
    "model.summary()"
   ]
  },
  {
   "cell_type": "markdown",
   "metadata": {},
   "source": [
    "## Training"
   ]
  },
  {
   "cell_type": "code",
   "execution_count": 74,
   "metadata": {},
   "outputs": [
    {
     "name": "stdout",
     "output_type": "stream",
     "text": [
      "Train on 2667864 samples, validate on 666967 samples\n",
      "Epoch 1/2\n",
      "2667864/2667864 [==============================] - 65s 24us/step - loss: 0.0722 - precision_1: 0.8524 - recall_3: 0.7065 - val_loss: 0.0445 - val_precision_1: 0.9749 - val_recall_3: 0.7651\n",
      "Epoch 2/2\n",
      "2667864/2667864 [==============================] - 64s 24us/step - loss: 0.0359 - precision_1: 0.9322 - recall_3: 0.8571 - val_loss: 0.0293 - val_precision_1: 0.9532 - val_recall_3: 0.8918\n"
     ]
    }
   ],
   "source": [
    "checkpointer = keras.callbacks.ModelCheckpoint(filepath='weights.hdf5', verbose=0, save_best_only=True)\n",
    "#model.load_weights('weights.hdf5')\n",
    "history = model.fit(X_train, y_train, epochs=epochs, class_weight='auto',\n",
    "                    validation_split=0.2, verbose=1, batch_size=batch_size, \n",
    "                    callbacks=[checkpointer])"
   ]
  },
  {
   "cell_type": "markdown",
   "metadata": {},
   "source": [
    "## Evaluation"
   ]
  },
  {
   "cell_type": "code",
   "execution_count": 15,
   "metadata": {},
   "outputs": [],
   "source": [
    "def plot_history(history):\n",
    "    plt.figure()\n",
    "    plt.xlabel('Epoch')\n",
    "    plt.ylabel('Loss')\n",
    "    plt.plot(history.epoch, np.sqrt(np.array(history.history['loss'])),\n",
    "           label='Train Loss')\n",
    "    plt.plot(history.epoch, np.sqrt(np.array(history.history['val_loss'])),\n",
    "           label = 'Val loss')\n",
    "    plt.legend()"
   ]
  },
  {
   "cell_type": "code",
   "execution_count": 18,
   "metadata": {},
   "outputs": [
    {
     "data": {
      "image/png": "[encoded data removed]",
      "text/plain": [
       "<Figure size 432x288 with 1 Axes>"
      ]
     },
     "metadata": {
      "needs_background": "light"
     },
     "output_type": "display_data"
    }
   ],
   "source": [
    "plot_history(history)"
   ]
  },
  {
   "cell_type": "code",
   "execution_count": 75,
   "metadata": {},
   "outputs": [
    {
     "name": "stdout",
     "output_type": "stream",
     "text": [
      "Validation Loss: 0.029\n",
      "Validation Precision: 0.955\n",
      "Validation Recall: 0.892\n"
     ]
    }
   ],
   "source": [
    "[loss, precision, recall] = model.evaluate(X_val, y_val, verbose=0)\n",
    "print(\"Validation Loss: {:.3f}\".format(loss))\n",
    "print(\"Validation Precision: {:.3f}\".format(precision))\n",
    "print(\"Validation Recall: {:.3f}\".format(recall))"
   ]
  },
  {
   "cell_type": "code",
   "execution_count": 27,
   "metadata": {},
   "outputs": [],
   "source": [
    "y_pred = model.predict(X_val)\n",
    "# Compare this with y_val to get score"
   ]
  },
  {
   "cell_type": "code",
   "execution_count": null,
   "metadata": {},
   "outputs": [],
   "source": []
  }
 ],
 "metadata": {
  "kernelspec": {
   "display_name": "Python 3",
   "language": "python",
   "name": "python3"
  },
  "language_info": {
   "codemirror_mode": {
    "name": "ipython",
    "version": 3
   },
   "file_extension": ".py",
   "mimetype": "text/x-python",
   "name": "python",
   "nbconvert_exporter": "python",
   "pygments_lexer": "ipython3",
   "version": "3.7.7"
  }
 },
 "nbformat": 4,
 "nbformat_minor": 4
}
