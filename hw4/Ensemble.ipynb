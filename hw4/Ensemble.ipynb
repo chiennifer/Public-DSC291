{
 "cells": [
  {
   "cell_type": "code",
   "execution_count": 1,
   "metadata": {},
   "outputs": [
    {
     "name": "stderr",
     "output_type": "stream",
     "text": [
      "Using TensorFlow backend.\n"
     ]
    }
   ],
   "source": [
    "from __future__ import absolute_import, division, print_function\n",
    "from sklearn.model_selection import train_test_split\n",
    "from math import sqrt\n",
    "import matplotlib.pyplot as plt\n",
    "import tensorflow as tf\n",
    "import pandas as pd\n",
    "import numpy as np\n",
    "import keras\n",
    "import os\n",
    "import time"
   ]
  },
  {
   "cell_type": "markdown",
   "metadata": {},
   "source": [
    "## Validate with Neural Network"
   ]
  },
  {
   "cell_type": "code",
   "execution_count": 2,
   "metadata": {},
   "outputs": [
    {
     "name": "stdout",
     "output_type": "stream",
     "text": [
      "Loading 100.00%\r"
     ]
    }
   ],
   "source": [
    "valid_files = open('valid-list.txt')\n",
    "filenames = []\n",
    "for filename in valid_files:\n",
    "    filenames.append(filename[:-1])\n",
    "data = []\n",
    "numindex = []\n",
    "nanindex = []\n",
    "filecount = 0.0\n",
    "datacount = -1\n",
    "for filename in filenames:\n",
    "    filecount += 1\n",
    "    print(\"Loading {:.2%}\".format(filecount/len(filenames)), end=\"\\r\")\n",
    "    file = open(filename)\n",
    "    for line in file:\n",
    "        datacount += 1\n",
    "        features = line.split()\n",
    "        features = list(map(float, features[:-1]))\n",
    "        if np.isnan(sum(features)):\n",
    "            nanindex.append(datacount)\n",
    "            continue\n",
    "        numindex.append(datacount)\n",
    "        data.append(features)\n",
    "    file.close()"
   ]
  },
  {
   "cell_type": "code",
   "execution_count": 3,
   "metadata": {},
   "outputs": [
    {
     "data": {
      "text/plain": [
       "24798521"
      ]
     },
     "execution_count": 3,
     "metadata": {},
     "output_type": "execute_result"
    }
   ],
   "source": [
    "len(data)"
   ]
  },
  {
   "cell_type": "code",
   "execution_count": 5,
   "metadata": {},
   "outputs": [
    {
     "name": "stdout",
     "output_type": "stream",
     "text": [
      "CPU times: user 1min 27s, sys: 5.6 s, total: 1min 33s\n",
      "Wall time: 1min 32s\n"
     ]
    }
   ],
   "source": [
    "%%time\n",
    "data = np.array(data)\n",
    "# discard column 0, 1, 3, 4, 5\n",
    "X = data[:, [0, 1, 2]+list(range(6,35))]\n",
    "\n",
    "# normalize data\n",
    "X = keras.utils.normalize(X, axis=0, order=2)\n",
    "y = [int(x==9999) for x in data[:,4]]"
   ]
  },
  {
   "cell_type": "code",
   "execution_count": 6,
   "metadata": {},
   "outputs": [],
   "source": [
    "# Hyper-parameters\n",
    "epochs = 20         # This should be adjusted\n",
    "batch_size = 64    # The larger the faster\n",
    "learning_rate = 0.001"
   ]
  },
  {
   "cell_type": "code",
   "execution_count": 7,
   "metadata": {},
   "outputs": [
    {
     "name": "stdout",
     "output_type": "stream",
     "text": [
      "Model: \"model_1\"\n",
      "_________________________________________________________________\n",
      "Layer (type)                 Output Shape              Param #   \n",
      "=================================================================\n",
      "input_1 (InputLayer)         (None, 32)                0         \n",
      "_________________________________________________________________\n",
      "dense_1 (Dense)              (None, 128)               4224      \n",
      "_________________________________________________________________\n",
      "dense_2 (Dense)              (None, 64)                8256      \n",
      "_________________________________________________________________\n",
      "dense_3 (Dense)              (None, 32)                2080      \n",
      "_________________________________________________________________\n",
      "dense_4 (Dense)              (None, 16)                528       \n",
      "_________________________________________________________________\n",
      "dense_5 (Dense)              (None, 1)                 17        \n",
      "=================================================================\n",
      "Total params: 15,105\n",
      "Trainable params: 15,105\n",
      "Non-trainable params: 0\n",
      "_________________________________________________________________\n"
     ]
    }
   ],
   "source": [
    "class Model_FC:    \n",
    "    def forward(inputs):\n",
    "        x = keras.layers.Dense(128, activation=tf.nn.relu)(inputs)\n",
    "        x = keras.layers.Dense(64, activation=tf.nn.relu)(x)\n",
    "        x = keras.layers.Dense(32, activation=tf.nn.relu)(x)\n",
    "        x = keras.layers.Dense(16, activation=tf.nn.relu)(x)\n",
    "        x = keras.layers.Dense(1, activation=tf.nn.sigmoid)(x)\n",
    "        return x\n",
    "    \n",
    "    def build():\n",
    "        inputs = keras.layers.Input(shape=(X.shape[1],))\n",
    "        outputs = Model_FC.forward(inputs)\n",
    "        model = keras.Model(inputs=inputs, outputs=outputs)\n",
    "        return model\n",
    "\n",
    "model = Model_FC.build()\n",
    "optimizer = keras.optimizers.Adam(learning_rate)\n",
    "model.compile(loss='binary_crossentropy', \n",
    "              optimizer=optimizer, \n",
    "              metrics=[tf.keras.metrics.Precision(), tf.keras.metrics.Recall()])\n",
    "model.summary()"
   ]
  },
  {
   "cell_type": "code",
   "execution_count": 8,
   "metadata": {},
   "outputs": [],
   "source": [
    "model.load_weights('weightsAfterUS_multi_FINALWEIGHTS.hdf5')\n",
    "pred_NN = model.predict(X)"
   ]
  },
  {
   "cell_type": "markdown",
   "metadata": {},
   "source": [
    "## Validate with Boosting Trees "
   ]
  },
  {
   "cell_type": "code",
   "execution_count": 12,
   "metadata": {},
   "outputs": [
    {
     "name": "stdout",
     "output_type": "stream",
     "text": [
      "30485738\n",
      "24798521\n"
     ]
    }
   ],
   "source": [
    "# BT for boosting trees\n",
    "file = open('scores.txt')\n",
    "pred_BT = []\n",
    "for score in file:\n",
    "    pred_BT.append(float(score[:-1]))\n",
    "print(len(pred_BT))\n",
    "\n",
    "pred_BT = np.array(pred_BT)\n",
    "numindex = np.array(numindex)\n",
    "pred_BT_nonan = pred_BT[numindex]\n",
    "print(len(pred_BT_nonan))"
   ]
  },
  {
   "cell_type": "markdown",
   "metadata": {},
   "source": [
    "## Train an Ensemble Model"
   ]
  },
  {
   "cell_type": "code",
   "execution_count": 48,
   "metadata": {},
   "outputs": [
    {
     "data": {
      "text/plain": [
       "array([[0.99415873, 0.00584127],\n",
       "       [0.99448336, 0.00551664],\n",
       "       [0.99395738, 0.00604262],\n",
       "       ...,\n",
       "       [0.95098441, 0.04901559],\n",
       "       [0.99350139, 0.00649861],\n",
       "       [0.99404092, 0.00595908]])"
      ]
     },
     "execution_count": 48,
     "metadata": {},
     "output_type": "execute_result"
    }
   ],
   "source": [
    "from sklearn.datasets import load_iris\n",
    "from sklearn.linear_model import LogisticRegression\n",
    "X = np.stack((pred_BT_nonan, pred_NN.squeeze())).T\n",
    "y = [int(x==9999) for x in data[:,4]]\n",
    "clf = LogisticRegression(random_state=0).fit(X, y)\n",
    "clf.predict_proba(X)"
   ]
  },
  {
   "cell_type": "code",
   "execution_count": 127,
   "metadata": {},
   "outputs": [
    {
     "name": "stdout",
     "output_type": "stream",
     "text": [
      "NN Accuracy:  0.9530953075790286\n",
      "BT Accuracy:  0.9459002413893958\n",
      "EN Accuracy:  0.9738177530829358\n"
     ]
    }
   ],
   "source": [
    "label_NN = (pred_NN>0.5).squeeze().astype(int)\n",
    "label_BT = (pred_BT_nonan<0.5).astype(int)\n",
    "label_EN = clf.predict(X)\n",
    "print('NN Accuracy: ', (label_NN==y).sum()/len(y))\n",
    "print('BT Accuracy: ', (label_BT==y).sum()/len(y))\n",
    "print('EN Accuracy: ', (label_EN==y).sum()/len(y))"
   ]
  },
  {
   "cell_type": "markdown",
   "metadata": {},
   "source": [
    "## Inference on Test Data"
   ]
  },
  {
   "cell_type": "code",
   "execution_count": 58,
   "metadata": {},
   "outputs": [
    {
     "name": "stdout",
     "output_type": "stream",
     "text": [
      "Loading 100.00%\r"
     ]
    }
   ],
   "source": [
    "test_files = os.listdir('/home/ubuntu/data/test/')\n",
    "filenames = ['/home/ubuntu/data/test/'+x for x in test_files]\n",
    "test_data = []\n",
    "numindex = []\n",
    "nanindex = []\n",
    "filecount = 0.0\n",
    "datacount = -1\n",
    "for filename in filenames:\n",
    "    filecount += 1\n",
    "    print(\"Loading {:.2%}\".format(filecount/len(filenames)), end=\"\\r\")\n",
    "    file = open(filename)\n",
    "    for line in file:\n",
    "        datacount += 1\n",
    "        features = line.split()\n",
    "        features = list(map(float, features[:-1]))\n",
    "        if np.isnan(sum(features)):\n",
    "            nanindex.append(datacount)\n",
    "            continue\n",
    "        numindex.append(datacount)\n",
    "        test_data.append(features)\n",
    "    file.close()"
   ]
  },
  {
   "cell_type": "code",
   "execution_count": 60,
   "metadata": {},
   "outputs": [],
   "source": [
    "test_data = np.array(test_data)\n",
    "X_test = test_data[:, [0, 1, 2]+list(range(6,35))]\n",
    "X_test = keras.utils.normalize(X_test, axis=0, order=2)\n",
    "test_pred_NN = model.predict(X_test)\n",
    "test_pred_NN = test_pred_NN.squeeze()"
   ]
  },
  {
   "cell_type": "code",
   "execution_count": 69,
   "metadata": {},
   "outputs": [],
   "source": [
    "test_pred_BT = np.load('final_test_scores.npz')['scores']"
   ]
  },
  {
   "cell_type": "code",
   "execution_count": 73,
   "metadata": {},
   "outputs": [],
   "source": [
    "numindex = np.array(numindex)\n",
    "nanindex = np.array(nanindex)\n",
    "test_pred_BT_nonan = test_pred_BT[numindex]\n",
    "X = np.stack((test_pred_BT_nonan, test_pred_NN)).T\n",
    "final_pred_nonan = clf.predict_proba(X)[:,0]"
   ]
  },
  {
   "cell_type": "code",
   "execution_count": 95,
   "metadata": {},
   "outputs": [],
   "source": [
    "final_pred = np.zeros(len(test_pred_BT))\n",
    "final_pred[numindex] = final_pred_nonan\n",
    "final_pred[nanindex] = test_pred_BT[nanindex]"
   ]
  },
  {
   "cell_type": "code",
   "execution_count": 96,
   "metadata": {},
   "outputs": [],
   "source": [
    "final_pred = np.array(final_pred)\n",
    "np.save('final_pred_ensemble.npy', final_pred)"
   ]
  },
  {
   "cell_type": "code",
   "execution_count": 97,
   "metadata": {},
   "outputs": [
    {
     "data": {
      "text/plain": [
       "array([0.8550002 , 0.88063872, 0.8397234 , ..., 0.99463934, 0.99470902,\n",
       "       0.99469946])"
      ]
     },
     "execution_count": 97,
     "metadata": {},
     "output_type": "execute_result"
    }
   ],
   "source": [
    "final_pred"
   ]
  },
  {
   "cell_type": "code",
   "execution_count": 99,
   "metadata": {},
   "outputs": [
    {
     "data": {
      "text/plain": [
       "array([[-6.37796625,  0.44220557]])"
      ]
     },
     "execution_count": 99,
     "metadata": {},
     "output_type": "execute_result"
    }
   ],
   "source": [
    "clf.coef_"
   ]
  },
  {
   "cell_type": "code",
   "execution_count": null,
   "metadata": {},
   "outputs": [],
   "source": []
  }
 ],
 "metadata": {
  "kernelspec": {
   "display_name": "Environment (conda_tensorflow2_p36)",
   "language": "python",
   "name": "conda_tensorflow2_p36"
  },
  "language_info": {
   "codemirror_mode": {
    "name": "ipython",
    "version": 3
   },
   "file_extension": ".py",
   "mimetype": "text/x-python",
   "name": "python",
   "nbconvert_exporter": "python",
   "pygments_lexer": "ipython3",
   "version": "3.6.10"
  }
 },
 "nbformat": 4,
 "nbformat_minor": 4
}
