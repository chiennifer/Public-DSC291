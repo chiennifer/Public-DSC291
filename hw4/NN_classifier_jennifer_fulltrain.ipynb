{
 "cells": [
  {
   "cell_type": "code",
   "execution_count": 2,
   "metadata": {},
   "outputs": [
    {
     "name": "stderr",
     "output_type": "stream",
     "text": [
      "Using TensorFlow backend.\n"
     ]
    }
   ],
   "source": [
    "from __future__ import absolute_import, division, print_function\n",
    "from sklearn.model_selection import train_test_split\n",
    "from math import sqrt\n",
    "import matplotlib.pyplot as plt\n",
    "import tensorflow as tf\n",
    "import pandas as pd\n",
    "import numpy as np\n",
    "import keras\n",
    "import os\n",
    "import time"
   ]
  },
  {
   "cell_type": "markdown",
   "metadata": {},
   "source": [
    "## Data Processing"
   ]
  },
  {
   "cell_type": "code",
   "execution_count": 65,
   "metadata": {},
   "outputs": [
    {
     "name": "stdout",
     "output_type": "stream",
     "text": [
      "Loading 100.00%\r"
     ]
    }
   ],
   "source": [
    "# this should be the path of one region, e.g. data/JAMSTEC2/\n",
    "# print(os.getcwd())\n",
    "datapath = '/home/ubuntu/data/JAMSTEC2/'\n",
    "filenames = os.listdir(datapath)\n",
    "data = []\n",
    "count = 0.0\n",
    "for filename in filenames:\n",
    "    count += 1\n",
    "    print(\"Loading {:.2%}\".format(count/len(filenames)), end=\"\\r\")\n",
    "    file = open(datapath + filename)\n",
    "    for line in file:\n",
    "        features = line.split()\n",
    "        features = list(map(float, features[:-1]))\n",
    "        if np.isnan(sum(features)):\n",
    "            continue\n",
    "        data.append(features)\n",
    "    file.close()"
   ]
  },
  {
   "cell_type": "code",
   "execution_count": 66,
   "metadata": {},
   "outputs": [
    {
     "name": "stdout",
     "output_type": "stream",
     "text": [
      "CPU times: user 15.3 s, sys: 1.47 s, total: 16.8 s\n",
      "Wall time: 16.7 s\n"
     ]
    }
   ],
   "source": [
    "%%time\n",
    "data = np.array(data)\n",
    "# discard column 0, 1, 3, 4, 5\n",
    "X = data[:, [0, 1, 2]+list(range(6,35))]\n",
    "\n",
    "# normalize data\n",
    "X = keras.utils.normalize(X, axis=0, order=2)\n",
    "y = [int(x==9999) for x in data[:,4]]\n",
    "X_train, X_val, y_train, y_val = train_test_split(X, y, test_size=0.2, random_state=7)"
   ]
  },
  {
   "cell_type": "markdown",
   "metadata": {},
   "source": [
    "## Building Model"
   ]
  },
  {
   "cell_type": "code",
   "execution_count": 67,
   "metadata": {},
   "outputs": [
    {
     "name": "stdout",
     "output_type": "stream",
     "text": [
      "CPU times: user 3 µs, sys: 0 ns, total: 3 µs\n",
      "Wall time: 4.77 µs\n"
     ]
    }
   ],
   "source": [
    "%%time\n",
    "\n",
    "# Hyper-parameters\n",
    "epochs = 20         # This should be adjusted\n",
    "batch_size = 64    # The larger the faster\n",
    "learning_rate = 0.001\n"
   ]
  },
  {
   "cell_type": "code",
   "execution_count": 68,
   "metadata": {},
   "outputs": [
    {
     "name": "stdout",
     "output_type": "stream",
     "text": [
      "Model: \"model_1\"\n",
      "_________________________________________________________________\n",
      "Layer (type)                 Output Shape              Param #   \n",
      "=================================================================\n",
      "input_1 (InputLayer)         (None, 32)                0         \n",
      "_________________________________________________________________\n",
      "dense_1 (Dense)              (None, 128)               4224      \n",
      "_________________________________________________________________\n",
      "dense_2 (Dense)              (None, 64)                8256      \n",
      "_________________________________________________________________\n",
      "dense_3 (Dense)              (None, 32)                2080      \n",
      "_________________________________________________________________\n",
      "dense_4 (Dense)              (None, 16)                528       \n",
      "_________________________________________________________________\n",
      "dense_5 (Dense)              (None, 1)                 17        \n",
      "=================================================================\n",
      "Total params: 15,105\n",
      "Trainable params: 15,105\n",
      "Non-trainable params: 0\n",
      "_________________________________________________________________\n"
     ]
    }
   ],
   "source": [
    "class Model_FC:    \n",
    "    def forward(inputs):\n",
    "        x = keras.layers.Dense(128, activation=tf.nn.relu)(inputs)\n",
    "        x = keras.layers.Dense(64, activation=tf.nn.relu)(x)\n",
    "        x = keras.layers.Dense(32, activation=tf.nn.relu)(x)\n",
    "        x = keras.layers.Dense(16, activation=tf.nn.relu)(x)\n",
    "        x = keras.layers.Dense(1, activation=tf.nn.sigmoid)(x)\n",
    "        return x\n",
    "    \n",
    "    def build():\n",
    "        inputs = keras.layers.Input(shape=(X_train.shape[1],))\n",
    "        outputs = Model_FC.forward(inputs)\n",
    "        model = keras.Model(inputs=inputs, outputs=outputs)\n",
    "        return model\n",
    "\n",
    "model = Model_FC.build()\n",
    "optimizer = keras.optimizers.Adam(learning_rate)\n",
    "model.compile(loss='binary_crossentropy', \n",
    "              optimizer=optimizer, \n",
    "              metrics=[tf.keras.metrics.Precision(), tf.keras.metrics.Recall()])\n",
    "model.summary()"
   ]
  },
  {
   "cell_type": "markdown",
   "metadata": {},
   "source": [
    "## Training"
   ]
  },
  {
   "cell_type": "code",
   "execution_count": 69,
   "metadata": {},
   "outputs": [
    {
     "name": "stdout",
     "output_type": "stream",
     "text": [
      "Train on 2667864 samples, validate on 666967 samples\n",
      "Epoch 1/20\n",
      "2667864/2667864 [==============================] - 74s 28us/step - loss: 0.0519 - precision: 0.8574 - recall: 0.6350 - val_loss: 0.0489 - val_precision: 0.9200 - val_recall: 0.7965\n",
      "Epoch 2/20\n",
      "2667864/2667864 [==============================] - 69s 26us/step - loss: 0.0314 - precision: 0.9201 - recall: 0.8281 - val_loss: 0.0284 - val_precision: 0.9288 - val_recall: 0.8461\n",
      "Epoch 3/20\n",
      "2667864/2667864 [==============================] - 70s 26us/step - loss: 0.0265 - precision: 0.9338 - recall: 0.8574 - val_loss: 0.0221 - val_precision: 0.9399 - val_recall: 0.8645\n",
      "Epoch 4/20\n",
      "2667864/2667864 [==============================] - 76s 28us/step - loss: 0.0231 - precision: 0.9439 - recall: 0.8701 - val_loss: 0.0197 - val_precision: 0.9476 - val_recall: 0.8752\n",
      "Epoch 5/20\n",
      "2667864/2667864 [==============================] - 77s 29us/step - loss: 0.0207 - precision: 0.9506 - recall: 0.8795 - val_loss: 0.0265 - val_precision: 0.9502 - val_recall: 0.8840\n",
      "Epoch 6/20\n",
      "2667864/2667864 [==============================] - 78s 29us/step - loss: 0.0190 - precision: 0.9502 - recall: 0.8880 - val_loss: 0.0167 - val_precision: 0.9519 - val_recall: 0.8906\n",
      "Epoch 7/20\n",
      "2667864/2667864 [==============================] - 78s 29us/step - loss: 0.0177 - precision: 0.9531 - recall: 0.8932 - val_loss: 0.0285 - val_precision: 0.9534 - val_recall: 0.8962\n",
      "Epoch 8/20\n",
      "2667864/2667864 [==============================] - 78s 29us/step - loss: 0.0166 - precision: 0.9530 - recall: 0.8991 - val_loss: 0.0152 - val_precision: 0.9541 - val_recall: 0.9015\n",
      "Epoch 9/20\n",
      "2667864/2667864 [==============================] - 77s 29us/step - loss: 0.0156 - precision: 0.9551 - recall: 0.9040 - val_loss: 0.0181 - val_precision: 0.9559 - val_recall: 0.9054\n",
      "Epoch 10/20\n",
      "2667864/2667864 [==============================] - 77s 29us/step - loss: 0.0149 - precision: 0.9569 - recall: 0.9067 - val_loss: 0.0131 - val_precision: 0.9576 - val_recall: 0.9088\n",
      "Epoch 11/20\n",
      "2667864/2667864 [==============================] - 79s 30us/step - loss: 0.0142 - precision: 0.9582 - recall: 0.9104 - val_loss: 0.0141 - val_precision: 0.9587 - val_recall: 0.9124\n",
      "Epoch 12/20\n",
      "2667864/2667864 [==============================] - 73s 27us/step - loss: 0.0135 - precision: 0.9593 - recall: 0.9137 - val_loss: 0.0126 - val_precision: 0.9599 - val_recall: 0.9154\n",
      "Epoch 13/20\n",
      "2667864/2667864 [==============================] - 69s 26us/step - loss: 0.0129 - precision: 0.9605 - recall: 0.9166 - val_loss: 0.0106 - val_precision: 0.9609 - val_recall: 0.9179\n",
      "Epoch 14/20\n",
      "2667864/2667864 [==============================] - 73s 27us/step - loss: 0.0124 - precision: 0.9611 - recall: 0.9194 - val_loss: 0.0119 - val_precision: 0.9619 - val_recall: 0.9204\n",
      "Epoch 15/20\n",
      "2667864/2667864 [==============================] - 78s 29us/step - loss: 0.0118 - precision: 0.9622 - recall: 0.9215 - val_loss: 0.0136 - val_precision: 0.9627 - val_recall: 0.9227\n",
      "Epoch 16/20\n",
      "2667864/2667864 [==============================] - 79s 30us/step - loss: 0.0113 - precision: 0.9632 - recall: 0.9240 - val_loss: 0.0144 - val_precision: 0.9632 - val_recall: 0.9247\n",
      "Epoch 17/20\n",
      "2667864/2667864 [==============================] - 79s 30us/step - loss: 0.0109 - precision: 0.9633 - recall: 0.9257 - val_loss: 0.0100 - val_precision: 0.9638 - val_recall: 0.9266\n",
      "Epoch 18/20\n",
      "2667864/2667864 [==============================] - 73s 27us/step - loss: 0.0104 - precision: 0.9645 - recall: 0.9276 - val_loss: 0.0100 - val_precision: 0.9648 - val_recall: 0.9280\n",
      "Epoch 19/20\n",
      "2667864/2667864 [==============================] - 69s 26us/step - loss: 0.0102 - precision: 0.9649 - recall: 0.9291 - val_loss: 0.0143 - val_precision: 0.9654 - val_recall: 0.9296\n",
      "Epoch 20/20\n",
      "2667864/2667864 [==============================] - 69s 26us/step - loss: 0.0099 - precision: 0.9651 - recall: 0.9298 - val_loss: 0.0088 - val_precision: 0.9658 - val_recall: 0.9311\n"
     ]
    }
   ],
   "source": [
    "checkpointer = keras.callbacks.ModelCheckpoint(filepath='weightsAfterJAMSTEC2.hdf5', verbose=0, save_best_only=True)\n",
    "#model.load_weights('weightsAfterJAMSTEC2.hdf5')\n",
    "history = model.fit(X_train, y_train, epochs=epochs, class_weight='auto',\n",
    "                    validation_split=0.2, verbose=1, batch_size=batch_size, \n",
    "                    callbacks=[checkpointer])"
   ]
  },
  {
   "cell_type": "code",
   "execution_count": 70,
   "metadata": {},
   "outputs": [
    {
     "data": {
      "text/plain": [
       "<keras.callbacks.callbacks.ModelCheckpoint at 0x7f76da8b79b0>"
      ]
     },
     "execution_count": 70,
     "metadata": {},
     "output_type": "execute_result"
    }
   ],
   "source": [
    "checkpointer"
   ]
  },
  {
   "cell_type": "markdown",
   "metadata": {},
   "source": [
    "## Evaluation"
   ]
  },
  {
   "cell_type": "code",
   "execution_count": 71,
   "metadata": {},
   "outputs": [],
   "source": [
    "def plot_history(history):\n",
    "    plt.figure()\n",
    "    plt.xlabel('Epoch')\n",
    "    plt.ylabel('Loss')\n",
    "    plt.plot(history.epoch, np.sqrt(np.array(history.history['loss'])),\n",
    "           label='Train Loss')\n",
    "    plt.plot(history.epoch, np.sqrt(np.array(history.history['val_loss'])),\n",
    "           label = 'Val loss')\n",
    "    plt.legend()"
   ]
  },
  {
   "cell_type": "code",
   "execution_count": 72,
   "metadata": {},
   "outputs": [
    {
     "data": {
      "image/png": "[encoded data removed]",
      "text/plain": [
       "<Figure size 432x288 with 1 Axes>"
      ]
     },
     "metadata": {
      "needs_background": "light"
     },
     "output_type": "display_data"
    }
   ],
   "source": [
    "plot_history(history)"
   ]
  },
  {
   "cell_type": "code",
   "execution_count": 73,
   "metadata": {},
   "outputs": [
    {
     "name": "stdout",
     "output_type": "stream",
     "text": [
      "Validation Loss: 0.008\n",
      "Validation Precision: 0.966\n",
      "Validation Recall: 0.931\n"
     ]
    }
   ],
   "source": [
    "[loss, precision, recall] = model.evaluate(X_val, y_val, verbose=0)\n",
    "print(\"Validation Loss: {:.3f}\".format(loss))\n",
    "print(\"Validation Precision: {:.3f}\".format(precision))\n",
    "print(\"Validation Recall: {:.3f}\".format(recall))"
   ]
  },
  {
   "cell_type": "code",
   "execution_count": 74,
   "metadata": {},
   "outputs": [],
   "source": [
    "y_pred = model.predict(X_val)\n",
    "# Compare this with y_val to get score"
   ]
  },
  {
   "cell_type": "markdown",
   "metadata": {},
   "source": [
    "## NOW DO IT WITH FILES 0:100 OF THE JAMSTEC FOLDER"
   ]
  },
  {
   "cell_type": "code",
   "execution_count": 75,
   "metadata": {},
   "outputs": [
    {
     "name": "stdout",
     "output_type": "stream",
     "text": [
      "500\n",
      "Loading 20.00%\r"
     ]
    }
   ],
   "source": [
    "# this should be the path of one region, e.g. data/JAMSTEC2/\n",
    "# print(os.getcwd())\n",
    "datapath = '/home/ubuntu/data/JAMSTEC/'\n",
    "filenames = os.listdir(datapath)\n",
    "# filenames = ['JAMSTEC-part00000.tsv']\n",
    "print(len(filenames))\n",
    "data = []\n",
    "count = 0.0\n",
    "for filename in filenames[0:100]:\n",
    "    count += 1\n",
    "    print(\"Loading {:.2%}\".format(count/len(filenames)), end=\"\\r\")\n",
    "    file = open(datapath + filename)\n",
    "    for line in file:\n",
    "        features = line.split()\n",
    "        features = list(map(float, features[:-1]))\n",
    "        if np.isnan(sum(features)):\n",
    "            continue\n",
    "        data.append(features)\n",
    "    file.close()"
   ]
  },
  {
   "cell_type": "code",
   "execution_count": 76,
   "metadata": {},
   "outputs": [
    {
     "name": "stdout",
     "output_type": "stream",
     "text": [
      "CPU times: user 21.3 s, sys: 1.64 s, total: 23 s\n",
      "Wall time: 22.8 s\n"
     ]
    }
   ],
   "source": [
    "%%time\n",
    "data = np.array(data)\n",
    "# discard column 0, 1, 3, 4, 5\n",
    "X = data[:, [0, 1, 2]+list(range(6,35))]\n",
    "\n",
    "# normalize data\n",
    "X = keras.utils.normalize(X, axis=0, order=2)\n",
    "y = [int(x==9999) for x in data[:,4]]\n",
    "X_train, X_val, y_train, y_val = train_test_split(X, y, test_size=0.2, random_state=7)"
   ]
  },
  {
   "cell_type": "code",
   "execution_count": 80,
   "metadata": {},
   "outputs": [
    {
     "name": "stdout",
     "output_type": "stream",
     "text": [
      "Model: \"model_3\"\n",
      "_________________________________________________________________\n",
      "Layer (type)                 Output Shape              Param #   \n",
      "=================================================================\n",
      "input_3 (InputLayer)         (None, 32)                0         \n",
      "_________________________________________________________________\n",
      "dense_11 (Dense)             (None, 128)               4224      \n",
      "_________________________________________________________________\n",
      "dense_12 (Dense)             (None, 64)                8256      \n",
      "_________________________________________________________________\n",
      "dense_13 (Dense)             (None, 32)                2080      \n",
      "_________________________________________________________________\n",
      "dense_14 (Dense)             (None, 16)                528       \n",
      "_________________________________________________________________\n",
      "dense_15 (Dense)             (None, 1)                 17        \n",
      "=================================================================\n",
      "Total params: 15,105\n",
      "Trainable params: 15,105\n",
      "Non-trainable params: 0\n",
      "_________________________________________________________________\n",
      "CPU times: user 129 ms, sys: 0 ns, total: 129 ms\n",
      "Wall time: 128 ms\n"
     ]
    }
   ],
   "source": [
    "%%time\n",
    "\n",
    "# Hyper-parameters\n",
    "epochs = 10         # This should be adjusted\n",
    "batch_size = 128    # The larger the faster\n",
    "learning_rate = 0.001\n",
    "\n",
    "class Model_FC:    \n",
    "    def forward(inputs):\n",
    "        x = keras.layers.Dense(128, activation=tf.nn.relu)(inputs)\n",
    "        x = keras.layers.Dense(64, activation=tf.nn.relu)(x)\n",
    "        x = keras.layers.Dense(32, activation=tf.nn.relu)(x)\n",
    "        x = keras.layers.Dense(16, activation=tf.nn.relu)(x)\n",
    "        x = keras.layers.Dense(1, activation=tf.nn.sigmoid)(x)\n",
    "        return x\n",
    "    \n",
    "    def build():\n",
    "        inputs = keras.layers.Input(shape=(X_train.shape[1],))\n",
    "        outputs = Model_FC.forward(inputs)\n",
    "        model = keras.Model(inputs=inputs, outputs=outputs)\n",
    "        return model\n",
    "\n",
    "model = Model_FC.build()\n",
    "optimizer = keras.optimizers.Adam(learning_rate)\n",
    "model.compile(loss='binary_crossentropy', \n",
    "              optimizer=optimizer, \n",
    "              metrics=[tf.keras.metrics.Precision(), tf.keras.metrics.Recall()])\n",
    "model.summary()"
   ]
  },
  {
   "cell_type": "code",
   "execution_count": 81,
   "metadata": {},
   "outputs": [],
   "source": [
    "checkpointer = keras.callbacks.ModelCheckpoint(filepath='weightsAfterJAMSTEC_v1.hdf5', verbose=0, save_best_only=True)\n",
    "model.load_weights('weightsAfterJAMSTEC2.hdf5')"
   ]
  },
  {
   "cell_type": "code",
   "execution_count": 82,
   "metadata": {},
   "outputs": [
    {
     "name": "stdout",
     "output_type": "stream",
     "text": [
      "Train on 3706477 samples, validate on 926620 samples\n",
      "Epoch 1/10\n",
      "3706477/3706477 [==============================] - 54s 15us/step - loss: 0.0079 - precision_2: 0.6760 - recall_2: 0.3160 - val_loss: 0.0063 - val_precision_2: 0.7941 - val_recall_2: 0.3830\n",
      "Epoch 2/10\n",
      "3706477/3706477 [==============================] - 53s 14us/step - loss: 0.0058 - precision_2: 0.8087 - recall_2: 0.4042 - val_loss: 0.0053 - val_precision_2: 0.8233 - val_recall_2: 0.4201\n",
      "Epoch 3/10\n",
      "3706477/3706477 [==============================] - 54s 14us/step - loss: 0.0051 - precision_2: 0.8304 - recall_2: 0.4312 - val_loss: 0.0043 - val_precision_2: 0.8390 - val_recall_2: 0.4398\n",
      "Epoch 4/10\n",
      "3706477/3706477 [==============================] - 53s 14us/step - loss: 0.0047 - precision_2: 0.8459 - recall_2: 0.4464 - val_loss: 0.0042 - val_precision_2: 0.8500 - val_recall_2: 0.4549\n",
      "Epoch 5/10\n",
      "3706477/3706477 [==============================] - 54s 14us/step - loss: 0.0043 - precision_2: 0.8531 - recall_2: 0.4627 - val_loss: 0.0034 - val_precision_2: 0.8568 - val_recall_2: 0.4714\n",
      "Epoch 6/10\n",
      "3706477/3706477 [==============================] - 53s 14us/step - loss: 0.0040 - precision_2: 0.8592 - recall_2: 0.4795 - val_loss: 0.0035 - val_precision_2: 0.8613 - val_recall_2: 0.4875\n",
      "Epoch 7/10\n",
      "3706477/3706477 [==============================] - 53s 14us/step - loss: 0.0038 - precision_2: 0.8629 - recall_2: 0.4946 - val_loss: 0.0031 - val_precision_2: 0.8637 - val_recall_2: 0.5023\n",
      "Epoch 8/10\n",
      "3706477/3706477 [==============================] - 53s 14us/step - loss: 0.0036 - precision_2: 0.8651 - recall_2: 0.5097 - val_loss: 0.0035 - val_precision_2: 0.8661 - val_recall_2: 0.5155\n",
      "Epoch 9/10\n",
      "3706477/3706477 [==============================] - 53s 14us/step - loss: 0.0036 - precision_2: 0.8668 - recall_2: 0.5209 - val_loss: 0.0035 - val_precision_2: 0.8672 - val_recall_2: 0.5255\n",
      "Epoch 10/10\n",
      "3706477/3706477 [==============================] - 53s 14us/step - loss: 0.0033 - precision_2: 0.8683 - recall_2: 0.5303 - val_loss: 0.0032 - val_precision_2: 0.8681 - val_recall_2: 0.5369\n"
     ]
    }
   ],
   "source": [
    "history = model.fit(X_train, y_train, epochs=epochs, class_weight='auto',\n",
    "                    validation_split=0.2, verbose=1, batch_size=batch_size, \n",
    "                    callbacks=[checkpointer])"
   ]
  },
  {
   "cell_type": "code",
   "execution_count": 83,
   "metadata": {},
   "outputs": [
    {
     "data": {
      "image/png": "[encoded data removed]",
      "text/plain": [
       "<Figure size 432x288 with 1 Axes>"
      ]
     },
     "metadata": {
      "needs_background": "light"
     },
     "output_type": "display_data"
    }
   ],
   "source": [
    "plot_history(history)"
   ]
  },
  {
   "cell_type": "code",
   "execution_count": 84,
   "metadata": {},
   "outputs": [
    {
     "name": "stdout",
     "output_type": "stream",
     "text": [
      "Validation Loss: 0.003\n",
      "Validation Precision: 0.867\n",
      "Validation Recall: 0.541\n"
     ]
    }
   ],
   "source": [
    "[loss, precision, recall] = model.evaluate(X_val, y_val, verbose=0)\n",
    "print(\"Validation Loss: {:.3f}\".format(loss))\n",
    "print(\"Validation Precision: {:.3f}\".format(precision))\n",
    "print(\"Validation Recall: {:.3f}\".format(recall))"
   ]
  },
  {
   "cell_type": "markdown",
   "metadata": {},
   "source": [
    "## now do it with 101-200 files of JAMSTEC"
   ]
  },
  {
   "cell_type": "code",
   "execution_count": 93,
   "metadata": {},
   "outputs": [
    {
     "name": "stdout",
     "output_type": "stream",
     "text": [
      "500\n",
      "Loading 5.00%\r"
     ]
    }
   ],
   "source": [
    "# this should be the path of one region, e.g. data/JAMSTEC2/\n",
    "# print(os.getcwd())\n",
    "\n",
    "datapath = '/home/ubuntu/data/JAMSTEC/'\n",
    "filenames = os.listdir(datapath)\n",
    "# filenames = ['JAMSTEC-part00000.tsv']\n",
    "print(len(filenames))\n",
    "data = []\n",
    "count = 0.0\n",
    "\n",
    "import random\n",
    "from random import sample\n",
    "sample = random.sample(filenames[101:200], 25)\n",
    "\n",
    "for filename in sample:\n",
    "    count += 1\n",
    "    print(\"Loading {:.2%}\".format(count/len(filenames)), end=\"\\r\")\n",
    "    file = open(datapath + filename)\n",
    "    for line in file:\n",
    "        features = line.split()\n",
    "        features = list(map(float, features[:-1]))\n",
    "        if np.isnan(sum(features)):\n",
    "            continue\n",
    "        data.append(features)\n",
    "    file.close()\n",
    "    \n",
    "## using 101-200 was too big for the np array so we subsampled by filename\n"
   ]
  },
  {
   "cell_type": "code",
   "execution_count": 94,
   "metadata": {},
   "outputs": [],
   "source": [
    "# %%time\n",
    "data = np.array(data)\n",
    "# discard column 0, 1, 3, 4, 5\n",
    "X = data[:, [0, 1, 2]+list(range(6,35))]\n",
    "\n",
    "# normalize data\n",
    "X = keras.utils.normalize(X, axis=0, order=2)\n",
    "y = [int(x==9999) for x in data[:,4]]\n",
    "X_train, X_val, y_train, y_val = train_test_split(X, y, test_size=0.2, random_state=7)\n",
    "\n",
    "# Hyper-parameters\n",
    "epochs = 5         # This should be adjusted\n",
    "batch_size = 256    # The larger the faster\n",
    "learning_rate = 0.001"
   ]
  },
  {
   "cell_type": "code",
   "execution_count": 95,
   "metadata": {},
   "outputs": [
    {
     "name": "stdout",
     "output_type": "stream",
     "text": [
      "Train on 908444 samples, validate on 227112 samples\n",
      "Epoch 1/5\n",
      "908444/908444 [==============================] - 8s 9us/step - loss: 0.0014 - precision_2: 0.8664 - recall_2: 0.5433 - val_loss: 9.8453e-04 - val_precision_2: 0.8656 - val_recall_2: 0.5430\n",
      "Epoch 2/5\n",
      "908444/908444 [==============================] - 8s 9us/step - loss: 8.5503e-04 - precision_2: 0.8652 - recall_2: 0.5428 - val_loss: 8.9670e-04 - val_precision_2: 0.8648 - val_recall_2: 0.5426\n",
      "Epoch 3/5\n",
      "908444/908444 [==============================] - 8s 9us/step - loss: 7.4808e-04 - precision_2: 0.8646 - recall_2: 0.5424 - val_loss: 6.9713e-04 - val_precision_2: 0.8643 - val_recall_2: 0.5424\n",
      "Epoch 4/5\n",
      "908444/908444 [==============================] - 8s 9us/step - loss: 7.6347e-04 - precision_2: 0.8639 - recall_2: 0.5424 - val_loss: 6.5841e-04 - val_precision_2: 0.8636 - val_recall_2: 0.5423\n",
      "Epoch 5/5\n",
      "908444/908444 [==============================] - 8s 9us/step - loss: 7.0877e-04 - precision_2: 0.8634 - recall_2: 0.5423 - val_loss: 7.3041e-04 - val_precision_2: 0.8631 - val_recall_2: 0.5423\n"
     ]
    }
   ],
   "source": [
    "checkpointer = keras.callbacks.ModelCheckpoint(filepath='weightsAfterJAMSTEC_v2.hdf5', verbose=0, save_best_only=True)\n",
    "model.load_weights('weightsAfterJAMSTEC_v1.hdf5')\n",
    "history = model.fit(X_train, y_train, epochs=epochs, class_weight='auto',\n",
    "                    validation_split=0.2, verbose=1, batch_size=batch_size, \n",
    "                    callbacks=[checkpointer])\n"
   ]
  },
  {
   "cell_type": "code",
   "execution_count": 96,
   "metadata": {},
   "outputs": [
    {
     "data": {
      "image/png": "[encoded data removed]",
      "text/plain": [
       "<Figure size 432x288 with 1 Axes>"
      ]
     },
     "metadata": {
      "needs_background": "light"
     },
     "output_type": "display_data"
    }
   ],
   "source": [
    "plot_history(history)"
   ]
  },
  {
   "cell_type": "code",
   "execution_count": 97,
   "metadata": {},
   "outputs": [
    {
     "name": "stdout",
     "output_type": "stream",
     "text": [
      "Validation Loss: 0.001\n",
      "Validation Precision: 0.863\n",
      "Validation Recall: 0.542\n"
     ]
    }
   ],
   "source": [
    "[loss, precision, recall] = model.evaluate(X_val, y_val, verbose=0)\n",
    "print(\"Validation Loss: {:.3f}\".format(loss))\n",
    "print(\"Validation Precision: {:.3f}\".format(precision))\n",
    "print(\"Validation Recall: {:.3f}\".format(recall))"
   ]
  },
  {
   "cell_type": "markdown",
   "metadata": {},
   "source": [
    "## now do it with JAMSTEC 201-300"
   ]
  },
  {
   "cell_type": "code",
   "execution_count": 98,
   "metadata": {},
   "outputs": [
    {
     "name": "stdout",
     "output_type": "stream",
     "text": [
      "500\n",
      "Loading 5.00%\r"
     ]
    }
   ],
   "source": [
    "# this should be the path of one region, e.g. data/JAMSTEC2/\n",
    "# print(os.getcwd())\n",
    "\n",
    "datapath = '/home/ubuntu/data/JAMSTEC/'\n",
    "filenames = os.listdir(datapath)\n",
    "# filenames = ['JAMSTEC-part00000.tsv']\n",
    "print(len(filenames))\n",
    "data = []\n",
    "count = 0.0\n",
    "\n",
    "import random\n",
    "from random import sample\n",
    "sample = random.sample(filenames[201:300], 25)\n",
    "\n",
    "for filename in sample:\n",
    "    count += 1\n",
    "    print(\"Loading {:.2%}\".format(count/len(filenames)), end=\"\\r\")\n",
    "    file = open(datapath + filename)\n",
    "    for line in file:\n",
    "        features = line.split()\n",
    "        features = list(map(float, features[:-1]))\n",
    "        if np.isnan(sum(features)):\n",
    "            continue\n",
    "        data.append(features)\n",
    "    file.close()\n",
    "    \n",
    "## using the all files in the 201-300 was too big for the np array so we subsampled by filename\n"
   ]
  },
  {
   "cell_type": "code",
   "execution_count": 99,
   "metadata": {},
   "outputs": [],
   "source": [
    "# %%time\n",
    "data = np.array(data)\n",
    "# discard column 0, 1, 3, 4, 5\n",
    "X = data[:, [0, 1, 2]+list(range(6,35))]\n",
    "\n",
    "# normalize data\n",
    "X = keras.utils.normalize(X, axis=0, order=2)\n",
    "y = [int(x==9999) for x in data[:,4]]\n",
    "X_train, X_val, y_train, y_val = train_test_split(X, y, test_size=0.2, random_state=7)\n",
    "\n",
    "# Hyper-parameters\n",
    "epochs = 5         # This should be adjusted\n",
    "batch_size = 256    # The larger the faster\n",
    "learning_rate = 0.001"
   ]
  },
  {
   "cell_type": "code",
   "execution_count": 100,
   "metadata": {},
   "outputs": [
    {
     "name": "stdout",
     "output_type": "stream",
     "text": [
      "Train on 918736 samples, validate on 229684 samples\n",
      "Epoch 1/5\n",
      "918736/918736 [==============================] - 8s 9us/step - loss: 0.0059 - precision_2: 0.8634 - recall_2: 0.5428 - val_loss: 0.0048 - val_precision_2: 0.8642 - val_recall_2: 0.5440\n",
      "Epoch 2/5\n",
      "918736/918736 [==============================] - 8s 9us/step - loss: 0.0045 - precision_2: 0.8648 - recall_2: 0.5459 - val_loss: 0.0043 - val_precision_2: 0.8654 - val_recall_2: 0.5480\n",
      "Epoch 3/5\n",
      "918736/918736 [==============================] - 8s 9us/step - loss: 0.0042 - precision_2: 0.8658 - recall_2: 0.5501 - val_loss: 0.0041 - val_precision_2: 0.8663 - val_recall_2: 0.5518\n",
      "Epoch 4/5\n",
      "918736/918736 [==============================] - 8s 9us/step - loss: 0.0039 - precision_2: 0.8671 - recall_2: 0.5538 - val_loss: 0.0041 - val_precision_2: 0.8678 - val_recall_2: 0.5556\n",
      "Epoch 5/5\n",
      "918736/918736 [==============================] - 8s 9us/step - loss: 0.0038 - precision_2: 0.8685 - recall_2: 0.5576 - val_loss: 0.0036 - val_precision_2: 0.8689 - val_recall_2: 0.5595\n"
     ]
    }
   ],
   "source": [
    "checkpointer = keras.callbacks.ModelCheckpoint(filepath='weightsAfterJAMSTEC_v3.hdf5', verbose=0, save_best_only=True)\n",
    "model.load_weights('weightsAfterJAMSTEC_v2.hdf5')\n",
    "history = model.fit(X_train, y_train, epochs=epochs, class_weight='auto',\n",
    "                    validation_split=0.2, verbose=1, batch_size=batch_size, \n",
    "                    callbacks=[checkpointer])\n"
   ]
  },
  {
   "cell_type": "code",
   "execution_count": 101,
   "metadata": {},
   "outputs": [
    {
     "data": {
      "image/png": "[encoded data removed]",
      "text/plain": [
       "<Figure size 432x288 with 1 Axes>"
      ]
     },
     "metadata": {
      "needs_background": "light"
     },
     "output_type": "display_data"
    }
   ],
   "source": [
    "plot_history(history)"
   ]
  },
  {
   "cell_type": "code",
   "execution_count": 102,
   "metadata": {},
   "outputs": [
    {
     "name": "stdout",
     "output_type": "stream",
     "text": [
      "Validation Loss: 0.003\n",
      "Validation Precision: 0.869\n",
      "Validation Recall: 0.561\n"
     ]
    }
   ],
   "source": [
    "[loss, precision, recall] = model.evaluate(X_val, y_val, verbose=0)\n",
    "print(\"Validation Loss: {:.3f}\".format(loss))\n",
    "print(\"Validation Precision: {:.3f}\".format(precision))\n",
    "print(\"Validation Recall: {:.3f}\".format(recall))"
   ]
  },
  {
   "cell_type": "markdown",
   "metadata": {},
   "source": [
    "## now do it with JAMSTEC 301-400"
   ]
  },
  {
   "cell_type": "code",
   "execution_count": 103,
   "metadata": {},
   "outputs": [
    {
     "name": "stdout",
     "output_type": "stream",
     "text": [
      "500\n",
      "Loading 5.00%\r"
     ]
    }
   ],
   "source": [
    "# this should be the path of one region, e.g. data/JAMSTEC2/\n",
    "# print(os.getcwd())\n",
    "\n",
    "datapath = '/home/ubuntu/data/JAMSTEC/'\n",
    "filenames = os.listdir(datapath)\n",
    "# filenames = ['JAMSTEC-part00000.tsv']\n",
    "print(len(filenames))\n",
    "data = []\n",
    "count = 0.0\n",
    "\n",
    "import random\n",
    "from random import sample\n",
    "sample = random.sample(filenames[301:400], 25)\n",
    "\n",
    "for filename in sample:\n",
    "    count += 1\n",
    "    print(\"Loading {:.2%}\".format(count/len(filenames)), end=\"\\r\")\n",
    "    file = open(datapath + filename)\n",
    "    for line in file:\n",
    "        features = line.split()\n",
    "        features = list(map(float, features[:-1]))\n",
    "        if np.isnan(sum(features)):\n",
    "            continue\n",
    "        data.append(features)\n",
    "    file.close()\n",
    "    \n",
    "## using the all files in the 201-300 was too big for the np array so we subsampled by filename\n"
   ]
  },
  {
   "cell_type": "code",
   "execution_count": 104,
   "metadata": {},
   "outputs": [],
   "source": [
    "# %%time\n",
    "data = np.array(data)\n",
    "# discard column 0, 1, 3, 4, 5\n",
    "X = data[:, [0, 1, 2]+list(range(6,35))]\n",
    "\n",
    "# normalize data\n",
    "X = keras.utils.normalize(X, axis=0, order=2)\n",
    "y = [int(x==9999) for x in data[:,4]]\n",
    "X_train, X_val, y_train, y_val = train_test_split(X, y, test_size=0.2, random_state=7)\n",
    "\n",
    "# Hyper-parameters\n",
    "epochs = 5         # This should be adjusted\n",
    "batch_size = 256    # The larger the faster\n",
    "learning_rate = 0.001"
   ]
  },
  {
   "cell_type": "code",
   "execution_count": 105,
   "metadata": {},
   "outputs": [
    {
     "name": "stdout",
     "output_type": "stream",
     "text": [
      "Train on 946226 samples, validate on 236557 samples\n",
      "Epoch 1/5\n",
      "946226/946226 [==============================] - 9s 9us/step - loss: 0.0023 - precision_2: 0.8694 - recall_2: 0.5628 - val_loss: 0.0019 - val_precision_2: 0.8701 - val_recall_2: 0.5644\n",
      "Epoch 2/5\n",
      "946226/946226 [==============================] - 9s 9us/step - loss: 0.0019 - precision_2: 0.8709 - recall_2: 0.5660 - val_loss: 0.0016 - val_precision_2: 0.8716 - val_recall_2: 0.5676\n",
      "Epoch 3/5\n",
      "946226/946226 [==============================] - 9s 9us/step - loss: 0.0018 - precision_2: 0.8723 - recall_2: 0.5692 - val_loss: 0.0015 - val_precision_2: 0.8731 - val_recall_2: 0.5708\n",
      "Epoch 4/5\n",
      "946226/946226 [==============================] - 9s 9us/step - loss: 0.0017 - precision_2: 0.8738 - recall_2: 0.5725 - val_loss: 0.0017 - val_precision_2: 0.8745 - val_recall_2: 0.5742\n",
      "Epoch 5/5\n",
      "946226/946226 [==============================] - 9s 9us/step - loss: 0.0016 - precision_2: 0.8752 - recall_2: 0.5759 - val_loss: 0.0014 - val_precision_2: 0.8758 - val_recall_2: 0.5777\n"
     ]
    }
   ],
   "source": [
    "checkpointer = keras.callbacks.ModelCheckpoint(filepath='weightsAfterJAMSTEC_v4.hdf5', verbose=0, save_best_only=True)\n",
    "model.load_weights('weightsAfterJAMSTEC_v3.hdf5')\n",
    "history = model.fit(X_train, y_train, epochs=epochs, class_weight='auto',\n",
    "                    validation_split=0.2, verbose=1, batch_size=batch_size, \n",
    "                    callbacks=[checkpointer])\n"
   ]
  },
  {
   "cell_type": "code",
   "execution_count": 106,
   "metadata": {},
   "outputs": [
    {
     "data": {
      "image/png": "[encoded data removed]",
      "text/plain": [
       "<Figure size 432x288 with 1 Axes>"
      ]
     },
     "metadata": {
      "needs_background": "light"
     },
     "output_type": "display_data"
    }
   ],
   "source": [
    "plot_history(history)"
   ]
  },
  {
   "cell_type": "code",
   "execution_count": 107,
   "metadata": {},
   "outputs": [
    {
     "name": "stdout",
     "output_type": "stream",
     "text": [
      "Validation Loss: 0.001\n",
      "Validation Precision: 0.876\n",
      "Validation Recall: 0.579\n"
     ]
    }
   ],
   "source": [
    "[loss, precision, recall] = model.evaluate(X_val, y_val, verbose=0)\n",
    "print(\"Validation Loss: {:.3f}\".format(loss))\n",
    "print(\"Validation Precision: {:.3f}\".format(precision))\n",
    "print(\"Validation Recall: {:.3f}\".format(recall))"
   ]
  },
  {
   "cell_type": "markdown",
   "metadata": {},
   "source": [
    "## now do it with JAMSTEC 401-500"
   ]
  },
  {
   "cell_type": "code",
   "execution_count": 108,
   "metadata": {},
   "outputs": [
    {
     "name": "stdout",
     "output_type": "stream",
     "text": [
      "500\n",
      "Loading 5.00%\r"
     ]
    }
   ],
   "source": [
    "# this should be the path of one region, e.g. data/JAMSTEC2/\n",
    "# print(os.getcwd())\n",
    "\n",
    "datapath = '/home/ubuntu/data/JAMSTEC/'\n",
    "filenames = os.listdir(datapath)\n",
    "# filenames = ['JAMSTEC-part00000.tsv']\n",
    "print(len(filenames))\n",
    "data = []\n",
    "count = 0.0\n",
    "\n",
    "import random\n",
    "from random import sample\n",
    "sample = random.sample(filenames[401:499], 25)\n",
    "\n",
    "for filename in sample:\n",
    "    count += 1\n",
    "    print(\"Loading {:.2%}\".format(count/len(filenames)), end=\"\\r\")\n",
    "    file = open(datapath + filename)\n",
    "    for line in file:\n",
    "        features = line.split()\n",
    "        features = list(map(float, features[:-1]))\n",
    "        if np.isnan(sum(features)):\n",
    "            continue\n",
    "        data.append(features)\n",
    "    file.close()\n",
    "    \n",
    "## using the all files in the 201-300 was too big for the np array so we subsampled by filename\n"
   ]
  },
  {
   "cell_type": "code",
   "execution_count": 109,
   "metadata": {},
   "outputs": [],
   "source": [
    "# %%time\n",
    "data = np.array(data)\n",
    "# discard column 0, 1, 3, 4, 5\n",
    "X = data[:, [0, 1, 2]+list(range(6,35))]\n",
    "\n",
    "# normalize data\n",
    "X = keras.utils.normalize(X, axis=0, order=2)\n",
    "y = [int(x==9999) for x in data[:,4]]\n",
    "X_train, X_val, y_train, y_val = train_test_split(X, y, test_size=0.2, random_state=7)\n",
    "\n",
    "# Hyper-parameters\n",
    "epochs = 5         # This should be adjusted\n",
    "batch_size = 256    # The larger the faster\n",
    "learning_rate = 0.001"
   ]
  },
  {
   "cell_type": "code",
   "execution_count": 110,
   "metadata": {},
   "outputs": [
    {
     "name": "stdout",
     "output_type": "stream",
     "text": [
      "Train on 1025536 samples, validate on 256384 samples\n",
      "Epoch 1/5\n",
      "1025536/1025536 [==============================] - 9s 9us/step - loss: 0.0098 - precision_2: 0.8818 - recall_2: 0.5954 - val_loss: 0.0069 - val_precision_2: 0.8886 - val_recall_2: 0.6147\n",
      "Epoch 2/5\n",
      "1025536/1025536 [==============================] - 9s 9us/step - loss: 0.0077 - precision_2: 0.8943 - recall_2: 0.6315 - val_loss: 0.0068 - val_precision_2: 0.8994 - val_recall_2: 0.6469\n",
      "Epoch 3/5\n",
      "1025536/1025536 [==============================] - 9s 9us/step - loss: 0.0069 - precision_2: 0.9040 - recall_2: 0.6606 - val_loss: 0.0058 - val_precision_2: 0.9081 - val_recall_2: 0.6734\n",
      "Epoch 4/5\n",
      "1025536/1025536 [==============================] - 9s 9us/step - loss: 0.0064 - precision_2: 0.9116 - recall_2: 0.6848 - val_loss: 0.0059 - val_precision_2: 0.9145 - val_recall_2: 0.6957\n",
      "Epoch 5/5\n",
      "1025536/1025536 [==============================] - 9s 9us/step - loss: 0.0063 - precision_2: 0.9172 - recall_2: 0.7053 - val_loss: 0.0053 - val_precision_2: 0.9198 - val_recall_2: 0.7141\n"
     ]
    }
   ],
   "source": [
    "checkpointer = keras.callbacks.ModelCheckpoint(filepath='weightsAfterJAMSTEC_v5.hdf5', verbose=0, save_best_only=True)\n",
    "model.load_weights('weightsAfterJAMSTEC_v4.hdf5')\n",
    "history = model.fit(X_train, y_train, epochs=epochs, class_weight='auto',\n",
    "                    validation_split=0.2, verbose=1, batch_size=batch_size, \n",
    "                    callbacks=[checkpointer])\n"
   ]
  },
  {
   "cell_type": "code",
   "execution_count": 111,
   "metadata": {},
   "outputs": [
    {
     "data": {
      "image/png": "[encoded data removed]",
      "text/plain": [
       "<Figure size 432x288 with 1 Axes>"
      ]
     },
     "metadata": {
      "needs_background": "light"
     },
     "output_type": "display_data"
    }
   ],
   "source": [
    "plot_history(history)"
   ]
  },
  {
   "cell_type": "code",
   "execution_count": 112,
   "metadata": {},
   "outputs": [
    {
     "name": "stdout",
     "output_type": "stream",
     "text": [
      "Validation Loss: 0.006\n",
      "Validation Precision: 0.921\n",
      "Validation Recall: 0.718\n"
     ]
    }
   ],
   "source": [
    "[loss, precision, recall] = model.evaluate(X_val, y_val, verbose=0)\n",
    "print(\"Validation Loss: {:.3f}\".format(loss))\n",
    "print(\"Validation Precision: {:.3f}\".format(precision))\n",
    "print(\"Validation Recall: {:.3f}\".format(recall))"
   ]
  },
  {
   "cell_type": "markdown",
   "metadata": {},
   "source": [
    "## OKAY, now onto the NGDC dataset files 0-100"
   ]
  },
  {
   "cell_type": "code",
   "execution_count": 158,
   "metadata": {},
   "outputs": [
    {
     "name": "stdout",
     "output_type": "stream",
     "text": [
      "500\n",
      "Loading 3.00%\r"
     ]
    }
   ],
   "source": [
    "# this should be the path of one region, e.g. data/JAMSTEC2/\n",
    "# print(os.getcwd())\n",
    "\n",
    "datapath = '/home/ubuntu/data/NGDC/'\n",
    "filenames = os.listdir(datapath)\n",
    "print(len(filenames))\n",
    "data = []\n",
    "count = 0.0\n",
    "\n",
    "import random\n",
    "from random import sample\n",
    "sample = random.sample(filenames[0:100], 15)\n",
    "\n",
    "for filename in sample:\n",
    "    count += 1\n",
    "    print(\"Loading {:.2%}\".format(count/len(filenames)), end=\"\\r\")\n",
    "    file = open(datapath + filename)\n",
    "    for line in file:\n",
    "        features = line.split()\n",
    "        features = list(map(float, features[:-1]))\n",
    "        if np.isnan(sum(features)):\n",
    "            continue\n",
    "        data.append(features)\n",
    "    file.close()\n",
    "    \n",
    "## using the all files in the 201-300 was too big for the np array so we subsampled by filename\n"
   ]
  },
  {
   "cell_type": "code",
   "execution_count": 159,
   "metadata": {},
   "outputs": [],
   "source": [
    "# %%time\n",
    "data = np.array(data)\n",
    "# discard column 0, 1, 3, 4, 5\n",
    "X = data[:, [0, 1, 2]+list(range(6,35))]\n",
    "\n",
    "# normalize data\n",
    "X = keras.utils.normalize(X, axis=0, order=2)\n",
    "y = [int(x==9999) for x in data[:,4]]\n",
    "X_train, X_val, y_train, y_val = train_test_split(X, y, test_size=0.2, random_state=7)\n",
    "\n",
    "# Hyper-parameters\n",
    "epochs = 5         # This should be adjusted\n",
    "batch_size = 256    # The larger the faster\n",
    "learning_rate = 0.001\n",
    "\n",
    "model = Model_FC.build()\n",
    "optimizer = keras.optimizers.Adam(learning_rate)\n",
    "model.compile(loss='binary_crossentropy', \n",
    "              optimizer=optimizer, \n",
    "              metrics=[tf.keras.metrics.Precision(), tf.keras.metrics.Recall()])"
   ]
  },
  {
   "cell_type": "code",
   "execution_count": 160,
   "metadata": {},
   "outputs": [
    {
     "name": "stdout",
     "output_type": "stream",
     "text": [
      "Train on 656556 samples, validate on 164140 samples\n",
      "Epoch 1/5\n",
      "656556/656556 [==============================] - 7s 10us/step - loss: 0.0243 - precision_11: 0.6114 - recall_11: 0.3364 - val_loss: 0.0160 - val_precision_11: 0.7384 - val_recall_11: 0.4592\n",
      "Epoch 2/5\n",
      "656556/656556 [==============================] - 6s 9us/step - loss: 0.0155 - precision_11: 0.7616 - recall_11: 0.5084 - val_loss: 0.0133 - val_precision_11: 0.7800 - val_recall_11: 0.5469\n",
      "Epoch 3/5\n",
      "656556/656556 [==============================] - 6s 9us/step - loss: 0.0134 - precision_11: 0.7918 - recall_11: 0.5733 - val_loss: 0.0148 - val_precision_11: 0.8008 - val_recall_11: 0.5886\n",
      "Epoch 4/5\n",
      "656556/656556 [==============================] - 6s 9us/step - loss: 0.0120 - precision_11: 0.8069 - recall_11: 0.6013 - val_loss: 0.0106 - val_precision_11: 0.8123 - val_recall_11: 0.6185\n",
      "Epoch 5/5\n",
      "656556/656556 [==============================] - 6s 9us/step - loss: 0.0110 - precision_11: 0.8169 - recall_11: 0.6321 - val_loss: 0.0102 - val_precision_11: 0.8195 - val_recall_11: 0.6446\n"
     ]
    }
   ],
   "source": [
    "checkpointer = keras.callbacks.ModelCheckpoint(filepath='weightsAfterNGDC_v1.hdf5', verbose=0, save_best_only=True)\n",
    "model.load_weights('weightsAfterJAMSTEC_v5.hdf5')\n",
    "history = model.fit(X_train, y_train, epochs=epochs, class_weight='auto',\n",
    "                    validation_split=0.2, verbose=1, batch_size=batch_size, \n",
    "                    callbacks=[checkpointer])\n"
   ]
  },
  {
   "cell_type": "code",
   "execution_count": 161,
   "metadata": {},
   "outputs": [
    {
     "data": {
      "image/png": "[encoded data removed]",
      "text/plain": [
       "<Figure size 432x288 with 1 Axes>"
      ]
     },
     "metadata": {
      "needs_background": "light"
     },
     "output_type": "display_data"
    }
   ],
   "source": [
    "plot_history(history)"
   ]
  },
  {
   "cell_type": "code",
   "execution_count": 162,
   "metadata": {},
   "outputs": [
    {
     "name": "stdout",
     "output_type": "stream",
     "text": [
      "Validation Loss: 0.010\n",
      "Validation Precision: 0.819\n",
      "Validation Recall: 0.652\n"
     ]
    }
   ],
   "source": [
    "[loss, precision, recall] = model.evaluate(X_val, y_val, verbose=0)\n",
    "print(\"Validation Loss: {:.3f}\".format(loss))\n",
    "print(\"Validation Precision: {:.3f}\".format(precision))\n",
    "print(\"Validation Recall: {:.3f}\".format(recall))"
   ]
  },
  {
   "cell_type": "markdown",
   "metadata": {},
   "source": [
    "## now onto the NGDC dataset files 101-200"
   ]
  },
  {
   "cell_type": "code",
   "execution_count": 163,
   "metadata": {},
   "outputs": [
    {
     "name": "stdout",
     "output_type": "stream",
     "text": [
      "500\n",
      "Loading 3.00%\r"
     ]
    }
   ],
   "source": [
    "# this should be the path of one region, e.g. data/JAMSTEC2/\n",
    "# print(os.getcwd())\n",
    "\n",
    "datapath = '/home/ubuntu/data/NGDC/'\n",
    "filenames = os.listdir(datapath)\n",
    "print(len(filenames))\n",
    "data = []\n",
    "count = 0.0\n",
    "\n",
    "import random\n",
    "from random import sample\n",
    "sample = random.sample(filenames[101:200], 15)\n",
    "\n",
    "for filename in sample:\n",
    "    count += 1\n",
    "    print(\"Loading {:.2%}\".format(count/len(filenames)), end=\"\\r\")\n",
    "    file = open(datapath + filename)\n",
    "    for line in file:\n",
    "        features = line.split()\n",
    "        features = list(map(float, features[:-1]))\n",
    "        if np.isnan(sum(features)):\n",
    "            continue\n",
    "        data.append(features)\n",
    "    file.close()\n",
    "    \n",
    "## using the all files in the 201-300 was too big for the np array so we subsampled by filename\n"
   ]
  },
  {
   "cell_type": "code",
   "execution_count": 164,
   "metadata": {},
   "outputs": [],
   "source": [
    "# %%time\n",
    "data = np.array(data)\n",
    "# discard column 0, 1, 3, 4, 5\n",
    "X = data[:, [0, 1, 2]+list(range(6,35))]\n",
    "\n",
    "# normalize data\n",
    "X = keras.utils.normalize(X, axis=0, order=2)\n",
    "y = [int(x==9999) for x in data[:,4]]\n",
    "X_train, X_val, y_train, y_val = train_test_split(X, y, test_size=0.2, random_state=7)\n",
    "\n",
    "# Hyper-parameters\n",
    "epochs = 5         # This should be adjusted\n",
    "batch_size = 256    # The larger the faster\n",
    "learning_rate = 0.001\n",
    "\n",
    "model = Model_FC.build()\n",
    "optimizer = keras.optimizers.Adam(learning_rate)\n",
    "model.compile(loss='binary_crossentropy', \n",
    "              optimizer=optimizer, \n",
    "              metrics=[tf.keras.metrics.Precision(), tf.keras.metrics.Recall()])"
   ]
  },
  {
   "cell_type": "code",
   "execution_count": 165,
   "metadata": {},
   "outputs": [
    {
     "name": "stdout",
     "output_type": "stream",
     "text": [
      "Train on 694388 samples, validate on 173598 samples\n",
      "Epoch 1/5\n",
      "694388/694388 [==============================] - 7s 10us/step - loss: 0.0375 - precision_12: 0.8024 - recall_12: 0.5883 - val_loss: 0.0292 - val_precision_12: 0.8836 - val_recall_12: 0.6658\n",
      "Epoch 2/5\n",
      "694388/694388 [==============================] - 6s 9us/step - loss: 0.0256 - precision_12: 0.9009 - recall_12: 0.6907 - val_loss: 0.0241 - val_precision_12: 0.9100 - val_recall_12: 0.7116\n",
      "Epoch 3/5\n",
      "694388/694388 [==============================] - 6s 9us/step - loss: 0.0219 - precision_12: 0.9151 - recall_12: 0.7256 - val_loss: 0.0211 - val_precision_12: 0.9196 - val_recall_12: 0.7371\n",
      "Epoch 4/5\n",
      "694388/694388 [==============================] - 6s 9us/step - loss: 0.0199 - precision_12: 0.9225 - recall_12: 0.7463 - val_loss: 0.0203 - val_precision_12: 0.9247 - val_recall_12: 0.7545\n",
      "Epoch 5/5\n",
      "694388/694388 [==============================] - 6s 9us/step - loss: 0.0183 - precision_12: 0.9264 - recall_12: 0.7615 - val_loss: 0.0188 - val_precision_12: 0.9286 - val_recall_12: 0.7672\n"
     ]
    }
   ],
   "source": [
    "checkpointer = keras.callbacks.ModelCheckpoint(filepath='weightsAfterNGDC_v2.hdf5', verbose=0, save_best_only=True)\n",
    "model.load_weights('weightsAfterNGDC_v1.hdf5')\n",
    "history = model.fit(X_train, y_train, epochs=epochs, class_weight='auto',\n",
    "                    validation_split=0.2, verbose=1, batch_size=batch_size, \n",
    "                    callbacks=[checkpointer])\n"
   ]
  },
  {
   "cell_type": "code",
   "execution_count": 166,
   "metadata": {},
   "outputs": [
    {
     "data": {
      "image/png": "[encoded data removed]",
      "text/plain": [
       "<Figure size 432x288 with 1 Axes>"
      ]
     },
     "metadata": {
      "needs_background": "light"
     },
     "output_type": "display_data"
    }
   ],
   "source": [
    "plot_history(history)"
   ]
  },
  {
   "cell_type": "code",
   "execution_count": 167,
   "metadata": {},
   "outputs": [
    {
     "name": "stdout",
     "output_type": "stream",
     "text": [
      "Validation Loss: 0.017\n",
      "Validation Precision: 0.930\n",
      "Validation Recall: 0.769\n"
     ]
    }
   ],
   "source": [
    "[loss, precision, recall] = model.evaluate(X_val, y_val, verbose=0)\n",
    "print(\"Validation Loss: {:.3f}\".format(loss))\n",
    "print(\"Validation Precision: {:.3f}\".format(precision))\n",
    "print(\"Validation Recall: {:.3f}\".format(recall))"
   ]
  },
  {
   "cell_type": "markdown",
   "metadata": {},
   "source": [
    "## now onto the NGDC dataset files 201-300"
   ]
  },
  {
   "cell_type": "code",
   "execution_count": 168,
   "metadata": {},
   "outputs": [
    {
     "name": "stdout",
     "output_type": "stream",
     "text": [
      "500\n",
      "Loading 3.00%\r"
     ]
    }
   ],
   "source": [
    "# this should be the path of one region, e.g. data/JAMSTEC2/\n",
    "# print(os.getcwd())\n",
    "\n",
    "datapath = '/home/ubuntu/data/NGDC/'\n",
    "filenames = os.listdir(datapath)\n",
    "print(len(filenames))\n",
    "data = []\n",
    "count = 0.0\n",
    "\n",
    "import random\n",
    "from random import sample\n",
    "sample = random.sample(filenames[201:300], 15)\n",
    "\n",
    "for filename in sample:\n",
    "    count += 1\n",
    "    print(\"Loading {:.2%}\".format(count/len(filenames)), end=\"\\r\")\n",
    "    file = open(datapath + filename)\n",
    "    for line in file:\n",
    "        features = line.split()\n",
    "        features = list(map(float, features[:-1]))\n",
    "        if np.isnan(sum(features)):\n",
    "            continue\n",
    "        data.append(features)\n",
    "    file.close()\n",
    "    \n",
    "## using the all files in the 201-300 was too big for the np array so we subsampled by filename\n"
   ]
  },
  {
   "cell_type": "code",
   "execution_count": 169,
   "metadata": {},
   "outputs": [],
   "source": [
    "# %%time\n",
    "data = np.array(data)\n",
    "# discard column 0, 1, 3, 4, 5\n",
    "X = data[:, [0, 1, 2]+list(range(6,35))]\n",
    "\n",
    "# normalize data\n",
    "X = keras.utils.normalize(X, axis=0, order=2)\n",
    "y = [int(x==9999) for x in data[:,4]]\n",
    "X_train, X_val, y_train, y_val = train_test_split(X, y, test_size=0.2, random_state=7)\n",
    "\n",
    "# Hyper-parameters\n",
    "epochs = 5         # This should be adjusted\n",
    "batch_size = 256    # The larger the faster\n",
    "learning_rate = 0.001\n",
    "\n",
    "model = Model_FC.build()\n",
    "optimizer = keras.optimizers.Adam(learning_rate)\n",
    "model.compile(loss='binary_crossentropy', \n",
    "              optimizer=optimizer, \n",
    "              metrics=[tf.keras.metrics.Precision(), tf.keras.metrics.Recall()])"
   ]
  },
  {
   "cell_type": "code",
   "execution_count": 170,
   "metadata": {},
   "outputs": [
    {
     "name": "stdout",
     "output_type": "stream",
     "text": [
      "Train on 708612 samples, validate on 177153 samples\n",
      "Epoch 1/5\n",
      "708612/708612 [==============================] - 7s 10us/step - loss: 0.0815 - precision_13: 0.8978 - recall_13: 0.7209 - val_loss: 0.0552 - val_precision_13: 0.9485 - val_recall_13: 0.8038\n",
      "Epoch 2/5\n",
      "708612/708612 [==============================] - 6s 9us/step - loss: 0.0454 - precision_13: 0.9567 - recall_13: 0.8254 - val_loss: 0.0412 - val_precision_13: 0.9605 - val_recall_13: 0.8431\n",
      "Epoch 3/5\n",
      "708612/708612 [==============================] - 6s 9us/step - loss: 0.0355 - precision_13: 0.9628 - recall_13: 0.8550 - val_loss: 0.0340 - val_precision_13: 0.9654 - val_recall_13: 0.8644\n",
      "Epoch 4/5\n",
      "708612/708612 [==============================] - 7s 9us/step - loss: 0.0306 - precision_13: 0.9672 - recall_13: 0.8715 - val_loss: 0.0292 - val_precision_13: 0.9680 - val_recall_13: 0.8788\n",
      "Epoch 5/5\n",
      "708612/708612 [==============================] - 7s 9us/step - loss: 0.0285 - precision_13: 0.9685 - recall_13: 0.8846 - val_loss: 0.0366 - val_precision_13: 0.9697 - val_recall_13: 0.8880\n"
     ]
    }
   ],
   "source": [
    "checkpointer = keras.callbacks.ModelCheckpoint(filepath='weightsAfterNGDC_v3.hdf5', verbose=0, save_best_only=True)\n",
    "model.load_weights('weightsAfterNGDC_v2.hdf5')\n",
    "history = model.fit(X_train, y_train, epochs=epochs, class_weight='auto',\n",
    "                    validation_split=0.2, verbose=1, batch_size=batch_size, \n",
    "                    callbacks=[checkpointer])\n"
   ]
  },
  {
   "cell_type": "code",
   "execution_count": 171,
   "metadata": {},
   "outputs": [
    {
     "data": {
      "image/png": "[encoded data removed]",
      "text/plain": [
       "<Figure size 432x288 with 1 Axes>"
      ]
     },
     "metadata": {
      "needs_background": "light"
     },
     "output_type": "display_data"
    }
   ],
   "source": [
    "plot_history(history)"
   ]
  },
  {
   "cell_type": "code",
   "execution_count": 172,
   "metadata": {},
   "outputs": [
    {
     "name": "stdout",
     "output_type": "stream",
     "text": [
      "Validation Loss: 0.035\n",
      "Validation Precision: 0.971\n",
      "Validation Recall: 0.888\n"
     ]
    }
   ],
   "source": [
    "[loss, precision, recall] = model.evaluate(X_val, y_val, verbose=0)\n",
    "print(\"Validation Loss: {:.3f}\".format(loss))\n",
    "print(\"Validation Precision: {:.3f}\".format(precision))\n",
    "print(\"Validation Recall: {:.3f}\".format(recall))"
   ]
  },
  {
   "cell_type": "markdown",
   "metadata": {},
   "source": [
    "## now onto the NGDC dataset files 301-400"
   ]
  },
  {
   "cell_type": "code",
   "execution_count": 175,
   "metadata": {},
   "outputs": [
    {
     "name": "stdout",
     "output_type": "stream",
     "text": [
      "500\n",
      "Loading 2.40%\r"
     ]
    }
   ],
   "source": [
    "# this should be the path of one region, e.g. data/JAMSTEC2/\n",
    "# print(os.getcwd())\n",
    "\n",
    "datapath = '/home/ubuntu/data/NGDC/'\n",
    "filenames = os.listdir(datapath)\n",
    "print(len(filenames))\n",
    "data = []\n",
    "count = 0.0\n",
    "\n",
    "import random\n",
    "from random import sample\n",
    "sample = random.sample(filenames[301:400], 12)\n",
    "\n",
    "for filename in sample:\n",
    "    count += 1\n",
    "    print(\"Loading {:.2%}\".format(count/len(filenames)), end=\"\\r\")\n",
    "    file = open(datapath + filename)\n",
    "    for line in file:\n",
    "        features = line.split()\n",
    "        features = list(map(float, features[:-1]))\n",
    "        if np.isnan(sum(features)):\n",
    "            continue\n",
    "        data.append(features)\n",
    "    file.close()\n",
    "    \n",
    "## using the all files in the 201-300 was too big for the np array so we subsampled by filename\n"
   ]
  },
  {
   "cell_type": "code",
   "execution_count": 176,
   "metadata": {},
   "outputs": [],
   "source": [
    "# %%time\n",
    "data = np.array(data)\n",
    "# discard column 0, 1, 3, 4, 5\n",
    "X = data[:, [0, 1, 2]+list(range(6,35))]\n",
    "\n",
    "# normalize data\n",
    "X = keras.utils.normalize(X, axis=0, order=2)\n",
    "y = [int(x==9999) for x in data[:,4]]\n",
    "X_train, X_val, y_train, y_val = train_test_split(X, y, test_size=0.2, random_state=7)\n",
    "\n",
    "# Hyper-parameters\n",
    "epochs = 5         # This should be adjusted\n",
    "batch_size = 256    # The larger the faster\n",
    "learning_rate = 0.001\n",
    "\n",
    "model = Model_FC.build()\n",
    "optimizer = keras.optimizers.Adam(learning_rate)\n",
    "model.compile(loss='binary_crossentropy', \n",
    "              optimizer=optimizer, \n",
    "              metrics=[tf.keras.metrics.Precision(), tf.keras.metrics.Recall()])"
   ]
  },
  {
   "cell_type": "code",
   "execution_count": 177,
   "metadata": {},
   "outputs": [
    {
     "name": "stdout",
     "output_type": "stream",
     "text": [
      "Train on 425577 samples, validate on 106395 samples\n",
      "Epoch 1/5\n",
      "425577/425577 [==============================] - 5s 11us/step - loss: 0.0890 - precision_14: 0.7378 - recall_14: 0.5628 - val_loss: 0.0522 - val_precision_14: 0.8522 - val_recall_14: 0.6638\n",
      "Epoch 2/5\n",
      "425577/425577 [==============================] - 4s 9us/step - loss: 0.0461 - precision_14: 0.8734 - recall_14: 0.7091 - val_loss: 0.0391 - val_precision_14: 0.8886 - val_recall_14: 0.7423\n",
      "Epoch 3/5\n",
      "425577/425577 [==============================] - 4s 9us/step - loss: 0.0386 - precision_14: 0.8967 - recall_14: 0.7634 - val_loss: 0.0336 - val_precision_14: 0.9038 - val_recall_14: 0.7795\n",
      "Epoch 4/5\n",
      "425577/425577 [==============================] - 4s 9us/step - loss: 0.0350 - precision_14: 0.9083 - recall_14: 0.7911 - val_loss: 0.0361 - val_precision_14: 0.9122 - val_recall_14: 0.7996\n",
      "Epoch 5/5\n",
      "425577/425577 [==============================] - 4s 9us/step - loss: 0.0318 - precision_14: 0.9155 - recall_14: 0.8069 - val_loss: 0.0303 - val_precision_14: 0.9171 - val_recall_14: 0.8148\n"
     ]
    }
   ],
   "source": [
    "checkpointer = keras.callbacks.ModelCheckpoint(filepath='weightsAfterNGDC_v4.hdf5', verbose=0, save_best_only=True)\n",
    "model.load_weights('weightsAfterNGDC_v3.hdf5')\n",
    "history = model.fit(X_train, y_train, epochs=epochs, class_weight='auto',\n",
    "                    validation_split=0.2, verbose=1, batch_size=batch_size, \n",
    "                    callbacks=[checkpointer])\n"
   ]
  },
  {
   "cell_type": "code",
   "execution_count": 178,
   "metadata": {},
   "outputs": [
    {
     "data": {
      "image/png": "[encoded data removed]",
      "text/plain": [
       "<Figure size 432x288 with 1 Axes>"
      ]
     },
     "metadata": {
      "needs_background": "light"
     },
     "output_type": "display_data"
    }
   ],
   "source": [
    "plot_history(history)"
   ]
  },
  {
   "cell_type": "code",
   "execution_count": 179,
   "metadata": {},
   "outputs": [
    {
     "name": "stdout",
     "output_type": "stream",
     "text": [
      "Validation Loss: 0.031\n",
      "Validation Precision: 0.917\n",
      "Validation Recall: 0.820\n"
     ]
    }
   ],
   "source": [
    "[loss, precision, recall] = model.evaluate(X_val, y_val, verbose=0)\n",
    "print(\"Validation Loss: {:.3f}\".format(loss))\n",
    "print(\"Validation Precision: {:.3f}\".format(precision))\n",
    "print(\"Validation Recall: {:.3f}\".format(recall))"
   ]
  },
  {
   "cell_type": "markdown",
   "metadata": {},
   "source": [
    "## now onto the NGDC dataset files 401-499"
   ]
  },
  {
   "cell_type": "code",
   "execution_count": 180,
   "metadata": {},
   "outputs": [
    {
     "name": "stdout",
     "output_type": "stream",
     "text": [
      "500\n",
      "Loading 3.00%\r"
     ]
    }
   ],
   "source": [
    "# this should be the path of one region, e.g. data/JAMSTEC2/\n",
    "# print(os.getcwd())\n",
    "\n",
    "datapath = '/home/ubuntu/data/NGDC/'\n",
    "filenames = os.listdir(datapath)\n",
    "print(len(filenames))\n",
    "data = []\n",
    "count = 0.0\n",
    "\n",
    "import random\n",
    "from random import sample\n",
    "sample = random.sample(filenames[401:499], 15)\n",
    "\n",
    "for filename in sample:\n",
    "    count += 1\n",
    "    print(\"Loading {:.2%}\".format(count/len(filenames)), end=\"\\r\")\n",
    "    file = open(datapath + filename)\n",
    "    for line in file:\n",
    "        features = line.split()\n",
    "        features = list(map(float, features[:-1]))\n",
    "        if np.isnan(sum(features)):\n",
    "            continue\n",
    "        data.append(features)\n",
    "    file.close()\n",
    "    \n",
    "## using the all files in the 201-300 was too big for the np array so we subsampled by filename\n"
   ]
  },
  {
   "cell_type": "code",
   "execution_count": 181,
   "metadata": {},
   "outputs": [],
   "source": [
    "# %%time\n",
    "data = np.array(data)\n",
    "# discard column 0, 1, 3, 4, 5\n",
    "X = data[:, [0, 1, 2]+list(range(6,35))]\n",
    "\n",
    "# normalize data\n",
    "X = keras.utils.normalize(X, axis=0, order=2)\n",
    "y = [int(x==9999) for x in data[:,4]]\n",
    "X_train, X_val, y_train, y_val = train_test_split(X, y, test_size=0.2, random_state=7)\n",
    "\n",
    "# Hyper-parameters\n",
    "epochs = 5         # This should be adjusted\n",
    "batch_size = 256    # The larger the faster\n",
    "learning_rate = 0.001\n",
    "\n",
    "model = Model_FC.build()\n",
    "optimizer = keras.optimizers.Adam(learning_rate)\n",
    "model.compile(loss='binary_crossentropy', \n",
    "              optimizer=optimizer, \n",
    "              metrics=[tf.keras.metrics.Precision(), tf.keras.metrics.Recall()])"
   ]
  },
  {
   "cell_type": "code",
   "execution_count": 182,
   "metadata": {},
   "outputs": [
    {
     "name": "stdout",
     "output_type": "stream",
     "text": [
      "Train on 725060 samples, validate on 181266 samples\n",
      "Epoch 1/5\n",
      "725060/725060 [==============================] - 7s 10us/step - loss: 0.0560 - precision_15: 0.7018 - recall_15: 0.4205 - val_loss: 0.0355 - val_precision_15: 0.7936 - val_recall_15: 0.5373\n",
      "Epoch 2/5\n",
      "725060/725060 [==============================] - 7s 9us/step - loss: 0.0332 - precision_15: 0.8082 - recall_15: 0.5833 - val_loss: 0.0280 - val_precision_15: 0.8212 - val_recall_15: 0.6164\n",
      "Epoch 3/5\n",
      "725060/725060 [==============================] - 7s 9us/step - loss: 0.0277 - precision_15: 0.8324 - recall_15: 0.6392 - val_loss: 0.0250 - val_precision_15: 0.8414 - val_recall_15: 0.6577\n",
      "Epoch 4/5\n",
      "725060/725060 [==============================] - 7s 9us/step - loss: 0.0243 - precision_15: 0.8488 - recall_15: 0.6716 - val_loss: 0.0213 - val_precision_15: 0.8545 - val_recall_15: 0.6870\n",
      "Epoch 5/5\n",
      "725060/725060 [==============================] - 7s 9us/step - loss: 0.0218 - precision_15: 0.8591 - recall_15: 0.7002 - val_loss: 0.0256 - val_precision_15: 0.8647 - val_recall_15: 0.7089\n"
     ]
    }
   ],
   "source": [
    "checkpointer = keras.callbacks.ModelCheckpoint(filepath='weightsAfterNGDC_v5.hdf5', verbose=0, save_best_only=True)\n",
    "model.load_weights('weightsAfterNGDC_v4.hdf5')\n",
    "history = model.fit(X_train, y_train, epochs=epochs, class_weight='auto',\n",
    "                    validation_split=0.2, verbose=1, batch_size=batch_size, \n",
    "                    callbacks=[checkpointer])\n"
   ]
  },
  {
   "cell_type": "code",
   "execution_count": 183,
   "metadata": {},
   "outputs": [
    {
     "data": {
      "image/png": "[encoded data removed]",
      "text/plain": [
       "<Figure size 432x288 with 1 Axes>"
      ]
     },
     "metadata": {
      "needs_background": "light"
     },
     "output_type": "display_data"
    }
   ],
   "source": [
    "plot_history(history)"
   ]
  },
  {
   "cell_type": "code",
   "execution_count": 184,
   "metadata": {},
   "outputs": [
    {
     "name": "stdout",
     "output_type": "stream",
     "text": [
      "Validation Loss: 0.025\n",
      "Validation Precision: 0.868\n",
      "Validation Recall: 0.707\n"
     ]
    }
   ],
   "source": [
    "[loss, precision, recall] = model.evaluate(X_val, y_val, verbose=0)\n",
    "print(\"Validation Loss: {:.3f}\".format(loss))\n",
    "print(\"Validation Precision: {:.3f}\".format(precision))\n",
    "print(\"Validation Recall: {:.3f}\".format(recall))"
   ]
  },
  {
   "cell_type": "markdown",
   "metadata": {},
   "source": [
    "## OKAY, now onto the SIO data[0:100] ..."
   ]
  },
  {
   "cell_type": "code",
   "execution_count": 195,
   "metadata": {},
   "outputs": [
    {
     "name": "stdout",
     "output_type": "stream",
     "text": [
      "500\n",
      "Loading 1.00%\r"
     ]
    }
   ],
   "source": [
    "# this should be the path of one region, e.g. data/JAMSTEC2/\n",
    "# print(os.getcwd())\n",
    "\n",
    "datapath = '/home/ubuntu/data/SIO/'\n",
    "filenames = os.listdir(datapath)\n",
    "print(len(filenames))\n",
    "data = []\n",
    "count = 0.0\n",
    "\n",
    "import random\n",
    "from random import sample\n",
    "sample = random.sample(filenames[0:100], 5)\n",
    "\n",
    "for filename in sample:\n",
    "    count += 1\n",
    "    print(\"Loading {:.2%}\".format(count/len(filenames)), end=\"\\r\")\n",
    "    file = open(datapath + filename)\n",
    "    for line in file:\n",
    "        features = line.split()\n",
    "        features = list(map(float, features[:-1]))\n",
    "        if np.isnan(sum(features)):\n",
    "            continue\n",
    "        data.append(features)\n",
    "    file.close()\n",
    "    "
   ]
  },
  {
   "cell_type": "code",
   "execution_count": 196,
   "metadata": {},
   "outputs": [],
   "source": [
    "# %%time\n",
    "data = np.array(data)\n",
    "# discard column 0, 1, 3, 4, 5\n",
    "X = data[:, [0, 1, 2]+list(range(6,35))]\n",
    "\n",
    "# normalize data\n",
    "X = keras.utils.normalize(X, axis=0, order=2)\n",
    "y = [int(x==9999) for x in data[:,4]]\n",
    "X_train, X_val, y_train, y_val = train_test_split(X, y, test_size=0.2, random_state=7)\n",
    "\n",
    "# Hyper-parameters\n",
    "epochs = 5         # This should be adjusted\n",
    "batch_size = 256    # The larger the faster\n",
    "learning_rate = 0.001\n",
    "\n",
    "model = Model_FC.build()\n",
    "optimizer = keras.optimizers.Adam(learning_rate)\n",
    "model.compile(loss='binary_crossentropy', \n",
    "              optimizer=optimizer, \n",
    "              metrics=[tf.keras.metrics.Precision(), tf.keras.metrics.Recall()])"
   ]
  },
  {
   "cell_type": "code",
   "execution_count": 197,
   "metadata": {},
   "outputs": [
    {
     "name": "stdout",
     "output_type": "stream",
     "text": [
      "Train on 247150 samples, validate on 61788 samples\n",
      "Epoch 1/5\n",
      "247150/247150 [==============================] - 3s 12us/step - loss: 0.0197 - precision_16: 0.6107 - recall_16: 0.5983 - val_loss: 0.0095 - val_precision_16: 0.7509 - val_recall_16: 0.7696\n",
      "Epoch 2/5\n",
      "247150/247150 [==============================] - 2s 9us/step - loss: 0.0093 - precision_16: 0.7815 - recall_16: 0.8084 - val_loss: 0.0076 - val_precision_16: 0.8064 - val_recall_16: 0.8303\n",
      "Epoch 3/5\n",
      "247150/247150 [==============================] - 2s 9us/step - loss: 0.0076 - precision_16: 0.8220 - recall_16: 0.8428 - val_loss: 0.0070 - val_precision_16: 0.8354 - val_recall_16: 0.8495\n",
      "Epoch 4/5\n",
      "247150/247150 [==============================] - 2s 9us/step - loss: 0.0069 - precision_16: 0.8443 - recall_16: 0.8523 - val_loss: 0.0059 - val_precision_16: 0.8529 - val_recall_16: 0.8568\n",
      "Epoch 5/5\n",
      "247150/247150 [==============================] - 2s 9us/step - loss: 0.0061 - precision_16: 0.8600 - recall_16: 0.8602 - val_loss: 0.0117 - val_precision_16: 0.8669 - val_recall_16: 0.8599\n"
     ]
    }
   ],
   "source": [
    "checkpointer = keras.callbacks.ModelCheckpoint(filepath='weightsAfterSIO_v1.hdf5', verbose=0, save_best_only=True)\n",
    "model.load_weights('weightsAfterNGDC_v5.hdf5')\n",
    "history = model.fit(X_train, y_train, epochs=epochs, class_weight='auto',\n",
    "                    validation_split=0.2, verbose=1, batch_size=batch_size, \n",
    "                    callbacks=[checkpointer])\n"
   ]
  },
  {
   "cell_type": "code",
   "execution_count": 198,
   "metadata": {},
   "outputs": [
    {
     "data": {
      "image/png": "[encoded data removed]",
      "text/plain": [
       "<Figure size 432x288 with 1 Axes>"
      ]
     },
     "metadata": {
      "needs_background": "light"
     },
     "output_type": "display_data"
    }
   ],
   "source": [
    "plot_history(history)"
   ]
  },
  {
   "cell_type": "code",
   "execution_count": 199,
   "metadata": {},
   "outputs": [
    {
     "name": "stdout",
     "output_type": "stream",
     "text": [
      "Validation Loss: 0.012\n",
      "Validation Precision: 0.871\n",
      "Validation Recall: 0.852\n"
     ]
    }
   ],
   "source": [
    "[loss, precision, recall] = model.evaluate(X_val, y_val, verbose=0)\n",
    "print(\"Validation Loss: {:.3f}\".format(loss))\n",
    "print(\"Validation Precision: {:.3f}\".format(precision))\n",
    "print(\"Validation Recall: {:.3f}\".format(recall))"
   ]
  },
  {
   "cell_type": "markdown",
   "metadata": {},
   "source": [
    "## SIO 101 - 200"
   ]
  },
  {
   "cell_type": "code",
   "execution_count": 200,
   "metadata": {},
   "outputs": [
    {
     "name": "stdout",
     "output_type": "stream",
     "text": [
      "500\n",
      "Loading 1.00%\r"
     ]
    }
   ],
   "source": [
    "# this should be the path of one region, e.g. data/JAMSTEC2/\n",
    "# print(os.getcwd())\n",
    "\n",
    "datapath = '/home/ubuntu/data/SIO/'\n",
    "filenames = os.listdir(datapath)\n",
    "print(len(filenames))\n",
    "data = []\n",
    "count = 0.0\n",
    "\n",
    "import random\n",
    "from random import sample\n",
    "sample = random.sample(filenames[100:200], 5)\n",
    "\n",
    "for filename in sample:\n",
    "    count += 1\n",
    "    print(\"Loading {:.2%}\".format(count/len(filenames)), end=\"\\r\")\n",
    "    file = open(datapath + filename)\n",
    "    for line in file:\n",
    "        features = line.split()\n",
    "        features = list(map(float, features[:-1]))\n",
    "        if np.isnan(sum(features)):\n",
    "            continue\n",
    "        data.append(features)\n",
    "    file.close()\n",
    "    "
   ]
  },
  {
   "cell_type": "code",
   "execution_count": 201,
   "metadata": {},
   "outputs": [],
   "source": [
    "# %%time\n",
    "data = np.array(data)\n",
    "# discard column 0, 1, 3, 4, 5\n",
    "X = data[:, [0, 1, 2]+list(range(6,35))]\n",
    "\n",
    "# normalize data\n",
    "X = keras.utils.normalize(X, axis=0, order=2)\n",
    "y = [int(x==9999) for x in data[:,4]]\n",
    "X_train, X_val, y_train, y_val = train_test_split(X, y, test_size=0.2, random_state=7)\n",
    "\n",
    "# Hyper-parameters\n",
    "epochs = 5         # This should be adjusted\n",
    "batch_size = 256    # The larger the faster\n",
    "learning_rate = 0.001\n",
    "\n",
    "model = Model_FC.build()\n",
    "optimizer = keras.optimizers.Adam(learning_rate)\n",
    "model.compile(loss='binary_crossentropy', \n",
    "              optimizer=optimizer, \n",
    "              metrics=[tf.keras.metrics.Precision(), tf.keras.metrics.Recall()])"
   ]
  },
  {
   "cell_type": "code",
   "execution_count": 202,
   "metadata": {},
   "outputs": [
    {
     "name": "stdout",
     "output_type": "stream",
     "text": [
      "Train on 265974 samples, validate on 66494 samples\n",
      "Epoch 1/5\n",
      "265974/265974 [==============================] - 3s 12us/step - loss: 0.0263 - precision_17: 0.8537 - recall_17: 0.7710 - val_loss: 0.0034 - val_precision_17: 0.9637 - val_recall_17: 0.9276\n",
      "Epoch 2/5\n",
      "265974/265974 [==============================] - 2s 9us/step - loss: 0.0041 - precision_17: 0.9763 - recall_17: 0.9486 - val_loss: 0.0029 - val_precision_17: 0.9830 - val_recall_17: 0.9597\n",
      "Epoch 3/5\n",
      "265974/265974 [==============================] - 2s 9us/step - loss: 0.0038 - precision_17: 0.9863 - recall_17: 0.9656 - val_loss: 0.0027 - val_precision_17: 0.9888 - val_recall_17: 0.9696\n",
      "Epoch 4/5\n",
      "265974/265974 [==============================] - 2s 9us/step - loss: 0.0037 - precision_17: 0.9904 - recall_17: 0.9724 - val_loss: 0.0026 - val_precision_17: 0.9916 - val_recall_17: 0.9744\n",
      "Epoch 5/5\n",
      "265974/265974 [==============================] - 2s 9us/step - loss: 0.0036 - precision_17: 0.9925 - recall_17: 0.9758 - val_loss: 0.0026 - val_precision_17: 0.9933 - val_recall_17: 0.9772\n"
     ]
    }
   ],
   "source": [
    "checkpointer = keras.callbacks.ModelCheckpoint(filepath='weightsAfterSIO_v2.hdf5', verbose=0, save_best_only=True)\n",
    "model.load_weights('weightsAfterSIO_v1.hdf5')\n",
    "history = model.fit(X_train, y_train, epochs=epochs, class_weight='auto',\n",
    "                    validation_split=0.2, verbose=1, batch_size=batch_size, \n",
    "                    callbacks=[checkpointer])\n"
   ]
  },
  {
   "cell_type": "code",
   "execution_count": 203,
   "metadata": {},
   "outputs": [
    {
     "data": {
      "image/png": "[encoded data removed]",
      "text/plain": [
       "<Figure size 432x288 with 1 Axes>"
      ]
     },
     "metadata": {
      "needs_background": "light"
     },
     "output_type": "display_data"
    }
   ],
   "source": [
    "plot_history(history)"
   ]
  },
  {
   "cell_type": "code",
   "execution_count": 204,
   "metadata": {},
   "outputs": [
    {
     "name": "stdout",
     "output_type": "stream",
     "text": [
      "Validation Loss: 0.004\n",
      "Validation Precision: 0.994\n",
      "Validation Recall: 0.978\n"
     ]
    }
   ],
   "source": [
    "[loss, precision, recall] = model.evaluate(X_val, y_val, verbose=0)\n",
    "print(\"Validation Loss: {:.3f}\".format(loss))\n",
    "print(\"Validation Precision: {:.3f}\".format(precision))\n",
    "print(\"Validation Recall: {:.3f}\".format(recall))"
   ]
  },
  {
   "cell_type": "markdown",
   "metadata": {},
   "source": [
    "## SIO [201-300]"
   ]
  },
  {
   "cell_type": "code",
   "execution_count": 225,
   "metadata": {},
   "outputs": [
    {
     "name": "stdout",
     "output_type": "stream",
     "text": [
      "500\n",
      "Loading 1.00%\r"
     ]
    }
   ],
   "source": [
    "# this should be the path of one region, e.g. data/JAMSTEC2/\n",
    "# print(os.getcwd())\n",
    "\n",
    "datapath = '/home/ubuntu/data/SIO/'\n",
    "filenames = os.listdir(datapath)\n",
    "print(len(filenames))\n",
    "data = []\n",
    "count = 0.0\n",
    "\n",
    "import random\n",
    "from random import sample\n",
    "sample = random.sample(filenames[201:300], 5)\n",
    "\n",
    "for filename in sample:\n",
    "    count += 1\n",
    "    print(\"Loading {:.2%}\".format(count/len(filenames)), end=\"\\r\")\n",
    "    file = open(datapath + filename)\n",
    "    for line in file:\n",
    "        features = line.split()\n",
    "        features = list(map(float, features[:-1]))\n",
    "        if np.isnan(sum(features)):\n",
    "            continue\n",
    "        data.append(features)\n",
    "    file.close()\n",
    "    "
   ]
  },
  {
   "cell_type": "code",
   "execution_count": 226,
   "metadata": {},
   "outputs": [],
   "source": [
    "# %%time\n",
    "data = np.array(data)\n",
    "# discard column 0, 1, 3, 4, 5\n",
    "X = data[:, [0, 1, 2]+list(range(6,35))]\n",
    "\n",
    "# normalize data\n",
    "X = keras.utils.normalize(X, axis=0, order=2)\n",
    "y = [int(x==9999) for x in data[:,4]]\n",
    "X_train, X_val, y_train, y_val = train_test_split(X, y, test_size=0.2, random_state=7)\n",
    "\n",
    "# Hyper-parameters\n",
    "epochs = 5         # This should be adjusted\n",
    "batch_size = 256    # The larger the faster\n",
    "learning_rate = 0.001\n",
    "\n",
    "model = Model_FC.build()\n",
    "optimizer = keras.optimizers.Adam(learning_rate)\n",
    "model.compile(loss='binary_crossentropy', \n",
    "              optimizer=optimizer, \n",
    "              metrics=[tf.keras.metrics.Precision(), tf.keras.metrics.Recall()])"
   ]
  },
  {
   "cell_type": "code",
   "execution_count": 227,
   "metadata": {},
   "outputs": [
    {
     "name": "stdout",
     "output_type": "stream",
     "text": [
      "Train on 167771 samples, validate on 41943 samples\n",
      "Epoch 1/5\n",
      "167771/167771 [==============================] - 2s 14us/step - loss: 0.1620 - precision_20: 0.8683 - recall_20: 0.6749 - val_loss: 0.1475 - val_precision_20: 0.8907 - val_recall_20: 0.7201\n",
      "Epoch 2/5\n",
      "167771/167771 [==============================] - 2s 9us/step - loss: 0.1213 - precision_20: 0.8948 - recall_20: 0.7337 - val_loss: 0.1114 - val_precision_20: 0.9029 - val_recall_20: 0.7426\n",
      "Epoch 3/5\n",
      "167771/167771 [==============================] - 2s 9us/step - loss: 0.1083 - precision_20: 0.9082 - recall_20: 0.7495 - val_loss: 0.0999 - val_precision_20: 0.9126 - val_recall_20: 0.7565\n",
      "Epoch 4/5\n",
      "167771/167771 [==============================] - 2s 9us/step - loss: 0.0983 - precision_20: 0.9159 - recall_20: 0.7628 - val_loss: 0.0897 - val_precision_20: 0.9192 - val_recall_20: 0.7675\n",
      "Epoch 5/5\n",
      "167771/167771 [==============================] - 2s 9us/step - loss: 0.0912 - precision_20: 0.9217 - recall_20: 0.7721 - val_loss: 0.0846 - val_precision_20: 0.9231 - val_recall_20: 0.7769\n"
     ]
    }
   ],
   "source": [
    "checkpointer = keras.callbacks.ModelCheckpoint(filepath='weightsAfterSIO_v3.hdf5', verbose=0, save_best_only=True)\n",
    "model.load_weights('weightsAfterSIO_v2.hdf5')\n",
    "history = model.fit(X_train, y_train, epochs=epochs, class_weight='auto',\n",
    "                    validation_split=0.2, verbose=1, batch_size=batch_size, \n",
    "                    callbacks=[checkpointer])\n"
   ]
  },
  {
   "cell_type": "code",
   "execution_count": 228,
   "metadata": {},
   "outputs": [
    {
     "data": {
      "image/png": "[encoded data removed]",
      "text/plain": [
       "<Figure size 432x288 with 1 Axes>"
      ]
     },
     "metadata": {
      "needs_background": "light"
     },
     "output_type": "display_data"
    }
   ],
   "source": [
    "plot_history(history)"
   ]
  },
  {
   "cell_type": "code",
   "execution_count": 229,
   "metadata": {},
   "outputs": [
    {
     "name": "stdout",
     "output_type": "stream",
     "text": [
      "Validation Loss: 0.086\n",
      "Validation Precision: 0.924\n",
      "Validation Recall: 0.780\n"
     ]
    }
   ],
   "source": [
    "[loss, precision, recall] = model.evaluate(X_val, y_val, verbose=0)\n",
    "print(\"Validation Loss: {:.3f}\".format(loss))\n",
    "print(\"Validation Precision: {:.3f}\".format(precision))\n",
    "print(\"Validation Recall: {:.3f}\".format(recall))"
   ]
  },
  {
   "cell_type": "markdown",
   "metadata": {},
   "source": [
    "## SIO 301-400"
   ]
  },
  {
   "cell_type": "code",
   "execution_count": 239,
   "metadata": {},
   "outputs": [
    {
     "name": "stdout",
     "output_type": "stream",
     "text": [
      "500\n",
      "Loading 1.00%\r"
     ]
    }
   ],
   "source": [
    "# this should be the path of one region, e.g. data/JAMSTEC2/\n",
    "# print(os.getcwd())\n",
    "\n",
    "datapath = '/home/ubuntu/data/SIO/'\n",
    "filenames = os.listdir(datapath)\n",
    "print(len(filenames))\n",
    "data = []\n",
    "count = 0.0\n",
    "\n",
    "import random\n",
    "from random import sample\n",
    "sample = random.sample(filenames[301:400], 5)\n",
    "\n",
    "for filename in sample:\n",
    "    count += 1\n",
    "    print(\"Loading {:.2%}\".format(count/len(filenames)), end=\"\\r\")\n",
    "    file = open(datapath + filename)\n",
    "    for line in file:\n",
    "        features = line.split()\n",
    "        features = list(map(float, features[:-1]))\n",
    "        if np.isnan(sum(features)):\n",
    "            continue\n",
    "        data.append(features)\n",
    "    file.close()\n",
    "    "
   ]
  },
  {
   "cell_type": "code",
   "execution_count": 240,
   "metadata": {},
   "outputs": [],
   "source": [
    "# %%time\n",
    "data = np.array(data)\n",
    "# discard column 0, 1, 3, 4, 5\n",
    "X = data[:, [0, 1, 2]+list(range(6,35))]\n",
    "\n",
    "# normalize data\n",
    "X = keras.utils.normalize(X, axis=0, order=2)\n",
    "y = [int(x==9999) for x in data[:,4]]\n",
    "X_train, X_val, y_train, y_val = train_test_split(X, y, test_size=0.2, random_state=7)\n",
    "\n",
    "# Hyper-parameters\n",
    "epochs = 5         # This should be adjusted\n",
    "batch_size = 256    # The larger the faster\n",
    "learning_rate = 0.001\n",
    "\n",
    "model = Model_FC.build()\n",
    "optimizer = keras.optimizers.Adam(learning_rate)\n",
    "model.compile(loss='binary_crossentropy', \n",
    "              optimizer=optimizer, \n",
    "              metrics=[tf.keras.metrics.Precision(), tf.keras.metrics.Recall()])"
   ]
  },
  {
   "cell_type": "code",
   "execution_count": 241,
   "metadata": {},
   "outputs": [
    {
     "name": "stdout",
     "output_type": "stream",
     "text": [
      "Train on 264940 samples, validate on 66236 samples\n",
      "Epoch 1/5\n",
      "264940/264940 [==============================] - 3s 12us/step - loss: 0.0412 - precision_21: 0.2703 - recall_21: 0.7720 - val_loss: 0.0110 - val_precision_21: 0.4357 - val_recall_21: 0.7444\n",
      "Epoch 2/5\n",
      "264940/264940 [==============================] - 2s 9us/step - loss: 0.0115 - precision_21: 0.5141 - recall_21: 0.7373 - val_loss: 0.0081 - val_precision_21: 0.5710 - val_recall_21: 0.7371\n",
      "Epoch 3/5\n",
      "264940/264940 [==============================] - 2s 9us/step - loss: 0.0095 - precision_21: 0.6108 - recall_21: 0.7350 - val_loss: 0.0073 - val_precision_21: 0.6430 - val_recall_21: 0.7347\n",
      "Epoch 4/5\n",
      "264940/264940 [==============================] - 2s 9us/step - loss: 0.0085 - precision_21: 0.6694 - recall_21: 0.7380 - val_loss: 0.0078 - val_precision_21: 0.6881 - val_recall_21: 0.7416\n",
      "Epoch 5/5\n",
      "264940/264940 [==============================] - 2s 9us/step - loss: 0.0077 - precision_21: 0.7045 - recall_21: 0.7468 - val_loss: 0.0061 - val_precision_21: 0.7202 - val_recall_21: 0.7481\n"
     ]
    }
   ],
   "source": [
    "checkpointer = keras.callbacks.ModelCheckpoint(filepath='weightsAfterSIO_v4.hdf5', verbose=0, save_best_only=True)\n",
    "model.load_weights('weightsAfterSIO_v3.hdf5')\n",
    "history = model.fit(X_train, y_train, epochs=epochs, class_weight='auto',\n",
    "                    validation_split=0.2, verbose=1, batch_size=batch_size, \n",
    "                    callbacks=[checkpointer])\n"
   ]
  },
  {
   "cell_type": "code",
   "execution_count": 242,
   "metadata": {},
   "outputs": [
    {
     "data": {
      "image/png": "[encoded data removed]",
      "text/plain": [
       "<Figure size 432x288 with 1 Axes>"
      ]
     },
     "metadata": {
      "needs_background": "light"
     },
     "output_type": "display_data"
    }
   ],
   "source": [
    "plot_history(history)"
   ]
  },
  {
   "cell_type": "code",
   "execution_count": 243,
   "metadata": {},
   "outputs": [
    {
     "name": "stdout",
     "output_type": "stream",
     "text": [
      "Validation Loss: 0.008\n",
      "Validation Precision: 0.727\n",
      "Validation Recall: 0.751\n"
     ]
    }
   ],
   "source": [
    "[loss, precision, recall] = model.evaluate(X_val, y_val, verbose=0)\n",
    "print(\"Validation Loss: {:.3f}\".format(loss))\n",
    "print(\"Validation Precision: {:.3f}\".format(precision))\n",
    "print(\"Validation Recall: {:.3f}\".format(recall))"
   ]
  },
  {
   "cell_type": "markdown",
   "metadata": {},
   "source": [
    "## SIO 401-500"
   ]
  },
  {
   "cell_type": "code",
   "execution_count": 262,
   "metadata": {},
   "outputs": [
    {
     "name": "stdout",
     "output_type": "stream",
     "text": [
      "500\n",
      "Loading 0.80%\r"
     ]
    }
   ],
   "source": [
    "# this should be the path of one region, e.g. data/JAMSTEC2/\n",
    "# print(os.getcwd())\n",
    "\n",
    "datapath = '/home/ubuntu/data/SIO/'\n",
    "filenames = os.listdir(datapath)\n",
    "print(len(filenames))\n",
    "data = []\n",
    "count = 0.0\n",
    "\n",
    "import random\n",
    "from random import sample\n",
    "sample = random.sample(filenames[401:499], 4)\n",
    "\n",
    "for filename in sample:\n",
    "    count += 1\n",
    "    print(\"Loading {:.2%}\".format(count/len(filenames)), end=\"\\r\")\n",
    "    file = open(datapath + filename)\n",
    "    for line in file:\n",
    "        features = line.split()\n",
    "        features = list(map(float, features[:-1]))\n",
    "        if np.isnan(sum(features)):\n",
    "            continue\n",
    "        data.append(features)\n",
    "    file.close()\n",
    "    "
   ]
  },
  {
   "cell_type": "code",
   "execution_count": 263,
   "metadata": {},
   "outputs": [],
   "source": [
    "# %%time\n",
    "data = np.array(data)\n",
    "# discard column 0, 1, 3, 4, 5\n",
    "X = data[:, [0, 1, 2]+list(range(6,35))]\n",
    "\n",
    "# normalize data\n",
    "X = keras.utils.normalize(X, axis=0, order=2)\n",
    "y = [int(x==9999) for x in data[:,4]]\n",
    "X_train, X_val, y_train, y_val = train_test_split(X, y, test_size=0.2, random_state=7)\n",
    "\n",
    "# Hyper-parameters\n",
    "epochs = 5         # This should be adjusted\n",
    "batch_size = 256    # The larger the faster\n",
    "learning_rate = 0.001\n",
    "\n",
    "model = Model_FC.build()\n",
    "optimizer = keras.optimizers.Adam(learning_rate)\n",
    "model.compile(loss='binary_crossentropy', \n",
    "              optimizer=optimizer, \n",
    "              metrics=[tf.keras.metrics.Precision(), tf.keras.metrics.Recall()])"
   ]
  },
  {
   "cell_type": "code",
   "execution_count": 264,
   "metadata": {},
   "outputs": [
    {
     "name": "stdout",
     "output_type": "stream",
     "text": [
      "Train on 207180 samples, validate on 51796 samples\n",
      "Epoch 1/5\n",
      "207180/207180 [==============================] - 3s 13us/step - loss: 0.1247 - precision_22: 0.3673 - recall_22: 0.1637 - val_loss: 0.1015 - val_precision_22: 0.4311 - val_recall_22: 0.1235\n",
      "Epoch 2/5\n",
      "207180/207180 [==============================] - 2s 9us/step - loss: 0.0977 - precision_22: 0.4688 - recall_22: 0.1156 - val_loss: 0.0953 - val_precision_22: 0.4960 - val_recall_22: 0.1109\n",
      "Epoch 3/5\n",
      "207180/207180 [==============================] - 2s 9us/step - loss: 0.0937 - precision_22: 0.5210 - recall_22: 0.1110 - val_loss: 0.0925 - val_precision_22: 0.5446 - val_recall_22: 0.1109\n",
      "Epoch 4/5\n",
      "207180/207180 [==============================] - 2s 9us/step - loss: 0.0911 - precision_22: 0.5647 - recall_22: 0.1126 - val_loss: 0.0916 - val_precision_22: 0.5829 - val_recall_22: 0.1160\n",
      "Epoch 5/5\n",
      "207180/207180 [==============================] - 2s 9us/step - loss: 0.0888 - precision_22: 0.5981 - recall_22: 0.1200 - val_loss: 0.0903 - val_precision_22: 0.6129 - val_recall_22: 0.1232\n"
     ]
    }
   ],
   "source": [
    "checkpointer = keras.callbacks.ModelCheckpoint(filepath='weightsAfterSIO_v5.hdf5', verbose=0, save_best_only=True)\n",
    "model.load_weights('weightsAfterSIO_v4.hdf5')\n",
    "history = model.fit(X_train, y_train, epochs=epochs, class_weight='auto',\n",
    "                    validation_split=0.2, verbose=1, batch_size=batch_size, \n",
    "                    callbacks=[checkpointer])\n"
   ]
  },
  {
   "cell_type": "code",
   "execution_count": 265,
   "metadata": {},
   "outputs": [
    {
     "data": {
      "image/png": "[encoded data removed]",
      "text/plain": [
       "<Figure size 432x288 with 1 Axes>"
      ]
     },
     "metadata": {
      "needs_background": "light"
     },
     "output_type": "display_data"
    }
   ],
   "source": [
    "plot_history(history)"
   ]
  },
  {
   "cell_type": "code",
   "execution_count": 266,
   "metadata": {},
   "outputs": [
    {
     "name": "stdout",
     "output_type": "stream",
     "text": [
      "Validation Loss: 0.090\n",
      "Validation Precision: 0.619\n",
      "Validation Recall: 0.124\n"
     ]
    }
   ],
   "source": [
    "[loss, precision, recall] = model.evaluate(X_val, y_val, verbose=0)\n",
    "print(\"Validation Loss: {:.3f}\".format(loss))\n",
    "print(\"Validation Precision: {:.3f}\".format(precision))\n",
    "print(\"Validation Recall: {:.3f}\".format(recall))"
   ]
  },
  {
   "cell_type": "markdown",
   "metadata": {},
   "source": [
    "## now onto the US_multi data [0:100]"
   ]
  },
  {
   "cell_type": "code",
   "execution_count": 267,
   "metadata": {},
   "outputs": [
    {
     "name": "stdout",
     "output_type": "stream",
     "text": [
      "500\n",
      "Loading 5.00%\r"
     ]
    }
   ],
   "source": [
    "# this should be the path of one region, e.g. data/JAMSTEC2/\n",
    "# print(os.getcwd())\n",
    "\n",
    "datapath = '/home/ubuntu/data/US_multi/'\n",
    "filenames = os.listdir(datapath)\n",
    "print(len(filenames))\n",
    "data = []\n",
    "count = 0.0\n",
    "\n",
    "import random\n",
    "from random import sample\n",
    "sample = random.sample(filenames[0:100], 25)\n",
    "\n",
    "for filename in sample:\n",
    "    count += 1\n",
    "    print(\"Loading {:.2%}\".format(count/len(filenames)), end=\"\\r\")\n",
    "    file = open(datapath + filename)\n",
    "    for line in file:\n",
    "        features = line.split()\n",
    "        features = list(map(float, features[:-1]))\n",
    "        if np.isnan(sum(features)):\n",
    "            continue\n",
    "        data.append(features)\n",
    "    file.close()\n",
    "    "
   ]
  },
  {
   "cell_type": "code",
   "execution_count": 268,
   "metadata": {},
   "outputs": [],
   "source": [
    "# %%time\n",
    "data = np.array(data)\n",
    "# discard column 0, 1, 3, 4, 5\n",
    "X = data[:, [0, 1, 2]+list(range(6,35))]\n",
    "\n",
    "# normalize data\n",
    "X = keras.utils.normalize(X, axis=0, order=2)\n",
    "y = [int(x==9999) for x in data[:,4]]\n",
    "X_train, X_val, y_train, y_val = train_test_split(X, y, test_size=0.2, random_state=7)\n",
    "\n",
    "# Hyper-parameters\n",
    "epochs = 5         # This should be adjusted\n",
    "batch_size = 256    # The larger the faster\n",
    "learning_rate = 0.001\n",
    "\n",
    "model = Model_FC.build()\n",
    "optimizer = keras.optimizers.Adam(learning_rate)\n",
    "model.compile(loss='binary_crossentropy', \n",
    "              optimizer=optimizer, \n",
    "              metrics=[tf.keras.metrics.Precision(), tf.keras.metrics.Recall()])"
   ]
  },
  {
   "cell_type": "code",
   "execution_count": 269,
   "metadata": {},
   "outputs": [
    {
     "name": "stdout",
     "output_type": "stream",
     "text": [
      "Train on 876218 samples, validate on 219055 samples\n",
      "Epoch 1/5\n",
      "876218/876218 [==============================] - 9s 10us/step - loss: 0.0578 - precision_23: 0.8238 - recall_23: 0.4648 - val_loss: 0.0411 - val_precision_23: 0.8469 - val_recall_23: 0.6124\n",
      "Epoch 2/5\n",
      "876218/876218 [==============================] - 8s 9us/step - loss: 0.0356 - precision_23: 0.8589 - recall_23: 0.6682 - val_loss: 0.0280 - val_precision_23: 0.8694 - val_recall_23: 0.7109\n",
      "Epoch 3/5\n",
      "876218/876218 [==============================] - 8s 9us/step - loss: 0.0277 - precision_23: 0.8785 - recall_23: 0.7393 - val_loss: 0.0222 - val_precision_23: 0.8872 - val_recall_23: 0.7632\n",
      "Epoch 4/5\n",
      "876218/876218 [==============================] - 8s 9us/step - loss: 0.0223 - precision_23: 0.8943 - recall_23: 0.7811 - val_loss: 0.0266 - val_precision_23: 0.8994 - val_recall_23: 0.7945\n",
      "Epoch 5/5\n",
      "876218/876218 [==============================] - 8s 9us/step - loss: 0.0188 - precision_23: 0.9035 - recall_23: 0.8050 - val_loss: 0.0147 - val_precision_23: 0.9082 - val_recall_23: 0.8162\n"
     ]
    }
   ],
   "source": [
    "checkpointer = keras.callbacks.ModelCheckpoint(filepath='weightsAfterUS_multi_v1.hdf5', verbose=0, save_best_only=True)\n",
    "model.load_weights('weightsAfterSIO_v5.hdf5')\n",
    "history = model.fit(X_train, y_train, epochs=epochs, class_weight='auto',\n",
    "                    validation_split=0.2, verbose=1, batch_size=batch_size, \n",
    "                    callbacks=[checkpointer])\n"
   ]
  },
  {
   "cell_type": "code",
   "execution_count": 270,
   "metadata": {},
   "outputs": [
    {
     "data": {
      "image/png": "[encoded data removed]",
      "text/plain": [
       "<Figure size 432x288 with 1 Axes>"
      ]
     },
     "metadata": {
      "needs_background": "light"
     },
     "output_type": "display_data"
    }
   ],
   "source": [
    "plot_history(history)"
   ]
  },
  {
   "cell_type": "code",
   "execution_count": 271,
   "metadata": {},
   "outputs": [
    {
     "name": "stdout",
     "output_type": "stream",
     "text": [
      "Validation Loss: 0.015\n",
      "Validation Precision: 0.910\n",
      "Validation Recall: 0.821\n"
     ]
    }
   ],
   "source": [
    "[loss, precision, recall] = model.evaluate(X_val, y_val, verbose=0)\n",
    "print(\"Validation Loss: {:.3f}\".format(loss))\n",
    "print(\"Validation Precision: {:.3f}\".format(precision))\n",
    "print(\"Validation Recall: {:.3f}\".format(recall))"
   ]
  },
  {
   "cell_type": "markdown",
   "metadata": {},
   "source": [
    "## US_multi [101-200]"
   ]
  },
  {
   "cell_type": "code",
   "execution_count": 272,
   "metadata": {},
   "outputs": [
    {
     "name": "stdout",
     "output_type": "stream",
     "text": [
      "500\n",
      "Loading 10.00%\r"
     ]
    }
   ],
   "source": [
    "# this should be the path of one region, e.g. data/JAMSTEC2/\n",
    "# print(os.getcwd())\n",
    "\n",
    "datapath = '/home/ubuntu/data/US_multi/'\n",
    "filenames = os.listdir(datapath)\n",
    "print(len(filenames))\n",
    "data = []\n",
    "count = 0.0\n",
    "\n",
    "import random\n",
    "from random import sample\n",
    "sample = random.sample(filenames[101:200], 50)\n",
    "\n",
    "for filename in sample:\n",
    "    count += 1\n",
    "    print(\"Loading {:.2%}\".format(count/len(filenames)), end=\"\\r\")\n",
    "    file = open(datapath + filename)\n",
    "    for line in file:\n",
    "        features = line.split()\n",
    "        features = list(map(float, features[:-1]))\n",
    "        if np.isnan(sum(features)):\n",
    "            continue\n",
    "        data.append(features)\n",
    "    file.close()\n",
    "    "
   ]
  },
  {
   "cell_type": "code",
   "execution_count": 273,
   "metadata": {},
   "outputs": [],
   "source": [
    "# %%time\n",
    "data = np.array(data)\n",
    "# discard column 0, 1, 3, 4, 5\n",
    "X = data[:, [0, 1, 2]+list(range(6,35))]\n",
    "\n",
    "# normalize data\n",
    "X = keras.utils.normalize(X, axis=0, order=2)\n",
    "y = [int(x==9999) for x in data[:,4]]\n",
    "X_train, X_val, y_train, y_val = train_test_split(X, y, test_size=0.2, random_state=7)\n",
    "\n",
    "# Hyper-parameters\n",
    "epochs = 5         # This should be adjusted\n",
    "batch_size = 256    # The larger the faster\n",
    "learning_rate = 0.001\n",
    "\n",
    "model = Model_FC.build()\n",
    "optimizer = keras.optimizers.Adam(learning_rate)\n",
    "model.compile(loss='binary_crossentropy', \n",
    "              optimizer=optimizer, \n",
    "              metrics=[tf.keras.metrics.Precision(), tf.keras.metrics.Recall()])"
   ]
  },
  {
   "cell_type": "code",
   "execution_count": 274,
   "metadata": {},
   "outputs": [
    {
     "name": "stdout",
     "output_type": "stream",
     "text": [
      "Train on 1835614 samples, validate on 458904 samples\n",
      "Epoch 1/5\n",
      "1835614/1835614 [==============================] - 18s 10us/step - loss: 0.1074 - precision_24: 0.7970 - recall_24: 0.4562 - val_loss: 0.0702 - val_precision_24: 0.8451 - val_recall_24: 0.6339\n",
      "Epoch 2/5\n",
      "1835614/1835614 [==============================] - 17s 9us/step - loss: 0.0558 - precision_24: 0.8648 - recall_24: 0.6987 - val_loss: 0.0456 - val_precision_24: 0.8815 - val_recall_24: 0.7456\n",
      "Epoch 3/5\n",
      "1835614/1835614 [==============================] - 17s 9us/step - loss: 0.0425 - precision_24: 0.8920 - recall_24: 0.7741 - val_loss: 0.0387 - val_precision_24: 0.9027 - val_recall_24: 0.7940\n",
      "Epoch 4/5\n",
      "1835614/1835614 [==============================] - 17s 9us/step - loss: 0.0357 - precision_24: 0.9106 - recall_24: 0.8083 - val_loss: 0.0387 - val_precision_24: 0.9154 - val_recall_24: 0.8216\n",
      "Epoch 5/5\n",
      "1835614/1835614 [==============================] - 17s 9us/step - loss: 0.0320 - precision_24: 0.9189 - recall_24: 0.8316 - val_loss: 0.0268 - val_precision_24: 0.9236 - val_recall_24: 0.8403\n"
     ]
    }
   ],
   "source": [
    "checkpointer = keras.callbacks.ModelCheckpoint(filepath='weightsAfterUS_multi_v2.hdf5', verbose=0, save_best_only=True)\n",
    "model.load_weights('weightsAfterUS_multi_v1.hdf5')\n",
    "history = model.fit(X_train, y_train, epochs=epochs, class_weight='auto',\n",
    "                    validation_split=0.2, verbose=1, batch_size=batch_size, \n",
    "                    callbacks=[checkpointer])\n"
   ]
  },
  {
   "cell_type": "code",
   "execution_count": 275,
   "metadata": {},
   "outputs": [
    {
     "data": {
      "image/png": "[encoded data removed]",
      "text/plain": [
       "<Figure size 432x288 with 1 Axes>"
      ]
     },
     "metadata": {
      "needs_background": "light"
     },
     "output_type": "display_data"
    }
   ],
   "source": [
    "plot_history(history)"
   ]
  },
  {
   "cell_type": "code",
   "execution_count": 276,
   "metadata": {},
   "outputs": [
    {
     "name": "stdout",
     "output_type": "stream",
     "text": [
      "Validation Loss: 0.027\n",
      "Validation Precision: 0.926\n",
      "Validation Recall: 0.844\n"
     ]
    }
   ],
   "source": [
    "[loss, precision, recall] = model.evaluate(X_val, y_val, verbose=0)\n",
    "print(\"Validation Loss: {:.3f}\".format(loss))\n",
    "print(\"Validation Precision: {:.3f}\".format(precision))\n",
    "print(\"Validation Recall: {:.3f}\".format(recall))"
   ]
  },
  {
   "cell_type": "markdown",
   "metadata": {},
   "source": [
    "## US_multi [201-300]"
   ]
  },
  {
   "cell_type": "code",
   "execution_count": 279,
   "metadata": {},
   "outputs": [
    {
     "name": "stdout",
     "output_type": "stream",
     "text": [
      "500\n",
      "Loading 10.00%\r"
     ]
    }
   ],
   "source": [
    "# this should be the path of one region, e.g. data/JAMSTEC2/\n",
    "# print(os.getcwd())\n",
    "\n",
    "datapath = '/home/ubuntu/data/US_multi/'\n",
    "filenames = os.listdir(datapath)\n",
    "print(len(filenames))\n",
    "data = []\n",
    "count = 0.0\n",
    "\n",
    "import random\n",
    "from random import sample\n",
    "sample = random.sample(filenames[201:300], 50)\n",
    "\n",
    "for filename in sample:\n",
    "    count += 1\n",
    "    print(\"Loading {:.2%}\".format(count/len(filenames)), end=\"\\r\")\n",
    "    file = open(datapath + filename)\n",
    "    for line in file:\n",
    "        features = line.split()\n",
    "        features = list(map(float, features[:-1]))\n",
    "        if np.isnan(sum(features)):\n",
    "            continue\n",
    "        data.append(features)\n",
    "    file.close()\n",
    "    "
   ]
  },
  {
   "cell_type": "code",
   "execution_count": 280,
   "metadata": {},
   "outputs": [],
   "source": [
    "# %%time\n",
    "data = np.array(data)\n",
    "# discard column 0, 1, 3, 4, 5\n",
    "X = data[:, [0, 1, 2]+list(range(6,35))]\n",
    "\n",
    "# normalize data\n",
    "X = keras.utils.normalize(X, axis=0, order=2)\n",
    "y = [int(x==9999) for x in data[:,4]]\n",
    "X_train, X_val, y_train, y_val = train_test_split(X, y, test_size=0.2, random_state=7)\n",
    "\n",
    "# Hyper-parameters\n",
    "epochs = 5         # This should be adjusted\n",
    "batch_size = 256    # The larger the faster\n",
    "learning_rate = 0.001\n",
    "\n",
    "model = Model_FC.build()\n",
    "optimizer = keras.optimizers.Adam(learning_rate)\n",
    "model.compile(loss='binary_crossentropy', \n",
    "              optimizer=optimizer, \n",
    "              metrics=[tf.keras.metrics.Precision(), tf.keras.metrics.Recall()])"
   ]
  },
  {
   "cell_type": "code",
   "execution_count": 281,
   "metadata": {},
   "outputs": [
    {
     "name": "stdout",
     "output_type": "stream",
     "text": [
      "Train on 1775730 samples, validate on 443933 samples\n",
      "Epoch 1/5\n",
      "1775730/1775730 [==============================] - 17s 10us/step - loss: 0.0345 - precision_25: 0.9301 - recall_25: 0.8860 - val_loss: 0.0206 - val_precision_25: 0.9477 - val_recall_25: 0.9200\n",
      "Epoch 2/5\n",
      "1775730/1775730 [==============================] - 16s 9us/step - loss: 0.0209 - precision_25: 0.9517 - recall_25: 0.9301 - val_loss: 0.0332 - val_precision_25: 0.9563 - val_recall_25: 0.9292\n",
      "Epoch 3/5\n",
      "1775730/1775730 [==============================] - 16s 9us/step - loss: 0.0180 - precision_25: 0.9595 - recall_25: 0.9288 - val_loss: 0.0155 - val_precision_25: 0.9616 - val_recall_25: 0.9335\n",
      "Epoch 4/5\n",
      "1775730/1775730 [==============================] - 16s 9us/step - loss: 0.0158 - precision_25: 0.9635 - recall_25: 0.9370 - val_loss: 0.0154 - val_precision_25: 0.9647 - val_recall_25: 0.9401\n",
      "Epoch 5/5\n",
      "1775730/1775730 [==============================] - 16s 9us/step - loss: 0.0142 - precision_25: 0.9657 - recall_25: 0.9424 - val_loss: 0.0110 - val_precision_25: 0.9674 - val_recall_25: 0.9446\n"
     ]
    }
   ],
   "source": [
    "checkpointer = keras.callbacks.ModelCheckpoint(filepath='weightsAfterUS_multi_v3.hdf5', verbose=0, save_best_only=True)\n",
    "model.load_weights('weightsAfterUS_multi_v2.hdf5')\n",
    "history = model.fit(X_train, y_train, epochs=epochs, class_weight='auto',\n",
    "                    validation_split=0.2, verbose=1, batch_size=batch_size, \n",
    "                    callbacks=[checkpointer])\n"
   ]
  },
  {
   "cell_type": "code",
   "execution_count": 282,
   "metadata": {},
   "outputs": [
    {
     "data": {
      "image/png": "[encoded data removed]",
      "text/plain": [
       "<Figure size 432x288 with 1 Axes>"
      ]
     },
     "metadata": {
      "needs_background": "light"
     },
     "output_type": "display_data"
    }
   ],
   "source": [
    "plot_history(history)"
   ]
  },
  {
   "cell_type": "code",
   "execution_count": 283,
   "metadata": {},
   "outputs": [
    {
     "name": "stdout",
     "output_type": "stream",
     "text": [
      "Validation Loss: 0.011\n",
      "Validation Precision: 0.968\n",
      "Validation Recall: 0.946\n"
     ]
    }
   ],
   "source": [
    "[loss, precision, recall] = model.evaluate(X_val, y_val, verbose=0)\n",
    "print(\"Validation Loss: {:.3f}\".format(loss))\n",
    "print(\"Validation Precision: {:.3f}\".format(precision))\n",
    "print(\"Validation Recall: {:.3f}\".format(recall))"
   ]
  },
  {
   "cell_type": "markdown",
   "metadata": {},
   "source": [
    "## US_multi [301-400]"
   ]
  },
  {
   "cell_type": "code",
   "execution_count": 284,
   "metadata": {},
   "outputs": [
    {
     "name": "stdout",
     "output_type": "stream",
     "text": [
      "500\n",
      "Loading 10.00%\r"
     ]
    }
   ],
   "source": [
    "# this should be the path of one region, e.g. data/JAMSTEC2/\n",
    "# print(os.getcwd())\n",
    "\n",
    "datapath = '/home/ubuntu/data/US_multi/'\n",
    "filenames = os.listdir(datapath)\n",
    "print(len(filenames))\n",
    "data = []\n",
    "count = 0.0\n",
    "\n",
    "import random\n",
    "from random import sample\n",
    "sample = random.sample(filenames[301:400], 50)\n",
    "\n",
    "for filename in sample:\n",
    "    count += 1\n",
    "    print(\"Loading {:.2%}\".format(count/len(filenames)), end=\"\\r\")\n",
    "    file = open(datapath + filename)\n",
    "    for line in file:\n",
    "        features = line.split()\n",
    "        features = list(map(float, features[:-1]))\n",
    "        if np.isnan(sum(features)):\n",
    "            continue\n",
    "        data.append(features)\n",
    "    file.close()\n",
    "    "
   ]
  },
  {
   "cell_type": "code",
   "execution_count": 285,
   "metadata": {},
   "outputs": [],
   "source": [
    "# %%time\n",
    "data = np.array(data)\n",
    "# discard column 0, 1, 3, 4, 5\n",
    "X = data[:, [0, 1, 2]+list(range(6,35))]\n",
    "\n",
    "# normalize data\n",
    "X = keras.utils.normalize(X, axis=0, order=2)\n",
    "y = [int(x==9999) for x in data[:,4]]\n",
    "X_train, X_val, y_train, y_val = train_test_split(X, y, test_size=0.2, random_state=7)\n",
    "\n",
    "# Hyper-parameters\n",
    "epochs = 5         # This should be adjusted\n",
    "batch_size = 256    # The larger the faster\n",
    "learning_rate = 0.001\n",
    "\n",
    "model = Model_FC.build()\n",
    "optimizer = keras.optimizers.Adam(learning_rate)\n",
    "model.compile(loss='binary_crossentropy', \n",
    "              optimizer=optimizer, \n",
    "              metrics=[tf.keras.metrics.Precision(), tf.keras.metrics.Recall()])"
   ]
  },
  {
   "cell_type": "code",
   "execution_count": 286,
   "metadata": {},
   "outputs": [
    {
     "name": "stdout",
     "output_type": "stream",
     "text": [
      "Train on 1816547 samples, validate on 454137 samples\n",
      "Epoch 1/5\n",
      "1816547/1816547 [==============================] - 18s 10us/step - loss: 0.0298 - precision_26: 0.9384 - recall_26: 0.6220 - val_loss: 0.0190 - val_precision_26: 0.9539 - val_recall_26: 0.6979\n",
      "Epoch 2/5\n",
      "1816547/1816547 [==============================] - 17s 9us/step - loss: 0.0175 - precision_26: 0.9554 - recall_26: 0.7353 - val_loss: 0.0314 - val_precision_26: 0.9569 - val_recall_26: 0.7545\n",
      "Epoch 3/5\n",
      "1816547/1816547 [==============================] - 17s 9us/step - loss: 0.0152 - precision_26: 0.9578 - recall_26: 0.7656 - val_loss: 0.0138 - val_precision_26: 0.9590 - val_recall_26: 0.7802\n",
      "Epoch 4/5\n",
      "1816547/1816547 [==============================] - 17s 9us/step - loss: 0.0139 - precision_26: 0.9601 - recall_26: 0.7906 - val_loss: 0.0142 - val_precision_26: 0.9598 - val_recall_26: 0.8001\n",
      "Epoch 5/5\n",
      "1816547/1816547 [==============================] - 17s 9us/step - loss: 0.0131 - precision_26: 0.9594 - recall_26: 0.8075 - val_loss: 0.0110 - val_precision_26: 0.9595 - val_recall_26: 0.8143\n"
     ]
    }
   ],
   "source": [
    "checkpointer = keras.callbacks.ModelCheckpoint(filepath='weightsAfterUS_multi_v4.hdf5', verbose=0, save_best_only=True)\n",
    "model.load_weights('weightsAfterUS_multi_v3.hdf5')\n",
    "history = model.fit(X_train, y_train, epochs=epochs, class_weight='auto',\n",
    "                    validation_split=0.2, verbose=1, batch_size=batch_size, \n",
    "                    callbacks=[checkpointer])\n"
   ]
  },
  {
   "cell_type": "code",
   "execution_count": 287,
   "metadata": {},
   "outputs": [
    {
     "data": {
      "image/png": "[encoded data removed]",
      "text/plain": [
       "<Figure size 432x288 with 1 Axes>"
      ]
     },
     "metadata": {
      "needs_background": "light"
     },
     "output_type": "display_data"
    }
   ],
   "source": [
    "plot_history(history)"
   ]
  },
  {
   "cell_type": "code",
   "execution_count": 288,
   "metadata": {},
   "outputs": [
    {
     "name": "stdout",
     "output_type": "stream",
     "text": [
      "Validation Loss: 0.011\n",
      "Validation Precision: 0.960\n",
      "Validation Recall: 0.818\n"
     ]
    }
   ],
   "source": [
    "[loss, precision, recall] = model.evaluate(X_val, y_val, verbose=0)\n",
    "print(\"Validation Loss: {:.3f}\".format(loss))\n",
    "print(\"Validation Precision: {:.3f}\".format(precision))\n",
    "print(\"Validation Recall: {:.3f}\".format(recall))"
   ]
  },
  {
   "cell_type": "markdown",
   "metadata": {},
   "source": [
    "## FINAL ONE : US_multi [401-499]"
   ]
  },
  {
   "cell_type": "code",
   "execution_count": 289,
   "metadata": {},
   "outputs": [
    {
     "name": "stdout",
     "output_type": "stream",
     "text": [
      "500\n",
      "Loading 10.00%\r"
     ]
    }
   ],
   "source": [
    "# this should be the path of one region, e.g. data/JAMSTEC2/\n",
    "# print(os.getcwd())\n",
    "\n",
    "datapath = '/home/ubuntu/data/US_multi/'\n",
    "filenames = os.listdir(datapath)\n",
    "print(len(filenames))\n",
    "data = []\n",
    "count = 0.0\n",
    "\n",
    "import random\n",
    "from random import sample\n",
    "sample = random.sample(filenames[401:499], 50)\n",
    "\n",
    "for filename in sample:\n",
    "    count += 1\n",
    "    print(\"Loading {:.2%}\".format(count/len(filenames)), end=\"\\r\")\n",
    "    file = open(datapath + filename)\n",
    "    for line in file:\n",
    "        features = line.split()\n",
    "        features = list(map(float, features[:-1]))\n",
    "        if np.isnan(sum(features)):\n",
    "            continue\n",
    "        data.append(features)\n",
    "    file.close()\n",
    "    "
   ]
  },
  {
   "cell_type": "code",
   "execution_count": 290,
   "metadata": {},
   "outputs": [],
   "source": [
    "# %%time\n",
    "data = np.array(data)\n",
    "# discard column 0, 1, 3, 4, 5\n",
    "X = data[:, [0, 1, 2]+list(range(6,35))]\n",
    "\n",
    "# normalize data\n",
    "X = keras.utils.normalize(X, axis=0, order=2)\n",
    "y = [int(x==9999) for x in data[:,4]]\n",
    "X_train, X_val, y_train, y_val = train_test_split(X, y, test_size=0.2, random_state=7)\n",
    "\n",
    "# Hyper-parameters\n",
    "epochs = 5         # This should be adjusted\n",
    "batch_size = 256    # The larger the faster\n",
    "learning_rate = 0.001\n",
    "\n",
    "model = Model_FC.build()\n",
    "optimizer = keras.optimizers.Adam(learning_rate)\n",
    "model.compile(loss='binary_crossentropy', \n",
    "              optimizer=optimizer, \n",
    "              metrics=[tf.keras.metrics.Precision(), tf.keras.metrics.Recall()])"
   ]
  },
  {
   "cell_type": "code",
   "execution_count": 291,
   "metadata": {},
   "outputs": [
    {
     "name": "stdout",
     "output_type": "stream",
     "text": [
      "Train on 1916664 samples, validate on 479166 samples\n",
      "Epoch 1/5\n",
      "1916664/1916664 [==============================] - 19s 10us/step - loss: 0.0118 - precision_27: 0.7762 - recall_27: 0.5944 - val_loss: 0.0096 - val_precision_27: 0.8306 - val_recall_27: 0.6288\n",
      "Epoch 2/5\n",
      "1916664/1916664 [==============================] - 18s 9us/step - loss: 0.0093 - precision_27: 0.8426 - recall_27: 0.6436 - val_loss: 0.0091 - val_precision_27: 0.8506 - val_recall_27: 0.6573\n",
      "Epoch 3/5\n",
      "1916664/1916664 [==============================] - 18s 9us/step - loss: 0.0084 - precision_27: 0.8552 - recall_27: 0.6670 - val_loss: 0.0075 - val_precision_27: 0.8625 - val_recall_27: 0.6732\n",
      "Epoch 4/5\n",
      "1916664/1916664 [==============================] - 18s 9us/step - loss: 0.0078 - precision_27: 0.8677 - recall_27: 0.6777 - val_loss: 0.0075 - val_precision_27: 0.8719 - val_recall_27: 0.6834\n",
      "Epoch 5/5\n",
      "1916664/1916664 [==============================] - 18s 9us/step - loss: 0.0073 - precision_27: 0.8748 - recall_27: 0.6884 - val_loss: 0.0093 - val_precision_27: 0.8735 - val_recall_27: 0.6946\n"
     ]
    }
   ],
   "source": [
    "checkpointer = keras.callbacks.ModelCheckpoint(filepath='weightsAfterUS_multi_FINALWEIGHTS.hdf5', verbose=0, save_best_only=True)\n",
    "model.load_weights('weightsAfterUS_multi_v4.hdf5')\n",
    "history = model.fit(X_train, y_train, epochs=epochs, class_weight='auto',\n",
    "                    validation_split=0.2, verbose=1, batch_size=batch_size, \n",
    "                    callbacks=[checkpointer])\n"
   ]
  },
  {
   "cell_type": "code",
   "execution_count": 292,
   "metadata": {},
   "outputs": [
    {
     "data": {
      "image/png": "[encoded data removed]",
      "text/plain": [
       "<Figure size 432x288 with 1 Axes>"
      ]
     },
     "metadata": {
      "needs_background": "light"
     },
     "output_type": "display_data"
    }
   ],
   "source": [
    "plot_history(history)"
   ]
  },
  {
   "cell_type": "code",
   "execution_count": 293,
   "metadata": {},
   "outputs": [
    {
     "name": "stdout",
     "output_type": "stream",
     "text": [
      "Validation Loss: 0.009\n",
      "Validation Precision: 0.866\n",
      "Validation Recall: 0.699\n"
     ]
    }
   ],
   "source": [
    "[loss, precision, recall] = model.evaluate(X_val, y_val, verbose=0)\n",
    "print(\"Validation Loss: {:.3f}\".format(loss))\n",
    "print(\"Validation Precision: {:.3f}\".format(precision))\n",
    "print(\"Validation Recall: {:.3f}\".format(recall))"
   ]
  },
  {
   "cell_type": "code",
   "execution_count": null,
   "metadata": {},
   "outputs": [],
   "source": []
  },
  {
   "cell_type": "code",
   "execution_count": null,
   "metadata": {},
   "outputs": [],
   "source": []
  },
  {
   "cell_type": "code",
   "execution_count": null,
   "metadata": {},
   "outputs": [],
   "source": []
  },
  {
   "cell_type": "code",
   "execution_count": null,
   "metadata": {},
   "outputs": [],
   "source": []
  }
 ],
 "metadata": {
  "kernelspec": {
   "display_name": "Environment (conda_tensorflow2_p36)",
   "language": "python",
   "name": "conda_tensorflow2_p36"
  },
  "language_info": {
   "codemirror_mode": {
    "name": "ipython",
    "version": 3
   },
   "file_extension": ".py",
   "mimetype": "text/x-python",
   "name": "python",
   "nbconvert_exporter": "python",
   "pygments_lexer": "ipython3",
   "version": "3.6.10"
  }
 },
 "nbformat": 4,
 "nbformat_minor": 4
}
