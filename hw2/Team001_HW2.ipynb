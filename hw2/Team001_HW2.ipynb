{
 "cells": [
  {
   "cell_type": "markdown",
   "metadata": {},
   "source": [
    "# Investigating the Multiprogramming Ability of EC2 Instances using a Cost-Benefit Analysis"
   ]
  },
  {
   "cell_type": "markdown",
   "metadata": {},
   "source": [
    "<strong> Team 001 </strong>: Jason Platt, Jennifer Chien, Shuhao Chang, Yuanzhen Lin, Srishti Palani"
   ]
  },
  {
   "cell_type": "markdown",
   "metadata": {},
   "source": [
    "<strong> Question </strong>: How can we get the best multiprogramming ability from EC2 instances with a fixed budget? "
   ]
  },
  {
   "cell_type": "markdown",
   "metadata": {},
   "source": [
    "Introduction: \n",
    "\n",
    "- Cloud Computing enhances allows us to run computations on remote computer system resources, when we want to, without having to worry about actively managing resources. However, this ability comes at a price. Cloud providers typically use a \"pay-as-you-go\" model, which can lead to unexpected operating expenses if programmers or administrators are not familiar with cloud-pricing models. Since we want to maximize CPU time and utility for the cost of using an EC2 instance, in this project, we investigate the multiprogramming ability of different EC2 instances using a cost-benefit analysis.\n",
    "\n",
    "- Multi-programming Ability: \n",
    "    - One of the most important roles of an Operating System is to assign compute power to the many processes that are need to be executed. \n",
    "    - In a non-multiprogrammed system, as soon as one job leaves the CPU and goes for some other task (say I/O ), the CPU becomes idle. The CPU keeps waiting and waiting until this job (which was executing earlier) comes back and resumes its execution with the CPU. So CPU remains free for all this while. \n",
    "    - Now it has a drawback that the CPU remains idle for a very long period of time. Also, other jobs which are waiting to be executed might not get a chance to execute because the CPU is still allocated to the earlier job.\n",
    "    - This poses a very serious problem that even though other jobs are ready to execute, CPU is not allocated to them as the CPU is allocated to a job which is not even utilizing it (as it is busy in I/O tasks).\n",
    "    - It cannot happen that one job is using the CPU for say 1 hour while the others have been waiting in the queue for 5 hours. To avoid situations like this and come up with efficient utilization of CPU, the concept of multi programming came up.\n",
    "    - The main idea of multi programming is to maximize the CPU time.\n",
    "    - Multiprogramming ability can be measured by the number of processes when CPU utility reaches the maximum point. When the number of processes does not exceed this point, the CPU is not fully used. After this point, cache and memory are not large enough to support all processes and they have to frequently require disk I/O, which leads to the decrease of CPU utilization called \"Thrashing\". \n",
    "    - Due to various cache and memory configuration of different types of EC2 instances, they have different multiprogramming levels. We want to check the maximum multiprogramming ability of different AWS EC2 instances.\n",
    "\n",
    "- Method: To investigate the multiprogramming ability of different EC2 instances at different costs we: \n",
    "    - (i) wrote a standard python test script that  consumes a large size of memory and CPU time. We chose to multiply a NXN matrix that consumed approximately 1GB of memory\n",
    "    - (ii) wrote a driver script which keeps forking new processes with the standard test program and measure the CPU utility at the same time. \n",
    "    - (iii) compared the spot prices of EC2 instances and their multiprogramming levels\n",
    "    - (iv) used python libraries to parallel matrix multiplication, to see how speedup is related to increased threads.\n",
    "    - (v) run the scripts on 12 different EC2 instances chosen based on their memory capacity, number of cores, and cost. \n",
    "    - (vi) analyze the differences to conclude which one is attractive at a reasonable price. \n",
    "\n",
    "  \n",
    "\n",
    "\n"
   ]
  },
  {
   "cell_type": "markdown",
   "metadata": {},
   "source": [
    "#  Results"
   ]
  },
  {
   "cell_type": "code",
   "execution_count": null,
   "metadata": {},
   "outputs": [],
   "source": []
  }
 ],
 "metadata": {
  "kernelspec": {
   "display_name": "Python 3",
   "language": "python",
   "name": "python3"
  },
  "language_info": {
   "codemirror_mode": {
    "name": "ipython",
    "version": 3
   },
   "file_extension": ".py",
   "mimetype": "text/x-python",
   "name": "python",
   "nbconvert_exporter": "python",
   "pygments_lexer": "ipython3",
   "version": "3.7.6"
  }
 },
 "nbformat": 4,
 "nbformat_minor": 4
}
