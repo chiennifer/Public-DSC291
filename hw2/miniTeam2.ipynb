import pandas as pd

# cols = ['N', '#procs', 'p_t_mean', 'p_t_std', 'p_c_mean', 'p_c_std', 'np_t_mean', 'np_t_std', 'np_c_mean', 'np_c_std']
# data = pd.DataFrame(columns = cols+['instance'])
# for name in ['m5large', 'm5xlarge', 'm52xlarge', 'r5large', 'r5xlarge', 'r52xlarge', 'c5large', 'c5xlarge', 'c52xlarge']:
#     df = pd.read_csv(name+'.txt', sep=",", header=None, names=cols)
#     df['instance'] = [name]*60
#     data = pd.concat([data, df])
# data.to_pickle("pf.pkl")
